{
 "cells": [
  {
   "cell_type": "code",
   "execution_count": 2,
   "id": "fa780bb5",
   "metadata": {},
   "outputs": [],
   "source": [
    "from pathlib import Path\n",
    "from datetime import datetime, timedelta, date\n",
    "import pandas as pd\n",
    "import numpy as np\n",
    "import seaborn as sns\n",
    "import matplotlib.pyplot as plt\n",
    "import plotly.express as px\n",
    "import plotly.graph_objects as go\n",
    "import missingno as msno\n",
    "from zoneinfo import ZoneInfo\n",
    "import matplotlib.dates as mdates\n",
    "import pmdarima as pm\n",
    "import warnings\n"
   ]
  },
  {
   "cell_type": "code",
   "execution_count": 3,
   "id": "7159735e",
   "metadata": {},
   "outputs": [
    {
     "name": "stdout",
     "output_type": "stream",
     "text": [
      "X_full type: <class 'pandas.core.frame.DataFrame'> shape: (119132, 23)\n"
     ]
    }
   ],
   "source": [
    "# load data\n",
    "data_path = Path('../database/i10-broadway')\n",
    "X_full = pd.read_parquet(data_path / 'X_full_1h.parquet')\n",
    "print('X_full type:', type(X_full), 'shape:', getattr(X_full, 'shape', None))"
   ]
  },
  {
   "cell_type": "code",
   "execution_count": 4,
   "id": "a7d8cdb8",
   "metadata": {},
   "outputs": [],
   "source": [
    "label_col = ['travel_time_seconds']\n",
    "feature_cols = [c for c in X_full.columns if c not in ['travel_time_seconds','speed','evt_duration']]\n",
    "time_features = ['hour_sin', 'hour_cos', 'dow_sin', 'dow_cos', 'hour_of_week', 'hour_of_week_sin', 'hour_of_week_cos', 'is_weekend']\n",
    "evt_features = ['evt_total', 'evt_cat_major', 'evt_cat_minor', 'evt_cat_closure', 'evt_cat_obstruction', 'evt_cat_misc']\n",
    "lag_features = ['lag1', 'lag2', 'lag3']\n",
    "tmc_features = ['miles']\n",
    "full_features = time_features + evt_features + lag_features + tmc_features"
   ]
  },
  {
   "cell_type": "markdown",
   "id": "2bd33f21",
   "metadata": {},
   "source": [
    "## ARIMA per-TMC baseline (not Pooled model)"
   ]
  },
  {
   "cell_type": "markdown",
   "id": "8efc2245",
   "metadata": {},
   "source": [
    "### Fit Auto-ARIMA per TMC"
   ]
  },
  {
   "cell_type": "code",
   "execution_count": null,
   "id": "28ab39c3",
   "metadata": {},
   "outputs": [],
   "source": [
    "# Define functions for parallel ARIMAX fitting\n",
    "from joblib import Parallel, delayed\n",
    "\n",
    "def fit_single_tmc_arimax(tmc, grp, target_col='travel_time_seconds', exog_cols=None, test_frac=0.2):\n",
    "    \"\"\"Fit ARIMA/ARIMAX model for a single TMC.\"\"\"\n",
    "    grp = grp.sort_index(level='time_bin')\n",
    "    n_test = int(len(grp) * test_frac)\n",
    "    if len(grp) < 30:\n",
    "        return (tmc, None)  # skip short series\n",
    "\n",
    "    y_train = grp[target_col].iloc[:-n_test].values\n",
    "    y_test  = grp[target_col].iloc[-n_test:].values\n",
    "    X_train = grp[exog_cols].iloc[:-n_test] if exog_cols else None\n",
    "    X_test  = grp[exog_cols].iloc[-n_test:] if exog_cols else None\n",
    "\n",
    "    # Drop constant columns to avoid trend conflict\n",
    "    if X_train is not None:\n",
    "        X_train = X_train.loc[:, X_train.nunique() > 1]\n",
    "        X_test  = X_test[X_train.columns]\n",
    "\n",
    "    try:\n",
    "        with warnings.catch_warnings():\n",
    "            warnings.filterwarnings(\"ignore\")\n",
    "            model = pm.auto_arima(\n",
    "                y_train,\n",
    "                X=X_train,\n",
    "                seasonal=True,\n",
    "                m=24,                 # daily seasonality for hourly data\n",
    "                d=0, D=0, # fixed differencing b.c. no drifts\n",
    "                # ===== enable to search for best params =====\n",
    "                max_p=3, max_q=3,\n",
    "                max_P=2, max_Q=2,\n",
    "                stepwise=True,      \n",
    "                trace=True,\n",
    "                # ==========================\n",
    "                suppress_warnings=True \n",
    "            )\n",
    "        return (tmc, (model, X_test, y_test))\n",
    "    except Exception as e:\n",
    "        return (tmc, None)\n",
    "    \n",
    "def fit_arimax_per_tmc_parallel(df, target_col='travel_time_seconds', exog_cols=None, test_frac=0.2, n_jobs=-1):\n",
    "    tmc_groups = list(df.groupby(level='tmc_code'))\n",
    "    print(f\"Starting parallel ARIMA training on {len(tmc_groups)} segments...\")\n",
    "\n",
    "    results = Parallel(n_jobs=n_jobs, backend='loky', verbose=5)(\n",
    "        delayed(fit_single_tmc_arimax)(tmc, grp, target_col, exog_cols, test_frac)\n",
    "        for tmc, grp in tmc_groups\n",
    "    )\n",
    "\n",
    "    # collect results\n",
    "    models = {tmc: res for tmc, res in results if res is not None}\n",
    "    print(f\"Completed {len(models)} successful fits out of {len(tmc_groups)}\")\n",
    "    return models\n"
   ]
  },
  {
   "cell_type": "code",
   "execution_count": 6,
   "id": "2bb44f89",
   "metadata": {},
   "outputs": [],
   "source": [
    "# model evaluation\n",
    "from sklearn.model_selection import cross_val_score\n",
    "from sklearn.metrics import root_mean_squared_error, r2_score, mean_absolute_error\n",
    "\n",
    "def evaluate_arimax_models(models_dict):\n",
    "    results = []\n",
    "    for tmc, (model, X_test, y_test) in models_dict.items():\n",
    "        try:\n",
    "            # forecast same length as test\n",
    "            n_periods = len(y_test)\n",
    "            y_pred = model.predict(n_periods=n_periods, X=X_test)\n",
    "            print(y_pred)\n",
    "\n",
    "            rmse = np.sqrt(root_mean_squared_error(y_test, y_pred))\n",
    "            mae  = mean_absolute_error(y_test, y_pred)\n",
    "            r2   = r2_score(y_test, y_pred)\n",
    "\n",
    "            results.append({\n",
    "                'tmc_code': tmc,\n",
    "                'rmse': rmse,\n",
    "                'mae': mae,\n",
    "                'r2': r2,\n",
    "                'n_obs': len(y_test)\n",
    "            })\n",
    "\n",
    "        except Exception as e:\n",
    "            results.append({\n",
    "                'tmc_code': tmc,\n",
    "                'rmse': np.nan,\n",
    "                'mae': np.nan,\n",
    "                'r2': np.nan,\n",
    "                'error': str(e)\n",
    "            })\n",
    "            continue\n",
    "\n",
    "    results_df = pd.DataFrame(results)\n",
    "    summary = results_df[['rmse', 'mae', 'r2']].agg(['mean', 'median'])\n",
    "    print(\"=== ARIMA Model Evaluation Summary ===\")\n",
    "    print(summary)\n",
    "    return results_df"
   ]
  },
  {
   "cell_type": "code",
   "execution_count": 15,
   "id": "1961e01a",
   "metadata": {},
   "outputs": [
    {
     "name": "stdout",
     "output_type": "stream",
     "text": [
      "Performing stepwise search to minimize aic\n",
      " ARIMA(2,0,2)(1,0,1)[24] intercept   : AIC=inf, Time=9.77 sec\n",
      " ARIMA(0,0,0)(0,0,0)[24] intercept   : AIC=-1808.014, Time=0.12 sec\n",
      " ARIMA(1,0,0)(1,0,0)[24] intercept   : AIC=inf, Time=6.75 sec\n",
      " ARIMA(0,0,1)(0,0,1)[24] intercept   : AIC=-2154.169, Time=3.19 sec\n",
      " ARIMA(0,0,0)(0,0,0)[24]             : AIC=13121.312, Time=0.01 sec\n",
      " ARIMA(0,0,1)(0,0,0)[24] intercept   : AIC=-2058.549, Time=0.15 sec\n",
      " ARIMA(0,0,1)(1,0,1)[24] intercept   : AIC=inf, Time=7.78 sec\n",
      " ARIMA(0,0,1)(0,0,2)[24] intercept   : AIC=-2184.767, Time=6.95 sec\n",
      " ARIMA(0,0,1)(1,0,2)[24] intercept   : AIC=-2189.318, Time=26.68 sec\n",
      " ARIMA(0,0,1)(2,0,2)[24] intercept   : AIC=-2190.694, Time=36.15 sec\n",
      " ARIMA(0,0,1)(2,0,1)[24] intercept   : AIC=inf, Time=38.13 sec\n",
      " ARIMA(0,0,0)(2,0,2)[24] intercept   : AIC=-2003.986, Time=25.14 sec\n",
      " ARIMA(1,0,1)(2,0,2)[24] intercept   : AIC=-2211.517, Time=30.54 sec\n",
      " ARIMA(1,0,1)(1,0,2)[24] intercept   : AIC=-2135.568, Time=30.58 sec\n",
      " ARIMA(1,0,1)(2,0,1)[24] intercept   : AIC=inf, Time=38.13 sec\n",
      " ARIMA(1,0,1)(1,0,1)[24] intercept   : AIC=inf, Time=8.21 sec\n",
      " ARIMA(1,0,0)(2,0,2)[24] intercept   : AIC=-2221.102, Time=26.80 sec\n",
      " ARIMA(1,0,0)(1,0,2)[24] intercept   : AIC=-2188.061, Time=25.77 sec\n",
      " ARIMA(1,0,0)(2,0,1)[24] intercept   : AIC=inf, Time=28.74 sec\n",
      " ARIMA(1,0,0)(1,0,1)[24] intercept   : AIC=inf, Time=6.63 sec\n",
      " ARIMA(2,0,0)(2,0,2)[24] intercept   : AIC=-2184.498, Time=35.78 sec\n",
      " ARIMA(2,0,1)(2,0,2)[24] intercept   : AIC=-2227.744, Time=34.60 sec\n",
      " ARIMA(2,0,1)(1,0,2)[24] intercept   : AIC=-1608.680, Time=36.14 sec\n",
      " ARIMA(2,0,1)(2,0,1)[24] intercept   : AIC=inf, Time=49.41 sec\n",
      " ARIMA(2,0,1)(1,0,1)[24] intercept   : AIC=-1976.143, Time=8.27 sec\n",
      " ARIMA(3,0,1)(2,0,2)[24] intercept   : AIC=-2221.185, Time=45.81 sec\n",
      " ARIMA(2,0,2)(2,0,2)[24] intercept   : AIC=-2232.327, Time=44.03 sec\n",
      " ARIMA(2,0,2)(1,0,2)[24] intercept   : AIC=-2225.679, Time=44.10 sec\n",
      " ARIMA(2,0,2)(2,0,1)[24] intercept   : AIC=inf, Time=45.98 sec\n",
      " ARIMA(1,0,2)(2,0,2)[24] intercept   : AIC=-2232.192, Time=47.81 sec\n",
      " ARIMA(3,0,2)(2,0,2)[24] intercept   : AIC=-2230.862, Time=42.61 sec\n"
     ]
    },
    {
     "ename": "",
     "evalue": "",
     "output_type": "error",
     "traceback": [
      "\u001b[1;31mThe Kernel crashed while executing code in the current cell or a previous cell. \n",
      "\u001b[1;31mPlease review the code in the cell(s) to identify a possible cause of the failure. \n",
      "\u001b[1;31mClick <a href='https://aka.ms/vscodeJupyterKernelCrash'>here</a> for more info. \n",
      "\u001b[1;31mView Jupyter <a href='command:jupyter.viewOutput'>log</a> for further details."
     ]
    }
   ],
   "source": [
    "# train a single arima\n",
    "tmc = '115+04177'\n",
    "grp = X_full.xs(tmc, level='tmc_code').sort_index(level='time_bin')\n",
    "m = fit_single_tmc_arimax(tmc, grp, target_col='travel_time_seconds', exog_cols=None, test_frac=0.2)"
   ]
  },
  {
   "cell_type": "code",
   "execution_count": 7,
   "id": "605c8bc2",
   "metadata": {},
   "outputs": [
    {
     "ename": "NameError",
     "evalue": "name 'm' is not defined",
     "output_type": "error",
     "traceback": [
      "\u001b[0;31m---------------------------------------------------------------------------\u001b[0m",
      "\u001b[0;31mNameError\u001b[0m                                 Traceback (most recent call last)",
      "Cell \u001b[0;32mIn[7], line 15\u001b[0m\n\u001b[1;32m     12\u001b[0m y_test  \u001b[38;5;241m=\u001b[39m grp[target_col]\u001b[38;5;241m.\u001b[39miloc[\u001b[38;5;241m-\u001b[39mn_test:]\u001b[38;5;241m.\u001b[39mvalues\n\u001b[1;32m     14\u001b[0m \u001b[38;5;66;03m# pred = models[model_name][tmc][0].predict(len(models[model_name][tmc][2]))\u001b[39;00m\n\u001b[0;32m---> 15\u001b[0m pred \u001b[38;5;241m=\u001b[39m \u001b[43mm\u001b[49m[\u001b[38;5;241m1\u001b[39m][\u001b[38;5;241m0\u001b[39m]\u001b[38;5;241m.\u001b[39mpredict(n_periods\u001b[38;5;241m=\u001b[39m\u001b[38;5;28mlen\u001b[39m(m[\u001b[38;5;241m1\u001b[39m][\u001b[38;5;241m2\u001b[39m]))\n\u001b[1;32m     17\u001b[0m plt\u001b[38;5;241m.\u001b[39mfigure(figsize\u001b[38;5;241m=\u001b[39m(\u001b[38;5;241m12\u001b[39m,\u001b[38;5;241m6\u001b[39m))\n\u001b[1;32m     18\u001b[0m plt\u001b[38;5;241m.\u001b[39mplot(time_series[\u001b[38;5;241m-\u001b[39mn_test:], y_test, label\u001b[38;5;241m=\u001b[39m\u001b[38;5;124m'\u001b[39m\u001b[38;5;124mActual\u001b[39m\u001b[38;5;124m'\u001b[39m, color\u001b[38;5;241m=\u001b[39m\u001b[38;5;124m'\u001b[39m\u001b[38;5;124mblue\u001b[39m\u001b[38;5;124m'\u001b[39m)\n",
      "\u001b[0;31mNameError\u001b[0m: name 'm' is not defined"
     ]
    }
   ],
   "source": [
    "# Visualize model prediction on each segment\n",
    "# (tmc, (model, X_test, y_test))\n",
    "tmc = '115+04177'\n",
    "model_name = 'arima_base'\n",
    "target_col = 'travel_time_seconds'\n",
    "\n",
    "grp = X_full.xs(tmc, level='tmc_code').sort_index(level='time_bin')\n",
    "time_series = grp.index.get_level_values('time_bin')\n",
    "\n",
    "n_test = int(len(grp) * 0.2)\n",
    "y_train = grp[target_col].iloc[:-n_test].values\n",
    "y_test  = grp[target_col].iloc[-n_test:].values\n",
    "\n",
    "# pred = models[model_name][tmc][0].predict(len(models[model_name][tmc][2]))\n",
    "pred = m[1][0].predict(n_periods=len(m[1][2]))\n",
    "\n",
    "plt.figure(figsize=(12,6))\n",
    "plt.plot(time_series[-n_test:], y_test, label='Actual', color='blue')\n",
    "plt.plot(time_series[-n_test:], pred, label='Predicted', color='orange')\n",
    "plt.plot(time_series[:-n_test], y_train, label='Train', color='gray', alpha=0.5)\n",
    "plt.axvline(x=time_series[-n_test], color='red', linestyle='--', label='Train/Test Split')\n",
    "plt.title(f'ARIMA Model Prediction for TMC {tmc} ({model_name})')\n",
    "plt.xlabel('Time')\n",
    "plt.ylabel('Travel Time (seconds)')\n",
    "plt.legend()\n",
    "plt.show()"
   ]
  },
  {
   "cell_type": "code",
   "execution_count": null,
   "id": "cae33a4d",
   "metadata": {},
   "outputs": [
    {
     "data": {
      "image/png": "[encoded data removed]",
      "text/plain": [
       "<Figure size 640x480 with 1 Axes>"
      ]
     },
     "execution_count": 8,
     "metadata": {},
     "output_type": "execute_result"
    },
    {
     "data": {
      "image/png": "[encoded data removed]",
      "text/plain": [
       "<Figure size 640x480 with 1 Axes>"
      ]
     },
     "metadata": {},
     "output_type": "display_data"
    }
   ],
   "source": [
    "# autocorrelation function (ACF) of your training series (y_train), up to 200 lags (hours).\n",
    "from statsmodels.graphics.tsaplots import plot_acf\n",
    "plot_acf(y_train, lags=200)"
   ]
  },
  {
   "cell_type": "code",
   "execution_count": 40,
   "id": "8e39a752",
   "metadata": {},
   "outputs": [
    {
     "data": {
      "text/html": [
       "<table class=\"simpletable\">\n",
       "<caption>SARIMAX Results</caption>\n",
       "<tr>\n",
       "  <th>Dep. Variable:</th>           <td>y</td>        <th>  No. Observations:  </th>   <td>1907</td>   \n",
       "</tr>\n",
       "<tr>\n",
       "  <th>Model:</th>           <td>SARIMAX(1, 0, 0)</td> <th>  Log Likelihood     </th> <td>1058.621</td> \n",
       "</tr>\n",
       "<tr>\n",
       "  <th>Date:</th>            <td>Wed, 08 Oct 2025</td> <th>  AIC                </th> <td>-2111.243</td>\n",
       "</tr>\n",
       "<tr>\n",
       "  <th>Time:</th>                <td>20:40:02</td>     <th>  BIC                </th> <td>-2094.583</td>\n",
       "</tr>\n",
       "<tr>\n",
       "  <th>Sample:</th>                  <td>0</td>        <th>  HQIC               </th> <td>-2105.111</td>\n",
       "</tr>\n",
       "<tr>\n",
       "  <th></th>                      <td> - 1907</td>     <th>                     </th>     <td> </td>    \n",
       "</tr>\n",
       "<tr>\n",
       "  <th>Covariance Type:</th>        <td>opg</td>       <th>                     </th>     <td> </td>    \n",
       "</tr>\n",
       "</table>\n",
       "<table class=\"simpletable\">\n",
       "<tr>\n",
       "      <td></td>         <th>coef</th>     <th>std err</th>      <th>z</th>      <th>P>|z|</th>  <th>[0.025</th>    <th>0.975]</th>  \n",
       "</tr>\n",
       "<tr>\n",
       "  <th>intercept</th> <td>    4.6421</td> <td>    0.059</td> <td>   78.103</td> <td> 0.000</td> <td>    4.526</td> <td>    4.759</td>\n",
       "</tr>\n",
       "<tr>\n",
       "  <th>ar.L1</th>     <td>    0.3846</td> <td>    0.008</td> <td>   50.324</td> <td> 0.000</td> <td>    0.370</td> <td>    0.400</td>\n",
       "</tr>\n",
       "<tr>\n",
       "  <th>sigma2</th>    <td>    0.0193</td> <td>    0.000</td> <td>  141.886</td> <td> 0.000</td> <td>    0.019</td> <td>    0.020</td>\n",
       "</tr>\n",
       "</table>\n",
       "<table class=\"simpletable\">\n",
       "<tr>\n",
       "  <th>Ljung-Box (L1) (Q):</th>     <td>0.10</td> <th>  Jarque-Bera (JB):  </th> <td>332546.03</td>\n",
       "</tr>\n",
       "<tr>\n",
       "  <th>Prob(Q):</th>                <td>0.75</td> <th>  Prob(JB):          </th>   <td>0.00</td>   \n",
       "</tr>\n",
       "<tr>\n",
       "  <th>Heteroskedasticity (H):</th> <td>0.54</td> <th>  Skew:              </th>   <td>4.21</td>   \n",
       "</tr>\n",
       "<tr>\n",
       "  <th>Prob(H) (two-sided):</th>    <td>0.00</td> <th>  Kurtosis:          </th>   <td>67.14</td>  \n",
       "</tr>\n",
       "</table><br/><br/>Warnings:<br/>[1] Covariance matrix calculated using the outer product of gradients (complex-step)."
      ],
      "text/latex": [
       "\\begin{center}\n",
       "\\begin{tabular}{lclc}\n",
       "\\toprule\n",
       "\\textbf{Dep. Variable:}          &        y         & \\textbf{  No. Observations:  } &    1907     \\\\\n",
       "\\textbf{Model:}                  & SARIMAX(1, 0, 0) & \\textbf{  Log Likelihood     } &  1058.621   \\\\\n",
       "\\textbf{Date:}                   & Wed, 08 Oct 2025 & \\textbf{  AIC                } & -2111.243   \\\\\n",
       "\\textbf{Time:}                   &     20:40:02     & \\textbf{  BIC                } & -2094.583   \\\\\n",
       "\\textbf{Sample:}                 &        0         & \\textbf{  HQIC               } & -2105.111   \\\\\n",
       "\\textbf{}                        &      - 1907      & \\textbf{                     } &             \\\\\n",
       "\\textbf{Covariance Type:}        &       opg        & \\textbf{                     } &             \\\\\n",
       "\\bottomrule\n",
       "\\end{tabular}\n",
       "\\begin{tabular}{lcccccc}\n",
       "                   & \\textbf{coef} & \\textbf{std err} & \\textbf{z} & \\textbf{P$> |$z$|$} & \\textbf{[0.025} & \\textbf{0.975]}  \\\\\n",
       "\\midrule\n",
       "\\textbf{intercept} &       4.6421  &        0.059     &    78.103  &         0.000        &        4.526    &        4.759     \\\\\n",
       "\\textbf{ar.L1}     &       0.3846  &        0.008     &    50.324  &         0.000        &        0.370    &        0.400     \\\\\n",
       "\\textbf{sigma2}    &       0.0193  &        0.000     &   141.886  &         0.000        &        0.019    &        0.020     \\\\\n",
       "\\bottomrule\n",
       "\\end{tabular}\n",
       "\\begin{tabular}{lclc}\n",
       "\\textbf{Ljung-Box (L1) (Q):}     & 0.10 & \\textbf{  Jarque-Bera (JB):  } & 332546.03  \\\\\n",
       "\\textbf{Prob(Q):}                & 0.75 & \\textbf{  Prob(JB):          } &    0.00    \\\\\n",
       "\\textbf{Heteroskedasticity (H):} & 0.54 & \\textbf{  Skew:              } &    4.21    \\\\\n",
       "\\textbf{Prob(H) (two-sided):}    & 0.00 & \\textbf{  Kurtosis:          } &   67.14    \\\\\n",
       "\\bottomrule\n",
       "\\end{tabular}\n",
       "%\\caption{SARIMAX Results}\n",
       "\\end{center}\n",
       "\n",
       "Warnings: \\newline\n",
       " [1] Covariance matrix calculated using the outer product of gradients (complex-step)."
      ],
      "text/plain": [
       "<class 'statsmodels.iolib.summary.Summary'>\n",
       "\"\"\"\n",
       "                               SARIMAX Results                                \n",
       "==============================================================================\n",
       "Dep. Variable:                      y   No. Observations:                 1907\n",
       "Model:               SARIMAX(1, 0, 0)   Log Likelihood                1058.621\n",
       "Date:                Wed, 08 Oct 2025   AIC                          -2111.243\n",
       "Time:                        20:40:02   BIC                          -2094.583\n",
       "Sample:                             0   HQIC                         -2105.111\n",
       "                               - 1907                                         \n",
       "Covariance Type:                  opg                                         \n",
       "==============================================================================\n",
       "                 coef    std err          z      P>|z|      [0.025      0.975]\n",
       "------------------------------------------------------------------------------\n",
       "intercept      4.6421      0.059     78.103      0.000       4.526       4.759\n",
       "ar.L1          0.3846      0.008     50.324      0.000       0.370       0.400\n",
       "sigma2         0.0193      0.000    141.886      0.000       0.019       0.020\n",
       "===================================================================================\n",
       "Ljung-Box (L1) (Q):                   0.10   Jarque-Bera (JB):            332546.03\n",
       "Prob(Q):                              0.75   Prob(JB):                         0.00\n",
       "Heteroskedasticity (H):               0.54   Skew:                             4.21\n",
       "Prob(H) (two-sided):                  0.00   Kurtosis:                        67.14\n",
       "===================================================================================\n",
       "\n",
       "Warnings:\n",
       "[1] Covariance matrix calculated using the outer product of gradients (complex-step).\n",
       "\"\"\""
      ]
     },
     "execution_count": 40,
     "metadata": {},
     "output_type": "execute_result"
    }
   ],
   "source": [
    "m[1][0].summary()"
   ]
  },
  {
   "cell_type": "code",
   "execution_count": null,
   "id": "635471d2",
   "metadata": {},
   "outputs": [],
   "source": [
    "models = {\n",
    "    'arima_base': fit_arimax_per_tmc_parallel(X_full, exog_cols=None),\n",
    "    'arima_evt':  fit_arimax_per_tmc_parallel(X_full, exog_cols=['evt_total','hour_sin','hour_cos','dow_sin','dow_cos']),\n",
    "}\n",
    "\n",
    "for name, arima_models in models.items():\n",
    "    print(f\"Evaluating model: {name}\")\n",
    "    results_df = evaluate_arimax_models(arima_models)"
   ]
  },
  {
   "cell_type": "code",
   "execution_count": 19,
   "id": "c4c09a75",
   "metadata": {},
   "outputs": [
    {
     "data": {
      "text/plain": [
       "['../models/arima_models.pkl']"
      ]
     },
     "execution_count": 19,
     "metadata": {},
     "output_type": "execute_result"
    }
   ],
   "source": [
    "# Save trained models\n",
    "import joblib\n",
    "joblib.dump(models, '../models/arima_models.pkl')"
   ]
  },
  {
   "cell_type": "code",
   "execution_count": null,
   "id": "d34fb948",
   "metadata": {},
   "outputs": [],
   "source": []
  }
 ],
 "metadata": {
  "kernelspec": {
   "display_name": "kafka",
   "language": "python",
   "name": "python3"
  },
  "language_info": {
   "codemirror_mode": {
    "name": "ipython",
    "version": 3
   },
   "file_extension": ".py",
   "mimetype": "text/x-python",
   "name": "python",
   "nbconvert_exporter": "python",
   "pygments_lexer": "ipython3",
   "version": "3.10.18"
  }
 },
 "nbformat": 4,
 "nbformat_minor": 5
}
