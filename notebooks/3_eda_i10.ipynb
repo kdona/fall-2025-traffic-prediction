{
 "cells": [
  {
   "cell_type": "markdown",
   "metadata": {},
   "source": [
    "# I-10 Broadway Curve Incidents - Exploratory Data Analysis (FIXED)\n",
    "\n",
    "## Goals\n",
    "1. Filter events (accidents and roadwork): keep only those on I-10 between Loop 202 and I-17 (Broadway Curve area)\n",
    "2. Filter INRIX data based on time range and I-10 location\n",
    "3. Export filtered data for training\n",
    "\n",
    "## Note on TMC Mapping\n",
    "Unlike SR60 data, the I-10 CSV does not have a separate TMC_Identification.csv file with lat/lon coordinates.\n",
    "Therefore, we'll use a simplified approach:\n",
    "- Filter INRIX data by time range only\n",
    "- Use events lat/lon directly for spatial analysis\n",
    "- For event-to-TMC matching, we'll assign events to TMC segments based on manual inspection or use all I-10 TMCs in the area"
   ]
  },
  {
   "cell_type": "code",
   "execution_count": 13,
   "metadata": {},
   "outputs": [
    {
     "data": {
      "text/plain": [
       "PosixPath('../database/az511.db')"
      ]
     },
     "execution_count": 13,
     "metadata": {},
     "output_type": "execute_result"
    }
   ],
   "source": [
    "# Core imports\n",
    "import sqlite3\n",
    "from pathlib import Path\n",
    "from datetime import datetime, timedelta, date\n",
    "import pandas as pd\n",
    "import numpy as np\n",
    "import seaborn as sns\n",
    "import matplotlib.pyplot as plt\n",
    "import plotly.express as px\n",
    "import plotly.graph_objects as go\n",
    "import re\n",
    "\n",
    "# Display all columns\n",
    "pd.set_option('display.max_columns', None)\n",
    "plt.style.use('seaborn-v0_8-whitegrid')\n",
    "plt.rcParams['figure.figsize'] = (12, 6)\n",
    "\n",
    "DB_PATH = Path('../database/az511.db')\n",
    "assert DB_PATH.exists(), f\"Database not found at {DB_PATH}\"\n",
    "DB_PATH"
   ]
  },
  {
   "cell_type": "markdown",
   "metadata": {},
   "source": [
    "## 1. Filter AZ511 Events to I-10 Broadway Curve Area"
   ]
  },
  {
   "cell_type": "code",
   "execution_count": 14,
   "metadata": {},
   "outputs": [
    {
     "name": "stdout",
     "output_type": "stream",
     "text": [
      "Loaded events: (46488, 30)\n"
     ]
    }
   ],
   "source": [
    "# Read all events from az511 database\n",
    "def get_connection():\n",
    "    return sqlite3.connect(DB_PATH)\n",
    "\n",
    "with get_connection() as conn:\n",
    "    events_df = pd.read_sql(\"SELECT * FROM events\", conn)\n",
    "\n",
    "print(f\"Loaded events: {events_df.shape}\")"
   ]
  },
  {
   "cell_type": "code",
   "execution_count": 15,
   "metadata": {},
   "outputs": [
    {
     "name": "stdout",
     "output_type": "stream",
     "text": [
      "Filtered events in I-10 Broadway Curve area: (438, 30)\n",
      "EventType\n",
      "accidentsAndIncidents    362\n",
      "roadwork                  60\n",
      "closures                  16\n",
      "Name: count, dtype: int64\n"
     ]
    }
   ],
   "source": [
    "# Filter events_df on I-10 Broadway Curve based on lat/lon bounds\n",
    "# Broadway Curve approximate bounds\n",
    "lat_min, lat_max = 33.296690, 33.428422\n",
    "lon_min, lon_max = -112.039731, -111.962382\n",
    "\n",
    "df_bw = events_df[\n",
    "    (events_df['Latitude'] >= lat_min) & (events_df['Latitude'] <= lat_max) &\n",
    "    (events_df['Longitude'] >= lon_min) & (events_df['Longitude'] <= lon_max)\n",
    "]\n",
    "\n",
    "# Filter if \"RoadwayName\" contains \"I-10\" or \"I10\"\n",
    "df_bw = df_bw[\n",
    "    df_bw['RoadwayName'].str.contains(\"I-10|I10\", case=False, na=False) \n",
    "]\n",
    "\n",
    "# Simple fill in of DirectionOfTravel based on \"RoadwayName\" column\n",
    "df_bw.loc[df_bw.DirectionOfTravel.eq('Unknown'), 'DirectionOfTravel'] = (\n",
    "    df_bw.loc[df_bw.DirectionOfTravel.eq('Unknown'), 'RoadwayName']\n",
    "    .str.extract(r'(west|east|south|north)', flags=re.I, expand=False)\n",
    "    .str.lower()\n",
    "    .fillna('Unknown')\n",
    ")\n",
    "\n",
    "print(f\"Filtered events in I-10 Broadway Curve area: {df_bw.shape}\")\n",
    "print(df_bw.EventType.value_counts())"
   ]
  },
  {
   "cell_type": "code",
   "execution_count": 16,
   "metadata": {},
   "outputs": [
    {
     "name": "stdout",
     "output_type": "stream",
     "text": [
      "Top 15 EventSubType values:\n",
      "EventSubType\n",
      "C34Rshoulder               94\n",
      "Crash on right shoulder    49\n",
      "AccidentIncident           38\n",
      "DebrisRshoulder            21\n",
      "debrisLshoulder            20\n",
      "leftlanes                  19\n",
      "rightlanes                 16\n",
      "CrashLshoulder             16\n",
      "C34Lshoulder               13\n",
      "exitclosed                 10\n",
      "exitrestricted              9\n",
      "T1018SR                     9\n",
      "ITS Equipment Damage        6\n",
      "LeftLane                    6\n",
      "C34exit                     6\n",
      "Name: count, dtype: int64\n"
     ]
    }
   ],
   "source": [
    "print(\"Top 15 EventSubType values:\")\n",
    "print(df_bw.EventSubType.value_counts().sort_values(ascending=False).head(15))"
   ]
  },
  {
   "cell_type": "markdown",
   "metadata": {},
   "source": [
    "## 2. Load INRIX Traffic Data for I-10\n",
    "\n",
    "Since we don't have TMC lat/lon coordinates, we'll:\n",
    "1. Load I-10 INRIX data for the time period\n",
    "2. Identify which TMC codes are in the dataset\n",
    "3. Use all I-10 TMCs as potential matches for events"
   ]
  },
  {
   "cell_type": "code",
   "execution_count": 17,
   "metadata": {},
   "outputs": [
    {
     "name": "stdout",
     "output_type": "stream",
     "text": [
      "Time window: 2025-06-13 00:00:00 -> 2025-09-23 23:59:59\n",
      "Loading and filtering INRIX data...\n"
     ]
    },
    {
     "name": "stdout",
     "output_type": "stream",
     "text": [
      "Processed 1,000,000 rows...\n",
      "Processed 2,000,000 rows...\n",
      "Processed 3,000,000 rows...\n",
      "Processed 4,000,000 rows...\n",
      "Processed 5,000,000 rows...\n",
      "Processed 6,000,000 rows...\n",
      "Processed 7,000,000 rows...\n",
      "Processed 8,000,000 rows...\n",
      "Processed 9,000,000 rows...\n",
      "Processed 10,000,000 rows...\n",
      "Processed 11,000,000 rows...\n",
      "Processed 12,000,000 rows...\n",
      "Processed 13,000,000 rows...\n",
      "Processed 14,000,000 rows...\n",
      "Processed 15,000,000 rows...\n",
      "Processed 16,000,000 rows...\n",
      "Processed 17,000,000 rows...\n",
      "Processed 18,000,000 rows...\n",
      "Processed 19,000,000 rows...\n",
      "Processed 20,000,000 rows...\n",
      "Processed 21,000,000 rows...\n",
      "Processed 22,000,000 rows...\n",
      "Processed 23,000,000 rows...\n",
      "Processed 24,000,000 rows...\n",
      "Processed 25,000,000 rows...\n",
      "Processed 26,000,000 rows...\n",
      "Processed 27,000,000 rows...\n",
      "Processed 28,000,000 rows...\n",
      "Processed 29,000,000 rows...\n",
      "Processed 30,000,000 rows...\n",
      "Processed 31,000,000 rows...\n",
      "Processed 32,000,000 rows...\n",
      "Processed 33,000,000 rows...\n",
      "Processed 34,000,000 rows...\n",
      "Processed 35,000,000 rows...\n",
      "Processed 36,000,000 rows...\n",
      "Processed 37,000,000 rows...\n",
      "Processed 38,000,000 rows...\n",
      "Processed 39,000,000 rows...\n",
      "Processed 40,000,000 rows...\n",
      "Processed 41,000,000 rows...\n",
      "Processed 42,000,000 rows...\n",
      "Processed 43,000,000 rows...\n",
      "Processed 44,000,000 rows...\n",
      "Processed 45,000,000 rows...\n",
      "Processed 46,000,000 rows...\n",
      "Processed 47,000,000 rows...\n",
      "Processed 48,000,000 rows...\n",
      "Processed 49,000,000 rows...\n",
      "Processed 50,000,000 rows...\n",
      "Processed 51,000,000 rows...\n",
      "Processed 52,000,000 rows...\n",
      "Processed 53,000,000 rows...\n",
      "Processed 54,000,000 rows...\n",
      "Processed 55,000,000 rows...\n",
      "Processed 56,000,000 rows...\n",
      "Processed 57,000,000 rows...\n",
      "Processed 58,000,000 rows...\n",
      "Processed 59,000,000 rows...\n",
      "Processed 60,000,000 rows...\n",
      "Processed 61,000,000 rows...\n",
      "Processed 62,000,000 rows...\n",
      "Processed 63,000,000 rows...\n",
      "Processed 64,000,000 rows...\n",
      "Processed 65,000,000 rows...\n",
      "Processed 66,000,000 rows...\n",
      "Processed 67,000,000 rows...\n",
      "Processed 68,000,000 rows...\n",
      "Processed 69,000,000 rows...\n",
      "Processed 70,000,000 rows...\n",
      "Processed 71,000,000 rows...\n",
      "Processed 72,000,000 rows...\n",
      "Processed 73,000,000 rows...\n",
      "Processed 74,000,000 rows...\n",
      "Processed 75,000,000 rows...\n",
      "Processed 76,000,000 rows...\n",
      "Processed 77,000,000 rows...\n",
      "Processed 78,000,000 rows...\n",
      "Processed 79,000,000 rows...\n",
      "Processed 80,000,000 rows...\n",
      "Processed 81,000,000 rows...\n",
      "Processed 82,000,000 rows...\n",
      "Processed 83,000,000 rows...\n",
      "Processed 84,000,000 rows...\n",
      "Processed 85,000,000 rows...\n",
      "Processed 86,000,000 rows...\n",
      "Processed 87,000,000 rows...\n",
      "Processed 88,000,000 rows...\n",
      "Processed 89,000,000 rows...\n",
      "Processed 90,000,000 rows...\n",
      "Processed 91,000,000 rows...\n",
      "Processed 92,000,000 rows...\n",
      "Processed 93,000,000 rows...\n",
      "Processed 94,000,000 rows...\n",
      "Processed 95,000,000 rows...\n",
      "\n",
      "Filtered INRIX rows: 26,961,419\n",
      "Unique TMC codes: 183\n",
      "Date range: 2025-06-13 00:00:00 to 2025-09-23 09:16:00\n"
     ]
    }
   ],
   "source": [
    "# Define time window based on when events occurred\n",
    "# Events are in 2025 (2025-06-13 to 2025-11-09)\n",
    "# INRIX data spans 2024-09-24 to 2025-09-23\n",
    "# Use overlap period: 2025-06-13 to 2025-09-23\n",
    "start_ts = pd.Timestamp('2025-06-13 00:00:00')\n",
    "end_ts = pd.Timestamp('2025-09-23 23:59:59')\n",
    "print(\"Time window:\", start_ts, \"->\", end_ts)\n",
    "\n",
    "inrix_path = Path('../database/inrix-traffic-speed/I10-and-I17-1year.csv')\n",
    "\n",
    "# Read INRIX data in chunks and filter by date range\n",
    "usecols = ['tmc_code', 'measurement_tstamp', 'speed', 'reference_speed',\n",
    "           'travel_time_seconds', 'confidence_score']\n",
    "\n",
    "filtered_chunks = []\n",
    "print(\"Loading and filtering INRIX data...\")\n",
    "\n",
    "for i, chunk in enumerate(pd.read_csv(\n",
    "        inrix_path,\n",
    "        usecols=usecols,\n",
    "        parse_dates=['measurement_tstamp'],\n",
    "        chunksize=100_000)):\n",
    "    \n",
    "    # Filter by time range\n",
    "    m = (\n",
    "        (chunk['measurement_tstamp'] >= start_ts) &\n",
    "        (chunk['measurement_tstamp'] <= end_ts)\n",
    "    )\n",
    "    \n",
    "    if m.any():\n",
    "        filtered_chunks.append(chunk.loc[m])\n",
    "    \n",
    "    # Progress indicator\n",
    "    if (i + 1) % 10 == 0:\n",
    "        print(f\"Processed {(i+1)*100_000:,} rows...\")\n",
    "\n",
    "df_inrix = (pd.concat(filtered_chunks, ignore_index=True)\n",
    "            if filtered_chunks else pd.DataFrame(columns=usecols))\n",
    "\n",
    "print(f\"\\nFiltered INRIX rows: {len(df_inrix):,}\")\n",
    "print(f\"Unique TMC codes: {df_inrix['tmc_code'].nunique()}\")\n",
    "print(f\"Date range: {df_inrix['measurement_tstamp'].min()} to {df_inrix['measurement_tstamp'].max()}\")"
   ]
  },
  {
   "cell_type": "code",
   "execution_count": 18,
   "metadata": {},
   "outputs": [
    {
     "name": "stdout",
     "output_type": "stream",
     "text": [
      "TMC codes in dataset (183):\n",
      "['115+04099', '115+04100', '115+04101', '115+04102', '115+04103', '115+04104', '115+04105', '115+04106', '115+04107', '115+04108', '115+04109', '115+04110', '115+04177', '115+04178', '115+04179', '115+04180', '115+04181', '115+04182', '115+04183', '115+04184', '115+04185', '115+04186', '115+04187', '115+04188', '115+04189', '115+04190', '115+04191', '115+04192', '115+04193', '115+04194', '115+04195', '115+04196', '115+04197', '115+04198', '115+04199', '115+04200', '115+04201', '115+04202', '115+04203', '115+04204', '115+04205', '115+04206', '115+04207', '115+04208', '115+05165', '115-04098', '115-04099', '115-04100', '115-04101', '115-04102', '115-04103', '115-04104', '115-04105', '115-04106', '115-04107', '115-04108', '115-04109', '115-04110', '115-04177', '115-04178', '115-04179', '115-04180', '115-04181', '115-04182', '115-04183', '115-04184', '115-04185', '115-04186', '115-04187', '115-04188', '115-04189', '115-04190', '115-04191', '115-04192', '115-04193', '115-04194', '115-04195', '115-04196', '115-04197', '115-04198', '115-04199', '115-04200', '115-04201', '115-04202', '115-04203', '115-04204', '115-04205', '115-04206', '115-04207', '115-04208', '115-05165', '115N04098', '115N04099', '115N04100', '115N04101', '115N04102', '115N04103', '115N04104', '115N04105', '115N04106', '115N04107', '115N04108', '115N04109', '115N04110', '115N04177', '115N04178', '115N04179', '115N04180', '115N04181', '115N04182', '115N04183', '115N04184', '115N04185', '115N04186', '115N04187', '115N04188', '115N04189', '115N04190', '115N04191', '115N04192', '115N04193', '115N04194', '115N04195', '115N04196', '115N04197', '115N04198', '115N04199', '115N04200', '115N04201', '115N04202', '115N04203', '115N04204', '115N04205', '115N04206', '115N04207', '115N04208', '115N05165', '115P04098', '115P04099', '115P04100', '115P04101', '115P04102', '115P04103', '115P04104', '115P04105', '115P04106', '115P04107', '115P04108', '115P04109', '115P04110', '115P04177', '115P04178', '115P04179', '115P04180', '115P04181', '115P04182', '115P04183', '115P04184', '115P04185', '115P04186', '115P04187', '115P04188', '115P04189', '115P04190', '115P04191', '115P04192', '115P04193', '115P04194', '115P04195', '115P04196', '115P04197', '115P04198', '115P04199', '115P04200', '115P04201', '115P04202', '115P04203', '115P04204', '115P04205', '115P04206', '115P04207', '115P04208', '115P05165']\n"
     ]
    }
   ],
   "source": [
    "# Get list of TMC codes in the data\n",
    "tmc_codes = df_inrix['tmc_code'].unique()\n",
    "print(f\"TMC codes in dataset ({len(tmc_codes)}):\")\n",
    "print(sorted(tmc_codes))"
   ]
  },
  {
   "cell_type": "markdown",
   "metadata": {},
   "source": [
    "## 3. Create TMC Assignment for Events\n",
    "\n",
    "Since we don't have TMC lat/lon data, we'll use a simplified approach:\n",
    "- Assign each event a placeholder TMC or use manual mapping\n",
    "- Focus on time-based matching rather than precise spatial matching"
   ]
  },
  {
   "cell_type": "code",
   "execution_count": 19,
   "metadata": {},
   "outputs": [
    {
     "name": "stdout",
     "output_type": "stream",
     "text": [
      "\n",
      "TMC assignment summary:\n",
      "near_tmc\n",
      "unknown      412\n",
      "115-04200     15\n",
      "115-04201     11\n",
      "Name: count, dtype: int64\n",
      "\n",
      "Note: TMC assignments are approximate due to lack of coordinate data.\n",
      "For production use, obtain TMC_Identification.csv with lat/lon coordinates.\n"
     ]
    }
   ],
   "source": [
    "# For simplicity, we'll create a manual TMC mapping based on direction and rough location\n",
    "# In a real scenario, you would need actual TMC coordinate data\n",
    "\n",
    "# Option 1: Assign all events to a primary TMC (simplified)\n",
    "# This assumes most Broadway Curve events affect the main segments\n",
    "primary_tmcs = {\n",
    "    'east': tmc_codes[0] if len(tmc_codes) > 0 else 'unknown',  # Use first TMC as placeholder\n",
    "    'west': tmc_codes[1] if len(tmc_codes) > 1 else 'unknown',\n",
    "}\n",
    "\n",
    "# Assign TMC based on direction\n",
    "df_bw['near_tmc'] = df_bw['DirectionOfTravel'].map(primary_tmcs).fillna('unknown')\n",
    "\n",
    "print(\"\\nTMC assignment summary:\")\n",
    "print(df_bw['near_tmc'].value_counts())\n",
    "\n",
    "print(\"\\nNote: TMC assignments are approximate due to lack of coordinate data.\")\n",
    "print(\"For production use, obtain TMC_Identification.csv with lat/lon coordinates.\")"
   ]
  },
  {
   "cell_type": "markdown",
   "metadata": {},
   "source": [
    "## 4. Visualize Events on Map"
   ]
  },
  {
   "cell_type": "code",
   "execution_count": 20,
   "metadata": {},
   "outputs": [
    {
     "data": {
      "application/vnd.plotly.v1+json": {
       "config": {
        "plotlyServerURL": "https://plot.ly"
       },
       "data": [
        {
         "customdata": [
          [
           "West",
           "Left lanes closed on I-10 Westbound from SR-143 Northbound (MP 154)  to  40th St (MP 152) . 2 Left Lanes Closed.   6/12/2025 8:00 PM  to 6/13/2025 4:00 AM  ",
           "I-10"
          ],
          [
           "west",
           "Exit ramp restricted on  ramp  from I-10 Westbound  to  S 40th St . 1 Right Ramp Closed.   6/12/2025 8:00 PM  to 6/13/2025 4:00 AM  ",
           "I-10 Westbound"
          ],
          [
           "west",
           "Exit ramp restricted on  ramp  from I-10 Westbound  to  S 40th St . 1 Right Ramp Closed.   6/13/2025 8:00 PM  to 6/14/2025 4:00 AM  ",
           "I-10 Westbound"
          ],
          [
           "east",
           "Exit ramp closed on  ramp  from I-10 Eastbound  to  SR-143 Southbound . 1 Right Ramp Closed.   6/16/2025 9:30 PM  to 6/17/2025 4:00 AM  ",
           "I-10 Eastbound"
          ],
          [
           "West",
           "Right lanes closed on I-10 Westbound from E Elliot Rd (MP 158)  to  Baseline Rd (MP 156) . 3 Right Lanes Closed.   6/21/2025 8:00 PM  to 6/22/2025 5:00 AM  ",
           "I-10"
          ],
          [
           "east",
           "Exit ramp closed on  ramp  from I-10 Eastbound  to  SR-143 Southbound . 1 Right Ramp Closed.   6/22/2025 9:30 PM  to 6/23/2025 4:00 AM  ",
           "I-10 Eastbound"
          ],
          [
           "East",
           "Right lane closed on I-10 Eastbound from Hohokam Expy (MP 154)  to  I-10 (MP 172.0) . 1 Right lane closed.   6/26/2025 8:00 PM  to 6/27/2025 5:00 AM  ",
           "I-10"
          ],
          [
           "West",
           "Right lanes closed on I-10 Westbound from Ray Rd (MP 160)  to  Warner Rd (MP 159) . 3 Right Lanes Closed.   6/30/2025 8:00 PM  to 6/30/2025 10:00 PM  ",
           "I-10"
          ],
          [
           "West",
           "Right lanes closed on I-10 Westbound from Ray Rd (MP 160)  to  Warner Rd (MP 159) . 2 Left Lanes Closed.   6/30/2025 10:00 PM  to 7/1/2025 4:00 AM  ",
           "I-10"
          ],
          [
           "West",
           "Right lane closed on I-10 Westbound from Broadway Rd (MP 154)  to  Broadway Rd (MP 154) . 1 Right lane closed.   6/30/2025 8:00 PM  to 7/1/2025 4:00 AM  ",
           "I-10"
          ],
          [
           "West",
           "Right lane closed on I-10 Westbound from Western Canal (MP 156)  to  Superstition Fwy (MP 155)    7/1/2025 8:00 PM  to 7/2/2025 4:00 AM  ",
           "I-10"
          ],
          [
           "East",
           "Right lanes closed on I-10 Eastbound from S 40th St (MP 152)  to  SR-143 Northbound (MP 154) . 3 Right Lanes Closed.   7/1/2025 8:00 PM  to 7/2/2025 4:00 AM  ",
           "I-10"
          ],
          [
           "West",
           "Right lane closed on I-10 Westbound from US-60 Eastbound (MP 156)  to  US-60 Eastbound (MP 156) . 1 Right lane closed.   7/2/2025 8:00 PM  to 7/3/2025 4:00 AM  ",
           "I-10"
          ],
          [
           "East",
           "Right lanes closed on I-10 Eastbound from Hohokam Expy (MP 153)  to  I-10 (MP 172.0) . 3 Right Lanes Closed.   7/7/2025 9:30 PM  to 7/8/2025 5:00 AM  ",
           "I-10"
          ],
          [
           "East",
           "Right lanes closed on I-10 Eastbound from Hohokam Expy (MP 153)  to  I-10 (MP 172.0) . 3 Right Lanes Closed.   7/8/2025 8:00 PM  to 7/9/2025 5:00 AM  ",
           "I-10"
          ],
          [
           "East",
           "Left lanes closed on I-10 Eastbound from S 40th St (MP 152)  to  SR-143 Northbound (MP 154) . All HOV Lanes Closed.   7/9/2025 8:00 PM  to 7/10/2025 5:00 AM  ",
           "I-10"
          ],
          [
           "West",
           "Left lanes closed on I-10 Westbound from Broadway Rd (MP 172.0)  to  SR-143 Northbound (MP 153) . All HOV Lanes Closed.   7/10/2025 8:00 PM  to 7/11/2025 4:00 AM  ",
           "I-10"
          ],
          [
           "West",
           "Left lanes closed on I-10 Westbound from E Chandler Blvd (MP 160)  to  E Elliot Rd (MP 158) . 2 Left Lanes Closed.   7/14/2025 8:00 PM  to 7/15/2025 4:00 AM  ",
           "I-10"
          ],
          [
           "West",
           "Left lanes closed on I-10 Westbound from E Elliot Rd (MP 158)  to  Baseline Rd (MP 156) . 3 Left Lanes Closed.   7/14/2025 8:00 PM  to 7/15/2025 4:00 AM  ",
           "I-10"
          ],
          [
           "East",
           "Right lanes closed on I-10 Eastbound from Hohokam Expy (MP 154)  to  I-10 (MP 172.0) . 2 Right Lanes Closed.   7/14/2025 8:00 PM  to 7/15/2025 5:00 AM  ",
           "I-10"
          ],
          [
           "West",
           "Left lanes closed on I-10 Westbound from E Chandler Blvd (MP 160)  to  E Elliot Rd (MP 158) . 2 Left Lanes Closed.   7/15/2025 8:00 PM  to 7/16/2025 4:00 AM  ",
           "I-10"
          ],
          [
           "West",
           "Left lanes closed on I-10 Westbound from E Elliot Rd (MP 158)  to  Baseline Rd (MP 156) . 3 Left Lanes Closed.   7/15/2025 8:00 PM  to 7/16/2025 4:00 AM  ",
           "I-10"
          ],
          [
           "East",
           "Right lanes closed on I-10 Eastbound from Hohokam Expy (MP 154)  to  I-10 (MP 172.0) . 2 Right Lanes Closed.   7/15/2025 8:00 PM  to 7/16/2025 5:00 AM  ",
           "I-10"
          ],
          [
           "East",
           "Left lane closed on I-10 Eastbound from Superstition Fwy (MP 156)  to  Elliot Rd (MP 157) . All HOV Lanes Closed.   7/15/2025 8:00 PM  to 7/16/2025 5:00 AM  ",
           "I-10"
          ],
          [
           "East",
           "Left lane closed on I-10 Eastbound from Ray Rd (MP 160)  to  Chandler Blvd (MP 161) . All HOV Lanes Closed.   7/15/2025 8:00 PM  to 7/16/2025 5:00 AM  ",
           "I-10"
          ],
          [
           "West",
           "Left lanes closed on I-10 Westbound from S 40th St (MP 152)  to  E University Dr (MP 151) . 1 Left lane closed.   7/15/2025 8:00 PM  to 7/16/2025 4:00 AM  ",
           "I-10"
          ],
          [
           "East",
           "Right lanes closed on I-10 Eastbound from 32nd St (MP 151)  to  40th St (MP 152) . 3 Right Lanes Closed.   7/16/2025 8:00 PM  to 7/17/2025 5:00 AM  ",
           "I-10"
          ],
          [
           "West",
           "Right lanes closed on I-10 Westbound from E Elliot Rd (MP 158)  to  Baseline Rd (MP 156) . 3 Right Lanes Closed.   7/18/2025 10:00 PM  to 7/19/2025 10:00 PM  ",
           "I-10"
          ],
          [
           "East",
           "Left lanes closed on I-10 Eastbound from E University Dr (MP 151)  to  SR-143 Northbound (MP 153) . 3 Left Lanes Closed.   7/21/2025 8:00 PM  to 7/22/2025 5:00 AM  ",
           "I-10"
          ],
          [
           "East",
           "Left lane closed on I-10 Eastbound from Hohokam Expy (MP 153)  to  SR-143 Northbound (MP 154) . 1 Left HOV Lane Closed.   7/22/2025 8:00 PM  to 7/23/2025 5:00 AM  ",
           "I-10"
          ],
          [
           "East",
           "Left lanes closed on I-10 Eastbound from I-10 (MP 172.0)  to  I-10 (MP 155) . All HOV Lanes Closed.   7/23/2025 8:00 PM  to 7/24/2025 5:00 AM  ",
           "I-10"
          ],
          [
           "West",
           "Left lanes closed on I-10 Westbound from W Broadway Rd (MP 153)  to  University Dr (MP 151) . 3 Left Lanes Closed.   7/24/2025 8:00 PM  to 7/25/2025 4:00 AM  ",
           "I-10"
          ],
          [
           "East",
           "Right lanes closed on I-10 Eastbound from 32nd St (MP 151)  to  32nd St (MP 152) . Lanes Closed.   7/25/2025 8:00 PM  to 7/26/2025 5:00 AM  ",
           "I-10"
          ],
          [
           "West",
           "Right lanes closed on I-10 Westbound from 24th St (MP 150)  to  24th St (MP 150) . 2 Right Lanes Closed.   7/28/2025 8:00 PM  to 7/29/2025 4:00 AM  ",
           "I-10"
          ],
          [
           "West",
           "Left lane closed on I-10 Westbound from Ray Rd (MP 160)  to  E Ray Rd (MP 160) . All HOV Lanes Closed.   7/31/2025 8:00 PM  to 8/1/2025 4:00 PM  ",
           "I-10"
          ],
          [
           "East",
           "Left lanes closed on I-10 Eastbound from Ray Rd (MP 159)  to  Ray Rd (MP 160) . 1 Left lane closed.   7/31/2025 8:00 PM  to 8/1/2025 5:00 AM  ",
           "I-10"
          ],
          [
           "East",
           "Shoulder closed on I-10 Eastbound  near   S 24th St (MP 150) . All Shoulders Closed.   7/29/2025 10:30 AM  to 7/29/2025 3:00 PM  ",
           "I-10"
          ],
          [
           "West",
           "Right lanes closed on I-10 Westbound from 24th St (MP 150)  to  24th St (MP 150) . 2 Right Lanes Closed.   7/29/2025 8:00 PM  to 7/30/2025 4:00 AM  ",
           "I-10"
          ],
          [
           "east",
           "Exit ramp restricted on  ramp  from I-10 Eastbound  to  S 40th St . 1 Left Ramp Closed.   7/31/2025 8:00 PM  to 8/1/2025 4:00 AM  ",
           "I-10 Eastbound"
          ],
          [
           "East",
           "Left lanes closed on I-10 Eastbound from Ray Rd (MP 159)  to  Ray Rd (MP 160) . 1 Left lane closed.   8/1/2025 8:00 PM  to 8/2/2025 5:00 AM  ",
           "I-10"
          ],
          [
           "West",
           "Left lane closed on I-10 Westbound from Ray Rd (MP 160)  to  E Ray Rd (MP 160) . All HOV Lanes Closed.   8/1/2025 8:00 PM  to 8/2/2025 4:00 PM  ",
           "I-10"
          ],
          [
           "East",
           "Left lanes closed on I-10 Eastbound from Hohokam Expy (MP 153)  to  SR-143 Northbound (MP 154) . 3 Left Lanes Closed.   8/6/2025 8:00 PM  to 8/7/2025 5:00 AM  ",
           "I-10"
          ],
          [
           "West",
           "Left lanes closed on I-10 Westbound from Western Canal (MP 155)  to  Broadway Rd (MP 154) . 3 Left Lanes Closed.   8/7/2025 8:00 PM  to 8/8/2025 4:00 AM  ",
           "I-10"
          ],
          [
           "East",
           "Right lanes closed on I-10 Eastbound from Hohokam Expy (MP 153)  to  I-10 (MP 172.0) . 3 Right Lanes Closed.   8/6/2025 8:00 PM  to 8/7/2025 5:00 AM  ",
           "I-10"
          ],
          [
           "East",
           "Left lanes closed on I-10 Eastbound from Hohokam Expy (MP 153)  to  SR-143 Northbound (MP 154) . 3 Left Lanes Closed.   8/8/2025 8:00 PM  to 8/9/2025 5:00 AM  ",
           "I-10"
          ],
          [
           "East",
           "Right lanes closed on I-10 Eastbound from Hohokam Expy (MP 153)  to  I-10 (MP 172.0) . 3 Right Lanes Closed.   8/8/2025 8:00 PM  to 8/9/2025 5:00 AM  ",
           "I-10"
          ],
          [
           "East",
           "Left lanes closed on I-10 Eastbound from I-17 Northbound (MP 150)  to  S 24th St (MP 150) . 1 Left lane closed.   8/11/2025 8:00 PM  to 8/12/2025 5:00 AM  ",
           "I-10"
          ],
          [
           "East",
           "Left lanes closed on I-10 Eastbound from 32nd St (MP 151)  to  40th St (MP 153) . 3 Left Lanes Closed.   8/12/2025 8:00 PM  to 8/13/2025 5:00 AM  ",
           "I-10"
          ],
          [
           "West",
           "Left lane closed on I-10 Westbound from Salt River (MP 151)  to  24th St (MP 150) . 1 Left HOV Lane Closed.   8/12/2025 8:00 PM  to 8/13/2025 4:00 AM  ",
           "I-10"
          ],
          [
           "East",
           "Right lanes closed on I-10 Eastbound from 40th St (MP 152)  to  S 40th St (MP 153) . 2 Right Lanes Closed.   8/13/2025 8:00 PM  to 8/14/2025 5:00 AM  ",
           "I-10"
          ],
          [
           "West",
           "Left lanes closed on I-10 Westbound from S 40th St (MP 152)  to  Salt River (MP 151) . 3 Left Lanes Closed.   8/15/2025 8:00 PM  to 8/16/2025 4:00 AM  ",
           "I-10"
          ],
          [
           "East",
           "Shoulder closed on I-10 Eastbound  near   I-17 Northbound (MP 150) . All Shoulders Closed.   9/16/2025 10:30 AM  to 9/16/2025 1:00 PM  ",
           "I-10"
          ],
          [
           "east",
           "Exit ramp restricted on  ramp  from I-10 Eastbound  to  E Elliot Rd    9/27/2025 5:00 AM  to 9/28/2025 7:00 PM  ",
           "I-10 Eastbound"
          ],
          [
           "west",
           "Exit ramp restricted on  ramp  from I-10 Westbound  to  E Elliot Rd    9/27/2025 5:00 AM  to 9/28/2025 7:00 PM  ",
           "I-10 Westbound"
          ],
          [
           "east",
           "Interchange ramp to Westbound closed on  ramp  from I-10 Eastbound  to  202-LOOP Westbound    11/7/2025 9:00 PM  to 11/8/2025 2:00 PM  ",
           "I-10 Eastbound"
          ],
          [
           "east",
           "Interchange ramp to Eastbound closed on  ramp  from I-10 Eastbound  to  202-LOOP Eastbound    11/8/2025 9:00 PM  to 11/9/2025 2:00 PM  ",
           "I-10 Eastbound"
          ],
          [
           "east",
           "Exit ramp restricted on  ramp  from I-10 Eastbound  to  E Elliot Rd    9/30/2025 9:00 PM  to 10/4/2025 5:00 AM  ",
           "I-10 Eastbound"
          ],
          [
           "east",
           "Exit ramp restricted on  ramp  from I-10 Eastbound  to  E Elliot Rd    10/18/2025 9:00 PM  to 10/23/2025 5:00 AM  ",
           "I-10 Eastbound"
          ],
          [
           "west",
           "Exit ramp restricted on  ramp  from I-10 Westbound  to  E Elliot Rd    10/18/2025 9:00 PM  to 10/23/2025 5:00 AM  ",
           "I-10 Westbound"
          ],
          [
           "west",
           "Exit ramp restricted on  ramp  from I-10 Westbound  to  E Elliot Rd    9/30/2025 9:00 PM  to 10/4/2025 5:00 AM  ",
           "I-10 Westbound"
          ]
         ],
         "hovertemplate": "EventType=roadwork<br>Latitude=%{lat}<br>Longitude=%{lon}<br>DirectionOfTravel=%{customdata[0]}<br>Description=%{customdata[1]}<br>RoadwayName=%{customdata[2]}<extra></extra>",
         "lat": [
          33.4071198215334,
          33.4110700000001,
          33.4110700000001,
          33.41083,
          33.3493785940869,
          33.41083,
          33.4089717032865,
          33.3196344151293,
          33.3196344151293,
          33.4031353525333,
          33.3846338802516,
          33.4107900000001,
          33.3783580249207,
          33.4107499248625,
          33.4107499248625,
          33.4107904621471,
          33.4012905221037,
          33.3128988657171,
          33.3526534327553,
          33.4090462192232,
          33.3128988657171,
          33.3526534327553,
          33.4090462192232,
          33.3695715477246,
          33.3197324193641,
          33.4109995582481,
          33.4141909958447,
          33.3492114762799,
          33.411827615828,
          33.4107709363581,
          33.4010922059853,
          33.4110625424025,
          33.4141498191962,
          33.4248469184248,
          33.3156491085058,
          33.3253668882682,
          33.4274578386322,
          33.4248469184248,
          33.4107300000001,
          33.3253668882682,
          33.3156491085058,
          33.4107952360872,
          33.3859525007861,
          33.4108019493364,
          33.4107996360264,
          33.4107990563833,
          33.4275127707421,
          33.4142492459769,
          33.4185991899933,
          33.4107300000001,
          33.4110114447756,
          33.4273785985454,
          33.35328,
          33.34452,
          33.3073200000001,
          33.3073200000001,
          33.35328,
          33.35328,
          33.34452,
          33.34452
         ],
         "legendgroup": "roadwork",
         "lon": [
          -111.970047791644,
          -111.99025,
          -111.99025,
          -111.98399,
          -111.971715435108,
          -111.98399,
          -111.972875170135,
          -111.972139852973,
          -111.972139852973,
          -111.967612750745,
          -111.967641935248,
          -111.995239049866,
          -111.96785,
          -111.978318872936,
          -111.978318872936,
          -111.995147147998,
          -111.967285502009,
          -111.97208,
          -111.971215345165,
          -111.973002568349,
          -111.97208,
          -111.971215345165,
          -111.973002568349,
          -111.968241400136,
          -111.97239,
          -112.00342564306,
          -112.014217756011,
          -111.971736065465,
          -112.010528930051,
          -111.978583798111,
          -111.967598574666,
          -111.978647288424,
          -112.014178226428,
          -112.024632299422,
          -111.972111400586,
          -111.97237,
          -112.035744891312,
          -112.024632299422,
          -112.00134,
          -111.97237,
          -111.972111400586,
          -111.978889974698,
          -111.967606418898,
          -111.978990936064,
          -111.978945413932,
          -111.978938110429,
          -112.035851482196,
          -112.014273676138,
          -112.017692867238,
          -112.000892937885,
          -111.999778638855,
          -112.035557596562,
          -111.97135,
          -111.97209,
          -111.97234,
          -111.97234,
          -111.97135,
          -111.97135,
          -111.97209,
          -111.97209
         ],
         "marker": {
          "color": "#636efa"
         },
         "mode": "markers",
         "name": "roadwork",
         "showlegend": true,
         "subplot": "map",
         "type": "scattermap"
        },
        {
         "customdata": [
          [
           "west",
           "HOV ramp closed on  ramp  from I-10 Westbound  to  SR-143 Northbound . All HOV Lanes Closed.   6/12/2025 8:00 PM  to 6/13/2025 4:00 AM  ",
           "I-10 Westbound"
          ],
          [
           "west",
           "Exit ramp closed on  ramp  from I-10 Westbound  to  W Baseline Rd . All Ramps Closed.   6/21/2025 8:00 PM  to 6/22/2025 5:00 AM  ",
           "I-10 Westbound"
          ],
          [
           "east",
           "HOV ramp closed on  ramp  from I-10 Eastbound  to  US-60 Eastbound . All HOV Lanes Closed.   6/23/2025 8:00 PM  to 6/24/2025 4:00 AM  ",
           "I-10 Eastbound"
          ],
          [
           "west",
           "Exit ramp closed on  ramp  from I-10 Westbound  to  W Warner Rd . All Ramps Closed.   6/30/2025 8:00 PM  to 6/30/2025 10:00 PM  ",
           "I-10 Westbound"
          ],
          [
           "east",
           "HOV ramp closed on  ramp  from I-10 Eastbound  to  US-60 Eastbound . All HOV Lanes Closed.   7/23/2025 8:00 PM  to 7/24/2025 5:00 AM  ",
           "I-10 Eastbound"
          ],
          [
           "east",
           "Exit ramp closed on  ramp  from I-10 Eastbound  to  S 32nd St . All Ramps Closed.   7/25/2025 8:00 PM  to 7/26/2025 5:00 AM  ",
           "I-10 Eastbound"
          ],
          [
           "west",
           "Exit ramp closed on  ramp  from I-10 Westbound  to  S 24th St . All Ramps Closed.   7/28/2025 8:00 PM  to 7/29/2025 4:00 AM  ",
           "I-10 Westbound"
          ],
          [
           "west",
           "Exit ramp closed on  ramp  from I-10 Westbound  to  S 24th St . All Ramps Closed.   7/29/2025 8:00 PM  to 7/30/2025 4:00 AM  ",
           "I-10 Westbound"
          ],
          [
           "west",
           "HOV ramp closed on  ramp  from I-10 Westbound  to  SR-143 Northbound . All HOV Lanes Closed.   8/7/2025 8:00 PM  to 8/8/2025 4:00 AM  ",
           "I-10 Westbound"
          ],
          [
           "East",
           "Road closed due to a crash on I-10 Eastbound  near   S 24th St (MP 150)   ",
           "I-10"
          ],
          [
           "west",
           "Exit ramp closed on  ramp  from I-10 Westbound  to  W Broadway Rd . All Ramps Closed.   8/11/2025 8:00 PM  to 8/12/2025 5:00 AM  ",
           "I-10 Westbound"
          ],
          [
           "west",
           "Exit ramp closed on  ramp  from I-10 Westbound  to  W Broadway Rd . All Ramps Closed.   8/12/2025 8:00 PM  to 8/13/2025 5:00 AM  ",
           "I-10 Westbound"
          ],
          [
           "west",
           "Exit ramp closed on  ramp  from I-10 Westbound  to  S 24th St . All Ramps Closed.   8/14/2025 8:00 PM  to 8/15/2025 4:00 AM  ",
           "I-10 Westbound"
          ],
          [
           "West",
           "Road closed due to a crash on I-10 Westbound  near   Warner Rd (MP 159)   ",
           "I-10"
          ],
          [
           "West",
           "Freeway closed on I-10 Westbound from Arizona Veterans Memorial Hwy (MP 150)  to  7th Ave (MP 145) . All lanes closed.   9/12/2025 9:00 PM  to 9/14/2025 9:00 AM  ",
           "I-10"
          ],
          [
           "west",
           "Patching on  ramp  from I-10 Westbound  to  US-60 Eastbound . All lanes closed.   9/21/2025 9:00 PM  to 9/22/2025 4:00 AM  ",
           "I-10 Westbound"
          ]
         ],
         "hovertemplate": "EventType=closures<br>Latitude=%{lat}<br>Longitude=%{lon}<br>DirectionOfTravel=%{customdata[0]}<br>Description=%{customdata[1]}<br>RoadwayName=%{customdata[2]}<extra></extra>",
         "lat": [
          33.4067600000001,
          33.3726600000001,
          33.39588,
          33.33027,
          33.39588,
          33.41454,
          33.4248400000001,
          33.4248400000001,
          33.4067600000001,
          33.4262193923079,
          33.4036100000001,
          33.4036100000001,
          33.4248400000001,
          33.3327291390222,
          33.4267853868125,
          33.3759400000001
         ],
         "legendgroup": "closures",
         "lon": [
          -111.96971,
          -111.96784,
          -111.96769,
          -111.97208,
          -111.96769,
          -112.01461,
          -112.02462,
          -112.02462,
          -111.96971,
          -112.028764438462,
          -111.96778,
          -111.96778,
          -112.02462,
          -111.972060887521,
          -112.0304430945,
          -111.96784
         ],
         "marker": {
          "color": "#EF553B"
         },
         "mode": "markers",
         "name": "closures",
         "showlegend": true,
         "subplot": "map",
         "type": "scattermap"
        },
        {
         "customdata": [
          [
           "East",
           "Disabled vehicle on the left shoulder on I-10 Eastbound  near   S 40th St (MP 152)   ",
           "I-10"
          ],
          [
           "West",
           "Disabled vehicle on the right shoulder on I-10 Westbound  near   Elliot Rd (MP 158)   ",
           "I-10"
          ],
          [
           "West",
           "Disabled vehicle on the right shoulder on I-10 Westbound  near   Elliot Rd (MP 158)   ",
           "I-10"
          ],
          [
           "East",
           "Disabled vehicle on the exit ramp on I-10 Eastbound  near   E Warner Rd (MP 159)   ",
           "I-10"
          ],
          [
           "West",
           "Crash on the right shoulder on I-10 Westbound  near   24th St (MP 150)   ",
           "I-10"
          ],
          [
           "East",
           "Disabled vehicle on the right shoulder on I-10 Eastbound  near   Elliot Rd (MP 157)   ",
           "I-10"
          ],
          [
           "West",
           "Disabled vehicle on the exit ramp on I-10 Westbound  near   W Baseline Rd (MP 155)   ",
           "I-10"
          ],
          [
           "West",
           "Disabled vehicle on the exit ramp on I-10 Westbound  near   E University Dr (MP 151)   ",
           "I-10"
          ],
          [
           "East",
           "Debris blocking the right lanes on I-10 Eastbound  near   S 40th St (MP 153)   ",
           "I-10"
          ],
          [
           "East",
           "Debris blocking the on ramp on I-10 Eastbound  near   E Warner Rd (MP 159)   ",
           "I-10"
          ],
          [
           "East",
           "Debris on the right shoulder on I-10 Eastbound  near   E Chandler Blvd (MP 161)   ",
           "I-10"
          ],
          [
           "East",
           "Disabled vehicle on the right shoulder on I-10 Eastbound  near   S 24th St (MP 150)   ",
           "I-10"
          ],
          [
           "West",
           "Disabled vehicle on the right shoulder on I-10 Westbound  near   24th St (MP 150)   ",
           "I-10"
          ],
          [
           "West",
           "Debris on the right shoulder on I-10 Westbound  near   Broadway Rd (MP 154)   ",
           "I-10"
          ],
          [
           "West",
           "Disabled vehicle on the right shoulder on I-10 Westbound  near   Hohokam Expy (MP 153)   ",
           "I-10"
          ],
          [
           "East",
           "Disabled vehicle on the right shoulder on I-10 Eastbound  near   S 48th St (MP 154)   ",
           "I-10"
          ],
          [
           "East",
           "Debris blocking the center lanes on I-10 Eastbound  near   Elliot Rd (MP 158)   ",
           "I-10"
          ],
          [
           "East",
           "Traffic signal timing issue or timing adjusted  on I-10 Eastbound  near   E Warner Rd (MP 159)   ",
           "I-10"
          ],
          [
           "West",
           "Debris blocking the left lanes on I-10 Westbound  near   SR-143 Northbound (MP 154)   ",
           "I-10"
          ],
          [
           "East",
           "Disabled vehicle on the right shoulder on I-10 Eastbound  near   S 48th St (MP 154)   ",
           "I-10"
          ],
          [
           "East",
           "Debris on the left shoulder on I-10 Eastbound  near   32nd St (MP 151)   ",
           "I-10"
          ],
          [
           "West",
           "Debris on the left shoulder on I-10 Westbound  near   40th St (MP 152)   ",
           "I-10"
          ],
          [
           "West",
           "Crash on the left shoulder on I-10 Westbound  near   40th St (MP 152)   ",
           "I-10"
          ],
          [
           null,
           "I10 @ S 40TH ST WB ON ,PHX - AccidentIncident - accident involving a motorcycle",
           "I10 @ S 40TH ST WB ON ,PHX"
          ],
          [
           "West",
           "Disabled vehicle on the right shoulder on I-10 Westbound  near   202-LOOP Eastbound (MP 161)   ",
           "I-10"
          ],
          [
           "West",
           "Crash on the right shoulder on I-10 Westbound  near   24th St (MP 150)   ",
           "I-10"
          ],
          [
           "East",
           "Disabled vehicle on the right shoulder on I-10 Eastbound  near   S 48th St (MP 154)   ",
           "I-10"
          ],
          [
           "East",
           "Debris on the left shoulder on I-10 Eastbound  near   S 48th St (MP 154)   ",
           "I-10"
          ],
          [
           "West",
           "Abandoned vehicle on the right shoulder on I-10 Westbound  near   Hohokam Expy (MP 153)   ",
           "I-10"
          ],
          [
           "East",
           "Debris blocking the left lane on I-10 Eastbound  near   S 48th St (MP 154)   ",
           "I-10"
          ],
          [
           "West",
           "Crash on the right shoulder on I-10 Westbound  near   Warner Rd (MP 159)   ",
           "I-10"
          ],
          [
           "East",
           "Crash on the right shoulder on I-10 Eastbound  near   Baseline Rd (MP 155)   ",
           "I-10"
          ],
          [
           "East",
           "Disabled vehicle on the left shoulder on I-10 Eastbound  near   Baseline Rd (MP 155)   ",
           "I-10"
          ],
          [
           "West",
           "Crash blocking the on ramp on I-10 Westbound  near   E University Dr (MP 151)   ",
           "I-10"
          ],
          [
           "East",
           "Sign damage on I-10 Eastbound  near   40th St (MP 152)   ",
           "I-10"
          ],
          [
           "East",
           "Disabled vehicle on the right shoulder on I-10 Eastbound  near   Superstition Fwy (MP 156)   ",
           "I-10"
          ],
          [
           "East",
           "Debris on the left shoulder on I-10 Eastbound  near   S 48th St (MP 154)   ",
           "I-10"
          ],
          [
           "West",
           "Disabled vehicle on the right shoulder on I-10 Westbound  near   W Baseline Rd (MP 156)   ",
           "I-10"
          ],
          [
           "West",
           "Debris on the left shoulder on I-10 Westbound  near   W Broadway Rd (MP 154)   ",
           "I-10"
          ],
          [
           "West",
           "Crash on the right shoulder on I-10 Westbound  near   E Elliot Rd (MP 157)   ",
           "I-10"
          ],
          [
           "West",
           "Crash on the right shoulder on I-10 Westbound  near   E Elliot Rd (MP 157)   ",
           "I-10"
          ],
          [
           "West",
           "Disabled vehicle on the right shoulder on I-10 Westbound  near   SR-143 Northbound (MP 154)   ",
           "I-10"
          ],
          [
           "East",
           "Disabled vehicle on the right shoulder on I-10 Eastbound  near   Superstition Fwy (MP 157)   ",
           "I-10"
          ],
          [
           "West",
           "Disabled vehicle on the right shoulder on I-10 Westbound  near   24th St (MP 150)   ",
           "I-10"
          ],
          [
           "East",
           "Vehicle fire on I-10 Eastbound  near   Elliot Rd (MP 158)   ",
           "I-10"
          ],
          [
           "East",
           "Crash on the left shoulder on I-10 Eastbound  near   Elliot Rd (MP 158)   ",
           "I-10"
          ],
          [
           "East",
           "Crash blocking the on ramp on I-10 Eastbound  near   E Ray Rd (MP 160)   ",
           "I-10"
          ],
          [
           "East",
           "Debris on the right shoulder on I-10 Eastbound  near   Elliot Rd (MP 158)   ",
           "I-10"
          ],
          [
           "West",
           "Debris on the left shoulder on I-10 Westbound  near   US-60 Eastbound (MP 156)   ",
           "I-10"
          ],
          [
           "East",
           "Crash on the right shoulder on I-10 Eastbound  near   Elliot Rd (MP 158)   ",
           "I-10"
          ],
          [
           "West",
           "Disabled vehicle on the right shoulder on I-10 Westbound  near   40th St (MP 152)   ",
           "I-10"
          ],
          [
           "East",
           "Disabled vehicle on the right shoulder on I-10 Eastbound  near   I-10 (MP 172.0)   ",
           "I-10"
          ],
          [
           "West",
           "Debris on the left shoulder on I-10 Westbound  near   Hohokam Expy (MP 153)   ",
           "I-10"
          ],
          [
           "East",
           "Crash on the right shoulder on I-10 Eastbound  near   E Warner Rd (MP 159)   ",
           "I-10"
          ],
          [
           "West",
           "Abandoned vehicle on the right shoulder on I-10 Westbound  near   Broadway Rd (MP 172.0)   ",
           "I-10"
          ],
          [
           "West",
           "Disabled vehicle on the on ramp on I-10 Westbound  near   E University Dr (MP 151)   ",
           "I-10"
          ],
          [
           "East",
           "Debris on the left shoulder on I-10 Eastbound  near   S 24th St (MP 150)   ",
           "I-10"
          ],
          [
           "East",
           "Crash on the left shoulder on I-10 Eastbound  near   32nd St (MP 151)   ",
           "I-10"
          ],
          [
           "East",
           "Disabled vehicle on the left shoulder on I-10 Eastbound  near   SR-143 (MP 153)   ",
           "I-10"
          ],
          [
           "West",
           "Abandoned vehicle on the right shoulder on I-10 Westbound  near   24th St (MP 150)   ",
           "I-10"
          ],
          [
           "East",
           "Debris on the left shoulder on I-10 Eastbound  near   S 24th St (MP 151)   ",
           "I-10"
          ],
          [
           "West",
           "Crash on the right shoulder on I-10 Westbound  near   24th St (MP 150)   ",
           "I-10"
          ],
          [
           "East",
           "Crash on the right shoulder on I-10 Eastbound  near   Baseline Rd (MP 156)   ",
           "I-10"
          ],
          [
           "East",
           "Disabled vehicle on the right shoulder on I-10 Eastbound  near   S 40th St (MP 152)   ",
           "I-10"
          ],
          [
           "West",
           "Crash on the right shoulder on I-10 Westbound  near   US-60 Eastbound (MP 156)   ",
           "I-10"
          ],
          [
           "East",
           "Crash blocking the right lane on I-10 Eastbound  near   40th St (MP 152)   ",
           "I-10"
          ],
          [
           null,
           "I10 @ W BROADWAY RD EB WO ,TMP - AccidentIncident - injury accident",
           "I10 @ W BROADWAY RD EB WO ,TMP"
          ],
          [
           "East",
           "Disabled vehicle on the right shoulder on I-10 Eastbound  near   32nd St (MP 151)   ",
           "I-10"
          ],
          [
           null,
           "I10 @ S 24TH ST WB WO ,PHX - AccidentIncident - injury accident",
           "I10 @ S 24TH ST WB WO ,PHX"
          ],
          [
           "East",
           "Crash blocking the intersection on I-10 Eastbound  near   Ray Rd (MP 160)   ",
           "I-10"
          ],
          [
           "East",
           "Traffic signal timing issue or timing adjusted  on I-10 Eastbound  near   Ray Rd (MP 160)   ",
           "I-10"
          ],
          [
           "West",
           "Animal near roadway on I-10 Westbound  near   E Elliot Rd (MP 157)   ",
           "I-10"
          ],
          [
           "West",
           "Debris on I-10 Westbound  near   40th St (MP 152)   ",
           "I-10"
          ],
          [
           "West",
           "Disabled vehicle on the right shoulder on I-10 Westbound  near   E University Dr (MP 151)   ",
           "I-10"
          ],
          [
           "East",
           "ITS equipment damage on I-10 Eastbound  near   Ray Rd (MP 160)   ",
           "I-10"
          ],
          [
           "East",
           "Crash on the right shoulder on I-10 Eastbound  near   SR-143 (MP 154)   ",
           "I-10"
          ],
          [
           "West",
           "Disabled vehicle on the right shoulder on I-10 Westbound  near   Broadway Rd (MP 154)   ",
           "I-10"
          ],
          [
           "East",
           "Disabled vehicle on the right shoulder on I-10 Eastbound  near   Baseline Rd (MP 156)   ",
           "I-10"
          ],
          [
           "West",
           "Fence damage on I-10 Westbound  near   Superstition Fwy (MP 155)   ",
           "I-10"
          ],
          [
           "West",
           "Dead animal near roadway on I-10 Westbound  near   E Elliot Rd (MP 157)   ",
           "I-10"
          ],
          [
           "West",
           "Debris on the right shoulder on I-10 Westbound  near   Hohokam Expy (MP 153)   ",
           "I-10"
          ],
          [
           "East",
           "Disabled vehicle on the on ramp on I-10 Eastbound  near   S 40th St (MP 153)   ",
           "I-10"
          ],
          [
           "East",
           "Crash on the right shoulder on I-10 Eastbound  near   I-10 (MP 172.0)   ",
           "I-10"
          ],
          [
           "East",
           "Crash on the on ramp on I-10 Eastbound  near   Ray Rd (MP 160)   ",
           "I-10"
          ],
          [
           "East",
           "Crash blocking the left lane on I-10 Eastbound  near   S 24th St (MP 150)   ",
           "I-10"
          ],
          [
           "East",
           "Disabled vehicle on the right shoulder on I-10 Eastbound  near   Superstition Fwy (MP 156)   ",
           "I-10"
          ],
          [
           "East",
           "Debris on the right shoulder on I-10 Eastbound  near   32nd St (MP 151)   ",
           "I-10"
          ],
          [
           "West",
           "Disabled vehicle on the right shoulder on I-10 Westbound  near   Hohokam Expy (MP 153)   ",
           "I-10"
          ],
          [
           "West",
           "Crash on the right shoulder on I-10 Westbound  near   24th St (MP 150)   ",
           "I-10"
          ],
          [
           "East",
           "Abandoned vehicle on the right shoulder on I-10 Eastbound  near   40th St (MP 152)   ",
           "I-10"
          ],
          [
           "East",
           "Debris on the right shoulder on I-10 Eastbound  near   SR-143 (MP 153)   ",
           "I-10"
          ],
          [
           "East",
           "Crash on the left shoulder on I-10 Eastbound  near   SR-143 (MP 153)   ",
           "I-10"
          ],
          [
           "East",
           "Disabled vehicle on the right shoulder on I-10 Eastbound  near   S 40th St (MP 152)   ",
           "I-10"
          ],
          [
           "East",
           "Debris on the left shoulder on I-10 Eastbound  near   S 24th St (MP 151)   ",
           "I-10"
          ],
          [
           "West",
           "Crash on the right shoulder on I-10 Westbound  near   24th St (MP 150)   ",
           "I-10"
          ],
          [
           "West",
           "Disabled vehicle on the right shoulder on I-10 Westbound  near   E University Dr (MP 151)   ",
           "I-10"
          ],
          [
           "West",
           "Crash on the left shoulder on I-10 Westbound  near   24th St (MP 150)   ",
           "I-10"
          ],
          [
           "West",
           "Debris on the right shoulder on I-10 Westbound  near   Hohokam Expy (MP 153)   ",
           "I-10"
          ],
          [
           "West",
           "Debris on the left shoulder on I-10 Westbound  near   24th St (MP 150)   ",
           "I-10"
          ],
          [
           "West",
           "Disabled vehicle on the right shoulder on I-10 Westbound  near   E Elliot Rd (MP 158)   ",
           "I-10"
          ],
          [
           "East",
           "Disabled vehicle on the right shoulder on I-10 Eastbound  near   Elliot Rd (MP 157)   ",
           "I-10"
          ],
          [
           "East",
           "Disabled vehicle on the on ramp on I-10 Eastbound  near   E Warner Rd (MP 159)   ",
           "I-10"
          ],
          [
           "East",
           "Disabled vehicle on the right shoulder on I-10 Eastbound  near   E Ray Rd (MP 160)   ",
           "I-10"
          ],
          [
           "West",
           "Debris on the right shoulder on I-10 Westbound  near   Hohokam Expy (MP 153)   ",
           "I-10"
          ],
          [
           "West",
           "Debris on the right shoulder on I-10 Westbound  near   24th St (MP 150)   ",
           "I-10"
          ],
          [
           "West",
           "Disabled vehicle on the right shoulder on I-10 Westbound  near   E Ray Rd (MP 160)   ",
           "I-10"
          ],
          [
           "East",
           "Crash on the right shoulder on I-10 Eastbound  near   Ray Rd (MP 160)   ",
           "I-10"
          ],
          [
           "West",
           "Crash blocking the HOV lane on I-10 Westbound  near   E Elliot Rd (MP 158)   ",
           "I-10"
          ],
          [
           "East",
           "Debris blocking the left lane on I-10 Eastbound  near   E Chandler Blvd (MP 161)   ",
           "I-10"
          ],
          [
           "West",
           "Disabled vehicle blocking the left lanes on I-10 Westbound  near   E Ray Rd (MP 160)   ",
           "I-10"
          ],
          [
           "East",
           "Crash on the right shoulder on I-10 Eastbound  near   Elliot Rd (MP 158)   ",
           "I-10"
          ],
          [
           "West",
           "Disabled vehicle on the right shoulder on I-10 Westbound  near   US-60 Westbound (MP 155)   ",
           "I-10"
          ],
          [
           "East",
           "Disabled vehicle blocking the intersection on I-10 Eastbound  near   Elliot Rd (MP 158)   ",
           "I-10"
          ],
          [
           "East",
           "Disabled vehicle on the right shoulder on I-10 Eastbound  near   Elliot Rd (MP 157)   ",
           "I-10"
          ],
          [
           "West",
           "Crash on the right shoulder on I-10 Westbound  near   E Elliot Rd (MP 157)   ",
           "I-10"
          ],
          [
           "West",
           "Disabled vehicle on the on ramp on I-10 Westbound  near   US-60 Eastbound (MP 156)   ",
           "I-10"
          ],
          [
           "East",
           "Crash blocking the exit ramp on I-10 Eastbound  near   E Warner Rd (MP 159)   ",
           "I-10"
          ],
          [
           "West",
           "Crash blocking the left lane on I-10 Westbound  near   W Warner Rd (MP 159)   ",
           "I-10"
          ],
          [
           "West",
           "Crash on the right shoulder on I-10 Westbound  near   E Elliot Rd (MP 157)   ",
           "I-10"
          ],
          [
           null,
           "I10 @ E ELLIOT RD NB OF ,TMP - AccidentIncident - injury accident",
           "I10 @ E ELLIOT RD NB OF ,TMP"
          ],
          [
           "East",
           "Debris on the right shoulder on I-10 Eastbound  near   I-10 (MP 172.0)   ",
           "I-10"
          ],
          [
           "West",
           "Disabled vehicle on the right shoulder on I-10 Westbound  near   E Ray Rd (MP 160)   ",
           "I-10"
          ],
          [
           "East",
           "Disabled vehicle on the right shoulder on I-10 Eastbound  near   S 40th St (MP 152)   ",
           "I-10"
          ],
          [
           "West",
           "Crash blocking the intersection on I-10 Westbound  near   202-LOOP Eastbound (MP 161)   ",
           "I-10"
          ],
          [
           "West",
           "Crash on the right shoulder on I-10 Westbound  near   E University Dr (MP 151)   ",
           "I-10"
          ],
          [
           "West",
           "Disabled vehicle on the left shoulder on I-10 Westbound  near   Broadway Rd (MP 154)   ",
           "I-10"
          ],
          [
           null,
           "I10 @ W BROADWAY RD WB EO ,TMP - AccidentIncident - vehicle on fire",
           "I10 @ W BROADWAY RD WB EO ,TMP"
          ],
          [
           "West",
           "Vehicle fire on I-10 Westbound  near   Broadway Rd (MP 154)   ",
           "I-10"
          ],
          [
           null,
           "I10 @ E RAY RD SB SO ,PHX - AccidentIncident - injury accident",
           "I10 @ E RAY RD SB SO ,PHX"
          ],
          [
           "West",
           "Disabled vehicle on the right shoulder on I-10 Westbound  near   Broadway Rd (MP 172.0)   ",
           "I-10"
          ],
          [
           "East",
           "Disabled vehicle blocking the on ramp on I-10 Eastbound  near   S 24th St (MP 150)   ",
           "I-10"
          ],
          [
           "West",
           "Disabled vehicle on the right shoulder on I-10 Westbound  near   Broadway Rd (MP 154)   ",
           "I-10"
          ],
          [
           "West",
           "Abandoned vehicle on the right shoulder on I-10 Westbound  near   SR-143 Northbound (MP 154)   ",
           "I-10"
          ],
          [
           "West",
           "Debris blocking the left lane on I-10 Westbound  near   24th St (MP 150)   ",
           "I-10"
          ],
          [
           "West",
           "Crash on the exit ramp on I-10 Westbound  near   E Ray Rd (MP 160)   ",
           "I-10"
          ],
          [
           "East",
           "Disabled vehicle on the right shoulder on I-10 Eastbound  near   40th St (MP 152)   ",
           "I-10"
          ],
          [
           "East",
           "ITS equipment damage on I-10 Eastbound  near   E Elliot Rd (MP 158)   ",
           "I-10"
          ],
          [
           "West",
           "Disabled vehicle on the left shoulder on I-10 Westbound  near   E University Dr (MP 151)   ",
           "I-10"
          ],
          [
           "West",
           "Abandoned vehicle on the right shoulder on I-10 Westbound  near   Elliot Rd (MP 158)   ",
           "I-10"
          ],
          [
           "West",
           "Debris on the left shoulder on I-10 Westbound  near   24th St (MP 150)   ",
           "I-10"
          ],
          [
           "East",
           "Debris on the left shoulder on I-10 Eastbound  near   SR-143 (MP 153)   ",
           "I-10"
          ],
          [
           "West",
           "Disabled vehicle on the left shoulder on I-10 Westbound  near   W Broadway Rd (MP 154)   ",
           "I-10"
          ],
          [
           "West",
           "Disabled vehicle on the left shoulder on I-10 Westbound  near   24th St (MP 150)   ",
           "I-10"
          ],
          [
           "East",
           "Disabled vehicle blocking the exit ramp on I-10 Eastbound  near   E Warner Rd (MP 159)   ",
           "I-10"
          ],
          [
           "West",
           "Debris on I-10 Westbound  near   Hohokam Expy (MP 153)   ",
           "I-10"
          ],
          [
           "West",
           "Debris on the right shoulder on I-10 Westbound  near   E University Dr (MP 151)   ",
           "I-10"
          ],
          [
           "East",
           "Crash on the right shoulder on I-10 Eastbound  near   32nd St (MP 151)   ",
           "I-10"
          ],
          [
           null,
           "I10 @ E UNIVERSITY DR EB WO ,PHX - AccidentIncident - injury accident",
           "I10 @ E UNIVERSITY DR EB WO ,PHX"
          ],
          [
           null,
           "W BASELINE RD/I10 ,TMP - AccidentIncident - injury accident",
           "W BASELINE RD/I10 ,TMP"
          ],
          [
           "East",
           "Debris on the right shoulder on I-10 Eastbound  near   32nd St (MP 151)   ",
           "I-10"
          ],
          [
           "East",
           "Disabled vehicle on the right shoulder on I-10 Eastbound  near   32nd St (MP 151)   ",
           "I-10"
          ],
          [
           "East",
           "Disabled vehicle on the right shoulder on I-10 Eastbound  near   Baseline Rd (MP 155)   ",
           "I-10"
          ],
          [
           "West",
           "Disabled vehicle on the right shoulder on I-10 Westbound  near   W Warner Rd (MP 159)   ",
           "I-10"
          ],
          [
           "West",
           "Disabled vehicle blocking the exit ramp on I-10 Westbound  near   US-60 Eastbound (MP 156)   ",
           "I-10"
          ],
          [
           "West",
           "Water or irrigation leak on I-10 Westbound  near   Superstition Fwy (MP 155)   ",
           "I-10"
          ],
          [
           "West",
           "Disabled vehicle on the right shoulder on I-10 Westbound  near   Broadway Rd (MP 172.0)   ",
           "I-10"
          ],
          [
           "West",
           "Debris on the left shoulder on I-10 Westbound  near   24th St (MP 150)   ",
           "I-10"
          ],
          [
           null,
           "I10 CD @ W BROADWAY RD WB EO ,TMP - AccidentIncident - injury accident",
           "I10 CD @ W BROADWAY RD WB EO ,TMP"
          ],
          [
           "West",
           "Crash on I-10 Westbound  near   SR-143 Northbound (MP 154)   ",
           "I-10"
          ],
          [
           "West",
           "Disabled vehicle on the right shoulder on I-10 Westbound  near   US-60 Westbound (MP 155)   ",
           "I-10"
          ],
          [
           "West",
           "Disabled vehicle on the right shoulder on I-10 Westbound  near   US-60 Eastbound (MP 156)   ",
           "I-10"
          ],
          [
           "East",
           "Vehicle fire on I-10 Eastbound  near   S 40th St (MP 152)   ",
           "I-10"
          ],
          [
           "West",
           "Disabled vehicle on the right shoulder on I-10 Westbound  near   Broadway Rd (MP 172.0)   ",
           "I-10"
          ],
          [
           "East",
           "Disabled vehicle on the exit ramp on I-10 Eastbound  near   32nd St (MP 151)   ",
           "I-10"
          ],
          [
           "West",
           "Disabled vehicle on the right shoulder on I-10 Westbound  near   US-60 Eastbound (MP 156)   ",
           "I-10"
          ],
          [
           "East",
           "Disabled vehicle on the right shoulder on I-10 Eastbound  near   Baseline Rd (MP 156)   ",
           "I-10"
          ],
          [
           null,
           "I10 @ E ELLIOT RD SB UP ,PHX - AccidentIncident - medical emergency",
           "I10 @ E ELLIOT RD SB UP ,PHX"
          ],
          [
           "West",
           "Crash on the right shoulder on I-10 Westbound  near   Warner Rd (MP 159)   ",
           "I-10"
          ],
          [
           "West",
           "Vehicle fire on I-10 Westbound  near   Hohokam Expy (MP 153)   ",
           "I-10"
          ],
          [
           null,
           "I10 @ S 40TH ST WB EO ,PHX - AccidentIncident - vehicle on fire",
           "I10 @ S 40TH ST WB EO ,PHX"
          ],
          [
           "West",
           "Debris blocking the left lane on I-10 Westbound  near   40th St (MP 152)   ",
           "I-10"
          ],
          [
           "West",
           "Crash on the right shoulder on I-10 Westbound  near   40th St (MP 152)   ",
           "I-10"
          ],
          [
           "West",
           "Disabled vehicle on the right shoulder on I-10 Westbound  near   Broadway Rd (MP 154)   ",
           "I-10"
          ],
          [
           "West",
           "Infrastructure damage on I-10 Westbound  near   Broadway Rd (MP 154)   ",
           "I-10"
          ],
          [
           "West",
           "Disabled vehicle blocking the HOV lane on I-10 Westbound  near   SR-143 Northbound (MP 154)   ",
           "I-10"
          ],
          [
           "East",
           "Disabled vehicle on the right shoulder on I-10 Eastbound  near   32nd St (MP 151)   ",
           "I-10"
          ],
          [
           "West",
           "Crash on the right shoulder on I-10 Westbound  near   W Baseline Rd (MP 156)   ",
           "I-10"
          ],
          [
           "West",
           "Debris blocking the right lane on I-10 Westbound  near   E University Dr (MP 151)   ",
           "I-10"
          ],
          [
           "West",
           "Disabled vehicle blocking the exit ramp on I-10 Westbound  near   40th St (MP 152)   ",
           "I-10"
          ],
          [
           "East",
           "Crash on the right shoulder on I-10 Eastbound  near   Elliot Rd (MP 158)   ",
           "I-10"
          ],
          [
           null,
           "I10 @ E ELLIOT RD SB UP ,PHX - AccidentIncident - injury accident",
           "I10 @ E ELLIOT RD SB UP ,PHX"
          ],
          [
           "West",
           "Disabled vehicle on the right shoulder on I-10 Westbound  near   24th St (MP 150)   ",
           "I-10"
          ],
          [
           "East",
           "Crash on the right shoulder on I-10 Eastbound  near   Superstition Fwy (MP 156)   ",
           "I-10"
          ],
          [
           "East",
           "Disabled vehicle on the left shoulder on I-10 Eastbound  near   SR-143 (MP 153)   ",
           "I-10"
          ],
          [
           "East",
           "Disabled vehicle on the right shoulder on I-10 Eastbound  near   S 40th St (MP 152)   ",
           "I-10"
          ],
          [
           "East",
           "Disabled vehicle on the right shoulder on I-10 Eastbound  near   S 24th St (MP 150)   ",
           "I-10"
          ],
          [
           "West",
           "Crash on the right shoulder on I-10 Westbound  near   202-LOOP Eastbound (MP 161)   ",
           "I-10"
          ],
          [
           "West",
           "Infrastructure damage on I-10 Westbound  near   SR-143 Northbound (MP 154)   ",
           "I-10"
          ],
          [
           "East",
           "Debris on the right shoulder on I-10 Eastbound  near   S 40th St (MP 152)   ",
           "I-10"
          ],
          [
           "West",
           "Debris on the left shoulder on I-10 Westbound  near   US-60 Eastbound (MP 156)   ",
           "I-10"
          ],
          [
           "West",
           "Crash blocking the right lane on I-10 Westbound  near   Baseline Rd (MP 157)   ",
           "I-10"
          ],
          [
           null,
           "I10 @ W BASELINE RD NB NO ,TMP - AccidentIncident - medical emergency",
           "I10 @ W BASELINE RD NB NO ,TMP"
          ],
          [
           "East",
           "Disabled vehicle on the right shoulder on I-10 Eastbound  near   Hohokam Expy (MP 154)   ",
           "I-10"
          ],
          [
           "East",
           "Crash on the left shoulder on I-10 Eastbound  near   SR-143 (MP 154)   ",
           "I-10"
          ],
          [
           "East",
           "Vehicle fire on I-10 Eastbound  near   Baseline Rd (MP 155)   ",
           "I-10"
          ],
          [
           null,
           "I10 @ W SOUTHERN AV SB OP ,TMP - AccidentIncident - vehicle on fire",
           "I10 @ W SOUTHERN AV SB OP ,TMP"
          ],
          [
           "West",
           "Disabled vehicle on the right shoulder on I-10 Westbound  near   W Baseline Rd (MP 155)   ",
           "I-10"
          ],
          [
           "East",
           "Crash blocking the right lane on I-10 Eastbound  near   S 24th St (MP 150)   ",
           "I-10"
          ],
          [
           "West",
           "Debris on the right shoulder on I-10 Westbound  near   SR-143 Northbound (MP 154)   ",
           "I-10"
          ],
          [
           "West",
           "Debris blocking the right lane on I-10 Westbound  near   24th St (MP 150)   ",
           "I-10"
          ],
          [
           "West",
           "Disabled vehicle blocking the right lane on I-10 Westbound  near   40th St (MP 152)   ",
           "I-10"
          ],
          [
           "West",
           "Debris on I-10 Westbound  near   24th St (MP 150)   ",
           "I-10"
          ],
          [
           "East",
           "Disabled vehicle on the right shoulder on I-10 Eastbound  near   Elliot Rd (MP 157)   ",
           "I-10"
          ],
          [
           "East",
           "Disabled vehicle on the right shoulder on I-10 Eastbound  near   Hohokam Expy (MP 154)   ",
           "I-10"
          ],
          [
           null,
           "I10 CD @ US60 NB TO EB ,TMP - AccidentIncident - medical emergency",
           "I10 CD @ USB TO EB ,TMP"
          ],
          [
           "East",
           "Crash on the left shoulder on I-10 Eastbound  near   S 24th St (MP 150)   ",
           "I-10"
          ],
          [
           "West",
           "Crash on the right shoulder on I-10 Westbound  near   24th St (MP 150)   ",
           "I-10"
          ],
          [
           "West",
           "Disabled vehicle on the right shoulder on I-10 Westbound  near   E University Dr (MP 151)   ",
           "I-10"
          ],
          [
           "West",
           "Crash on the exit ramp on I-10 Westbound  near   Broadway Rd (MP 154)   ",
           "I-10"
          ],
          [
           "West",
           "Crash blocking the intersection on I-10 Westbound  near   US-60 Eastbound (MP 156)   ",
           "I-10"
          ],
          [
           null,
           "W BASELINE RD/I10 ,TMP - AccidentIncident - injury accident",
           "W BASELINE RD/I10 ,TMP"
          ],
          [
           "West",
           "Crash on the right shoulder on I-10 Westbound  near   24th St (MP 150)   ",
           "I-10"
          ],
          [
           null,
           "I10 @ S 40TH ST WB UP ,PHX - AccidentIncident - injury accident",
           "I10 @ S 40TH ST WB UP ,PHX"
          ],
          [
           "West",
           "Crash on the left shoulder on I-10 Westbound  near   40th St (MP 152)   ",
           "I-10"
          ],
          [
           "East",
           "Crash blocking the on ramp on I-10 Eastbound  near   32nd St (MP 151)   ",
           "I-10"
          ],
          [
           "West",
           "Crash on the right shoulder on I-10 Westbound  near   SR-143 Northbound (MP 154)   ",
           "I-10"
          ],
          [
           "East",
           "Disabled vehicle on the right shoulder on I-10 Eastbound  near   Baseline Rd (MP 155)   ",
           "I-10"
          ],
          [
           "West",
           "Disabled vehicle on the right shoulder on I-10 Westbound  near   Ray Rd (MP 160)   ",
           "I-10"
          ],
          [
           "West",
           "Debris on the right shoulder on I-10 Westbound  near   Arizona Veterans Memorial Hwy (MP 150)   ",
           "I-10"
          ],
          [
           "West",
           "Abandoned vehicle on the right shoulder on I-10 Westbound  near   Ray Rd (MP 160)   ",
           "I-10"
          ],
          [
           "East",
           "Debris on the right shoulder on I-10 Eastbound  near   Baseline Rd (MP 156)   ",
           "I-10"
          ],
          [
           "East",
           "Crash on the right shoulder on  ramp  from I-10 Westbound  to  I-10 Westbound (MP 172.0)   ",
           "I-10 Westbound"
          ],
          [
           "West",
           "Disabled vehicle on the right shoulder on I-10 Westbound  near   E University Dr (MP 151)   ",
           "I-10"
          ],
          [
           "East",
           "Disabled vehicle on the right shoulder on I-10 Eastbound  near   32nd St (MP 151)   ",
           "I-10"
          ],
          [
           "West",
           "Disabled vehicle on the right shoulder on I-10 Westbound  near   SR-143 Northbound (MP 154)   ",
           "I-10"
          ],
          [
           "East",
           "Disabled vehicle on the right shoulder on I-10 Eastbound  near   Elliot Rd (MP 157)   ",
           "I-10"
          ],
          [
           "West",
           "Crash blocking the exit ramp on I-10 Westbound  near   Ray Rd (MP 160)   ",
           "I-10"
          ],
          [
           "West",
           "Crash on the right shoulder on I-10 Westbound  near   W Baseline Rd (MP 156)   ",
           "I-10"
          ],
          [
           "West",
           "Disabled vehicle on the on ramp on I-10 Westbound  near   Ray Rd (MP 160)   ",
           "I-10"
          ],
          [
           "East",
           "Debris on the left shoulder on I-10 Eastbound  near   Elliot Rd (MP 158)   ",
           "I-10"
          ],
          [
           "East",
           "Sign damage on I-10 Eastbound  near   Elliot Rd (MP 158)   ",
           "I-10"
          ],
          [
           "East",
           "Disabled vehicle on the exit ramp on I-10 Eastbound  near   Elliot Rd (MP 158)   ",
           "I-10"
          ],
          [
           "East",
           "Crash on the left shoulder on I-10 Eastbound  near   E Ray Rd (MP 160)   ",
           "I-10"
          ],
          [
           "East",
           "Debris on the left shoulder on I-10 Eastbound  near   S 24th St (MP 150)   ",
           "I-10"
          ],
          [
           "West",
           "Debris on the right shoulder on I-10 Westbound  near   Hohokam Expy (MP 153)   ",
           "I-10"
          ],
          [
           "West",
           "Wrong-way driver on I-10 Westbound  near   Ray Rd (MP 160)   ",
           "I-10"
          ],
          [
           "East",
           "Disabled vehicle on the right shoulder on I-10 Eastbound  near   Ray Rd (MP 160)   ",
           "I-10"
          ],
          [
           "East",
           "Disabled vehicle on the left shoulder on I-10 Eastbound  near   S 24th St (MP 151)   ",
           "I-10"
          ],
          [
           "East",
           "Crash on the right shoulder on I-10 Eastbound  near   Elliot Rd (MP 158)   ",
           "I-10"
          ],
          [
           null,
           "I10 @ E WARNER RD SB NO ,PHX - AccidentIncident - injury accident",
           "I10 @ E WARNER RD SB NO ,PHX"
          ],
          [
           null,
           "I10 / W WARNER RD[JN RD PULLED OFF RIGHT                                    TE - AccidentIncident - accident On I10 / W WARNER RD[JN RD PULLED OFF RIGHT                                    TE between None and None",
           "I10 / W WARNER RD[JN RD PULLED OFF RIGHT                                    TE"
          ],
          [
           "East",
           "Crash blocking the right lane on I-10 Eastbound  near   Elliot Rd (MP 158)   ",
           "I-10"
          ],
          [
           null,
           "W WARNER RD / I10                                                           TE - AccidentIncident - traffic signal out On W WARNER RD / I10                                                           TE between None and None",
           "W WARNER RD / I10                                                           TE"
          ],
          [
           "East",
           "Traffic signal issue on I-10 Eastbound  near   E Elliot Rd (MP 158)   ",
           "I-10"
          ],
          [
           "East",
           "Disabled vehicle on the right shoulder on I-10 Eastbound  near   Elliot Rd (MP 157)   ",
           "I-10"
          ],
          [
           "West",
           "Disabled vehicle on the right shoulder on I-10 Westbound  near   40th St (MP 152)   ",
           "I-10"
          ],
          [
           "East",
           "Disabled vehicle on the exit ramp on I-10 Eastbound  near   Elliot Rd (MP 158)   ",
           "I-10"
          ],
          [
           "East",
           "Disabled vehicle on the right shoulder on I-10 Eastbound  near   32nd St (MP 151)   ",
           "I-10"
          ],
          [
           "West",
           "Crash on the exit ramp on I-10 Westbound  near   Broadway Rd (MP 154)   ",
           "I-10"
          ],
          [
           null,
           "W WARNER RD / I10                                                           TE - AccidentIncident - accident On W WARNER RD / I10                                                           TE between W WARNER RD and I10",
           "W WARNER RD / I10                                                           TE"
          ],
          [
           "East",
           "Crash blocking the on ramp on I-10 Eastbound  near   Baseline Rd (MP 156)   ",
           "I-10"
          ],
          [
           "West",
           "Graffiti on I-10 Westbound  near   US-60 Eastbound (MP 156)   ",
           "I-10"
          ],
          [
           "West",
           "Crash on the right shoulder on I-10 Westbound  near   E Elliot Rd (MP 158)   ",
           "I-10"
          ],
          [
           "West",
           "Disabled vehicle on the right shoulder on I-10 Westbound  near   40th St (MP 152)   ",
           "I-10"
          ],
          [
           "East",
           "Debris blocking the center lane on I-10 Eastbound  near   S 24th St (MP 151)   ",
           "I-10"
          ],
          [
           "East",
           "Disabled vehicle on the right shoulder on I-10 Eastbound  near   Baseline Rd (MP 155)   ",
           "I-10"
          ],
          [
           null,
           "W BASELINE RD / I10                                                         TE - AccidentIncident - injury accident On W BASELINE RD / I10                                                         TE between I10 and W BASELINE RD",
           "W BASELINE RD / I10                                                         TE"
          ],
          [
           null,
           "W BASELINE RD / I10                                                         TE - AccidentIncident - accident On W BASELINE RD / I10                                                         TE between I10 and W BASELINE RD",
           "W BASELINE RD / I10                                                         TE"
          ],
          [
           "West",
           "Abandoned vehicle on the right shoulder on I-10 Westbound  near   Elliot Rd (MP 158)   ",
           "I-10"
          ],
          [
           "East",
           "Disabled vehicle on the right shoulder on I-10 Eastbound  near   Elliot Rd (MP 157)   ",
           "I-10"
          ],
          [
           "East",
           "Disabled vehicle on the right shoulder on I-10 Eastbound  near   Superstition Fwy (MP 156)   ",
           "I-10"
          ],
          [
           "West",
           "Disabled vehicle on the right shoulder on I-10 Westbound  near   E University Dr (MP 151)   ",
           "I-10"
          ],
          [
           "West",
           "Crash on the right shoulder on I-10 Westbound  near   E University Dr (MP 151)   ",
           "I-10"
          ],
          [
           "East",
           "Debris on the right shoulder on I-10 Eastbound  near   S 24th St (MP 151)   ",
           "I-10"
          ],
          [
           "West",
           "ITS equipment damage on I-10 Westbound  near   SR-143 Northbound (MP 154)   ",
           "I-10"
          ],
          [
           "East",
           "Disabled vehicle on the right shoulder on I-10 Eastbound  near   Baseline Rd (MP 155)   ",
           "I-10"
          ],
          [
           "East",
           "Crash on the left shoulder on I-10 Eastbound  near   Elliot Rd (MP 158)   ",
           "I-10"
          ],
          [
           "East",
           "Crash on the right shoulder on I-10 Eastbound  near   Elliot Rd (MP 157)   ",
           "I-10"
          ],
          [
           "East",
           "Pedestrian on roadway on I-10 Eastbound  near   Elliot Rd (MP 158)   ",
           "I-10"
          ],
          [
           "East",
           "Debris on the right shoulder on I-10 Eastbound  near   S 24th St (MP 151)   ",
           "I-10"
          ],
          [
           null,
           "W BASELINE RD / I10                                                         TE - AccidentIncident - accident On W BASELINE RD / I10                                                         TE between I10 and W BASELINE RD",
           "W BASELINE RD / I10                                                         TE"
          ],
          [
           "West",
           "ITS equipment damage on I-10 Westbound  near   Hohokam Expy (MP 153)   ",
           "I-10"
          ],
          [
           "West",
           "Crash on the right shoulder on I-10 Westbound  near   E Elliot Rd (MP 158)   ",
           "I-10"
          ],
          [
           "East",
           "Disabled vehicle on the right shoulder on I-10 Eastbound  near   Baseline Rd (MP 155)   ",
           "I-10"
          ],
          [
           "West",
           "Disabled vehicle blocking the right lane on I-10 Westbound  near   40th St (MP 152)   ",
           "I-10"
          ],
          [
           "West",
           "Disabled vehicle on the right shoulder on I-10 Westbound  near   S 40th St (MP 152)   ",
           "I-10"
          ],
          [
           null,
           "I10 / W ELLIOT RD                                                           TE - AccidentIncident - accident On I10 / W ELLIOT RD                                                           TE between I10 and W ELLIOT RD",
           "I10 / W ELLIOT RD                                                           TE"
          ],
          [
           null,
           "W BROADWAY RD / I10                                                         TE - AccidentIncident - traffic hazard On W BROADWAY RD / I10                                                         TE between W BROADWAY RD and I10",
           "W BROADWAY RD / I10                                                         TE"
          ],
          [
           "West",
           "Debris on the right shoulder on I-10 Westbound  near   US-60 Eastbound (MP 156)   ",
           "I-10"
          ],
          [
           "West",
           "Crash on the right shoulder on I-10 Westbound  near   24th St (MP 150)   ",
           "I-10"
          ],
          [
           "East",
           "Pedestrian on roadway on I-10 Eastbound  near   S 24th St (MP 150)   ",
           "I-10"
          ],
          [
           "West",
           "Disabled vehicle on the right shoulder on I-10 Westbound  near   Superstition Fwy (MP 155)   ",
           "I-10"
          ],
          [
           "West",
           "Crash on the right shoulder on I-10 Westbound  near   24th St (MP 150)   ",
           "I-10"
          ],
          [
           "West",
           "Fence damage on I-10 Westbound  near   Hohokam Expy (MP 153)   ",
           "I-10"
          ],
          [
           "East",
           "Debris on the right shoulder on I-10 Eastbound  near   Elliot Rd (MP 158)   ",
           "I-10"
          ],
          [
           "West",
           "Crash on the right shoulder on I-10 Westbound  near   Warner Rd (MP 159)   ",
           "I-10"
          ],
          [
           "West",
           "Crash on the right shoulder on I-10 Westbound  near   Broadway Rd (MP 172.0)   ",
           "I-10"
          ],
          [
           "West",
           "Crash on the right shoulder on I-10 Westbound  near   24th St (MP 150)   ",
           "I-10"
          ],
          [
           "East",
           "Disabled vehicle on the right shoulder on I-10 Eastbound  near   S 40th St (MP 152)   ",
           "I-10"
          ],
          [
           "West",
           "Crash on the right shoulder on I-10 Westbound  near   24th St (MP 150)   ",
           "I-10"
          ],
          [
           null,
           "I10 / W WARNER RD[JE                                                        TE - AccidentIncident - accident On I10 / W WARNER RD[JE                                                        TE between W WARNER RD and I10",
           "I10 / W WARNER RD[JE                                                        TE"
          ],
          [
           "East",
           "Crash blocking the intersection on I-10 Eastbound  near   E Warner Rd (MP 159)   ",
           "I-10"
          ],
          [
           "West",
           "Crash on the left shoulder on I-10 Westbound  near   E University Dr (MP 151)   ",
           "I-10"
          ],
          [
           "West",
           "Disabled vehicle on the right shoulder on I-10 Westbound  near   E Elliot Rd (MP 157)   ",
           "I-10"
          ],
          [
           "West",
           "Crash on the right shoulder on I-10 Westbound  near   24th St (MP 150)   ",
           "I-10"
          ],
          [
           "East",
           "Disabled vehicle on the right shoulder on I-10 Eastbound  near   S 24th St (MP 151)   ",
           "I-10"
          ],
          [
           "East",
           "Disabled vehicle on the right shoulder on I-10 Eastbound  near   S 24th St (MP 150)   ",
           "I-10"
          ],
          [
           "West",
           "Crash on the left shoulder on I-10 Westbound  near   24th St (MP 150)   ",
           "I-10"
          ],
          [
           null,
           "W BROADWAY RD / I10                                                         TE - AccidentIncident - accident On W BROADWAY RD / I10                                                         TE between W BROADWAY RD and I10",
           "W BROADWAY RD / I10                                                         TE"
          ],
          [
           null,
           "W BASELINE RD / I10                                                         TE - AccidentIncident - accident On W BASELINE RD / I10                                                         TE between I10 and W BASELINE RD",
           "W BASELINE RD / I10                                                         TE"
          ],
          [
           "East",
           "Dead animal near roadway on I-10 Eastbound  near   Superstition Fwy (MP 156)   ",
           "I-10"
          ],
          [
           "West",
           "Sign damage on I-10 Westbound  near   24th St (MP 150)   ",
           "I-10"
          ],
          [
           "East",
           "Disabled vehicle on the right shoulder on I-10 Eastbound  near   I-10 (MP 172.0)   ",
           "I-10"
          ],
          [
           null,
           "W BASELINE RD / I10 [WB                                                     TE - AccidentIncident - accident On W BASELINE RD / I10 [WB                                                     TE between I10 and W BASELINE RD",
           "W BASELINE RD / I10 [WB                                                     TE"
          ],
          [
           "East",
           "Disabled vehicle on the left shoulder on I-10 Eastbound  near   Baseline Rd (MP 155)   ",
           "I-10"
          ],
          [
           "East",
           "Crash on I-10 Eastbound  near   Hohokam Expy (MP 154)   ",
           "I-10"
          ],
          [
           "East",
           "Guardrail damage on I-10 Eastbound  near   Baseline Rd (MP 155)   ",
           "I-10"
          ],
          [
           "West",
           "Crash on the right shoulder on I-10 Westbound  near   24th St (MP 150)   ",
           "I-10"
          ],
          [
           "East",
           "Disabled vehicle on the right shoulder on I-10 Eastbound  near   S 24th St (MP 150)   ",
           "I-10"
          ],
          [
           "West",
           "Debris on the left shoulder on I-10 Westbound  near   Ray Rd (MP 160)   ",
           "I-10"
          ],
          [
           "West",
           "Crash on the left shoulder on I-10 Westbound  near   Hohokam Expy (MP 153)   ",
           "I-10"
          ],
          [
           null,
           "W WARNER RD / I10                                                           TE - AccidentIncident - disabled vehicle On W WARNER RD / I10                                                           TE between W WARNER RD and I10",
           "W WARNER RD / I10                                                           TE"
          ],
          [
           "West",
           "Disabled vehicle on the left shoulder on I-10 Westbound  near   24th St (MP 150)   ",
           "I-10"
          ],
          [
           "West",
           "Crash on the right shoulder on I-10 Westbound  near   24th St (MP 150)   ",
           "I-10"
          ],
          [
           null,
           "W BASELINE RD / I10                                                         TE - AccidentIncident - disabled vehicle On W BASELINE RD / I10                                                         TE between I10 and W BASELINE RD",
           "W BASELINE RD / I10                                                         TE"
          ],
          [
           "West",
           "Disabled vehicle on the right shoulder on I-10 Westbound  near   E University Dr (MP 151)   ",
           "I-10"
          ],
          [
           "East",
           "Disabled vehicle on the right shoulder on I-10 Eastbound  near   I-10 (MP 172.0)   ",
           "I-10"
          ],
          [
           null,
           "W BASELINE RD / I10                                                         TE - AccidentIncident - accident On W BASELINE RD / I10                                                         TE between I10 and W BASELINE RD",
           "W BASELINE RD / I10                                                         TE"
          ],
          [
           null,
           "I10 / W BROADWAY RD                                                         TE - AccidentIncident - accident On I10 / W BROADWAY RD                                                         TE between W BROADWAY RD and I10",
           "I10 / W BROADWAY RD                                                         TE"
          ],
          [
           "East",
           "Crash blocking the intersection on I-10 Eastbound  near   202-LOOP Eastbound (MP 161)   ",
           "I-10"
          ],
          [
           "West",
           "Disabled vehicle on the right shoulder on I-10 Westbound  near   Superstition Fwy (MP 155)   ",
           "I-10"
          ],
          [
           "East",
           "Crash on the right shoulder on I-10 Eastbound  near   S 24th St (MP 150)   ",
           "I-10"
          ],
          [
           "West",
           "Disabled vehicle on the right shoulder on I-10 Westbound  near   S 40th St (MP 152)   ",
           "I-10"
          ],
          [
           "West",
           "Crash on the left shoulder on I-10 Westbound  near   Broadway Rd (MP 154)   ",
           "I-10"
          ],
          [
           "West",
           "Abandoned vehicle on the right shoulder on I-10 Westbound  near   S 40th St (MP 152)   ",
           "I-10"
          ],
          [
           "West",
           "Traffic signal timing issue or timing adjusted  on I-10 Westbound  near   W Warner Rd (MP 159)   ",
           "I-10"
          ],
          [
           "East",
           "Disabled vehicle blocking the exit ramp on I-10 Eastbound  near   Ray Rd (MP 160)   ",
           "I-10"
          ],
          [
           "East",
           "Debris on the left shoulder on I-10 Eastbound  near   Elliot Rd (MP 157)   ",
           "I-10"
          ],
          [
           null,
           "I10 / W BASELINE RD [ES                                                     TE - AccidentIncident - traffic hazard On I10 / W BASELINE RD [ES                                                     TE between I10 and W BASELINE RD",
           "I10 / W BASELINE RD [ES                                                     TE"
          ],
          [
           "East",
           "Disabled vehicle on the right shoulder on I-10 Eastbound  near   Baseline Rd (MP 155)   ",
           "I-10"
          ],
          [
           "West",
           "Dead animal near roadway on I-10 Westbound  near   E Ray Rd (MP 160)   ",
           "I-10"
          ],
          [
           "West",
           "Disabled vehicle on the right shoulder on I-10 Westbound  near   E University Dr (MP 151)   ",
           "I-10"
          ],
          [
           "West",
           "Disabled vehicle on the right shoulder on I-10 Westbound  near   E Elliot Rd (MP 157)   ",
           "I-10"
          ],
          [
           null,
           "I10 / W SOUTHERN AVE                                                        TE - AccidentIncident - disabled vehicle On I10 / W SOUTHERN AVE                                                        TE between I10 and W SOUTHERN AVE",
           "I10 / W SOUTHERN AVE                                                        TE"
          ],
          [
           "East",
           "Debris blocking the right lanes on I-10 Eastbound  near   S 40th St (MP 152)   ",
           "I-10"
          ],
          [
           "West",
           "Crash on the left shoulder on I-10 Westbound  near   24th St (MP 150)   ",
           "I-10"
          ],
          [
           "East",
           "Debris blocking the right lane on I-10 Eastbound  near   E Warner Rd (MP 159)   ",
           "I-10"
          ],
          [
           "East",
           "Debris blocking the left lane on I-10 Eastbound  near   32nd St (MP 151)   ",
           "I-10"
          ],
          [
           "West",
           "Dead animal near roadway on I-10 Westbound  near   E Elliot Rd (MP 157)   ",
           "I-10"
          ],
          [
           null,
           "W BASELINE RD / I10                                                         TE - AccidentIncident - accident On W BASELINE RD / I10                                                         TE between I10 and W BASELINE RD",
           "W BASELINE RD / I10                                                         TE"
          ],
          [
           "West",
           "Disabled vehicle blocking the center lane on I-10 Westbound  near   24th St (MP 150)   ",
           "I-10"
          ],
          [
           "East",
           "Disabled vehicle on the right shoulder on I-10 Eastbound  near   S 24th St (MP 151)   ",
           "I-10"
          ],
          [
           "West",
           "Disabled vehicle on the right shoulder on I-10 Westbound  near   24th St (MP 150)   ",
           "I-10"
          ],
          [
           "East",
           "Disabled vehicle on the right shoulder on I-10 Eastbound  near   S 24th St (MP 150)   ",
           "I-10"
          ],
          [
           "East",
           "Crash on the right shoulder on I-10 Eastbound  near   Ray Rd (MP 160)   ",
           "I-10"
          ],
          [
           "West",
           "Disabled vehicle on the right shoulder on I-10 Westbound  near   E Elliot Rd (MP 157)   ",
           "I-10"
          ],
          [
           "West",
           "Traffic signal issue on I-10 Westbound  near   Arizona Veterans Memorial Hwy (MP 150)   ",
           "I-10"
          ],
          [
           "East",
           "ITS equipment damage on I-10 Eastbound  near   Hohokam Expy (MP 154)   ",
           "I-10"
          ],
          [
           "East",
           "Infrastructure damage on I-10 Eastbound  near   Superstition Fwy (MP 156)   ",
           "I-10"
          ],
          [
           "East",
           "Crash in the median on I-10 Eastbound  near   202-LOOP HOV Eastbound (MP 161)   ",
           "I-10"
          ],
          [
           "West",
           "Crash in the median on I-10 Westbound  near   202-LOOP Westbound (MP 161)   ",
           "I-10"
          ],
          [
           "East",
           "Crash on the left shoulder on I-10 Eastbound  near   32nd St (MP 151)   ",
           "I-10"
          ],
          [
           "West",
           "Debris on the left shoulder on I-10 Westbound  near   24th St (MP 150)   ",
           "I-10"
          ],
          [
           null,
           "I10 @ W BASELINE RD SB OF ,TMP - AccidentIncident - injury accident",
           "I10 @ W BASELINE RD SB OF ,TMP"
          ],
          [
           "East",
           "Disabled vehicle on the left shoulder on I-10 Eastbound  near   Baseline Rd (MP 156)   ",
           "I-10"
          ],
          [
           "East",
           "Disabled vehicle blocking the exit ramp on I-10 Eastbound  near   Elliot Rd (MP 157)   ",
           "I-10"
          ],
          [
           "West",
           "Disabled vehicle on the left shoulder on I-10 Westbound  near   202-LOOP Westbound (MP 161)   ",
           "I-10"
          ],
          [
           "West",
           "Crash on the right shoulder on I-10 Westbound  near   Ray Rd (MP 160)   ",
           "I-10"
          ],
          [
           "West",
           "Disabled vehicle on the right shoulder on I-10 Westbound  near   E University Dr (MP 151)   ",
           "I-10"
          ],
          [
           "West",
           "ITS equipment damage on I-10 Westbound  near   Superstition Fwy (MP 155)   ",
           "I-10"
          ],
          [
           "East",
           "Disabled vehicle on the right shoulder on I-10 Eastbound  near   Hohokam Expy (MP 154)   ",
           "I-10"
          ],
          [
           "East",
           "Rough road due to potholes on I-10 Eastbound  near   Hohokam Expy (MP 154)   ",
           "I-10"
          ]
         ],
         "hovertemplate": "EventType=accidentsAndIncidents<br>Latitude=%{lat}<br>Longitude=%{lon}<br>DirectionOfTravel=%{customdata[0]}<br>Description=%{customdata[1]}<br>RoadwayName=%{customdata[2]}<extra></extra>",
         "lat": [
          33.4107913445965,
          33.3457896889813,
          33.3457896889813,
          33.331200150968,
          33.4254892033632,
          33.3606895543767,
          33.387344,
          33.4135714204425,
          33.4108040647673,
          33.3327901296008,
          33.297836,
          33.4262193923079,
          33.4254892033632,
          33.4047218133209,
          33.41112,
          33.4044988,
          33.3492770115606,
          33.3327901296008,
          33.4071844460926,
          33.4044988,
          33.4144690845362,
          33.4110600000001,
          33.4110600000001,
          33.4113999173975,
          33.3060087207162,
          33.4254892033632,
          33.4044988,
          33.4044988,
          33.41112,
          33.4044988,
          33.3327291390222,
          33.3931876150084,
          33.3917364889306,
          33.4157678396127,
          33.4107223248959,
          33.378606666715,
          33.4044988,
          33.3844430200244,
          33.410534015544,
          33.3605770085628,
          33.3605770085628,
          33.4071844460926,
          33.3670023793983,
          33.426830269663,
          33.3492770115606,
          33.3492770115606,
          33.3148096139548,
          33.3492770115606,
          33.375223,
          33.3492770115606,
          33.4110600000001,
          33.4002506353591,
          33.41112,
          33.3327901296008,
          33.4004896288355,
          33.4157678396127,
          33.4242511854867,
          33.4156237016577,
          33.41083,
          33.4228999139156,
          33.4212878370161,
          33.4254892033632,
          33.3844811309771,
          33.4107913445965,
          33.375223,
          33.4107223248959,
          33.4100731488052,
          33.4144690845362,
          33.4270782999686,
          33.3210417678461,
          33.3210417678461,
          33.3605770085628,
          33.4110600000001,
          33.4146202702701,
          33.3210417678461,
          33.4106379045093,
          33.4047218133209,
          33.3844811309771,
          33.393148,
          33.3605770085628,
          33.4111100000001,
          33.4108040647673,
          33.4002506353591,
          33.3210417678461,
          33.4262193923079,
          33.378606666715,
          33.4156237016577,
          33.41112,
          33.426830269663,
          33.4107223248959,
          33.41083,
          33.41083,
          33.4107913445965,
          33.4212878370161,
          33.4228999139156,
          33.4169557760553,
          33.4228999139156,
          33.41112,
          33.4247253055173,
          33.3520388648649,
          33.3606895543767,
          33.331200150968,
          33.3148096139548,
          33.4111100000001,
          33.426830269663,
          33.3210099262473,
          33.3210417678461,
          33.3491839384615,
          33.297836,
          33.3210099262473,
          33.3492770115606,
          33.3902459400167,
          33.3492770115606,
          33.3606895543767,
          33.3605770085628,
          33.375223,
          33.3327901296008,
          33.3370818299629,
          33.3605770085628,
          33.3477436830677,
          33.4002506353591,
          33.3210099262473,
          33.4107913445965,
          33.3060087207162,
          33.4146202702701,
          33.4047218133209,
          33.405687311629,
          33.4047218133209,
          33.3145184714,
          33.4004896288355,
          33.4242511854867,
          33.4047218133209,
          33.4071844460926,
          33.4254892033632,
          33.3210099262473,
          33.4107223248959,
          33.3458470822943,
          33.4157678396127,
          33.3457896889813,
          33.4254892033632,
          33.41083,
          33.410534015544,
          33.4254892033632,
          33.331200150968,
          33.4111100000001,
          33.4157678396127,
          33.4144690845362,
          33.4153146962843,
          33.3782069754836,
          33.4144690845362,
          33.4168103463397,
          33.3931876150084,
          33.3370818299629,
          33.375223,
          33.393148,
          33.4004896288355,
          33.426830269663,
          33.4057683125271,
          33.4071844460926,
          33.3902459400167,
          33.375223,
          33.4107913445965,
          33.4004896288355,
          33.4168103463397,
          33.375223,
          33.3844811309771,
          33.3493366384687,
          33.3327291390222,
          33.41112,
          33.411117996454,
          33.4110600000001,
          33.4110600000001,
          33.4047218133209,
          33.4047218133209,
          33.4071844460926,
          33.4144690845362,
          33.3844430200244,
          33.4169557760553,
          33.4110600000001,
          33.3492770115606,
          33.3493366384687,
          33.4254892033632,
          33.378606666715,
          33.41083,
          33.4107913445965,
          33.4242511854867,
          33.3060087207162,
          33.4071844460926,
          33.4107913445965,
          33.375223,
          33.3665312833442,
          33.3821168891413,
          33.4069825644783,
          33.4106379045093,
          33.3917364889306,
          33.3929316290215,
          33.3917329331533,
          33.4262193923079,
          33.4071844460926,
          33.426830269663,
          33.4110600000001,
          33.426830269663,
          33.3606895543767,
          33.4069825644783,
          33.3869187899791,
          33.4242511854867,
          33.426830269663,
          33.4146202702701,
          33.4047218133209,
          33.375223,
          33.3782069754836,
          33.4228999139156,
          33.4110839494339,
          33.4110600000001,
          33.4156237016577,
          33.4071844460926,
          33.3931876150084,
          33.3161677988956,
          33.4270067073172,
          33.3161677988956,
          33.3844811309771,
          33.3878190722524,
          33.4169557760553,
          33.4168103463397,
          33.4071844460926,
          33.3606895543767,
          33.314716,
          33.3844430200244,
          33.3161677988956,
          33.3492770115606,
          33.3492770115606,
          33.3492770115606,
          33.3148096139548,
          33.4262193923079,
          33.41112,
          33.3161677988956,
          33.3210417678461,
          33.4212878370161,
          33.3492770115606,
          33.3406398440782,
          33.3343955017581,
          33.3492770115606,
          33.3343955017581,
          33.3458470822943,
          33.3606895543767,
          33.4110600000001,
          33.3492770115606,
          33.4168103463397,
          33.4047218133209,
          33.3343955017581,
          33.3844811309771,
          33.375223,
          33.3491839384615,
          33.4110600000001,
          33.4212878370161,
          33.3917364889306,
          33.3782375067325,
          33.3782375067325,
          33.3457896889813,
          33.3606895543767,
          33.3698982028857,
          33.4146202702701,
          33.4146202702701,
          33.4212878370161,
          33.4071844460926,
          33.3902852209167,
          33.3492770115606,
          33.3606895543767,
          33.3492770115606,
          33.4212878370161,
          33.3782375067325,
          33.4111100000001,
          33.3491839384615,
          33.3917364889306,
          33.4110600000001,
          33.410992685157,
          33.3490338090142,
          33.4088226703259,
          33.375223,
          33.426830269663,
          33.4262193923079,
          33.393148,
          33.4254892033632,
          33.4111100000001,
          33.3492770115606,
          33.3327291390222,
          33.4004896288355,
          33.4254892033632,
          33.4107913445965,
          33.4228999139156,
          33.3343955017581,
          33.3327901296008,
          33.4169557760553,
          33.3605770085628,
          33.4228999139156,
          33.4212878370161,
          33.4242511854867,
          33.4228999139156,
          33.4088226703259,
          33.3782375067325,
          33.378606666715,
          33.426830269663,
          33.4002506353591,
          33.3782375067325,
          33.3931876150084,
          33.4069825644783,
          33.3931876150084,
          33.426830269663,
          33.4262193923079,
          33.3161677988956,
          33.4111100000001,
          33.3343955017581,
          33.4228999139156,
          33.4228999139156,
          33.3782375067325,
          33.4169557760553,
          33.4002506353591,
          33.3782375067325,
          33.4088226703259,
          33.3061017625544,
          33.393148,
          33.4262193923079,
          33.410992685157,
          33.4033679753846,
          33.410992685157,
          33.3356308508255,
          33.3210417678461,
          33.3606895543767,
          33.3782375067325,
          33.3931876150084,
          33.3210099262473,
          33.4157678396127,
          33.3605770085628,
          33.3928179810027,
          33.4107913445965,
          33.426830269663,
          33.331200150968,
          33.4168103463397,
          33.3605770085628,
          33.3782375067325,
          33.4254892033632,
          33.4212878370161,
          33.4228999139156,
          33.4262193923079,
          33.3210417678461,
          33.3605770085628,
          33.4278088196229,
          33.4069825644783,
          33.378606666715,
          33.3021880735849,
          33.3021651340789,
          33.4156237016577,
          33.4228999139156,
          33.3798399368243,
          33.3844811309771,
          33.3606895543767,
          33.3021651340789,
          33.3161677988956,
          33.4169557760553,
          33.393148,
          33.4069825644783,
          33.4069825644783
         ],
         "legendgroup": "accidentsAndIncidents",
         "lon": [
          -111.995027134887,
          -111.972038380042,
          -111.972038380042,
          -111.972342330238,
          -112.025898254986,
          -111.969555883289,
          -111.96757,
          -112.013036417281,
          -111.993297191653,
          -111.972346492486,
          -111.97249,
          -112.028764438462,
          -112.025898254986,
          -111.96830162758,
          -111.984338,
          -111.9685644,
          -111.972025075145,
          -111.972346492486,
          -111.970108459597,
          -111.9685644,
          -112.014512459794,
          -111.995005,
          -111.995005,
          -111.998164871832,
          -111.972059222498,
          -112.025898254986,
          -111.9685644,
          -111.9685644,
          -111.984338,
          -111.9685644,
          -111.972060887521,
          -111.967815355649,
          -111.967841691932,
          -112.015292034446,
          -112.001946333227,
          -111.968111445781,
          -111.9685644,
          -111.967646787626,
          -111.975761259067,
          -111.969301169868,
          -111.969301169868,
          -111.970108459597,
          -111.968468138705,
          -112.030807831461,
          -111.972025075145,
          -111.972025075145,
          -111.972403194166,
          -111.972025075145,
          -111.96784,
          -111.972025075145,
          -111.995005,
          -111.967572071823,
          -111.984338,
          -111.972346492486,
          -111.967272699445,
          -112.015292034446,
          -112.024179359496,
          -112.015595331492,
          -111.984381,
          -112.021728019188,
          -112.020425191966,
          -112.025898254986,
          -111.967947060291,
          -111.995027134887,
          -111.96784,
          -112.001946333227,
          -111.975399163236,
          -112.014512459794,
          -112.03223310697,
          -111.972385122921,
          -111.972385122921,
          -111.969301169868,
          -111.995005,
          -112.014238378378,
          -111.972385122921,
          -111.97746868435,
          -111.96830162758,
          -111.967947060291,
          -111.96741,
          -111.969301169868,
          -111.986068,
          -111.993297191653,
          -111.967572071823,
          -111.972385122921,
          -112.028764438462,
          -111.968111445781,
          -112.015595331492,
          -111.984338,
          -112.030807831461,
          -112.001946333227,
          -111.984381,
          -111.986111,
          -111.995027134887,
          -112.020425191966,
          -112.021728019188,
          -112.016304711254,
          -112.021728019188,
          -111.984338,
          -112.024420793793,
          -111.971330189189,
          -111.969555883289,
          -111.972342330238,
          -111.972403194166,
          -111.986068,
          -112.030807831461,
          -111.97212145987,
          -111.972385122921,
          -111.971739507692,
          -111.97249,
          -111.97212145987,
          -111.972025075145,
          -111.967492401,
          -111.972025075145,
          -111.969555883289,
          -111.969301169868,
          -111.96784,
          -111.972346492486,
          -111.97207025464,
          -111.969301169868,
          -111.971345249081,
          -111.967572071823,
          -111.97212145987,
          -111.995027134887,
          -111.972059222498,
          -112.014238378378,
          -111.96830162758,
          -111.968839907693,
          -111.96830162758,
          -111.972408861537,
          -111.967272699445,
          -112.024179359496,
          -111.96830162758,
          -111.970108459597,
          -112.025898254986,
          -111.97212145987,
          -112.001946333227,
          -111.972291645885,
          -112.015292034446,
          -111.972038380042,
          -112.025898254986,
          -111.984381,
          -111.975761259067,
          -112.025898254986,
          -111.972342330238,
          -111.986068,
          -112.015292034446,
          -112.014512459794,
          -112.015402448682,
          -111.968605550248,
          -112.014512459794,
          -112.016602460768,
          -111.967815355649,
          -111.97207025464,
          -111.96784,
          -111.96741,
          -111.967272699445,
          -112.030807831461,
          -111.96854889983,
          -111.970108459597,
          -111.967492401,
          -111.96784,
          -111.995027134887,
          -111.967272699445,
          -112.016602460768,
          -111.96784,
          -111.967947060291,
          -111.971995289485,
          -111.972060887521,
          -111.984338,
          -111.989909617877,
          -111.995005,
          -111.995005,
          -111.96830162758,
          -111.96830162758,
          -111.970108459597,
          -112.014512459794,
          -111.967646787626,
          -112.016304711254,
          -111.995005,
          -111.972025075145,
          -111.971995289485,
          -112.025898254986,
          -111.968111445781,
          -111.984381,
          -111.995027134887,
          -112.024179359496,
          -111.972059222498,
          -111.970108459597,
          -111.995027134887,
          -111.96784,
          -111.968231654847,
          -111.967742573534,
          -111.97034096599,
          -111.97746868435,
          -111.967841691932,
          -111.967764712798,
          -111.967454083727,
          -112.028764438462,
          -111.970108459597,
          -112.030807831461,
          -111.995005,
          -112.030807831461,
          -111.969555883289,
          -111.97034096599,
          -111.96595358019,
          -112.024179359496,
          -112.030807831461,
          -112.014238378378,
          -111.96830162758,
          -111.96784,
          -111.968605550248,
          -112.021728019188,
          -111.99533478197,
          -111.995005,
          -112.015595331492,
          -111.970108459597,
          -111.967815355649,
          -111.972114204318,
          -112.032200365854,
          -111.972114204318,
          -111.967947060291,
          -111.964174929719,
          -112.016304711254,
          -112.016602460768,
          -111.970108459597,
          -111.969555883289,
          -111.9721,
          -111.967646787626,
          -111.972114204318,
          -111.972025075145,
          -111.972025075145,
          -111.972025075145,
          -111.972403194166,
          -112.028764438462,
          -111.984338,
          -111.972114204318,
          -111.972385122921,
          -112.020425191966,
          -111.972025075145,
          -111.972390191501,
          -111.972230827145,
          -111.972025075145,
          -111.972230827145,
          -111.972291645885,
          -111.969555883289,
          -111.995005,
          -111.972025075145,
          -112.016602460768,
          -111.96830162758,
          -111.972230827145,
          -111.967947060291,
          -111.96784,
          -111.971739507692,
          -111.995005,
          -112.020425191966,
          -111.967841691932,
          -111.967993469997,
          -111.967993469997,
          -111.972038380042,
          -111.969555883289,
          -111.968221898335,
          -112.014238378378,
          -112.014238378378,
          -112.020425191966,
          -111.970108459597,
          -111.967862440671,
          -111.972025075145,
          -111.969555883289,
          -111.972025075145,
          -112.020425191966,
          -111.967993469997,
          -111.986068,
          -111.971739507692,
          -111.967841691932,
          -111.995005,
          -112.001922502286,
          -111.971909368607,
          -111.97242563323,
          -111.96784,
          -112.030807831461,
          -112.028764438462,
          -111.96741,
          -112.025898254986,
          -111.986068,
          -111.972025075145,
          -111.972060887521,
          -111.967272699445,
          -112.025898254986,
          -111.995027134887,
          -112.021728019188,
          -111.972230827145,
          -111.972346492486,
          -112.016304711254,
          -111.969301169868,
          -112.021728019188,
          -112.020425191966,
          -112.024179359496,
          -112.021728019188,
          -111.97242563323,
          -111.967993469997,
          -111.968111445781,
          -112.030807831461,
          -111.967572071823,
          -111.967993469997,
          -111.967815355649,
          -111.97034096599,
          -111.967815355649,
          -112.030807831461,
          -112.028764438462,
          -111.972114204318,
          -111.986068,
          -111.972230827145,
          -112.021728019188,
          -112.021728019188,
          -111.967993469997,
          -112.016304711254,
          -111.967572071823,
          -111.967993469997,
          -111.97242563323,
          -111.972331707983,
          -111.96741,
          -112.028764438462,
          -112.001922502286,
          -111.967683403077,
          -112.001922502286,
          -111.972058646807,
          -111.972385122921,
          -111.969555883289,
          -111.967993469997,
          -111.967815355649,
          -111.97212145987,
          -112.015292034446,
          -111.969301169868,
          -111.967677669982,
          -111.995027134887,
          -112.030807831461,
          -111.972342330238,
          -112.016602460768,
          -111.969301169868,
          -111.967993469997,
          -112.025898254986,
          -112.020425191966,
          -112.021728019188,
          -112.028764438462,
          -111.972385122921,
          -111.969301169868,
          -112.035851234885,
          -111.97034096599,
          -111.968111445781,
          -111.972442692453,
          -111.971950706133,
          -112.015595331492,
          -112.021728019188,
          -111.968534569028,
          -111.967947060291,
          -111.969555883289,
          -111.971950706133,
          -111.972114204318,
          -112.016304711254,
          -111.96741,
          -111.97034096599,
          -111.97034096599
         ],
         "marker": {
          "color": "#00cc96"
         },
         "mode": "markers",
         "name": "accidentsAndIncidents",
         "showlegend": true,
         "subplot": "map",
         "type": "scattermap"
        }
       ],
       "layout": {
        "legend": {
         "title": {
          "text": "EventType"
         },
         "tracegroupgap": 0
        },
        "map": {
         "center": {
          "lat": 33.38633370454584,
          "lon": -111.98607856263963
         },
         "domain": {
          "x": [
           0,
           1
          ],
          "y": [
           0,
           1
          ]
         },
         "zoom": 11
        },
        "mapbox": {
         "center": {
          "lat": 33.38633370454584,
          "lon": -111.98607856263963
         },
         "zoom": 11
        },
        "template": {
         "data": {
          "bar": [
           {
            "error_x": {
             "color": "#2a3f5f"
            },
            "error_y": {
             "color": "#2a3f5f"
            },
            "marker": {
             "line": {
              "color": "#E5ECF6",
              "width": 0.5
             },
             "pattern": {
              "fillmode": "overlay",
              "size": 10,
              "solidity": 0.2
             }
            },
            "type": "bar"
           }
          ],
          "barpolar": [
           {
            "marker": {
             "line": {
              "color": "#E5ECF6",
              "width": 0.5
             },
             "pattern": {
              "fillmode": "overlay",
              "size": 10,
              "solidity": 0.2
             }
            },
            "type": "barpolar"
           }
          ],
          "carpet": [
           {
            "aaxis": {
             "endlinecolor": "#2a3f5f",
             "gridcolor": "white",
             "linecolor": "white",
             "minorgridcolor": "white",
             "startlinecolor": "#2a3f5f"
            },
            "baxis": {
             "endlinecolor": "#2a3f5f",
             "gridcolor": "white",
             "linecolor": "white",
             "minorgridcolor": "white",
             "startlinecolor": "#2a3f5f"
            },
            "type": "carpet"
           }
          ],
          "choropleth": [
           {
            "colorbar": {
             "outlinewidth": 0,
             "ticks": ""
            },
            "type": "choropleth"
           }
          ],
          "contour": [
           {
            "colorbar": {
             "outlinewidth": 0,
             "ticks": ""
            },
            "colorscale": [
             [
              0,
              "#0d0887"
             ],
             [
              0.1111111111111111,
              "#46039f"
             ],
             [
              0.2222222222222222,
              "#7201a8"
             ],
             [
              0.3333333333333333,
              "#9c179e"
             ],
             [
              0.4444444444444444,
              "#bd3786"
             ],
             [
              0.5555555555555556,
              "#d8576b"
             ],
             [
              0.6666666666666666,
              "#ed7953"
             ],
             [
              0.7777777777777778,
              "#fb9f3a"
             ],
             [
              0.8888888888888888,
              "#fdca26"
             ],
             [
              1,
              "#f0f921"
             ]
            ],
            "type": "contour"
           }
          ],
          "contourcarpet": [
           {
            "colorbar": {
             "outlinewidth": 0,
             "ticks": ""
            },
            "type": "contourcarpet"
           }
          ],
          "heatmap": [
           {
            "colorbar": {
             "outlinewidth": 0,
             "ticks": ""
            },
            "colorscale": [
             [
              0,
              "#0d0887"
             ],
             [
              0.1111111111111111,
              "#46039f"
             ],
             [
              0.2222222222222222,
              "#7201a8"
             ],
             [
              0.3333333333333333,
              "#9c179e"
             ],
             [
              0.4444444444444444,
              "#bd3786"
             ],
             [
              0.5555555555555556,
              "#d8576b"
             ],
             [
              0.6666666666666666,
              "#ed7953"
             ],
             [
              0.7777777777777778,
              "#fb9f3a"
             ],
             [
              0.8888888888888888,
              "#fdca26"
             ],
             [
              1,
              "#f0f921"
             ]
            ],
            "type": "heatmap"
           }
          ],
          "heatmapgl": [
           {
            "colorbar": {
             "outlinewidth": 0,
             "ticks": ""
            },
            "colorscale": [
             [
              0,
              "#0d0887"
             ],
             [
              0.1111111111111111,
              "#46039f"
             ],
             [
              0.2222222222222222,
              "#7201a8"
             ],
             [
              0.3333333333333333,
              "#9c179e"
             ],
             [
              0.4444444444444444,
              "#bd3786"
             ],
             [
              0.5555555555555556,
              "#d8576b"
             ],
             [
              0.6666666666666666,
              "#ed7953"
             ],
             [
              0.7777777777777778,
              "#fb9f3a"
             ],
             [
              0.8888888888888888,
              "#fdca26"
             ],
             [
              1,
              "#f0f921"
             ]
            ],
            "type": "heatmapgl"
           }
          ],
          "histogram": [
           {
            "marker": {
             "pattern": {
              "fillmode": "overlay",
              "size": 10,
              "solidity": 0.2
             }
            },
            "type": "histogram"
           }
          ],
          "histogram2d": [
           {
            "colorbar": {
             "outlinewidth": 0,
             "ticks": ""
            },
            "colorscale": [
             [
              0,
              "#0d0887"
             ],
             [
              0.1111111111111111,
              "#46039f"
             ],
             [
              0.2222222222222222,
              "#7201a8"
             ],
             [
              0.3333333333333333,
              "#9c179e"
             ],
             [
              0.4444444444444444,
              "#bd3786"
             ],
             [
              0.5555555555555556,
              "#d8576b"
             ],
             [
              0.6666666666666666,
              "#ed7953"
             ],
             [
              0.7777777777777778,
              "#fb9f3a"
             ],
             [
              0.8888888888888888,
              "#fdca26"
             ],
             [
              1,
              "#f0f921"
             ]
            ],
            "type": "histogram2d"
           }
          ],
          "histogram2dcontour": [
           {
            "colorbar": {
             "outlinewidth": 0,
             "ticks": ""
            },
            "colorscale": [
             [
              0,
              "#0d0887"
             ],
             [
              0.1111111111111111,
              "#46039f"
             ],
             [
              0.2222222222222222,
              "#7201a8"
             ],
             [
              0.3333333333333333,
              "#9c179e"
             ],
             [
              0.4444444444444444,
              "#bd3786"
             ],
             [
              0.5555555555555556,
              "#d8576b"
             ],
             [
              0.6666666666666666,
              "#ed7953"
             ],
             [
              0.7777777777777778,
              "#fb9f3a"
             ],
             [
              0.8888888888888888,
              "#fdca26"
             ],
             [
              1,
              "#f0f921"
             ]
            ],
            "type": "histogram2dcontour"
           }
          ],
          "mesh3d": [
           {
            "colorbar": {
             "outlinewidth": 0,
             "ticks": ""
            },
            "type": "mesh3d"
           }
          ],
          "parcoords": [
           {
            "line": {
             "colorbar": {
              "outlinewidth": 0,
              "ticks": ""
             }
            },
            "type": "parcoords"
           }
          ],
          "pie": [
           {
            "automargin": true,
            "type": "pie"
           }
          ],
          "scatter": [
           {
            "fillpattern": {
             "fillmode": "overlay",
             "size": 10,
             "solidity": 0.2
            },
            "type": "scatter"
           }
          ],
          "scatter3d": [
           {
            "line": {
             "colorbar": {
              "outlinewidth": 0,
              "ticks": ""
             }
            },
            "marker": {
             "colorbar": {
              "outlinewidth": 0,
              "ticks": ""
             }
            },
            "type": "scatter3d"
           }
          ],
          "scattercarpet": [
           {
            "marker": {
             "colorbar": {
              "outlinewidth": 0,
              "ticks": ""
             }
            },
            "type": "scattercarpet"
           }
          ],
          "scattergeo": [
           {
            "marker": {
             "colorbar": {
              "outlinewidth": 0,
              "ticks": ""
             }
            },
            "type": "scattergeo"
           }
          ],
          "scattergl": [
           {
            "marker": {
             "colorbar": {
              "outlinewidth": 0,
              "ticks": ""
             }
            },
            "type": "scattergl"
           }
          ],
          "scattermapbox": [
           {
            "marker": {
             "colorbar": {
              "outlinewidth": 0,
              "ticks": ""
             }
            },
            "type": "scattermapbox"
           }
          ],
          "scatterpolar": [
           {
            "marker": {
             "colorbar": {
              "outlinewidth": 0,
              "ticks": ""
             }
            },
            "type": "scatterpolar"
           }
          ],
          "scatterpolargl": [
           {
            "marker": {
             "colorbar": {
              "outlinewidth": 0,
              "ticks": ""
             }
            },
            "type": "scatterpolargl"
           }
          ],
          "scatterternary": [
           {
            "marker": {
             "colorbar": {
              "outlinewidth": 0,
              "ticks": ""
             }
            },
            "type": "scatterternary"
           }
          ],
          "surface": [
           {
            "colorbar": {
             "outlinewidth": 0,
             "ticks": ""
            },
            "colorscale": [
             [
              0,
              "#0d0887"
             ],
             [
              0.1111111111111111,
              "#46039f"
             ],
             [
              0.2222222222222222,
              "#7201a8"
             ],
             [
              0.3333333333333333,
              "#9c179e"
             ],
             [
              0.4444444444444444,
              "#bd3786"
             ],
             [
              0.5555555555555556,
              "#d8576b"
             ],
             [
              0.6666666666666666,
              "#ed7953"
             ],
             [
              0.7777777777777778,
              "#fb9f3a"
             ],
             [
              0.8888888888888888,
              "#fdca26"
             ],
             [
              1,
              "#f0f921"
             ]
            ],
            "type": "surface"
           }
          ],
          "table": [
           {
            "cells": {
             "fill": {
              "color": "#EBF0F8"
             },
             "line": {
              "color": "white"
             }
            },
            "header": {
             "fill": {
              "color": "#C8D4E3"
             },
             "line": {
              "color": "white"
             }
            },
            "type": "table"
           }
          ]
         },
         "layout": {
          "annotationdefaults": {
           "arrowcolor": "#2a3f5f",
           "arrowhead": 0,
           "arrowwidth": 1
          },
          "autotypenumbers": "strict",
          "coloraxis": {
           "colorbar": {
            "outlinewidth": 0,
            "ticks": ""
           }
          },
          "colorscale": {
           "diverging": [
            [
             0,
             "#8e0152"
            ],
            [
             0.1,
             "#c51b7d"
            ],
            [
             0.2,
             "#de77ae"
            ],
            [
             0.3,
             "#f1b6da"
            ],
            [
             0.4,
             "#fde0ef"
            ],
            [
             0.5,
             "#f7f7f7"
            ],
            [
             0.6,
             "#e6f5d0"
            ],
            [
             0.7,
             "#b8e186"
            ],
            [
             0.8,
             "#7fbc41"
            ],
            [
             0.9,
             "#4d9221"
            ],
            [
             1,
             "#276419"
            ]
           ],
           "sequential": [
            [
             0,
             "#0d0887"
            ],
            [
             0.1111111111111111,
             "#46039f"
            ],
            [
             0.2222222222222222,
             "#7201a8"
            ],
            [
             0.3333333333333333,
             "#9c179e"
            ],
            [
             0.4444444444444444,
             "#bd3786"
            ],
            [
             0.5555555555555556,
             "#d8576b"
            ],
            [
             0.6666666666666666,
             "#ed7953"
            ],
            [
             0.7777777777777778,
             "#fb9f3a"
            ],
            [
             0.8888888888888888,
             "#fdca26"
            ],
            [
             1,
             "#f0f921"
            ]
           ],
           "sequentialminus": [
            [
             0,
             "#0d0887"
            ],
            [
             0.1111111111111111,
             "#46039f"
            ],
            [
             0.2222222222222222,
             "#7201a8"
            ],
            [
             0.3333333333333333,
             "#9c179e"
            ],
            [
             0.4444444444444444,
             "#bd3786"
            ],
            [
             0.5555555555555556,
             "#d8576b"
            ],
            [
             0.6666666666666666,
             "#ed7953"
            ],
            [
             0.7777777777777778,
             "#fb9f3a"
            ],
            [
             0.8888888888888888,
             "#fdca26"
            ],
            [
             1,
             "#f0f921"
            ]
           ]
          },
          "colorway": [
           "#636efa",
           "#EF553B",
           "#00cc96",
           "#ab63fa",
           "#FFA15A",
           "#19d3f3",
           "#FF6692",
           "#B6E880",
           "#FF97FF",
           "#FECB52"
          ],
          "font": {
           "color": "#2a3f5f"
          },
          "geo": {
           "bgcolor": "white",
           "lakecolor": "white",
           "landcolor": "#E5ECF6",
           "showlakes": true,
           "showland": true,
           "subunitcolor": "white"
          },
          "hoverlabel": {
           "align": "left"
          },
          "hovermode": "closest",
          "mapbox": {
           "style": "light"
          },
          "paper_bgcolor": "white",
          "plot_bgcolor": "#E5ECF6",
          "polar": {
           "angularaxis": {
            "gridcolor": "white",
            "linecolor": "white",
            "ticks": ""
           },
           "bgcolor": "#E5ECF6",
           "radialaxis": {
            "gridcolor": "white",
            "linecolor": "white",
            "ticks": ""
           }
          },
          "scene": {
           "xaxis": {
            "backgroundcolor": "#E5ECF6",
            "gridcolor": "white",
            "gridwidth": 2,
            "linecolor": "white",
            "showbackground": true,
            "ticks": "",
            "zerolinecolor": "white"
           },
           "yaxis": {
            "backgroundcolor": "#E5ECF6",
            "gridcolor": "white",
            "gridwidth": 2,
            "linecolor": "white",
            "showbackground": true,
            "ticks": "",
            "zerolinecolor": "white"
           },
           "zaxis": {
            "backgroundcolor": "#E5ECF6",
            "gridcolor": "white",
            "gridwidth": 2,
            "linecolor": "white",
            "showbackground": true,
            "ticks": "",
            "zerolinecolor": "white"
           }
          },
          "shapedefaults": {
           "line": {
            "color": "#2a3f5f"
           }
          },
          "ternary": {
           "aaxis": {
            "gridcolor": "white",
            "linecolor": "white",
            "ticks": ""
           },
           "baxis": {
            "gridcolor": "white",
            "linecolor": "white",
            "ticks": ""
           },
           "bgcolor": "#E5ECF6",
           "caxis": {
            "gridcolor": "white",
            "linecolor": "white",
            "ticks": ""
           }
          },
          "title": {
           "x": 0.05
          },
          "xaxis": {
           "automargin": true,
           "gridcolor": "white",
           "linecolor": "white",
           "ticks": "",
           "title": {
            "standoff": 15
           },
           "zerolinecolor": "white",
           "zerolinewidth": 2
          },
          "yaxis": {
           "automargin": true,
           "gridcolor": "white",
           "linecolor": "white",
           "ticks": "",
           "title": {
            "standoff": 15
           },
           "zerolinecolor": "white",
           "zerolinewidth": 2
          }
         }
        },
        "title": {
         "text": "I-10 Broadway Curve Events"
        }
       }
      }
     },
     "metadata": {},
     "output_type": "display_data"
    }
   ],
   "source": [
    "# Simple scatter plot of events\n",
    "fig = px.scatter_map(\n",
    "    df_bw,\n",
    "    lat='Latitude',\n",
    "    lon='Longitude',\n",
    "    color='EventType',\n",
    "    hover_data=['DirectionOfTravel', 'Description', 'RoadwayName'],\n",
    "    center=dict(lat=df_bw[\"Latitude\"].mean(), lon=df_bw[\"Longitude\"].mean()),\n",
    "    zoom=11,\n",
    "    title='I-10 Broadway Curve Events'\n",
    ")\n",
    "fig.show()"
   ]
  },
  {
   "cell_type": "markdown",
   "metadata": {},
   "source": [
    "## 5. Export Filtered Data"
   ]
  },
  {
   "cell_type": "code",
   "execution_count": 21,
   "metadata": {},
   "outputs": [
    {
     "name": "stdout",
     "output_type": "stream",
     "text": [
      "Events shape after dropping columns: (438, 23)\n",
      "INRIX shape: (26961419, 6)\n"
     ]
    }
   ],
   "source": [
    "# Drop unnecessary columns from events\n",
    "cols_to_drop = ['EncodedPolyline', 'Width', 'Height', 'Length', 'Weight', 'Speed',\n",
    "                'DetourPolyline', 'DetourInstructions']\n",
    "df_bw = df_bw.drop(columns=[c for c in cols_to_drop if c in df_bw.columns])\n",
    "\n",
    "print(f\"Events shape after dropping columns: {df_bw.shape}\")\n",
    "print(f\"INRIX shape: {df_inrix.shape}\")"
   ]
  },
  {
   "cell_type": "code",
   "execution_count": 22,
   "metadata": {},
   "outputs": [
    {
     "name": "stdout",
     "output_type": "stream",
     "text": [
      "Saved:\n",
      "  events.parquet -> ../database/i10-broadway/events.parquet  rows=438\n",
      "  inrix.parquet  -> ../database/i10-broadway/inrix.parquet  rows=26961419\n",
      "\n",
      "Data exported successfully for training pipeline!\n"
     ]
    }
   ],
   "source": [
    "# Save I-10 Broadway data\n",
    "out_dir = Path('../database/i10-broadway')\n",
    "out_dir.mkdir(parents=True, exist_ok=True)\n",
    "\n",
    "df_bw.to_parquet(out_dir / 'events.parquet', index=False)\n",
    "df_inrix.to_parquet(out_dir / 'inrix.parquet', index=False)\n",
    "\n",
    "print(\"Saved:\")\n",
    "print(f\"  events.parquet -> {out_dir/'events.parquet'}  rows={len(df_bw)}\")\n",
    "print(f\"  inrix.parquet  -> {out_dir/'inrix.parquet'}  rows={len(df_inrix)}\")\n",
    "print(f\"\\nData exported successfully for training pipeline!\")"
   ]
  },
  {
   "cell_type": "markdown",
   "metadata": {},
   "source": [
    "## Summary\n",
    "\n",
    "This notebook successfully:\n",
    "1. ✅ Filtered AZ511 events to I-10 Broadway Curve area (438 events from 2025-06-13 to 2025-11-09)\n",
    "2. ✅ Loaded INRIX traffic data for the overlap period (2025-06-13 to 2025-09-23)\n",
    "3. ✅ Created simplified TMC assignments (without coordinate data)\n",
    "4. ✅ Exported data for the training pipeline\n",
    "\n",
    "### Data Coverage:\n",
    "- **Events**: 438 events (362 accidents, 60 roadwork, 16 closures)\n",
    "- **Time Range**: June 13, 2025 - September 23, 2025 (overlap of event and INRIX data)\n",
    "- **Location**: I-10 Broadway Curve (between Loop 202 and I-17)\n",
    "\n",
    "### Limitations:\n",
    "- TMC assignments are approximate due to missing coordinate data\n",
    "- Spatial matching between events and TMC segments is simplified\n",
    "- Events after 2025-09-23 cannot be matched (INRIX data ends there)\n",
    "\n",
    "### Recommendations:\n",
    "1. Obtain TMC_Identification.csv for I-10 with lat/lon coordinates\n",
    "2. Implement proper distance-based TMC matching (as attempted in original notebook)\n",
    "3. Consider using INRIX XD segment IDs if available from INRIX API\n",
    "4. Acquire INRIX data beyond 2025-09-23 to cover all events"
   ]
  }
 ],
 "metadata": {
  "kernelspec": {
   "display_name": "erdos_ds_environment",
   "language": "python",
   "name": "python3"
  },
  "language_info": {
   "codemirror_mode": {
    "name": "ipython",
    "version": 3
   },
   "file_extension": ".py",
   "mimetype": "text/x-python",
   "name": "python",
   "nbconvert_exporter": "python",
   "pygments_lexer": "ipython3",
   "version": "3.12.11"
  }
 },
 "nbformat": 4,
 "nbformat_minor": 4
}
