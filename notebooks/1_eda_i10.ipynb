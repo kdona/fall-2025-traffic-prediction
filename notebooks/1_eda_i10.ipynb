{
 "cells": [
  {
   "cell_type": "markdown",
   "id": "2e880b33",
   "metadata": {},
   "source": [
    "# I-10 Broadway Curve Incidents - Exploratory Data Analysis\n",
    "\n",
    "## Goals\n",
    "- Preprocess data\n",
    "1. Filter events (accidents and roadwork): keep only those on I-10 between Loop 202 and I-17.\n",
    "2. Filter INRIX data based on time range (manually defined), and geolocation I-10 Broadway Curve\n",
    "3. Filter TMC ...\n",
    "4. Visualize road segments and events on map\n",
    "\n",
    "\n"
   ]
  },
  {
   "cell_type": "code",
   "execution_count": 1,
   "id": "95d63da1",
   "metadata": {},
   "outputs": [
    {
     "data": {
      "text/plain": [
       "PosixPath('../database/az511.db')"
      ]
     },
     "execution_count": 1,
     "metadata": {},
     "output_type": "execute_result"
    }
   ],
   "source": [
    "# Core imports\n",
    "import sqlite3\n",
    "from pathlib import Path\n",
    "from datetime import datetime, timedelta, date\n",
    "import pandas as pd\n",
    "import numpy as np\n",
    "import seaborn as sns\n",
    "import matplotlib.pyplot as plt\n",
    "import plotly.graph_objects as go\n",
    "import random\n",
    "import re\n",
    "\n",
    "# Display all columns\n",
    "pd.set_option('display.max_columns', None)\n",
    "plt.style.use('seaborn-v0_8-whitegrid')\n",
    "plt.rcParams['figure.figsize'] = (12, 6)\n",
    "\n",
    "DB_PATH = Path('../database/az511.db')\n",
    "assert DB_PATH.exists(), f\"Database not found at {DB_PATH}\"\n",
    "DB_PATH"
   ]
  },
  {
   "cell_type": "code",
   "execution_count": 2,
   "id": "1520dcbf",
   "metadata": {},
   "outputs": [
    {
     "name": "stdout",
     "output_type": "stream",
     "text": [
      "Loaded events: (49822, 30)\n"
     ]
    }
   ],
   "source": [
    "# Read all events from az511 database\n",
    "def get_connection():\n",
    "    return sqlite3.connect(DB_PATH)\n",
    "with get_connection() as conn:\n",
    "    events_df = pd.read_sql(\"SELECT * FROM events\", conn)\n",
    "\n",
    "print(f\"Loaded events: {events_df.shape}\")"
   ]
  },
  {
   "cell_type": "code",
   "execution_count": 3,
   "id": "2287cf66",
   "metadata": {},
   "outputs": [
    {
     "name": "stdout",
     "output_type": "stream",
     "text": [
      "Filtered events in I-10 Broadway Curve area: (472, 30)\n",
      "EventType\n",
      "accidentsAndIncidents    395\n",
      "roadwork                  61\n",
      "closures                  16\n",
      "Name: count, dtype: int64\n"
     ]
    }
   ],
   "source": [
    "# Filter events_df on I-10 Broadway Curve\n",
    "# # based on lat/lon bounds\n",
    "lat_min, lat_max = 33.296690, 33.428422\n",
    "lon_min, lon_max = -112.039731, -111.962382\n",
    "df_bw = events_df[\n",
    "    (events_df['Latitude'] >= lat_min) & (events_df['Latitude'] <= lat_max) &\n",
    "    (events_df['Longitude'] >= lon_min) & (events_df['Longitude'] <= lon_max)\n",
    "]\n",
    "\n",
    "# Filter if \"RoadwayName\" contains \"I-10\" or \"I10\" or \"broadway\"\n",
    "# or \"Description\" contains \"I-10\" or \"I10\" or \"broadway\"\n",
    "df_bw = df_bw[\n",
    "    df_bw['RoadwayName'].str.contains(\"I-10|I10\", case=False, na=False) \n",
    "]\n",
    "\n",
    "# Simple fill in of DirectionOfTravel based on \"RoadwayName\" column\n",
    "df_bw.loc[df_bw.DirectionOfTravel.eq('Unknown'),'DirectionOfTravel'] = (df_bw.loc[df_bw.DirectionOfTravel.eq('Unknown'),'RoadwayName'].str.extract(r'(west|east|south|north)', flags=re.I, expand=False).str.lower().fillna('Unknown'))\n",
    "\n",
    "print(f\"Filtered events in I-10 Broadway Curve area: {df_bw.shape}\")\n",
    "print(df_bw.EventType.value_counts())\n"
   ]
  },
  {
   "cell_type": "code",
   "execution_count": 4,
   "id": "d1418e61",
   "metadata": {},
   "outputs": [
    {
     "name": "stdout",
     "output_type": "stream",
     "text": [
      "Top 15 EventSubType values:\n",
      "EventSubType\n",
      "C34Rshoulder               97\n",
      "Crash on right shoulder    56\n",
      "AccidentIncident           43\n",
      "DebrisRshoulder            22\n",
      "debrisLshoulder            20\n",
      "leftlanes                  19\n",
      "CrashLshoulder             17\n",
      "rightlanes                 16\n",
      "C34Lshoulder               14\n",
      "exitclosed                 10\n",
      "exitrestricted              9\n",
      "T1018SR                     9\n",
      "LeftLane                    6\n",
      "ITS Equipment Damage        6\n",
      "C34onramp                   6\n",
      "Name: count, dtype: int64\n"
     ]
    }
   ],
   "source": [
    "print(\"Top 15 EventSubType values:\")\n",
    "print(df_bw.EventSubType.value_counts().sort_values(ascending=False).head(15))"
   ]
  },
  {
   "cell_type": "code",
   "execution_count": 5,
   "id": "3bb44fde",
   "metadata": {},
   "outputs": [
    {
     "name": "stdout",
     "output_type": "stream",
     "text": [
      "TMC rows in bounds: 100\n"
     ]
    }
   ],
   "source": [
    "# Read INRIX TMC data and filter only I-10 Broadway Curve\n",
    "# Filter TMC rows on-the-fly while reading (lat/lon box)\n",
    "tmc_path = Path('../database/inrix-traffic-speed/I10-and-I17-1year/TMC_Identification.csv')\n",
    "\n",
    "usecols = [\n",
    "    'tmc','road','direction','intersection',\n",
    "    'start_latitude','start_longitude','end_latitude','end_longitude',\n",
    "    'miles','road_order','active_start_date'\n",
    "]\n",
    "\n",
    "chunks = []\n",
    "for chunk in pd.read_csv(\n",
    "        tmc_path,\n",
    "        usecols=usecols,\n",
    "        chunksize=50_000,\n",
    "        dtype={\n",
    "            'tmc':'string','road':'string','direction':'string','intersection':'string',\n",
    "            'miles':'float32','road_order':'float32'\n",
    "        }):\n",
    "    m = (\n",
    "        (\n",
    "            (chunk.start_latitude.between(lat_min, lat_max) & chunk.start_longitude.between(lon_min, lon_max)) |\n",
    "            (chunk.end_latitude.between(lat_min, lat_max) & chunk.end_longitude.between(lon_min, lon_max))\n",
    "        )\n",
    "        & (chunk['road'] == 'I-10')\n",
    "    )\n",
    "    if m.any():\n",
    "        chunks.append(chunk.loc[m])\n",
    "\n",
    "df_tmc = pd.concat(chunks, ignore_index=True) if chunks else pd.DataFrame(columns=usecols)\n",
    "print(\"TMC rows in bounds:\", len(df_tmc))"
   ]
  },
  {
   "cell_type": "code",
   "execution_count": 6,
   "id": "ae15c63f",
   "metadata": {},
   "outputs": [
    {
     "data": {
      "text/plain": [
       "Index(['tmc', 'road', 'direction', 'intersection', 'start_latitude',\n",
       "       'start_longitude', 'end_latitude', 'end_longitude', 'miles',\n",
       "       'road_order', 'active_start_date'],\n",
       "      dtype='object')"
      ]
     },
     "execution_count": 6,
     "metadata": {},
     "output_type": "execute_result"
    }
   ],
   "source": [
    "df_tmc.columns"
   ]
  },
  {
   "cell_type": "code",
   "execution_count": null,
   "id": "0b6388d8",
   "metadata": {},
   "outputs": [
    {
     "name": "stdout",
     "output_type": "stream",
     "text": [
      "Sample duplicated TMCs (count>1):\n",
      "tmc\n",
      "115P04179    2\n",
      "115-05165    2\n",
      "115N04183    2\n",
      "115N04182    2\n",
      "115N04181    2\n",
      "Name: count, dtype: Int64\n",
      "Original TMC rows: 100 -> After cleaning: 50\n"
     ]
    }
   ],
   "source": [
    "# df_tmc has duplicate TMC codes, remove duplicates by averaging\n",
    "original_length = len(df_tmc)\n",
    "dup_counts = df_tmc['tmc'].value_counts()\n",
    "print(\"Sample duplicated TMCs (count>1):\")\n",
    "print(dup_counts[dup_counts>1].head())\n",
    "\n",
    "# keep the one that has laterst active_start_date\n",
    "if 'active_start_date' in df_tmc.columns:\n",
    "    df_tmc['active_start_date'] = pd.to_datetime(df_tmc['active_start_date'], errors='coerce')\n",
    "    df_tmc = (\n",
    "        df_tmc\n",
    "        .sort_values(['tmc', 'active_start_date'], ascending=[True, True], na_position='first')\n",
    "        .groupby('tmc', as_index=False)\n",
    "        .tail(1)\n",
    "        .reset_index(drop=True)\n",
    "    )\n",
    "\n",
    "print(f\"Original TMC rows: {original_length} -> After cleaning: {len(df_tmc)}\")\n"
   ]
  },
  {
   "cell_type": "code",
   "execution_count": 8,
   "id": "387ecc63",
   "metadata": {},
   "outputs": [
    {
     "name": "stdout",
     "output_type": "stream",
     "text": [
      "Column count: 10\n",
      "['tmc_code', 'measurement_tstamp', 'speed', 'historical_average_speed', 'reference_speed', 'travel_time_seconds', 'confidence_score', 'cvalue', 'Inrix 2013', 'Inrix 2019']\n"
     ]
    }
   ],
   "source": [
    "# Read only the header row to inspect column names (no full load)\n",
    "inrix_path = Path('../database/inrix-traffic-speed/I10-and-I17-1year/I10-and-I17-1year.csv')\n",
    "cols = pd.read_csv(inrix_path, nrows=0).columns.tolist()\n",
    "print(f\"Column count: {len(cols)}\")\n",
    "print(cols)"
   ]
  },
  {
   "cell_type": "code",
   "execution_count": 9,
   "id": "b6e482df",
   "metadata": {},
   "outputs": [
    {
     "name": "stdout",
     "output_type": "stream",
     "text": [
      "Manual time window: 2025-06-16 00:00:00 -> 2025-09-23 00:00:00\n"
     ]
    },
    {
     "name": "stderr",
     "output_type": "stream",
     "text": [
      "/var/folders/tj/fx7fbnhx3p11d_d6fzxb4mh80000gp/T/ipykernel_66775/2042870480.py:14: UserWarning: Could not infer format, so each element will be parsed individually, falling back to `dateutil`. To ensure parsing is consistent and as-expected, please specify a format.\n",
      "  for chunk in pd.read_csv(\n"
     ]
    },
    {
     "name": "stdout",
     "output_type": "stream",
     "text": [
      "Filtered INRIX rows (time range only): 7125744\n"
     ]
    }
   ],
   "source": [
    "# read INRIX and filter out broadway curve based on time range manually defined\n",
    "# further filter based on TMC codes from df_tmc (I-10 broadway)\n",
    "\n",
    "# Ensure start/end are pandas Timestamps (your df_bw values look like epoch ints)\n",
    "start_ts = pd.Timestamp('2025-06-16 00:00:00')\n",
    "end_ts = pd.Timestamp('2025-09-23 00:00:00')\n",
    "print(\"Manual time window:\", start_ts, \"->\", end_ts)\n",
    "tmc_set = set(df_tmc['tmc']) \n",
    "\n",
    "usecols = ['tmc_code', 'measurement_tstamp', 'speed', 'reference_speed',\n",
    "           'travel_time_seconds', 'confidence_score', 'cvalue', 'Inrix 2013', 'Inrix 2019']\n",
    "\n",
    "filtered_chunks = []\n",
    "for chunk in pd.read_csv(\n",
    "        inrix_path,\n",
    "        usecols=usecols,\n",
    "        parse_dates=['measurement_tstamp'],\n",
    "        chunksize=20_000):\n",
    "    m = (\n",
    "        (chunk['tmc_code'].isin(tmc_set)) &\n",
    "        (chunk['measurement_tstamp'] >= start_ts) &\n",
    "        (chunk['measurement_tstamp'] <= end_ts)\n",
    "    )\n",
    "    if m.any():\n",
    "        filtered_chunks.append(chunk.loc[m])\n",
    "\n",
    "df_inrix = (pd.concat(filtered_chunks, ignore_index=True)\n",
    "            if filtered_chunks else pd.DataFrame(columns=usecols))\n",
    "print(\"Filtered INRIX rows (time range only):\", len(df_inrix))\n"
   ]
  },
  {
   "cell_type": "code",
   "execution_count": 10,
   "id": "48b033b5",
   "metadata": {},
   "outputs": [
    {
     "name": "stdout",
     "output_type": "stream",
     "text": [
      "Updated nearest TMC with direction-aware matching.\n",
      "    DirectionOfTravel   near_tmc\n",
      "123              west  115P04184\n",
      "137              west  115P04184\n",
      "165              west  115P04185\n",
      "166              west  115P04185\n",
      "222              east  115N04185\n"
     ]
    }
   ],
   "source": [
    "# add \"near_tmc\" to df_bw based on the projection distance to TMC line segments\n",
    "\n",
    "def point_segment_distance(px, py, ax, ay, bx, by):\n",
    "    \"\"\"\n",
    "    Compute distance and projection for one point (px,py) to one segment A(ax,ay)->B(bx,by).\n",
    "    Returns (dist, proj_x, proj_y, t) where t in [0,1].\n",
    "    \"\"\"\n",
    "    vx, vy = bx - ax, by - ay\n",
    "    wx, wy = px - ax, py - ay\n",
    "    seg_len2 = vx*vx + vy*vy\n",
    "    if seg_len2 == 0:\n",
    "        # Degenerate segment\n",
    "        return np.hypot(px-ax, py-ay), ax, ay, 0.0\n",
    "    t = (wx*vx + wy*vy) / seg_len2\n",
    "    t_clamped = max(0.0, min(1.0, t))\n",
    "    proj_x = ax + t_clamped * vx\n",
    "    proj_y = ay + t_clamped * vy\n",
    "    dist = np.hypot(px - proj_x, py - proj_y)\n",
    "    return dist, proj_x, proj_y, t_clamped\n",
    "\n",
    "def points_segments_nearest(events_xy, seg_a_xy, seg_b_xy):\n",
    "    \"\"\"\n",
    "    Vectorized nearest segment for many points.\n",
    "    events_xy: (N,2)\n",
    "    seg_a_xy: (M,2)\n",
    "    seg_b_xy: (M,2)\n",
    "    Returns:\n",
    "      nearest_seg_index (N,)\n",
    "      dist (N,)\n",
    "      proj_xy (N,2)\n",
    "    \"\"\"\n",
    "    N = events_xy.shape[0]\n",
    "    M = seg_a_xy.shape[0]\n",
    "    # Segment vectors\n",
    "    v = seg_b_xy - seg_a_xy          # (M,2)\n",
    "    v_len2 = (v**2).sum(axis=1)      # (M,)\n",
    "    v_len2[v_len2 == 0] = 1e-12\n",
    "\n",
    "    # We can process in chunks to limit memory\n",
    "    chunk = 500\n",
    "    best_dist2 = np.full(N, np.inf)\n",
    "    best_idx = np.zeros(N, dtype=int)\n",
    "    best_t = np.zeros(N)\n",
    "\n",
    "    P = events_xy  # (N,2)\n",
    "    for s in range(0, M, chunk):\n",
    "        e = min(s+chunk, M)\n",
    "        A = seg_a_xy[s:e]           # (m,2)\n",
    "        V = v[s:e]                  # (m,2)\n",
    "        L2 = v_len2[s:e]            # (m,)\n",
    "\n",
    "        # P - A (broadcast)\n",
    "        PA = P[:, None, :] - A[None, :, :]        # (N,m,2)\n",
    "        # t raw\n",
    "        t = (PA * V[None, :, :]).sum(axis=2) / L2[None, :]\n",
    "        t_clamped = np.clip(t, 0, 1)\n",
    "\n",
    "        proj = A[None, :, :] + t_clamped[..., None] * V[None, :, :]  # (N,m,2)\n",
    "        diff = P[:, None, :] - proj\n",
    "        dist2 = (diff**2).sum(axis=2)  # (N,m)\n",
    "\n",
    "        local_min_idx = dist2.argmin(axis=1)\n",
    "        local_min_val = dist2[np.arange(N), local_min_idx]\n",
    "        improved = local_min_val < best_dist2\n",
    "        if improved.any():\n",
    "            best_dist2[improved] = local_min_val[improved]\n",
    "            best_idx[improved] = s + local_min_idx[improved]\n",
    "            best_t[improved] = t_clamped[np.arange(N), local_min_idx][improved]\n",
    "\n",
    "    # Build projection points for winners\n",
    "    proj_xy = seg_a_xy[best_idx] + best_t[:, None] * v[best_idx]\n",
    "    return best_idx, np.sqrt(best_dist2), proj_xy, best_t\n",
    "\n",
    "# Direction-aware nearest TMC assignment\n",
    "if not df_bw.empty and not df_tmc.empty:\n",
    "    lat0 = float(df_bw['Latitude'].mean())\n",
    "    m_per_deg_lat = 110540.0\n",
    "    m_per_deg_lon = 111320.0 * np.cos(np.deg2rad(lat0))\n",
    "\n",
    "    # Normalize event direction (already lowercased earlier, but ensure)\n",
    "    df_bw['DirectionOfTravel'] = df_bw['DirectionOfTravel'].str.lower()\n",
    "\n",
    "    # Map event direction tokens to TMC direction field patterns\n",
    "    dir_map = {\n",
    "        'east': 'EASTBOUND',\n",
    "        'west': 'WESTBOUND',\n",
    "        'north': 'NORTHBOUND',\n",
    "        'south': 'SOUTHBOUND'\n",
    "    }\n",
    "\n",
    "    # Prepare result columns (will fill incrementally)\n",
    "\n",
    "    df_bw['near_tmc'] = np.nan\n",
    "    df_bw['near_tmc'] = df_bw['near_tmc'].astype('string')\n",
    "    ev_base_mask = df_bw[['Latitude','Longitude']].notna().all(axis=1)\n",
    "\n",
    "    # Process each direction separately so only same-direction TMCs are considered\n",
    "    for ev_dir, tmc_dir in dir_map.items():\n",
    "        ev_mask_dir = ev_base_mask & df_bw.DirectionOfTravel.eq(ev_dir)\n",
    "        if not ev_mask_dir.any():\n",
    "            continue\n",
    "        seg_mask = df_tmc['direction'].str.contains(tmc_dir, case=False, na=False)\n",
    "        seg_subset = df_tmc.loc[seg_mask]\n",
    "        if seg_subset.empty:\n",
    "            continue\n",
    "\n",
    "        ev_lat = df_bw.loc[ev_mask_dir, 'Latitude'].to_numpy()\n",
    "        ev_lon = df_bw.loc[ev_mask_dir, 'Longitude'].to_numpy()\n",
    "        events_xy = np.column_stack([\n",
    "            ev_lon * m_per_deg_lon,\n",
    "            ev_lat * m_per_deg_lat\n",
    "        ])\n",
    "\n",
    "        seg_a_xy = np.column_stack([\n",
    "            seg_subset['start_longitude'].to_numpy() * m_per_deg_lon,\n",
    "            seg_subset['start_latitude'].to_numpy() * m_per_deg_lat\n",
    "        ])\n",
    "        seg_b_xy = np.column_stack([\n",
    "            seg_subset['end_longitude'].to_numpy() * m_per_deg_lon,\n",
    "            seg_subset['end_latitude'].to_numpy() * m_per_deg_lat\n",
    "        ])\n",
    "\n",
    "        idx_local, dist_m, proj_xy, t_param = points_segments_nearest(events_xy, seg_a_xy, seg_b_xy)\n",
    "\n",
    "        # Write back\n",
    "        df_bw.loc[ev_mask_dir, 'near_tmc'] = seg_subset.iloc[idx_local]['tmc'].astype('string').to_numpy()\n",
    "        # df_bw.loc[ev_mask_dir, 'near_tmc'] = seg_subset.iloc[idx_local]['tmc'].to_numpy()\n",
    "        # df_bw.loc[ev_mask_dir, 'near_tmc_dist_m'] = dist_m\n",
    "        # df_bw.loc[ev_mask_dir, 'near_tmc_dist_km'] = dist_m / 1000\n",
    "        # df_bw.loc[ev_mask_dir, 'near_tmc_proj_lat'] = proj_xy[:,1] / m_per_deg_lat\n",
    "        # df_bw.loc[ev_mask_dir, 'near_tmc_proj_lon'] = proj_xy[:,0] / m_per_deg_lon\n",
    "\n",
    "    # Fallback: events with unknown or unmatched direction -> use all segments (previous logic)\n",
    "    unmatched_mask = ev_base_mask & df_bw['near_tmc'].isna()\n",
    "    if unmatched_mask.any():\n",
    "        seg_a_xy_all = np.column_stack([\n",
    "            df_tmc['start_longitude'].to_numpy() * m_per_deg_lon,\n",
    "            df_tmc['start_latitude'].to_numpy() * m_per_deg_lat\n",
    "        ])\n",
    "        seg_b_xy_all = np.column_stack([\n",
    "            df_tmc['end_longitude'].to_numpy() * m_per_deg_lon,\n",
    "            df_tmc['end_latitude'].to_numpy() * m_per_deg_lat\n",
    "        ])\n",
    "        ev_lat = df_bw.loc[unmatched_mask, 'Latitude'].to_numpy()\n",
    "        ev_lon = df_bw.loc[unmatched_mask, 'Longitude'].to_numpy()\n",
    "        events_xy = np.column_stack([ev_lon * m_per_deg_lon, ev_lat * m_per_deg_lat])\n",
    "        idx_all, dist_m, proj_xy, _ = points_segments_nearest(events_xy, seg_a_xy_all, seg_b_xy_all)\n",
    "        df_bw.loc[unmatched_mask, 'near_tmc'] = df_tmc.iloc[idx_all]['tmc'].astype('string').to_numpy()\n",
    "        # df_bw.loc[unmatched_mask, 'near_tmc'] = df_tmc.iloc[idx_all]['tmc'].to_numpy()\n",
    "        # df_bw.loc[unmatched_mask, 'near_tmc_dist_m'] = dist_m\n",
    "        # df_bw.loc[unmatched_mask, 'near_tmc_dist_km'] = dist_m / 1000\n",
    "        # df_bw.loc[unmatched_mask, 'near_tmc_proj_lat'] = proj_xy[:,1] / m_per_deg_lat\n",
    "        # df_bw.loc[unmatched_mask, 'near_tmc_proj_lon'] = proj_xy[:,0] / m_per_deg_lon\n",
    "\n",
    "    print(\"Updated nearest TMC with direction-aware matching.\")\n",
    "    print(df_bw[['DirectionOfTravel','near_tmc']].head())"
   ]
  },
  {
   "cell_type": "code",
   "execution_count": 11,
   "id": "bbb6ec3f",
   "metadata": {},
   "outputs": [
    {
     "name": "stdout",
     "output_type": "stream",
     "text": [
      "Target speed timestamp: 2025-08-29 00:00:00\n"
     ]
    },
    {
     "data": {
      "application/vnd.plotly.v1+json": {
       "config": {
        "plotlyServerURL": "https://plot.ly"
       },
       "data": [
        {
         "hovertext": "TMC: 115P04179, Speed: 70.0",
         "lat": [
          33.33027,
          33.34022
         ],
         "line": {
          "color": "#b0d37f",
          "width": 4
         },
         "lon": [
          -111.97208,
          -111.97208
         ],
         "mode": "lines",
         "name": "115P04179",
         "type": "scattermap"
        },
        {
         "hovertext": "TMC: 115P04178, Speed: 75.0",
         "lat": [
          33.3151,
          33.3239
         ],
         "line": {
          "color": "#936ec5",
          "width": 4
         },
         "lon": [
          -111.9721,
          -111.97209
         ],
         "mode": "lines",
         "name": "115P04178",
         "type": "scattermap"
        },
        {
         "hovertext": "TMC: 115P04177, Speed: 70.0",
         "lat": [
          33.30203,
          33.31028
         ],
         "line": {
          "color": "#e6ef98",
          "width": 4
         },
         "lon": [
          -111.97195,
          -111.97207
         ],
         "mode": "lines",
         "name": "115P04177",
         "type": "scattermap"
        },
        {
         "hovertext": "TMC: 115P04187, Speed: 71.0",
         "lat": [
          33.42484,
          33.42623
         ],
         "line": {
          "color": "#e4be05",
          "width": 4
         },
         "lon": [
          -112.02462,
          -112.02778
         ],
         "mode": "lines",
         "name": "115P04187",
         "type": "scattermap"
        },
        {
         "hovertext": "TMC: 115P04186, Speed: 71.0",
         "lat": [
          33.41093,
          33.4149
         ],
         "line": {
          "color": "#90b2bb",
          "width": 4
         },
         "lon": [
          -112.00507,
          -112.01452
         ],
         "mode": "lines",
         "name": "115P04186",
         "type": "scattermap"
        },
        {
         "hovertext": "TMC: 115P04188, Speed: 71.0",
         "lat": [
          33.42664,
          33.4321
         ],
         "line": {
          "color": "#ebd252",
          "width": 4
         },
         "lon": [
          -112.02936,
          -112.03737
         ],
         "mode": "lines",
         "name": "115P04188",
         "type": "scattermap"
        },
        {
         "hovertext": "TMC: 115P04183, Speed: 70.0",
         "lat": [
          33.40358,
          33.4062
         ],
         "line": {
          "color": "#b4f986",
          "width": 4
         },
         "lon": [
          -111.9678,
          -111.96927
         ],
         "mode": "lines",
         "name": "115P04183",
         "type": "scattermap"
        },
        {
         "hovertext": "TMC: 115P04182, Speed: 68.0",
         "lat": [
          33.38471,
          33.39713
         ],
         "line": {
          "color": "#32bf92",
          "width": 4
         },
         "lon": [
          -111.96766,
          -111.96731
         ],
         "mode": "lines",
         "name": "115P04182",
         "type": "scattermap"
        },
        {
         "hovertext": "TMC: 115P04185, Speed: 70.0",
         "lat": [
          33.41102,
          33.41093
         ],
         "line": {
          "color": "#8d200b",
          "width": 4
         },
         "lon": [
          -111.98842,
          -112.00299
         ],
         "mode": "lines",
         "name": "115P04185",
         "type": "scattermap"
        },
        {
         "hovertext": "TMC: 115P04184, Speed: 71.0",
         "lat": [
          33.40636,
          33.41111
         ],
         "line": {
          "color": "#fdc39b",
          "width": 4
         },
         "lon": [
          -111.96943,
          -111.98411
         ],
         "mode": "lines",
         "name": "115P04184",
         "type": "scattermap"
        },
        {
         "hovertext": "TMC: 115P04181, Speed: 71.0",
         "lat": [
          33.372,
          33.38233
         ],
         "line": {
          "color": "#c99377",
          "width": 4
         },
         "lon": [
          -111.96785,
          -111.96772
         ],
         "mode": "lines",
         "name": "115P04181",
         "type": "scattermap"
        },
        {
         "hovertext": "TMC: 115P04180, Speed: 73.0",
         "lat": [
          33.34452,
          33.35384
         ],
         "line": {
          "color": "#b50790",
          "width": 4
         },
         "lon": [
          -111.97209,
          -111.97098
         ],
         "mode": "lines",
         "name": "115P04180",
         "type": "scattermap"
        },
        {
         "hovertext": "TMC: 115N04187, Speed: 73.0",
         "lat": [
          33.42643,
          33.42491
         ],
         "line": {
          "color": "#694e75",
          "width": 4
         },
         "lon": [
          -112.02957,
          -112.02535
         ],
         "mode": "lines",
         "name": "115N04187",
         "type": "scattermap"
        },
        {
         "hovertext": "TMC: 115N04186, Speed: 73.0",
         "lat": [
          33.41473,
          33.4107
         ],
         "line": {
          "color": "#84848b",
          "width": 4
         },
         "lon": [
          -112.0147,
          -112.00508
         ],
         "mode": "lines",
         "name": "115N04186",
         "type": "scattermap"
        },
        {
         "hovertext": "TMC: 115N04185, Speed: 75.0",
         "lat": [
          33.41073,
          33.41082
         ],
         "line": {
          "color": "#bad085",
          "width": 4
         },
         "lon": [
          -112.00143,
          -111.99074
         ],
         "mode": "lines",
         "name": "115N04185",
         "type": "scattermap"
        },
        {
         "hovertext": "TMC: 115N04184, Speed: 72.0",
         "lat": [
          33.41086,
          33.40747
         ],
         "line": {
          "color": "#407049",
          "width": 4
         },
         "lon": [
          -111.98493,
          -111.97083
         ],
         "mode": "lines",
         "name": "115N04184",
         "type": "scattermap"
        },
        {
         "hovertext": "TMC: 115N04188, Speed: 70.0",
         "lat": [
          33.43103,
          33.42675
         ],
         "line": {
          "color": "#59b0b6",
          "width": 4
         },
         "lon": [
          -112.03778,
          -112.03181
         ],
         "mode": "lines",
         "name": "115N04188",
         "type": "scattermap"
        },
        {
         "hovertext": "TMC: 115+04183, Speed: 70.0",
         "lat": [
          33.39713,
          33.40358
         ],
         "line": {
          "color": "#863dab",
          "width": 4
         },
         "lon": [
          -111.96731,
          -111.9678
         ],
         "mode": "lines",
         "name": "115+04183",
         "type": "scattermap"
        },
        {
         "hovertext": "TMC: 115+04184, Speed: 71.0",
         "lat": [
          33.4062,
          33.40636
         ],
         "line": {
          "color": "#2a6a86",
          "width": 4
         },
         "lon": [
          -111.96927,
          -111.96943
         ],
         "mode": "lines",
         "name": "115+04184",
         "type": "scattermap"
        },
        {
         "hovertext": "TMC: 115+04181, Speed: 71.0",
         "lat": [
          33.35384,
          33.372
         ],
         "line": {
          "color": "#67e26b",
          "width": 4
         },
         "lon": [
          -111.97098,
          -111.96785
         ],
         "mode": "lines",
         "name": "115+04181",
         "type": "scattermap"
        },
        {
         "hovertext": "TMC: 115+04182, Speed: 71.0",
         "lat": [
          33.38233,
          33.38471
         ],
         "line": {
          "color": "#ea1ef5",
          "width": 4
         },
         "lon": [
          -111.96772,
          -111.96766
         ],
         "mode": "lines",
         "name": "115+04182",
         "type": "scattermap"
        },
        {
         "hovertext": "TMC: 115+04187, Speed: 71.0",
         "lat": [
          33.4149,
          33.42484
         ],
         "line": {
          "color": "#906970",
          "width": 4
         },
         "lon": [
          -112.01452,
          -112.02462
         ],
         "mode": "lines",
         "name": "115+04187",
         "type": "scattermap"
        },
        {
         "hovertext": "TMC: 115+04188, Speed: 70.0",
         "lat": [
          33.42623,
          33.42664
         ],
         "line": {
          "color": "#965187",
          "width": 4
         },
         "lon": [
          -112.02778,
          -112.02936
         ],
         "mode": "lines",
         "name": "115+04188",
         "type": "scattermap"
        },
        {
         "hovertext": "TMC: 115P05165, Speed: 67.0",
         "lat": [
          33.29577,
          33.29989
         ],
         "line": {
          "color": "#a92dfd",
          "width": 4
         },
         "lon": [
          -111.97189,
          -111.97189
         ],
         "mode": "lines",
         "name": "115P05165",
         "type": "scattermap"
        },
        {
         "hovertext": "TMC: 115+04185, Speed: 71.0",
         "lat": [
          33.41111,
          33.41102
         ],
         "line": {
          "color": "#111126",
          "width": 4
         },
         "lon": [
          -111.98411,
          -111.98842
         ],
         "mode": "lines",
         "name": "115+04185",
         "type": "scattermap"
        },
        {
         "hovertext": "TMC: 115+04186, Speed: 70.0",
         "lat": [
          33.41093,
          33.41093
         ],
         "line": {
          "color": "#45ffe7",
          "width": 4
         },
         "lon": [
          -112.00299,
          -112.00507
         ],
         "mode": "lines",
         "name": "115+04186",
         "type": "scattermap"
        },
        {
         "hovertext": "TMC: 115+04180, Speed: 72.0",
         "lat": [
          33.34022,
          33.34452
         ],
         "line": {
          "color": "#a93a57",
          "width": 4
         },
         "lon": [
          -111.97208,
          -111.97209
         ],
         "mode": "lines",
         "name": "115+04180",
         "type": "scattermap"
        },
        {
         "hovertext": "TMC: 115N04183, Speed: 71.0",
         "lat": [
          33.40682,
          33.40509
         ],
         "line": {
          "color": "#c4f253",
          "width": 4
         },
         "lon": [
          -111.97017,
          -111.96889
         ],
         "mode": "lines",
         "name": "115N04183",
         "type": "scattermap"
        },
        {
         "hovertext": "TMC: 115N04182, Speed: 70.0",
         "lat": [
          33.39657,
          33.38502
         ],
         "line": {
          "color": "#ece61c",
          "width": 4
         },
         "lon": [
          -111.96769,
          -111.96795
         ],
         "mode": "lines",
         "name": "115N04182",
         "type": "scattermap"
        },
        {
         "hovertext": "TMC: 115N04181, Speed: 70.0",
         "lat": [
          33.38236,
          33.37301
         ],
         "line": {
          "color": "#1c55fd",
          "width": 4
         },
         "lon": [
          -111.96802,
          -111.96813
         ],
         "mode": "lines",
         "name": "115N04181",
         "type": "scattermap"
        },
        {
         "hovertext": "TMC: 115N04180, Speed: 75.0",
         "lat": [
          33.35328,
          33.34415
         ],
         "line": {
          "color": "#1c19b3",
          "width": 4
         },
         "lon": [
          -111.97135,
          -111.97237
         ],
         "mode": "lines",
         "name": "115N04180",
         "type": "scattermap"
        },
        {
         "hovertext": "TMC: 115+04178, Speed: 72.0",
         "lat": [
          33.31028,
          33.3151
         ],
         "line": {
          "color": "#515c28",
          "width": 4
         },
         "lon": [
          -111.97207,
          -111.9721
         ],
         "mode": "lines",
         "name": "115+04178",
         "type": "scattermap"
        },
        {
         "hovertext": "TMC: 115+04179, Speed: 73.0",
         "lat": [
          33.3239,
          33.33027
         ],
         "line": {
          "color": "#6d494d",
          "width": 4
         },
         "lon": [
          -111.97209,
          -111.97208
         ],
         "mode": "lines",
         "name": "115+04179",
         "type": "scattermap"
        },
        {
         "hovertext": "TMC: 115N04179, Speed: 75.0",
         "lat": [
          33.33835,
          33.32936
         ],
         "line": {
          "color": "#fcab44",
          "width": 4
         },
         "lon": [
          -111.97235,
          -111.97234
         ],
         "mode": "lines",
         "name": "115N04179",
         "type": "scattermap"
        },
        {
         "hovertext": "TMC: 115N04178, Speed: 70.0",
         "lat": [
          33.32559,
          33.31491
         ],
         "line": {
          "color": "#f2435c",
          "width": 4
         },
         "lon": [
          -111.97237,
          -111.97241
         ],
         "mode": "lines",
         "name": "115N04178",
         "type": "scattermap"
        },
        {
         "hovertext": "TMC: 115N04177, Speed: 71.0",
         "lat": [
          33.31095,
          33.30176
         ],
         "line": {
          "color": "#92d457",
          "width": 4
         },
         "lon": [
          -111.97239,
          -111.97246
         ],
         "mode": "lines",
         "name": "115N04177",
         "type": "scattermap"
        },
        {
         "hovertext": "TMC: 115+04177, Speed: 67.0",
         "lat": [
          33.29989,
          33.30203
         ],
         "line": {
          "color": "#eeb1c5",
          "width": 4
         },
         "lon": [
          -111.97189,
          -111.97195
         ],
         "mode": "lines",
         "name": "115+04177",
         "type": "scattermap"
        },
        {
         "hovertext": "TMC: 115-05165, Speed: 72.0",
         "lat": [
          33.30176,
          33.29995
         ],
         "line": {
          "color": "#ccfcd7",
          "width": 4
         },
         "lon": [
          -111.97246,
          -111.97249
         ],
         "mode": "lines",
         "name": "115-05165",
         "type": "scattermap"
        },
        {
         "hovertext": "TMC: 115-04182, Speed: 68.0",
         "lat": [
          33.40509,
          33.39657
         ],
         "line": {
          "color": "#647a4c",
          "width": 4
         },
         "lon": [
          -111.96889,
          -111.96769
         ],
         "mode": "lines",
         "name": "115-04182",
         "type": "scattermap"
        },
        {
         "hovertext": "TMC: 115-04181, Speed: 71.0",
         "lat": [
          33.38502,
          33.38236
         ],
         "line": {
          "color": "#34a91a",
          "width": 4
         },
         "lon": [
          -111.96795,
          -111.96802
         ],
         "mode": "lines",
         "name": "115-04181",
         "type": "scattermap"
        },
        {
         "hovertext": "TMC: 115-04180, Speed: 73.0",
         "lat": [
          33.37301,
          33.35328
         ],
         "line": {
          "color": "#b28191",
          "width": 4
         },
         "lon": [
          -111.96813,
          -111.97135
         ],
         "mode": "lines",
         "name": "115-04180",
         "type": "scattermap"
        },
        {
         "hovertext": "TMC: 115-04186, Speed: 72.0",
         "lat": [
          33.42491,
          33.41473
         ],
         "line": {
          "color": "#96be94",
          "width": 4
         },
         "lon": [
          -112.02535,
          -112.0147
         ],
         "mode": "lines",
         "name": "115-04186",
         "type": "scattermap"
        },
        {
         "hovertext": "TMC: 115-04185, Speed: 72.0",
         "lat": [
          33.4107,
          33.41073
         ],
         "line": {
          "color": "#61753f",
          "width": 4
         },
         "lon": [
          -112.00508,
          -112.00143
         ],
         "mode": "lines",
         "name": "115-04185",
         "type": "scattermap"
        },
        {
         "hovertext": "TMC: 115-04184, Speed: 72.0",
         "lat": [
          33.41082,
          33.41086
         ],
         "line": {
          "color": "#28ca4c",
          "width": 4
         },
         "lon": [
          -111.99074,
          -111.98493
         ],
         "mode": "lines",
         "name": "115-04184",
         "type": "scattermap"
        },
        {
         "hovertext": "TMC: 115-04183, Speed: 71.0",
         "lat": [
          33.40747,
          33.40682
         ],
         "line": {
          "color": "#498077",
          "width": 4
         },
         "lon": [
          -111.97083,
          -111.97017
         ],
         "mode": "lines",
         "name": "115-04183",
         "type": "scattermap"
        },
        {
         "hovertext": "TMC: 115-04187, Speed: 73.0",
         "lat": [
          33.42675,
          33.42643
         ],
         "line": {
          "color": "#5a419e",
          "width": 4
         },
         "lon": [
          -112.03181,
          -112.02957
         ],
         "mode": "lines",
         "name": "115-04187",
         "type": "scattermap"
        },
        {
         "hovertext": "TMC: 115N05165, Speed: 73.0",
         "lat": [
          33.29995,
          33.29618
         ],
         "line": {
          "color": "#453914",
          "width": 4
         },
         "lon": [
          -111.97249,
          -111.97247
         ],
         "mode": "lines",
         "name": "115N05165",
         "type": "scattermap"
        },
        {
         "hovertext": "TMC: 115-04179, Speed: 72.0",
         "lat": [
          33.34415,
          33.33835
         ],
         "line": {
          "color": "#dbbbdb",
          "width": 4
         },
         "lon": [
          -111.97237,
          -111.97235
         ],
         "mode": "lines",
         "name": "115-04179",
         "type": "scattermap"
        },
        {
         "hovertext": "TMC: 115-04178, Speed: 73.0",
         "lat": [
          33.32936,
          33.32559
         ],
         "line": {
          "color": "#4a7d5b",
          "width": 4
         },
         "lon": [
          -111.97234,
          -111.97237
         ],
         "mode": "lines",
         "name": "115-04178",
         "type": "scattermap"
        },
        {
         "hovertext": "TMC: 115-04177, Speed: 69.0",
         "lat": [
          33.31491,
          33.31095
         ],
         "line": {
          "color": "#7d962f",
          "width": 4
         },
         "lon": [
          -111.97241,
          -111.97239
         ],
         "mode": "lines",
         "name": "115-04177",
         "type": "scattermap"
        },
        {
         "hovertemplate": "Event near TMC: %{hovertext}<extra></extra>",
         "hovertext": [
          "115P04184<br>west<br>Left lanes closed on I-10 Westbound from SR-143 Northbound (MP 154)  to  40th St",
          "115P04184<br>west<br>HOV ramp closed on  ramp  from I-10 Westbound  to  SR-143 Northbound . All HOV L",
          "115P04185<br>west<br>Exit ramp restricted on  ramp  from I-10 Westbound  to  S 40th St . 1 Right Ramp",
          "115P04185<br>west<br>Exit ramp restricted on  ramp  from I-10 Westbound  to  S 40th St . 1 Right Ramp",
          "115N04185<br>east<br>Disabled vehicle on the left shoulder on I-10 Eastbound  near   S 40th St (MP 15",
          "115P04180<br>west<br>Disabled vehicle on the right shoulder on I-10 Westbound  near   Elliot Rd (MP 1",
          "115P04180<br>west<br>Disabled vehicle on the right shoulder on I-10 Westbound  near   Elliot Rd (MP 1",
          "115N04179<br>east<br>Disabled vehicle on the exit ramp on I-10 Eastbound  near   E Warner Rd (MP 159)",
          "115P04187<br>west<br>Crash on the right shoulder on I-10 Westbound  near   24th St (MP 150)   ",
          "115-04180<br>east<br>Disabled vehicle on the right shoulder on I-10 Eastbound  near   Elliot Rd (MP 1",
          "115P04182<br>west<br>Disabled vehicle on the exit ramp on I-10 Westbound  near   W Baseline Rd (MP 15",
          "115P04186<br>west<br>Disabled vehicle on the exit ramp on I-10 Westbound  near   E University Dr (MP ",
          "115N04185<br>east<br>Debris blocking the right lanes on I-10 Eastbound  near   S 40th St (MP 153)   ",
          "115N04179<br>east<br>Debris blocking the on ramp on I-10 Eastbound  near   E Warner Rd (MP 159)   ",
          "115N05165<br>east<br>Debris on the right shoulder on I-10 Eastbound  near   E Chandler Blvd (MP 161) ",
          "115N04187<br>east<br>Disabled vehicle on the right shoulder on I-10 Eastbound  near   S 24th St (MP 1",
          "115P04187<br>west<br>Disabled vehicle on the right shoulder on I-10 Westbound  near   24th St (MP 150",
          "115P04183<br>west<br>Debris on the right shoulder on I-10 Westbound  near   Broadway Rd (MP 154)   ",
          "115+04185<br>west<br>Disabled vehicle on the right shoulder on I-10 Westbound  near   Hohokam Expy (M",
          "115-04182<br>east<br>Disabled vehicle on the right shoulder on I-10 Eastbound  near   S 48th St (MP 1",
          "115N04180<br>east<br>Debris blocking the center lanes on I-10 Eastbound  near   Elliot Rd (MP 158)   ",
          "115N04179<br>east<br>Traffic signal timing issue or timing adjusted  on I-10 Eastbound  near   E Warn",
          "115P04184<br>west<br>Debris blocking the left lanes on I-10 Westbound  near   SR-143 Northbound (MP 1",
          "115-04182<br>east<br>Disabled vehicle on the right shoulder on I-10 Eastbound  near   S 48th St (MP 1",
          "115N04186<br>east<br>Debris on the left shoulder on I-10 Eastbound  near   32nd St (MP 151)   ",
          "115P04185<br>west<br>Debris on the left shoulder on I-10 Westbound  near   40th St (MP 152)   ",
          "115P04185<br>west<br>Crash on the left shoulder on I-10 Westbound  near   40th St (MP 152)   ",
          "115P04185<br>None<br>I10 @ S 40TH ST WB ON ,PHX - AccidentIncident - accident involving a motorcycle",
          "115N04184<br>east<br>Exit ramp closed on  ramp  from I-10 Eastbound  to  SR-143 Southbound . 1 Right ",
          "115P04177<br>west<br>Disabled vehicle on the right shoulder on I-10 Westbound  near   202-LOOP Eastbo",
          "115P04187<br>west<br>Crash on the right shoulder on I-10 Westbound  near   24th St (MP 150)   ",
          "115-04182<br>east<br>Disabled vehicle on the right shoulder on I-10 Eastbound  near   S 48th St (MP 1",
          "115-04182<br>east<br>Debris on the left shoulder on I-10 Eastbound  near   S 48th St (MP 154)   ",
          "115+04185<br>west<br>Abandoned vehicle on the right shoulder on I-10 Westbound  near   Hohokam Expy (",
          "115-04182<br>east<br>Debris blocking the left lane on I-10 Eastbound  near   S 48th St (MP 154)   ",
          "115P04179<br>west<br>Crash on the right shoulder on I-10 Westbound  near   Warner Rd (MP 159)   ",
          "115N04182<br>east<br>Crash on the right shoulder on I-10 Eastbound  near   Baseline Rd (MP 155)   ",
          "115N04182<br>east<br>Disabled vehicle on the left shoulder on I-10 Eastbound  near   Baseline Rd (MP ",
          "115+04187<br>west<br>Crash blocking the on ramp on I-10 Westbound  near   E University Dr (MP 151)   ",
          "115-04185<br>east<br>Sign damage on I-10 Eastbound  near   40th St (MP 152)   ",
          "115N04181<br>east<br>Disabled vehicle on the right shoulder on I-10 Eastbound  near   Superstition Fw",
          "115-04182<br>east<br>Debris on the left shoulder on I-10 Eastbound  near   S 48th St (MP 154)   ",
          "115+04182<br>west<br>Disabled vehicle on the right shoulder on I-10 Westbound  near   W Baseline Rd (",
          "115P04184<br>west<br>Debris on the left shoulder on I-10 Westbound  near   W Broadway Rd (MP 154)   ",
          "115+04181<br>west<br>Crash on the right shoulder on I-10 Westbound  near   E Elliot Rd (MP 157)   ",
          "115+04181<br>west<br>Crash on the right shoulder on I-10 Westbound  near   E Elliot Rd (MP 157)   ",
          "115P04184<br>west<br>Disabled vehicle on the right shoulder on I-10 Westbound  near   SR-143 Northbou",
          "115P04180<br>west<br>Right lanes closed on I-10 Westbound from E Elliot Rd (MP 158)  to  Baseline Rd ",
          "115P04181<br>west<br>Exit ramp closed on  ramp  from I-10 Westbound  to  W Baseline Rd . All Ramps Cl",
          "115-04180<br>east<br>Disabled vehicle on the right shoulder on I-10 Eastbound  near   Superstition Fw",
          "115N04184<br>east<br>Exit ramp closed on  ramp  from I-10 Eastbound  to  SR-143 Southbound . 1 Right ",
          "115P04188<br>west<br>Disabled vehicle on the right shoulder on I-10 Westbound  near   24th St (MP 150",
          "115N04182<br>east<br>HOV ramp closed on  ramp  from I-10 Eastbound  to  US-60 Eastbound . All HOV Lan",
          "115N04180<br>east<br>Vehicle fire on I-10 Eastbound  near   Elliot Rd (MP 158)   ",
          "115N04180<br>east<br>Crash on the left shoulder on I-10 Eastbound  near   Elliot Rd (MP 158)   ",
          "115-04177<br>east<br>Crash blocking the on ramp on I-10 Eastbound  near   E Ray Rd (MP 160)   ",
          "115N04184<br>east<br>Right lane closed on I-10 Eastbound from Hohokam Expy (MP 154)  to  I-10 (MP 172",
          "115N04180<br>east<br>Debris on the right shoulder on I-10 Eastbound  near   Elliot Rd (MP 158)   ",
          "115P04181<br>west<br>Debris on the left shoulder on I-10 Westbound  near   US-60 Eastbound (MP 156)  ",
          "115N04180<br>east<br>Crash on the right shoulder on I-10 Eastbound  near   Elliot Rd (MP 158)   ",
          "115P04185<br>west<br>Disabled vehicle on the right shoulder on I-10 Westbound  near   40th St (MP 152",
          "115-04182<br>east<br>Disabled vehicle on the right shoulder on I-10 Eastbound  near   I-10 (MP 172.0)",
          "115+04185<br>west<br>Debris on the left shoulder on I-10 Westbound  near   Hohokam Expy (MP 153)   ",
          "115N04179<br>east<br>Crash on the right shoulder on I-10 Eastbound  near   E Warner Rd (MP 159)   ",
          "115+04183<br>west<br>Abandoned vehicle on the right shoulder on I-10 Westbound  near   Broadway Rd (M",
          "115+04187<br>west<br>Disabled vehicle on the on ramp on I-10 Westbound  near   E University Dr (MP 15",
          "115P04178<br>west<br>Right lanes closed on I-10 Westbound from Ray Rd (MP 160)  to  Warner Rd (MP 159",
          "115+04179<br>west<br>Exit ramp closed on  ramp  from I-10 Westbound  to  W Warner Rd . All Ramps Clos",
          "115-04186<br>east<br>Debris on the left shoulder on I-10 Eastbound  near   S 24th St (MP 150)   ",
          "115-04186<br>east<br>Crash on the left shoulder on I-10 Eastbound  near   32nd St (MP 151)   ",
          "115N04184<br>east<br>Disabled vehicle on the left shoulder on I-10 Eastbound  near   SR-143 (MP 153) ",
          "115P04178<br>west<br>Right lanes closed on I-10 Westbound from Ray Rd (MP 160)  to  Warner Rd (MP 159",
          "115+04183<br>west<br>Right lane closed on I-10 Westbound from Broadway Rd (MP 154)  to  Broadway Rd (",
          "115+04187<br>west<br>Abandoned vehicle on the right shoulder on I-10 Westbound  near   24th St (MP 15",
          "115-04186<br>east<br>Debris on the left shoulder on I-10 Eastbound  near   S 24th St (MP 151)   ",
          "115P04187<br>west<br>Crash on the right shoulder on I-10 Westbound  near   24th St (MP 150)   ",
          "115-04181<br>east<br>Crash on the right shoulder on I-10 Eastbound  near   Baseline Rd (MP 156)   ",
          "115+04182<br>west<br>Right lane closed on I-10 Westbound from Western Canal (MP 156)  to  Superstitio",
          "115N04185<br>east<br>Right lanes closed on I-10 Eastbound from S 40th St (MP 152)  to  SR-143 Northbo",
          "115N04185<br>east<br>Disabled vehicle on the right shoulder on I-10 Eastbound  near   S 40th St (MP 1",
          "115P04181<br>west<br>Crash on the right shoulder on I-10 Westbound  near   US-60 Eastbound (MP 156)  ",
          "115-04185<br>east<br>Crash blocking the right lane on I-10 Eastbound  near   40th St (MP 152)   ",
          "115N04184<br>None<br>I10 @ W BROADWAY RD EB WO ,TMP - AccidentIncident - injury accident",
          "115N04186<br>east<br>Disabled vehicle on the right shoulder on I-10 Eastbound  near   32nd St (MP 151",
          "115N04188<br>None<br>I10 @ S 24TH ST WB WO ,PHX - AccidentIncident - injury accident",
          "115P04181<br>west<br>Right lane closed on I-10 Westbound from US-60 Eastbound (MP 156)  to  US-60 Eas",
          "115N04178<br>east<br>Crash blocking the intersection on I-10 Eastbound  near   Ray Rd (MP 160)   ",
          "115N04178<br>east<br>Traffic signal timing issue or timing adjusted  on I-10 Eastbound  near   Ray Rd",
          "115+04181<br>west<br>Animal near roadway on I-10 Westbound  near   E Elliot Rd (MP 157)   ",
          "115P04185<br>west<br>Debris on I-10 Westbound  near   40th St (MP 152)   ",
          "115P04186<br>west<br>Disabled vehicle on the right shoulder on I-10 Westbound  near   E University Dr",
          "115N04178<br>east<br>ITS equipment damage on I-10 Eastbound  near   Ray Rd (MP 160)   ",
          "115N04184<br>east<br>Crash on the right shoulder on I-10 Eastbound  near   SR-143 (MP 154)   ",
          "115P04183<br>west<br>Disabled vehicle on the right shoulder on I-10 Westbound  near   Broadway Rd (MP",
          "115-04181<br>east<br>Disabled vehicle on the right shoulder on I-10 Eastbound  near   Baseline Rd (MP",
          "115P04182<br>west<br>Fence damage on I-10 Westbound  near   Superstition Fwy (MP 155)   ",
          "115+04181<br>west<br>Dead animal near roadway on I-10 Westbound  near   E Elliot Rd (MP 157)   ",
          "115+04185<br>west<br>Debris on the right shoulder on I-10 Westbound  near   Hohokam Expy (MP 153)   ",
          "115N04185<br>east<br>Disabled vehicle on the on ramp on I-10 Eastbound  near   S 40th St (MP 153)   ",
          "115-04182<br>east<br>Crash on the right shoulder on I-10 Eastbound  near   I-10 (MP 172.0)   ",
          "115N04178<br>east<br>Crash on the on ramp on I-10 Eastbound  near   Ray Rd (MP 160)   ",
          "115N04184<br>east<br>Right lanes closed on I-10 Eastbound from Hohokam Expy (MP 153)  to  I-10 (MP 17",
          "115N04187<br>east<br>Crash blocking the left lane on I-10 Eastbound  near   S 24th St (MP 150)   ",
          "115N04181<br>east<br>Disabled vehicle on the right shoulder on I-10 Eastbound  near   Superstition Fw",
          "115N04184<br>east<br>Right lanes closed on I-10 Eastbound from Hohokam Expy (MP 153)  to  I-10 (MP 17",
          "115-04186<br>east<br>Debris on the right shoulder on I-10 Eastbound  near   32nd St (MP 151)   ",
          "115+04185<br>west<br>Disabled vehicle on the right shoulder on I-10 Westbound  near   Hohokam Expy (M",
          "115P04188<br>west<br>Crash on the right shoulder on I-10 Westbound  near   24th St (MP 150)   ",
          "115N04185<br>east<br>Left lanes closed on I-10 Eastbound from S 40th St (MP 152)  to  SR-143 Northbou",
          "115-04185<br>east<br>Abandoned vehicle on the right shoulder on I-10 Eastbound  near   40th St (MP 15",
          "115N04184<br>east<br>Debris on the right shoulder on I-10 Eastbound  near   SR-143 (MP 153)   ",
          "115-04184<br>east<br>Crash on the left shoulder on I-10 Eastbound  near   SR-143 (MP 153)   ",
          "115N04185<br>east<br>Disabled vehicle on the right shoulder on I-10 Eastbound  near   S 40th St (MP 1",
          "115-04186<br>east<br>Debris on the left shoulder on I-10 Eastbound  near   S 24th St (MP 151)   ",
          "115+04187<br>west<br>Crash on the right shoulder on I-10 Westbound  near   24th St (MP 150)   ",
          "115+04183<br>west<br>Left lanes closed on I-10 Westbound from Broadway Rd (MP 172.0)  to  SR-143 Nort",
          "115+04187<br>west<br>Disabled vehicle on the right shoulder on I-10 Westbound  near   E University Dr",
          "115+04187<br>west<br>Crash on the left shoulder on I-10 Westbound  near   24th St (MP 150)   ",
          "115+04185<br>west<br>Debris on the right shoulder on I-10 Westbound  near   Hohokam Expy (MP 153)   ",
          "115+04187<br>west<br>Debris on the left shoulder on I-10 Westbound  near   24th St (MP 150)   ",
          "115P04180<br>west<br>Disabled vehicle on the right shoulder on I-10 Westbound  near   E Elliot Rd (MP",
          "115-04180<br>east<br>Disabled vehicle on the right shoulder on I-10 Eastbound  near   Elliot Rd (MP 1",
          "115+04178<br>west<br>Left lanes closed on I-10 Westbound from E Chandler Blvd (MP 160)  to  E Elliot ",
          "115P04180<br>west<br>Left lanes closed on I-10 Westbound from E Elliot Rd (MP 158)  to  Baseline Rd (",
          "115N04184<br>east<br>Right lanes closed on I-10 Eastbound from Hohokam Expy (MP 154)  to  I-10 (MP 17",
          "115+04178<br>west<br>Left lanes closed on I-10 Westbound from E Chandler Blvd (MP 160)  to  E Elliot ",
          "115P04180<br>west<br>Left lanes closed on I-10 Westbound from E Elliot Rd (MP 158)  to  Baseline Rd (",
          "115N04179<br>east<br>Disabled vehicle on the on ramp on I-10 Eastbound  near   E Warner Rd (MP 159)  ",
          "115-04177<br>east<br>Disabled vehicle on the right shoulder on I-10 Eastbound  near   E Ray Rd (MP 16",
          "115+04185<br>west<br>Debris on the right shoulder on I-10 Westbound  near   Hohokam Expy (MP 153)   ",
          "115P04188<br>west<br>Debris on the right shoulder on I-10 Westbound  near   24th St (MP 150)   ",
          "115N04184<br>east<br>Right lanes closed on I-10 Eastbound from Hohokam Expy (MP 154)  to  I-10 (MP 17",
          "115-04180<br>east<br>Left lane closed on I-10 Eastbound from Superstition Fwy (MP 156)  to  Elliot Rd",
          "115N04178<br>east<br>Left lane closed on I-10 Eastbound from Ray Rd (MP 160)  to  Chandler Blvd (MP 1",
          "115+04186<br>west<br>Left lanes closed on I-10 Westbound from S 40th St (MP 152)  to  E University Dr",
          "115P04178<br>west<br>Disabled vehicle on the right shoulder on I-10 Westbound  near   E Ray Rd (MP 16",
          "115N04178<br>east<br>Crash on the right shoulder on I-10 Eastbound  near   Ray Rd (MP 160)   ",
          "115P04180<br>west<br>Crash blocking the HOV lane on I-10 Westbound  near   E Elliot Rd (MP 158)   ",
          "115N05165<br>east<br>Debris blocking the left lane on I-10 Eastbound  near   E Chandler Blvd (MP 161)",
          "115P04178<br>west<br>Disabled vehicle blocking the left lanes on I-10 Westbound  near   E Ray Rd (MP ",
          "115N04180<br>east<br>Crash on the right shoulder on I-10 Eastbound  near   Elliot Rd (MP 158)   ",
          "115P04182<br>west<br>Disabled vehicle on the right shoulder on I-10 Westbound  near   US-60 Westbound",
          "115N04186<br>east<br>Right lanes closed on I-10 Eastbound from 32nd St (MP 151)  to  40th St (MP 152)",
          "115N04180<br>east<br>Disabled vehicle blocking the intersection on I-10 Eastbound  near   Elliot Rd (",
          "115-04180<br>east<br>Disabled vehicle on the right shoulder on I-10 Eastbound  near   Elliot Rd (MP 1",
          "115+04181<br>west<br>Crash on the right shoulder on I-10 Westbound  near   E Elliot Rd (MP 157)   ",
          "115P04181<br>west<br>Disabled vehicle on the on ramp on I-10 Westbound  near   US-60 Eastbound (MP 15",
          "115N04179<br>east<br>Crash blocking the exit ramp on I-10 Eastbound  near   E Warner Rd (MP 159)   ",
          "115P04179<br>west<br>Crash blocking the left lane on I-10 Westbound  near   W Warner Rd (MP 159)   ",
          "115+04181<br>west<br>Crash on the right shoulder on I-10 Westbound  near   E Elliot Rd (MP 157)   ",
          "115P04180<br>None<br>I10 @ E ELLIOT RD NB OF ,TMP - AccidentIncident - injury accident",
          "115P04180<br>west<br>Right lanes closed on I-10 Westbound from E Elliot Rd (MP 158)  to  Baseline Rd ",
          "115-04182<br>east<br>Debris on the right shoulder on I-10 Eastbound  near   I-10 (MP 172.0)   ",
          "115P04178<br>west<br>Disabled vehicle on the right shoulder on I-10 Westbound  near   E Ray Rd (MP 16",
          "115N04185<br>east<br>Disabled vehicle on the right shoulder on I-10 Eastbound  near   S 40th St (MP 1",
          "115P04177<br>west<br>Crash blocking the intersection on I-10 Westbound  near   202-LOOP Eastbound (MP",
          "115P04186<br>west<br>Crash on the right shoulder on I-10 Westbound  near   E University Dr (MP 151)  ",
          "115N04186<br>east<br>Left lanes closed on I-10 Eastbound from E University Dr (MP 151)  to  SR-143 No",
          "115P04183<br>west<br>Disabled vehicle on the left shoulder on I-10 Westbound  near   Broadway Rd (MP ",
          "115P04183<br>None<br>I10 @ W BROADWAY RD WB EO ,TMP - AccidentIncident - vehicle on fire",
          "115P04183<br>west<br>Vehicle fire on I-10 Westbound  near   Broadway Rd (MP 154)   ",
          "115-04177<br>None<br>I10 @ E RAY RD SB SO ,PHX - AccidentIncident - injury accident",
          "115+04183<br>west<br>Disabled vehicle on the right shoulder on I-10 Westbound  near   Broadway Rd (MP",
          "115-04186<br>east<br>Disabled vehicle blocking the on ramp on I-10 Eastbound  near   S 24th St (MP 15",
          "115N04184<br>east<br>Left lane closed on I-10 Eastbound from Hohokam Expy (MP 153)  to  SR-143 Northb",
          "115P04183<br>west<br>Disabled vehicle on the right shoulder on I-10 Westbound  near   Broadway Rd (MP",
          "115P04184<br>west<br>Abandoned vehicle on the right shoulder on I-10 Westbound  near   SR-143 Northbo",
          "115P04187<br>west<br>Debris blocking the left lane on I-10 Westbound  near   24th St (MP 150)   ",
          "115P04178<br>west<br>Crash on the exit ramp on I-10 Westbound  near   E Ray Rd (MP 160)   ",
          "115-04185<br>east<br>Disabled vehicle on the right shoulder on I-10 Eastbound  near   40th St (MP 152",
          "115-04182<br>east<br>Left lanes closed on I-10 Eastbound from I-10 (MP 172.0)  to  I-10 (MP 155) . Al",
          "115N04182<br>east<br>HOV ramp closed on  ramp  from I-10 Eastbound  to  US-60 Eastbound . All HOV Lan",
          "115N04180<br>east<br>ITS equipment damage on I-10 Eastbound  near   E Elliot Rd (MP 158)   ",
          "115+04187<br>west<br>Disabled vehicle on the left shoulder on I-10 Westbound  near   E University Dr ",
          "115P04180<br>west<br>Abandoned vehicle on the right shoulder on I-10 Westbound  near   Elliot Rd (MP ",
          "115P04187<br>west<br>Debris on the left shoulder on I-10 Westbound  near   24th St (MP 150)   ",
          "115N04184<br>east<br>Debris on the left shoulder on I-10 Eastbound  near   SR-143 (MP 153)   ",
          "115P04184<br>west<br>Disabled vehicle on the left shoulder on I-10 Westbound  near   W Broadway Rd (M",
          "115P04187<br>west<br>Disabled vehicle on the left shoulder on I-10 Westbound  near   24th St (MP 150)",
          "115N04179<br>east<br>Disabled vehicle blocking the exit ramp on I-10 Eastbound  near   E Warner Rd (M",
          "115+04185<br>west<br>Debris on I-10 Westbound  near   Hohokam Expy (MP 153)   ",
          "115P04184<br>west<br>Left lanes closed on I-10 Westbound from W Broadway Rd (MP 153)  to  University ",
          "115+04187<br>west<br>Debris on the right shoulder on I-10 Westbound  near   E University Dr (MP 151) ",
          "115N04186<br>east<br>Crash on the right shoulder on I-10 Eastbound  near   32nd St (MP 151)   ",
          "115-04186<br>None<br>I10 @ E UNIVERSITY DR EB WO ,PHX - AccidentIncident - injury accident",
          "115N04186<br>east<br>Right lanes closed on I-10 Eastbound from 32nd St (MP 151)  to  32nd St (MP 152)",
          "115N04186<br>east<br>Exit ramp closed on  ramp  from I-10 Eastbound  to  S 32nd St . All Ramps Closed",
          "115N04181<br>None<br>W BASELINE RD/I10 ,TMP - AccidentIncident - injury accident",
          "115N04186<br>east<br>Debris on the right shoulder on I-10 Eastbound  near   32nd St (MP 151)   ",
          "115-04186<br>east<br>Disabled vehicle on the right shoulder on I-10 Eastbound  near   32nd St (MP 151",
          "115N04182<br>east<br>Disabled vehicle on the right shoulder on I-10 Eastbound  near   Baseline Rd (MP",
          "115P04179<br>west<br>Disabled vehicle on the right shoulder on I-10 Westbound  near   W Warner Rd (MP",
          "115P04181<br>west<br>Disabled vehicle blocking the exit ramp on I-10 Westbound  near   US-60 Eastboun",
          "115P04182<br>west<br>Water or irrigation leak on I-10 Westbound  near   Superstition Fwy (MP 155)   ",
          "115P04187<br>west<br>Exit ramp closed on  ramp  from I-10 Westbound  to  S 24th St . All Ramps Closed",
          "115P04187<br>west<br>Right lanes closed on I-10 Westbound from 24th St (MP 150)  to  24th St (MP 150)",
          "115P04178<br>west<br>Left lane closed on I-10 Westbound from Ray Rd (MP 160)  to  E Ray Rd (MP 160) .",
          "115N04178<br>east<br>Left lanes closed on I-10 Eastbound from Ray Rd (MP 159)  to  Ray Rd (MP 160) . ",
          "115+04183<br>west<br>Disabled vehicle on the right shoulder on I-10 Westbound  near   Broadway Rd (MP",
          "115N04188<br>east<br>Shoulder closed on I-10 Eastbound  near   S 24th St (MP 150) . All Shoulders Clo",
          "115P04187<br>west<br>Exit ramp closed on  ramp  from I-10 Westbound  to  S 24th St . All Ramps Closed",
          "115P04187<br>west<br>Right lanes closed on I-10 Westbound from 24th St (MP 150)  to  24th St (MP 150)",
          "115P04188<br>west<br>Debris on the left shoulder on I-10 Westbound  near   24th St (MP 150)   ",
          "115P04183<br>None<br>I10 CD @ W BROADWAY RD WB EO ,TMP - AccidentIncident - injury accident",
          "115P04184<br>west<br>Crash on I-10 Westbound  near   SR-143 Northbound (MP 154)   ",
          "115P04182<br>west<br>Disabled vehicle on the right shoulder on I-10 Westbound  near   US-60 Westbound",
          "115P04181<br>west<br>Disabled vehicle on the right shoulder on I-10 Westbound  near   US-60 Eastbound",
          "115N04185<br>east<br>Vehicle fire on I-10 Eastbound  near   S 40th St (MP 152)   ",
          "115+04183<br>west<br>Disabled vehicle on the right shoulder on I-10 Westbound  near   Broadway Rd (MP",
          "115-04186<br>east<br>Disabled vehicle on the exit ramp on I-10 Eastbound  near   32nd St (MP 151)   ",
          "115P04181<br>west<br>Disabled vehicle on the right shoulder on I-10 Westbound  near   US-60 Eastbound",
          "115-04181<br>east<br>Disabled vehicle on the right shoulder on I-10 Eastbound  near   Baseline Rd (MP",
          "115N04180<br>None<br>I10 @ E ELLIOT RD SB UP ,PHX - AccidentIncident - medical emergency",
          "115N04185<br>east<br>Exit ramp restricted on  ramp  from I-10 Eastbound  to  S 40th St . 1 Left Ramp ",
          "115P04179<br>west<br>Crash on the right shoulder on I-10 Westbound  near   Warner Rd (MP 159)   ",
          "115+04185<br>west<br>Vehicle fire on I-10 Westbound  near   Hohokam Expy (MP 153)   ",
          "115P04185<br>None<br>I10 @ S 40TH ST WB EO ,PHX - AccidentIncident - vehicle on fire",
          "115P04185<br>west<br>Debris blocking the left lane on I-10 Westbound  near   40th St (MP 152)   ",
          "115P04185<br>west<br>Crash on the right shoulder on I-10 Westbound  near   40th St (MP 152)   ",
          "115N04178<br>east<br>Left lanes closed on I-10 Eastbound from Ray Rd (MP 159)  to  Ray Rd (MP 160) . ",
          "115P04183<br>west<br>Disabled vehicle on the right shoulder on I-10 Westbound  near   Broadway Rd (MP",
          "115P04183<br>west<br>Infrastructure damage on I-10 Westbound  near   Broadway Rd (MP 154)   ",
          "115P04178<br>west<br>Left lane closed on I-10 Westbound from Ray Rd (MP 160)  to  E Ray Rd (MP 160) .",
          "115P04184<br>west<br>Disabled vehicle blocking the HOV lane on I-10 Westbound  near   SR-143 Northbou",
          "115N04186<br>east<br>Disabled vehicle on the right shoulder on I-10 Eastbound  near   32nd St (MP 151",
          "115+04182<br>west<br>Crash on the right shoulder on I-10 Westbound  near   W Baseline Rd (MP 156)   ",
          "115N04184<br>east<br>Left lanes closed on I-10 Eastbound from Hohokam Expy (MP 153)  to  SR-143 North",
          "115P04182<br>west<br>Left lanes closed on I-10 Westbound from Western Canal (MP 155)  to  Broadway Rd",
          "115P04184<br>west<br>HOV ramp closed on  ramp  from I-10 Westbound  to  SR-143 Northbound . All HOV L",
          "115+04187<br>west<br>Debris blocking the right lane on I-10 Westbound  near   E University Dr (MP 151",
          "115P04185<br>west<br>Disabled vehicle blocking the exit ramp on I-10 Westbound  near   40th St (MP 15",
          "115N04180<br>east<br>Crash on the right shoulder on I-10 Eastbound  near   Elliot Rd (MP 158)   ",
          "115N04180<br>None<br>I10 @ E ELLIOT RD SB UP ,PHX - AccidentIncident - injury accident",
          "115P04187<br>west<br>Disabled vehicle on the right shoulder on I-10 Westbound  near   24th St (MP 150",
          "115N04181<br>east<br>Crash on the right shoulder on I-10 Eastbound  near   Superstition Fwy (MP 156) ",
          "115N04184<br>east<br>Disabled vehicle on the left shoulder on I-10 Eastbound  near   SR-143 (MP 153) ",
          "115N04185<br>east<br>Disabled vehicle on the right shoulder on I-10 Eastbound  near   S 40th St (MP 1",
          "115-04186<br>east<br>Disabled vehicle on the right shoulder on I-10 Eastbound  near   S 24th St (MP 1",
          "115P04177<br>west<br>Crash on the right shoulder on I-10 Westbound  near   202-LOOP Eastbound (MP 161",
          "115N04184<br>east<br>Right lanes closed on I-10 Eastbound from Hohokam Expy (MP 153)  to  I-10 (MP 17",
          "115P04184<br>west<br>Infrastructure damage on I-10 Westbound  near   SR-143 Northbound (MP 154)   ",
          "115N04185<br>east<br>Debris on the right shoulder on I-10 Eastbound  near   S 40th St (MP 152)   ",
          "115P04181<br>west<br>Debris on the left shoulder on I-10 Westbound  near   US-60 Eastbound (MP 156)  ",
          "115+04181<br>west<br>Crash blocking the right lane on I-10 Westbound  near   Baseline Rd (MP 157)   ",
          "115P04181<br>None<br>I10 @ W BASELINE RD NB NO ,TMP - AccidentIncident - medical emergency",
          "115-04183<br>east<br>Disabled vehicle on the right shoulder on I-10 Eastbound  near   Hohokam Expy (M",
          "115N04184<br>east<br>Crash on the left shoulder on I-10 Eastbound  near   SR-143 (MP 154)   ",
          "115N04182<br>east<br>Vehicle fire on I-10 Eastbound  near   Baseline Rd (MP 155)   ",
          "115N04182<br>None<br>I10 @ W SOUTHERN AV SB OP ,TMP - AccidentIncident - vehicle on fire",
          "115P04182<br>west<br>Disabled vehicle on the right shoulder on I-10 Westbound  near   W Baseline Rd (",
          "115N04184<br>east<br>Left lanes closed on I-10 Eastbound from Hohokam Expy (MP 153)  to  SR-143 North",
          "115N04184<br>east<br>Right lanes closed on I-10 Eastbound from Hohokam Expy (MP 153)  to  I-10 (MP 17",
          "115N04187<br>east<br>Road closed due to a crash on I-10 Eastbound  near   S 24th St (MP 150)   ",
          "115N04187<br>east<br>Crash blocking the right lane on I-10 Eastbound  near   S 24th St (MP 150)   ",
          "115P04184<br>west<br>Debris on the right shoulder on I-10 Westbound  near   SR-143 Northbound (MP 154",
          "115P04188<br>west<br>Debris blocking the right lane on I-10 Westbound  near   24th St (MP 150)   ",
          "115P04185<br>west<br>Disabled vehicle blocking the right lane on I-10 Westbound  near   40th St (MP 1",
          "115P04188<br>west<br>Debris on I-10 Westbound  near   24th St (MP 150)   ",
          "115-04180<br>east<br>Disabled vehicle on the right shoulder on I-10 Eastbound  near   Elliot Rd (MP 1",
          "115-04183<br>east<br>Disabled vehicle on the right shoulder on I-10 Eastbound  near   Hohokam Expy (M",
          "115P04183<br>west<br>Exit ramp closed on  ramp  from I-10 Westbound  to  W Broadway Rd . All Ramps Cl",
          "115N04188<br>east<br>Left lanes closed on I-10 Eastbound from I-17 Northbound (MP 150)  to  S 24th St",
          "115P04182<br>None<br>I10 CD @ US60 NB TO EB ,TMP - AccidentIncident - medical emergency",
          "115-04186<br>east<br>Crash on the left shoulder on I-10 Eastbound  near   S 24th St (MP 150)   ",
          "115P04183<br>west<br>Exit ramp closed on  ramp  from I-10 Westbound  to  W Broadway Rd . All Ramps Cl",
          "115N04186<br>east<br>Left lanes closed on I-10 Eastbound from 32nd St (MP 151)  to  40th St (MP 153) ",
          "115+04187<br>west<br>Left lane closed on I-10 Westbound from Salt River (MP 151)  to  24th St (MP 150",
          "115P04188<br>west<br>Crash on the right shoulder on I-10 Westbound  near   24th St (MP 150)   ",
          "115P04186<br>west<br>Disabled vehicle on the right shoulder on I-10 Westbound  near   E University Dr",
          "115N04185<br>east<br>Right lanes closed on I-10 Eastbound from 40th St (MP 152)  to  S 40th St (MP 15",
          "115P04183<br>west<br>Crash on the exit ramp on I-10 Westbound  near   Broadway Rd (MP 154)   ",
          "115P04181<br>west<br>Crash blocking the intersection on I-10 Westbound  near   US-60 Eastbound (MP 15",
          "115P04187<br>west<br>Exit ramp closed on  ramp  from I-10 Westbound  to  S 24th St . All Ramps Closed",
          "115N04181<br>None<br>W BASELINE RD/I10 ,TMP - AccidentIncident - injury accident",
          "115+04187<br>west<br>Crash on the right shoulder on I-10 Westbound  near   24th St (MP 150)   ",
          "115P04185<br>None<br>I10 @ S 40TH ST WB UP ,PHX - AccidentIncident - injury accident",
          "115P04185<br>west<br>Crash on the left shoulder on I-10 Westbound  near   40th St (MP 152)   ",
          "115P04185<br>west<br>Left lanes closed on I-10 Westbound from S 40th St (MP 152)  to  Salt River (MP ",
          "115-04186<br>east<br>Crash blocking the on ramp on I-10 Eastbound  near   32nd St (MP 151)   ",
          "115P04184<br>west<br>Crash on the right shoulder on I-10 Westbound  near   SR-143 Northbound (MP 154)",
          "115N04182<br>east<br>Disabled vehicle on the right shoulder on I-10 Eastbound  near   Baseline Rd (MP",
          "115P04178<br>west<br>Disabled vehicle on the right shoulder on I-10 Westbound  near   Ray Rd (MP 160)",
          "115P04188<br>west<br>Debris on the right shoulder on I-10 Westbound  near   Arizona Veterans Memorial",
          "115P04178<br>west<br>Abandoned vehicle on the right shoulder on I-10 Westbound  near   Ray Rd (MP 160",
          "115-04181<br>east<br>Debris on the right shoulder on I-10 Eastbound  near   Baseline Rd (MP 156)   ",
          "115N04182<br>east<br>Crash on the right shoulder on  ramp  from I-10 Westbound  to  I-10 Westbound (M",
          "115+04187<br>west<br>Disabled vehicle on the right shoulder on I-10 Westbound  near   E University Dr",
          "115-04186<br>east<br>Disabled vehicle on the right shoulder on I-10 Eastbound  near   32nd St (MP 151",
          "115P04184<br>west<br>Disabled vehicle on the right shoulder on I-10 Westbound  near   SR-143 Northbou",
          "115-04180<br>east<br>Disabled vehicle on the right shoulder on I-10 Eastbound  near   Elliot Rd (MP 1",
          "115+04178<br>west<br>Crash blocking the exit ramp on I-10 Westbound  near   Ray Rd (MP 160)   ",
          "115+04182<br>west<br>Crash on the right shoulder on I-10 Westbound  near   W Baseline Rd (MP 156)   ",
          "115P04178<br>west<br>Disabled vehicle on the on ramp on I-10 Westbound  near   Ray Rd (MP 160)   ",
          "115N04180<br>east<br>Debris on the left shoulder on I-10 Eastbound  near   Elliot Rd (MP 158)   ",
          "115N04180<br>east<br>Sign damage on I-10 Eastbound  near   Elliot Rd (MP 158)   ",
          "115N04180<br>east<br>Disabled vehicle on the exit ramp on I-10 Eastbound  near   Elliot Rd (MP 158)  ",
          "115-04177<br>east<br>Crash on the left shoulder on I-10 Eastbound  near   E Ray Rd (MP 160)   ",
          "115N04187<br>east<br>Debris on the left shoulder on I-10 Eastbound  near   S 24th St (MP 150)   ",
          "115+04185<br>west<br>Debris on the right shoulder on I-10 Westbound  near   Hohokam Expy (MP 153)   ",
          "115P04178<br>west<br>Wrong-way driver on I-10 Westbound  near   Ray Rd (MP 160)   ",
          "115N04178<br>east<br>Disabled vehicle on the right shoulder on I-10 Eastbound  near   Ray Rd (MP 160)",
          "115-04186<br>east<br>Disabled vehicle on the left shoulder on I-10 Eastbound  near   S 24th St (MP 15",
          "115N04180<br>east<br>Crash on the right shoulder on I-10 Eastbound  near   Elliot Rd (MP 158)   ",
          "115-04179<br>None<br>I10 @ E WARNER RD SB NO ,PHX - AccidentIncident - injury accident",
          "115N04179<br>None<br>I10 / W WARNER RD[JN RD PULLED OFF RIGHT                                    TE -",
          "115N04180<br>east<br>Crash blocking the right lane on I-10 Eastbound  near   Elliot Rd (MP 158)   ",
          "115N04179<br>None<br>W WARNER RD / I10                                                           TE -",
          "115N04180<br>east<br>Traffic signal issue on I-10 Eastbound  near   E Elliot Rd (MP 158)   ",
          "115-04180<br>east<br>Disabled vehicle on the right shoulder on I-10 Eastbound  near   Elliot Rd (MP 1",
          "115P04185<br>west<br>Disabled vehicle on the right shoulder on I-10 Westbound  near   40th St (MP 152",
          "115N04180<br>east<br>Disabled vehicle on the exit ramp on I-10 Eastbound  near   Elliot Rd (MP 158)  ",
          "115-04186<br>east<br>Disabled vehicle on the right shoulder on I-10 Eastbound  near   32nd St (MP 151",
          "115P04183<br>west<br>Crash on the exit ramp on I-10 Westbound  near   Broadway Rd (MP 154)   ",
          "115N04179<br>None<br>W WARNER RD / I10                                                           TE -",
          "115-04181<br>east<br>Crash blocking the on ramp on I-10 Eastbound  near   Baseline Rd (MP 156)   ",
          "115P04181<br>west<br>Graffiti on I-10 Westbound  near   US-60 Eastbound (MP 156)   ",
          "115P04180<br>west<br>Crash on the right shoulder on I-10 Westbound  near   E Elliot Rd (MP 158)   ",
          "115P04185<br>west<br>Disabled vehicle on the right shoulder on I-10 Westbound  near   40th St (MP 152",
          "115-04186<br>east<br>Debris blocking the center lane on I-10 Eastbound  near   S 24th St (MP 151)   ",
          "115N04182<br>east<br>Disabled vehicle on the right shoulder on I-10 Eastbound  near   Baseline Rd (MP",
          "115N04181<br>None<br>W BASELINE RD / I10                                                         TE -",
          "115N04181<br>None<br>W BASELINE RD / I10                                                         TE -",
          "115P04180<br>west<br>Abandoned vehicle on the right shoulder on I-10 Westbound  near   Elliot Rd (MP ",
          "115-04180<br>east<br>Disabled vehicle on the right shoulder on I-10 Eastbound  near   Elliot Rd (MP 1",
          "115-04180<br>east<br>Disabled vehicle on the right shoulder on I-10 Eastbound  near   Superstition Fw",
          "115P04186<br>west<br>Disabled vehicle on the right shoulder on I-10 Westbound  near   E University Dr",
          "115P04186<br>west<br>Crash on the right shoulder on I-10 Westbound  near   E University Dr (MP 151)  ",
          "115-04186<br>east<br>Debris on the right shoulder on I-10 Eastbound  near   S 24th St (MP 151)   ",
          "115P04184<br>west<br>ITS equipment damage on I-10 Westbound  near   SR-143 Northbound (MP 154)   ",
          "115N04182<br>east<br>Disabled vehicle on the right shoulder on I-10 Eastbound  near   Baseline Rd (MP",
          "115N04180<br>east<br>Crash on the left shoulder on I-10 Eastbound  near   Elliot Rd (MP 158)   ",
          "115-04180<br>east<br>Crash on the right shoulder on I-10 Eastbound  near   Elliot Rd (MP 157)   ",
          "115N04180<br>east<br>Pedestrian on roadway on I-10 Eastbound  near   Elliot Rd (MP 158)   ",
          "115-04186<br>east<br>Debris on the right shoulder on I-10 Eastbound  near   S 24th St (MP 151)   ",
          "115N04181<br>None<br>W BASELINE RD / I10                                                         TE -",
          "115+04185<br>west<br>ITS equipment damage on I-10 Westbound  near   Hohokam Expy (MP 153)   ",
          "115P04180<br>west<br>Crash on the right shoulder on I-10 Westbound  near   E Elliot Rd (MP 158)   ",
          "115N04182<br>east<br>Disabled vehicle on the right shoulder on I-10 Eastbound  near   Baseline Rd (MP",
          "115P04185<br>west<br>Disabled vehicle blocking the right lane on I-10 Westbound  near   40th St (MP 1",
          "115P04185<br>west<br>Disabled vehicle on the right shoulder on I-10 Westbound  near   S 40th St (MP 1",
          "115N04180<br>None<br>I10 / W ELLIOT RD                                                           TE -",
          "115N04184<br>None<br>W BROADWAY RD / I10                                                         TE -",
          "115P04181<br>west<br>Debris on the right shoulder on I-10 Westbound  near   US-60 Eastbound (MP 156) ",
          "115P04188<br>west<br>Crash on the right shoulder on I-10 Westbound  near   24th St (MP 150)   ",
          "115N04187<br>east<br>Pedestrian on roadway on I-10 Eastbound  near   S 24th St (MP 150)   ",
          "115P04182<br>west<br>Disabled vehicle on the right shoulder on I-10 Westbound  near   Superstition Fw",
          "115P04187<br>west<br>Crash on the right shoulder on I-10 Westbound  near   24th St (MP 150)   ",
          "115+04185<br>west<br>Fence damage on I-10 Westbound  near   Hohokam Expy (MP 153)   ",
          "115N04180<br>east<br>Debris on the right shoulder on I-10 Eastbound  near   Elliot Rd (MP 158)   ",
          "115P04179<br>west<br>Crash on the right shoulder on I-10 Westbound  near   Warner Rd (MP 159)   ",
          "115+04183<br>west<br>Crash on the right shoulder on I-10 Westbound  near   Broadway Rd (MP 172.0)   ",
          "115P04187<br>west<br>Crash on the right shoulder on I-10 Westbound  near   24th St (MP 150)   ",
          "115N04185<br>east<br>Disabled vehicle on the right shoulder on I-10 Eastbound  near   S 40th St (MP 1",
          "115+04187<br>west<br>Crash on the right shoulder on I-10 Westbound  near   24th St (MP 150)   ",
          "115N04179<br>None<br>I10 / W WARNER RD[JE                                                        TE -",
          "115N04179<br>east<br>Crash blocking the intersection on I-10 Eastbound  near   E Warner Rd (MP 159)  ",
          "115+04187<br>west<br>Crash on the left shoulder on I-10 Westbound  near   E University Dr (MP 151)   ",
          "115+04181<br>west<br>Disabled vehicle on the right shoulder on I-10 Westbound  near   E Elliot Rd (MP",
          "115+04187<br>west<br>Crash on the right shoulder on I-10 Westbound  near   24th St (MP 150)   ",
          "115-04186<br>east<br>Disabled vehicle on the right shoulder on I-10 Eastbound  near   S 24th St (MP 1",
          "115-04186<br>east<br>Disabled vehicle on the right shoulder on I-10 Eastbound  near   S 24th St (MP 1",
          "115+04187<br>west<br>Crash on the left shoulder on I-10 Westbound  near   24th St (MP 150)   ",
          "115P04179<br>west<br>Road closed due to a crash on I-10 Westbound  near   Warner Rd (MP 159)   ",
          "115N04184<br>None<br>W BROADWAY RD / I10                                                         TE -",
          "115N04181<br>None<br>W BASELINE RD / I10                                                         TE -",
          "115P04188<br>west<br>Freeway closed on I-10 Westbound from Arizona Veterans Memorial Hwy (MP 150)  to",
          "115N04181<br>east<br>Dead animal near roadway on I-10 Eastbound  near   Superstition Fwy (MP 156)   ",
          "115P04188<br>west<br>Sign damage on I-10 Westbound  near   24th St (MP 150)   ",
          "115-04182<br>east<br>Disabled vehicle on the right shoulder on I-10 Eastbound  near   I-10 (MP 172.0)",
          "115N04181<br>None<br>W BASELINE RD / I10 [WB                                                     TE -",
          "115N04182<br>east<br>Disabled vehicle on the left shoulder on I-10 Eastbound  near   Baseline Rd (MP ",
          "115-04183<br>east<br>Crash on I-10 Eastbound  near   Hohokam Expy (MP 154)   ",
          "115N04182<br>east<br>Guardrail damage on I-10 Eastbound  near   Baseline Rd (MP 155)   ",
          "115P04188<br>west<br>Crash on the right shoulder on I-10 Westbound  near   24th St (MP 150)   ",
          "115N04187<br>east<br>Disabled vehicle on the right shoulder on I-10 Eastbound  near   S 24th St (MP 1",
          "115P04178<br>west<br>Debris on the left shoulder on I-10 Westbound  near   Ray Rd (MP 160)   ",
          "115N04188<br>east<br>Shoulder closed on I-10 Eastbound  near   I-17 Northbound (MP 150) . All Shoulde",
          "115+04185<br>west<br>Crash on the left shoulder on I-10 Westbound  near   Hohokam Expy (MP 153)   ",
          "115N04179<br>None<br>W WARNER RD / I10                                                           TE -",
          "115+04187<br>west<br>Disabled vehicle on the left shoulder on I-10 Westbound  near   24th St (MP 150)",
          "115+04187<br>west<br>Crash on the right shoulder on I-10 Westbound  near   24th St (MP 150)   ",
          "115N04181<br>None<br>W BASELINE RD / I10                                                         TE -",
          "115+04187<br>west<br>Disabled vehicle on the right shoulder on I-10 Westbound  near   E University Dr",
          "115-04182<br>east<br>Disabled vehicle on the right shoulder on I-10 Eastbound  near   I-10 (MP 172.0)",
          "115N04181<br>None<br>W BASELINE RD / I10                                                         TE -",
          "115N04184<br>None<br>I10 / W BROADWAY RD                                                         TE -",
          "115N04177<br>east<br>Crash blocking the intersection on I-10 Eastbound  near   202-LOOP Eastbound (MP",
          "115P04182<br>west<br>Disabled vehicle on the right shoulder on I-10 Westbound  near   Superstition Fw",
          "115N04187<br>east<br>Crash on the right shoulder on I-10 Eastbound  near   S 24th St (MP 150)   ",
          "115P04185<br>west<br>Disabled vehicle on the right shoulder on I-10 Westbound  near   S 40th St (MP 1",
          "115+04183<br>west<br>Crash on the left shoulder on I-10 Westbound  near   Broadway Rd (MP 154)   ",
          "115P04185<br>west<br>Abandoned vehicle on the right shoulder on I-10 Westbound  near   S 40th St (MP ",
          "115P04179<br>west<br>Traffic signal timing issue or timing adjusted  on I-10 Westbound  near   W Warn",
          "115N04178<br>east<br>Disabled vehicle blocking the exit ramp on I-10 Eastbound  near   Ray Rd (MP 160",
          "115-04180<br>east<br>Debris on the left shoulder on I-10 Eastbound  near   Elliot Rd (MP 157)   ",
          "115N04181<br>None<br>I10 / W BASELINE RD [ES                                                     TE -",
          "115N04182<br>east<br>Disabled vehicle on the right shoulder on I-10 Eastbound  near   Baseline Rd (MP",
          "115P04178<br>west<br>Dead animal near roadway on I-10 Westbound  near   E Ray Rd (MP 160)   ",
          "115P04181<br>west<br>Patching on  ramp  from I-10 Westbound  to  US-60 Eastbound . All lanes closed. ",
          "115+04187<br>west<br>Disabled vehicle on the right shoulder on I-10 Westbound  near   E University Dr",
          "115+04181<br>west<br>Disabled vehicle on the right shoulder on I-10 Westbound  near   E Elliot Rd (MP",
          "115N04182<br>None<br>I10 / W SOUTHERN AVE                                                        TE -",
          "115N04185<br>east<br>Debris blocking the right lanes on I-10 Eastbound  near   S 40th St (MP 152)   ",
          "115P04188<br>west<br>Crash on the left shoulder on I-10 Westbound  near   24th St (MP 150)   ",
          "115N04179<br>east<br>Debris blocking the right lane on I-10 Eastbound  near   E Warner Rd (MP 159)   ",
          "115-04186<br>east<br>Debris blocking the left lane on I-10 Eastbound  near   32nd St (MP 151)   ",
          "115+04181<br>west<br>Dead animal near roadway on I-10 Westbound  near   E Elliot Rd (MP 157)   ",
          "115N04181<br>None<br>W BASELINE RD / I10                                                         TE -",
          "115P04187<br>west<br>Disabled vehicle blocking the center lane on I-10 Westbound  near   24th St (MP ",
          "115-04186<br>east<br>Disabled vehicle on the right shoulder on I-10 Eastbound  near   S 24th St (MP 1",
          "115+04187<br>west<br>Disabled vehicle on the right shoulder on I-10 Westbound  near   24th St (MP 150",
          "115N04187<br>east<br>Disabled vehicle on the right shoulder on I-10 Eastbound  near   S 24th St (MP 1",
          "115N04178<br>east<br>Crash on the right shoulder on I-10 Eastbound  near   Ray Rd (MP 160)   ",
          "115+04181<br>west<br>Disabled vehicle on the right shoulder on I-10 Westbound  near   E Elliot Rd (MP",
          "115P04188<br>west<br>Traffic signal issue on I-10 Westbound  near   Arizona Veterans Memorial Hwy (MP",
          "115-04183<br>east<br>ITS equipment damage on I-10 Eastbound  near   Hohokam Expy (MP 154)   ",
          "115N04181<br>east<br>Infrastructure damage on I-10 Eastbound  near   Superstition Fwy (MP 156)   ",
          "115N04177<br>east<br>Crash in the median on I-10 Eastbound  near   202-LOOP HOV Eastbound (MP 161)   ",
          "115P04177<br>west<br>Crash in the median on I-10 Westbound  near   202-LOOP Westbound (MP 161)   ",
          "115-04186<br>east<br>Crash on the left shoulder on I-10 Eastbound  near   32nd St (MP 151)   ",
          "115+04187<br>west<br>Debris on the left shoulder on I-10 Westbound  near   24th St (MP 150)   ",
          "115N04181<br>None<br>I10 @ W BASELINE RD SB OF ,TMP - AccidentIncident - injury accident",
          "115-04181<br>east<br>Disabled vehicle on the left shoulder on I-10 Eastbound  near   Baseline Rd (MP ",
          "115-04180<br>east<br>Exit ramp restricted on  ramp  from I-10 Eastbound  to  E Elliot Rd    9/27/2025",
          "115+04180<br>west<br>Exit ramp restricted on  ramp  from I-10 Westbound  to  E Elliot Rd    9/27/2025",
          "115-04180<br>east<br>Disabled vehicle blocking the exit ramp on I-10 Eastbound  near   Elliot Rd (MP ",
          "115P04177<br>west<br>Disabled vehicle on the left shoulder on I-10 Westbound  near   202-LOOP Westbou",
          "115P04178<br>west<br>Crash on the right shoulder on I-10 Westbound  near   Ray Rd (MP 160)   ",
          "115+04187<br>west<br>Disabled vehicle on the right shoulder on I-10 Westbound  near   E University Dr",
          "115P04182<br>west<br>ITS equipment damage on I-10 Westbound  near   Superstition Fwy (MP 155)   ",
          "115-04183<br>east<br>Disabled vehicle on the right shoulder on I-10 Eastbound  near   Hohokam Expy (M",
          "115-04183<br>east<br>Rough road due to potholes on I-10 Eastbound  near   Hohokam Expy (MP 154)   ",
          "115-04180<br>east<br>Crash on the right shoulder on I-10 Eastbound  near   Elliot Rd (MP 157)   ",
          "115N04184<br>None<br>W BROADWAY RD / I10                                                         TE -",
          "115+04181<br>west<br>Disabled vehicle on the right shoulder on I-10 Westbound  near   E Elliot Rd (MP",
          "115P04188<br>west<br>Crash on the right shoulder on I-10 Westbound  near   24th St (MP 150)   ",
          "115+04187<br>west<br>Crash on the right shoulder on I-10 Westbound  near   E University Dr (MP 151)  ",
          "115+04187<br>west<br>Red signal bulb out on I-10 Westbound  near   E University Dr (MP 151)   ",
          "115P04188<br>west<br>Guardrail damage on I-10 Westbound  near   24th St (MP 150)   ",
          "115-04180<br>east<br>Exit ramp restricted on  ramp  from I-10 Eastbound  to  E Elliot Rd    9/30/2025",
          "115+04180<br>west<br>Exit ramp restricted on  ramp  from I-10 Westbound  to  E Elliot Rd    9/30/2025",
          "115-04183<br>east<br>Debris on the right shoulder on I-10 Eastbound  near   Hohokam Expy (MP 154)   ",
          "115P04188<br>west<br>Shoulder closed on  ramp  from I-10 Westbound  to  I-17 Northbound    10/6/2025 ",
          "115+04181<br>west<br>Crash blocking the left lanes on I-10 Westbound  near   E Elliot Rd (MP 157)   ",
          "115-04180<br>east<br>Disabled vehicle on the left shoulder on I-10 Eastbound  near   Elliot Rd (MP 15",
          "115N04182<br>east<br>Disabled vehicle on the right shoulder on I-10 Eastbound  near   Baseline Rd (MP",
          "115P04188<br>west<br>Disabled vehicle blocking the center lane on I-10 Westbound  near   24th St (MP ",
          "115P04183<br>west<br>Debris blocking the HOV lane on I-10 Westbound  near   Broadway Rd (MP 154)   ",
          "115N04186<br>east<br>Debris blocking the right lane on I-10 Eastbound  near   32nd St (MP 151)   ",
          "115N04180<br>east<br>Disabled vehicle on the on ramp on I-10 Eastbound  near   Elliot Rd (MP 158)   ",
          "115P04184<br>west<br>Disabled vehicle on the right shoulder on I-10 Westbound  near   SR-143 Northbou",
          "115N04187<br>east<br>Crash blocking the HOV lane on I-10 Eastbound  near   S 24th St (MP 150)   ",
          "115N04187<br>east<br>Guardrail damage on I-10 Eastbound  near   S 24th St (MP 150)   ",
          "115N04179<br>None<br>W WARNER RD / I10                                                           TE -",
          "115N04180<br>None<br>I10 / W ELLIOT RD                                                           TE -",
          "115-04182<br>east<br>Crash on the right shoulder on I-10 Eastbound  near   I-10 (MP 172.0)   ",
          "115N04182<br>None<br>I10 @ US60 SB NO ,TMP - AccidentIncident - injury accident",
          "115P04182<br>west<br>Dead animal near roadway on I-10 Westbound  near   Superstition Fwy (MP 155)   ",
          "115-04183<br>east<br>Crash on the right shoulder on I-10 Eastbound  near   Hohokam Expy (MP 154)   ",
          "115-04183<br>east<br>Crash blocking the HOV lane on I-10 Eastbound  near   Hohokam Expy (MP 154)   ",
          "115N04182<br>None<br>I10 @ US60 SB NO ,TMP - AccidentIncident - injury accident",
          "115-04186<br>east<br>Crash on the right shoulder on I-10 Eastbound  near   32nd St (MP 151)   ",
          "115P04184<br>west<br>Crash on the left shoulder on I-10 Westbound  near   SR-143 Northbound (MP 154) ",
          "115P04183<br>west<br>Infrastructure damage on I-10 Westbound  near   Broadway Rd (MP 154)   ",
          "115P04188<br>west<br>Crash blocking the right lanes on I-10 Westbound  near   24th St (MP 150)   ",
          "115-04186<br>east<br>Crash on the right shoulder on I-10 Eastbound  near   S 24th St (MP 150)   ",
          "115P04180<br>west<br>Crash on the on ramp on I-10 Westbound  near   Elliot Rd (MP 158)   ",
          "115P04187<br>west<br>Debris blocking the center lanes on I-10 Westbound  near   24th St (MP 150)   ",
          "115N04177<br>east<br>Interchange ramp to Westbound closed on  ramp  from I-10 Eastbound  to  202-LOOP",
          "115N04177<br>east<br>Interchange ramp to Eastbound closed on  ramp  from I-10 Eastbound  to  202-LOOP",
          "115-04180<br>east<br>Exit ramp restricted on  ramp  from I-10 Eastbound  to  E Elliot Rd    10/18/202",
          "115+04180<br>west<br>Exit ramp restricted on  ramp  from I-10 Westbound  to  E Elliot Rd    10/18/202"
         ],
         "lat": [
          33.4071198215334,
          33.4067600000001,
          33.4110700000001,
          33.4110700000001,
          33.4107913445965,
          33.3457896889813,
          33.3457896889813,
          33.331200150968,
          33.4254892033632,
          33.3606895543767,
          33.387344,
          33.4135714204425,
          33.4108040647673,
          33.3327901296008,
          33.297836,
          33.4262193923079,
          33.4254892033632,
          33.4047218133209,
          33.41112,
          33.4044988,
          33.3492770115606,
          33.3327901296008,
          33.4071844460926,
          33.4044988,
          33.4144690845362,
          33.4110600000001,
          33.4110600000001,
          33.4113999173975,
          33.41083,
          33.3060087207162,
          33.4254892033632,
          33.4044988,
          33.4044988,
          33.41112,
          33.4044988,
          33.3327291390222,
          33.3931876150084,
          33.3917364889306,
          33.4157678396127,
          33.4107223248959,
          33.378606666715,
          33.4044988,
          33.3844430200244,
          33.410534015544,
          33.3605770085628,
          33.3605770085628,
          33.4071844460926,
          33.3493785940869,
          33.3726600000001,
          33.3670023793983,
          33.41083,
          33.426830269663,
          33.39588,
          33.3492770115606,
          33.3492770115606,
          33.3148096139548,
          33.4089717032865,
          33.3492770115606,
          33.375223,
          33.3492770115606,
          33.4110600000001,
          33.4002506353591,
          33.41112,
          33.3327901296008,
          33.4004896288355,
          33.4157678396127,
          33.3196344151293,
          33.33027,
          33.4242511854867,
          33.4156237016577,
          33.41083,
          33.3196344151293,
          33.4031353525333,
          33.4228999139156,
          33.4212878370161,
          33.4254892033632,
          33.3844811309771,
          33.3846338802516,
          33.4107900000001,
          33.4107913445965,
          33.375223,
          33.4107223248959,
          33.4100731488052,
          33.4144690845362,
          33.4270782999686,
          33.3783580249207,
          33.3210417678461,
          33.3210417678461,
          33.3605770085628,
          33.4110600000001,
          33.4146202702701,
          33.3210417678461,
          33.4106379045093,
          33.4047218133209,
          33.3844811309771,
          33.393148,
          33.3605770085628,
          33.4111100000001,
          33.4108040647673,
          33.4002506353591,
          33.3210417678461,
          33.4107499248625,
          33.4262193923079,
          33.378606666715,
          33.4107499248625,
          33.4156237016577,
          33.41112,
          33.426830269663,
          33.4107904621471,
          33.4107223248959,
          33.41083,
          33.41083,
          33.4107913445965,
          33.4212878370161,
          33.4228999139156,
          33.4012905221037,
          33.4169557760553,
          33.4228999139156,
          33.41112,
          33.4247253055173,
          33.3520388648649,
          33.3606895543767,
          33.3128988657171,
          33.3526534327553,
          33.4090462192232,
          33.3128988657171,
          33.3526534327553,
          33.331200150968,
          33.3148096139548,
          33.4111100000001,
          33.426830269663,
          33.4090462192232,
          33.3695715477246,
          33.3197324193641,
          33.4109995582481,
          33.3210099262473,
          33.3210417678461,
          33.3491839384615,
          33.297836,
          33.3210099262473,
          33.3492770115606,
          33.3902459400167,
          33.4141909958447,
          33.3492770115606,
          33.3606895543767,
          33.3605770085628,
          33.375223,
          33.3327901296008,
          33.3370818299629,
          33.3605770085628,
          33.3477436830677,
          33.3492114762799,
          33.4002506353591,
          33.3210099262473,
          33.4107913445965,
          33.3060087207162,
          33.4146202702701,
          33.411827615828,
          33.4047218133209,
          33.405687311629,
          33.4047218133209,
          33.3145184714,
          33.4004896288355,
          33.4242511854867,
          33.4107709363581,
          33.4047218133209,
          33.4071844460926,
          33.4254892033632,
          33.3210099262473,
          33.4107223248959,
          33.4010922059853,
          33.39588,
          33.3458470822943,
          33.4157678396127,
          33.3457896889813,
          33.4254892033632,
          33.41083,
          33.410534015544,
          33.4254892033632,
          33.331200150968,
          33.4111100000001,
          33.4110625424025,
          33.4157678396127,
          33.4144690845362,
          33.4153146962843,
          33.4141498191962,
          33.41454,
          33.3782069754836,
          33.4144690845362,
          33.4168103463397,
          33.3931876150084,
          33.3370818299629,
          33.375223,
          33.393148,
          33.4248400000001,
          33.4248469184248,
          33.3156491085058,
          33.3253668882682,
          33.4004896288355,
          33.4274578386322,
          33.4248400000001,
          33.4248469184248,
          33.426830269663,
          33.4057683125271,
          33.4071844460926,
          33.3902459400167,
          33.375223,
          33.4107913445965,
          33.4004896288355,
          33.4168103463397,
          33.375223,
          33.3844811309771,
          33.3493366384687,
          33.4107300000001,
          33.3327291390222,
          33.41112,
          33.411117996454,
          33.4110600000001,
          33.4110600000001,
          33.3253668882682,
          33.4047218133209,
          33.4047218133209,
          33.3156491085058,
          33.4071844460926,
          33.4144690845362,
          33.3844430200244,
          33.4107952360872,
          33.3859525007861,
          33.4067600000001,
          33.4169557760553,
          33.4110600000001,
          33.3492770115606,
          33.3493366384687,
          33.4254892033632,
          33.378606666715,
          33.41083,
          33.4107913445965,
          33.4242511854867,
          33.3060087207162,
          33.4108019493364,
          33.4071844460926,
          33.4107913445965,
          33.375223,
          33.3665312833442,
          33.3821168891413,
          33.4069825644783,
          33.4106379045093,
          33.3917364889306,
          33.3929316290215,
          33.3917329331533,
          33.4107996360264,
          33.4107990563833,
          33.4262193923079,
          33.4262193923079,
          33.4071844460926,
          33.426830269663,
          33.4110600000001,
          33.426830269663,
          33.3606895543767,
          33.4069825644783,
          33.4036100000001,
          33.4275127707421,
          33.3869187899791,
          33.4242511854867,
          33.4036100000001,
          33.4142492459769,
          33.4185991899933,
          33.426830269663,
          33.4146202702701,
          33.4107300000001,
          33.4047218133209,
          33.375223,
          33.4248400000001,
          33.3782069754836,
          33.4228999139156,
          33.4110839494339,
          33.4110600000001,
          33.4110114447756,
          33.4156237016577,
          33.4071844460926,
          33.3931876150084,
          33.3161677988956,
          33.4270067073172,
          33.3161677988956,
          33.3844811309771,
          33.3878190722524,
          33.4169557760553,
          33.4168103463397,
          33.4071844460926,
          33.3606895543767,
          33.314716,
          33.3844430200244,
          33.3161677988956,
          33.3492770115606,
          33.3492770115606,
          33.3492770115606,
          33.3148096139548,
          33.4262193923079,
          33.41112,
          33.3161677988956,
          33.3210417678461,
          33.4212878370161,
          33.3492770115606,
          33.3406398440782,
          33.3343955017581,
          33.3492770115606,
          33.3343955017581,
          33.3458470822943,
          33.3606895543767,
          33.4110600000001,
          33.3492770115606,
          33.4168103463397,
          33.4047218133209,
          33.3343955017581,
          33.3844811309771,
          33.375223,
          33.3491839384615,
          33.4110600000001,
          33.4212878370161,
          33.3917364889306,
          33.3782375067325,
          33.3782375067325,
          33.3457896889813,
          33.3606895543767,
          33.3698982028857,
          33.4146202702701,
          33.4146202702701,
          33.4212878370161,
          33.4071844460926,
          33.3902852209167,
          33.3492770115606,
          33.3606895543767,
          33.3492770115606,
          33.4212878370161,
          33.3782375067325,
          33.4111100000001,
          33.3491839384615,
          33.3917364889306,
          33.4110600000001,
          33.410992685157,
          33.3490338090142,
          33.4088226703259,
          33.375223,
          33.426830269663,
          33.4262193923079,
          33.393148,
          33.4254892033632,
          33.4111100000001,
          33.3492770115606,
          33.3327291390222,
          33.4004896288355,
          33.4254892033632,
          33.4107913445965,
          33.4228999139156,
          33.3343955017581,
          33.3327901296008,
          33.4169557760553,
          33.3605770085628,
          33.4228999139156,
          33.4212878370161,
          33.4242511854867,
          33.4228999139156,
          33.3327291390222,
          33.4088226703259,
          33.3782375067325,
          33.4267853868125,
          33.378606666715,
          33.426830269663,
          33.4002506353591,
          33.3782375067325,
          33.3931876150084,
          33.4069825644783,
          33.3931876150084,
          33.426830269663,
          33.4262193923079,
          33.3161677988956,
          33.4273785985454,
          33.4111100000001,
          33.3343955017581,
          33.4228999139156,
          33.4228999139156,
          33.3782375067325,
          33.4169557760553,
          33.4002506353591,
          33.3782375067325,
          33.4088226703259,
          33.3061017625544,
          33.393148,
          33.4262193923079,
          33.410992685157,
          33.4033679753846,
          33.410992685157,
          33.3356308508255,
          33.3210417678461,
          33.3606895543767,
          33.3782375067325,
          33.3931876150084,
          33.3210099262473,
          33.3759400000001,
          33.4157678396127,
          33.3605770085628,
          33.3928179810027,
          33.4107913445965,
          33.426830269663,
          33.331200150968,
          33.4168103463397,
          33.3605770085628,
          33.3782375067325,
          33.4254892033632,
          33.4212878370161,
          33.4228999139156,
          33.4262193923079,
          33.3210417678461,
          33.3605770085628,
          33.4278088196229,
          33.4069825644783,
          33.378606666715,
          33.3021880735849,
          33.3021651340789,
          33.4156237016577,
          33.4228999139156,
          33.3798399368243,
          33.3844811309771,
          33.35328,
          33.34452,
          33.3606895543767,
          33.3021651340789,
          33.3161677988956,
          33.4169557760553,
          33.393148,
          33.4069825644783,
          33.4069825644783,
          33.3606895543767,
          33.4088226703259,
          33.3605770085628,
          33.426830269663,
          33.4169557760553,
          33.4157678396127,
          33.426830269663,
          33.35328,
          33.34452,
          33.4069825644783,
          33.4266400000001,
          33.3605770085628,
          33.359259723457,
          33.3931876150084,
          33.426830269663,
          33.4047218133209,
          33.4144690845362,
          33.3492770115606,
          33.4071844460926,
          33.4262193923079,
          33.4262193923079,
          33.3343955017581,
          33.3490338090142,
          33.4002506353591,
          33.3912246695417,
          33.393148,
          33.4069825644783,
          33.4069825644783,
          33.3912246695417,
          33.4168103463397,
          33.4071844460926,
          33.4047218133209,
          33.426830269663,
          33.4242511854867,
          33.3457896889813,
          33.4254892033632,
          33.3073200000001,
          33.3073200000001,
          33.35328,
          33.34452
         ],
         "lon": [
          -111.970047791644,
          -111.96971,
          -111.99025,
          -111.99025,
          -111.995027134887,
          -111.972038380042,
          -111.972038380042,
          -111.972342330238,
          -112.025898254986,
          -111.969555883289,
          -111.96757,
          -112.013036417281,
          -111.993297191653,
          -111.972346492486,
          -111.97249,
          -112.028764438462,
          -112.025898254986,
          -111.96830162758,
          -111.984338,
          -111.9685644,
          -111.972025075145,
          -111.972346492486,
          -111.970108459597,
          -111.9685644,
          -112.014512459794,
          -111.995005,
          -111.995005,
          -111.998164871832,
          -111.98399,
          -111.972059222498,
          -112.025898254986,
          -111.9685644,
          -111.9685644,
          -111.984338,
          -111.9685644,
          -111.972060887521,
          -111.967815355649,
          -111.967841691932,
          -112.015292034446,
          -112.001946333227,
          -111.968111445781,
          -111.9685644,
          -111.967646787626,
          -111.975761259067,
          -111.969301169868,
          -111.969301169868,
          -111.970108459597,
          -111.971715435108,
          -111.96784,
          -111.968468138705,
          -111.98399,
          -112.030807831461,
          -111.96769,
          -111.972025075145,
          -111.972025075145,
          -111.972403194166,
          -111.972875170135,
          -111.972025075145,
          -111.96784,
          -111.972025075145,
          -111.995005,
          -111.967572071823,
          -111.984338,
          -111.972346492486,
          -111.967272699445,
          -112.015292034446,
          -111.972139852973,
          -111.97208,
          -112.024179359496,
          -112.015595331492,
          -111.984381,
          -111.972139852973,
          -111.967612750745,
          -112.021728019188,
          -112.020425191966,
          -112.025898254986,
          -111.967947060291,
          -111.967641935248,
          -111.995239049866,
          -111.995027134887,
          -111.96784,
          -112.001946333227,
          -111.975399163236,
          -112.014512459794,
          -112.03223310697,
          -111.96785,
          -111.972385122921,
          -111.972385122921,
          -111.969301169868,
          -111.995005,
          -112.014238378378,
          -111.972385122921,
          -111.97746868435,
          -111.96830162758,
          -111.967947060291,
          -111.96741,
          -111.969301169868,
          -111.986068,
          -111.993297191653,
          -111.967572071823,
          -111.972385122921,
          -111.978318872936,
          -112.028764438462,
          -111.968111445781,
          -111.978318872936,
          -112.015595331492,
          -111.984338,
          -112.030807831461,
          -111.995147147998,
          -112.001946333227,
          -111.984381,
          -111.986111,
          -111.995027134887,
          -112.020425191966,
          -112.021728019188,
          -111.967285502009,
          -112.016304711254,
          -112.021728019188,
          -111.984338,
          -112.024420793793,
          -111.971330189189,
          -111.969555883289,
          -111.97208,
          -111.971215345165,
          -111.973002568349,
          -111.97208,
          -111.971215345165,
          -111.972342330238,
          -111.972403194166,
          -111.986068,
          -112.030807831461,
          -111.973002568349,
          -111.968241400136,
          -111.97239,
          -112.00342564306,
          -111.97212145987,
          -111.972385122921,
          -111.971739507692,
          -111.97249,
          -111.97212145987,
          -111.972025075145,
          -111.967492401,
          -112.014217756011,
          -111.972025075145,
          -111.969555883289,
          -111.969301169868,
          -111.96784,
          -111.972346492486,
          -111.97207025464,
          -111.969301169868,
          -111.971345249081,
          -111.971736065465,
          -111.967572071823,
          -111.97212145987,
          -111.995027134887,
          -111.972059222498,
          -112.014238378378,
          -112.010528930051,
          -111.96830162758,
          -111.968839907693,
          -111.96830162758,
          -111.972408861537,
          -111.967272699445,
          -112.024179359496,
          -111.978583798111,
          -111.96830162758,
          -111.970108459597,
          -112.025898254986,
          -111.97212145987,
          -112.001946333227,
          -111.967598574666,
          -111.96769,
          -111.972291645885,
          -112.015292034446,
          -111.972038380042,
          -112.025898254986,
          -111.984381,
          -111.975761259067,
          -112.025898254986,
          -111.972342330238,
          -111.986068,
          -111.978647288424,
          -112.015292034446,
          -112.014512459794,
          -112.015402448682,
          -112.014178226428,
          -112.01461,
          -111.968605550248,
          -112.014512459794,
          -112.016602460768,
          -111.967815355649,
          -111.97207025464,
          -111.96784,
          -111.96741,
          -112.02462,
          -112.024632299422,
          -111.972111400586,
          -111.97237,
          -111.967272699445,
          -112.035744891312,
          -112.02462,
          -112.024632299422,
          -112.030807831461,
          -111.96854889983,
          -111.970108459597,
          -111.967492401,
          -111.96784,
          -111.995027134887,
          -111.967272699445,
          -112.016602460768,
          -111.96784,
          -111.967947060291,
          -111.971995289485,
          -112.00134,
          -111.972060887521,
          -111.984338,
          -111.989909617877,
          -111.995005,
          -111.995005,
          -111.97237,
          -111.96830162758,
          -111.96830162758,
          -111.972111400586,
          -111.970108459597,
          -112.014512459794,
          -111.967646787626,
          -111.978889974698,
          -111.967606418898,
          -111.96971,
          -112.016304711254,
          -111.995005,
          -111.972025075145,
          -111.971995289485,
          -112.025898254986,
          -111.968111445781,
          -111.984381,
          -111.995027134887,
          -112.024179359496,
          -111.972059222498,
          -111.978990936064,
          -111.970108459597,
          -111.995027134887,
          -111.96784,
          -111.968231654847,
          -111.967742573534,
          -111.97034096599,
          -111.97746868435,
          -111.967841691932,
          -111.967764712798,
          -111.967454083727,
          -111.978945413932,
          -111.978938110429,
          -112.028764438462,
          -112.028764438462,
          -111.970108459597,
          -112.030807831461,
          -111.995005,
          -112.030807831461,
          -111.969555883289,
          -111.97034096599,
          -111.96778,
          -112.035851482196,
          -111.96595358019,
          -112.024179359496,
          -111.96778,
          -112.014273676138,
          -112.017692867238,
          -112.030807831461,
          -112.014238378378,
          -112.000892937885,
          -111.96830162758,
          -111.96784,
          -112.02462,
          -111.968605550248,
          -112.021728019188,
          -111.99533478197,
          -111.995005,
          -111.999778638855,
          -112.015595331492,
          -111.970108459597,
          -111.967815355649,
          -111.972114204318,
          -112.032200365854,
          -111.972114204318,
          -111.967947060291,
          -111.964174929719,
          -112.016304711254,
          -112.016602460768,
          -111.970108459597,
          -111.969555883289,
          -111.9721,
          -111.967646787626,
          -111.972114204318,
          -111.972025075145,
          -111.972025075145,
          -111.972025075145,
          -111.972403194166,
          -112.028764438462,
          -111.984338,
          -111.972114204318,
          -111.972385122921,
          -112.020425191966,
          -111.972025075145,
          -111.972390191501,
          -111.972230827145,
          -111.972025075145,
          -111.972230827145,
          -111.972291645885,
          -111.969555883289,
          -111.995005,
          -111.972025075145,
          -112.016602460768,
          -111.96830162758,
          -111.972230827145,
          -111.967947060291,
          -111.96784,
          -111.971739507692,
          -111.995005,
          -112.020425191966,
          -111.967841691932,
          -111.967993469997,
          -111.967993469997,
          -111.972038380042,
          -111.969555883289,
          -111.968221898335,
          -112.014238378378,
          -112.014238378378,
          -112.020425191966,
          -111.970108459597,
          -111.967862440671,
          -111.972025075145,
          -111.969555883289,
          -111.972025075145,
          -112.020425191966,
          -111.967993469997,
          -111.986068,
          -111.971739507692,
          -111.967841691932,
          -111.995005,
          -112.001922502286,
          -111.971909368607,
          -111.97242563323,
          -111.96784,
          -112.030807831461,
          -112.028764438462,
          -111.96741,
          -112.025898254986,
          -111.986068,
          -111.972025075145,
          -111.972060887521,
          -111.967272699445,
          -112.025898254986,
          -111.995027134887,
          -112.021728019188,
          -111.972230827145,
          -111.972346492486,
          -112.016304711254,
          -111.969301169868,
          -112.021728019188,
          -112.020425191966,
          -112.024179359496,
          -112.021728019188,
          -111.972060887521,
          -111.97242563323,
          -111.967993469997,
          -112.0304430945,
          -111.968111445781,
          -112.030807831461,
          -111.967572071823,
          -111.967993469997,
          -111.967815355649,
          -111.97034096599,
          -111.967815355649,
          -112.030807831461,
          -112.028764438462,
          -111.972114204318,
          -112.035557596562,
          -111.986068,
          -111.972230827145,
          -112.021728019188,
          -112.021728019188,
          -111.967993469997,
          -112.016304711254,
          -111.967572071823,
          -111.967993469997,
          -111.97242563323,
          -111.972331707983,
          -111.96741,
          -112.028764438462,
          -112.001922502286,
          -111.967683403077,
          -112.001922502286,
          -111.972058646807,
          -111.972385122921,
          -111.969555883289,
          -111.967993469997,
          -111.967815355649,
          -111.97212145987,
          -111.96784,
          -112.015292034446,
          -111.969301169868,
          -111.967677669982,
          -111.995027134887,
          -112.030807831461,
          -111.972342330238,
          -112.016602460768,
          -111.969301169868,
          -111.967993469997,
          -112.025898254986,
          -112.020425191966,
          -112.021728019188,
          -112.028764438462,
          -111.972385122921,
          -111.969301169868,
          -112.035851234885,
          -111.97034096599,
          -111.968111445781,
          -111.972442692453,
          -111.971950706133,
          -112.015595331492,
          -112.021728019188,
          -111.968534569028,
          -111.967947060291,
          -111.97135,
          -111.97209,
          -111.969555883289,
          -111.971950706133,
          -111.972114204318,
          -112.016304711254,
          -111.96741,
          -111.97034096599,
          -111.97034096599,
          -111.969555883289,
          -111.97242563323,
          -111.969301169868,
          -112.030807831461,
          -112.016304711254,
          -112.015292034446,
          -112.030807831461,
          -111.97135,
          -111.97209,
          -111.97034096599,
          -112.02936,
          -111.969301169868,
          -111.969881679126,
          -111.967815355649,
          -112.030807831461,
          -111.96830162758,
          -112.014512459794,
          -111.972025075145,
          -111.970108459597,
          -112.028764438462,
          -112.028764438462,
          -111.972230827145,
          -111.971909368607,
          -111.967572071823,
          -111.96782769291,
          -111.96741,
          -111.97034096599,
          -111.97034096599,
          -111.96782769291,
          -112.016602460768,
          -111.970108459597,
          -111.96830162758,
          -112.030807831461,
          -112.024179359496,
          -111.972038380042,
          -112.025898254986,
          -111.97234,
          -111.97234,
          -111.97135,
          -111.97209
         ],
         "marker": {
          "color": [
           "#fdc39b",
           "#fdc39b",
           "#8d200b",
           "#8d200b",
           "#bad085",
           "#b50790",
           "#b50790",
           "#fcab44",
           "#e4be05",
           "#b28191",
           "#32bf92",
           "#90b2bb",
           "#bad085",
           "#fcab44",
           "#453914",
           "#694e75",
           "#e4be05",
           "#b4f986",
           "#111126",
           "#647a4c",
           "#1c19b3",
           "#fcab44",
           "#fdc39b",
           "#647a4c",
           "#84848b",
           "#8d200b",
           "#8d200b",
           "#8d200b",
           "#407049",
           "#e6ef98",
           "#e4be05",
           "#647a4c",
           "#647a4c",
           "#111126",
           "#647a4c",
           "#b0d37f",
           "#ece61c",
           "#ece61c",
           "#906970",
           "#61753f",
           "#1c55fd",
           "#647a4c",
           "#ea1ef5",
           "#fdc39b",
           "#67e26b",
           "#67e26b",
           "#fdc39b",
           "#b50790",
           "#c99377",
           "#b28191",
           "#407049",
           "#ebd252",
           "#ece61c",
           "#1c19b3",
           "#1c19b3",
           "#7d962f",
           "#407049",
           "#1c19b3",
           "#c99377",
           "#1c19b3",
           "#8d200b",
           "#647a4c",
           "#111126",
           "#fcab44",
           "#863dab",
           "#906970",
           "#936ec5",
           "#6d494d",
           "#96be94",
           "#96be94",
           "#407049",
           "#936ec5",
           "#863dab",
           "#906970",
           "#96be94",
           "#e4be05",
           "#34a91a",
           "#ea1ef5",
           "#bad085",
           "#bad085",
           "#c99377",
           "#61753f",
           "#407049",
           "#84848b",
           "#59b0b6",
           "#c99377",
           "#f2435c",
           "#f2435c",
           "#67e26b",
           "#8d200b",
           "#90b2bb",
           "#f2435c",
           "#407049",
           "#b4f986",
           "#34a91a",
           "#32bf92",
           "#67e26b",
           "#111126",
           "#bad085",
           "#647a4c",
           "#f2435c",
           "#407049",
           "#694e75",
           "#1c55fd",
           "#407049",
           "#96be94",
           "#111126",
           "#ebd252",
           "#bad085",
           "#61753f",
           "#407049",
           "#28ca4c",
           "#bad085",
           "#96be94",
           "#906970",
           "#863dab",
           "#906970",
           "#906970",
           "#111126",
           "#906970",
           "#b50790",
           "#b28191",
           "#515c28",
           "#b50790",
           "#407049",
           "#515c28",
           "#b50790",
           "#fcab44",
           "#7d962f",
           "#111126",
           "#ebd252",
           "#407049",
           "#b28191",
           "#f2435c",
           "#45ffe7",
           "#936ec5",
           "#f2435c",
           "#b50790",
           "#453914",
           "#936ec5",
           "#1c19b3",
           "#32bf92",
           "#84848b",
           "#1c19b3",
           "#b28191",
           "#67e26b",
           "#c99377",
           "#fcab44",
           "#b0d37f",
           "#67e26b",
           "#b50790",
           "#b50790",
           "#647a4c",
           "#936ec5",
           "#bad085",
           "#e6ef98",
           "#90b2bb",
           "#84848b",
           "#b4f986",
           "#b4f986",
           "#b4f986",
           "#7d962f",
           "#863dab",
           "#96be94",
           "#407049",
           "#b4f986",
           "#fdc39b",
           "#e4be05",
           "#936ec5",
           "#61753f",
           "#647a4c",
           "#ece61c",
           "#1c19b3",
           "#906970",
           "#b50790",
           "#e4be05",
           "#407049",
           "#fdc39b",
           "#e4be05",
           "#fcab44",
           "#111126",
           "#fdc39b",
           "#906970",
           "#84848b",
           "#96be94",
           "#84848b",
           "#84848b",
           "#1c55fd",
           "#84848b",
           "#96be94",
           "#ece61c",
           "#b0d37f",
           "#c99377",
           "#32bf92",
           "#e4be05",
           "#e4be05",
           "#936ec5",
           "#f2435c",
           "#863dab",
           "#59b0b6",
           "#e4be05",
           "#e4be05",
           "#ebd252",
           "#b4f986",
           "#fdc39b",
           "#32bf92",
           "#c99377",
           "#bad085",
           "#863dab",
           "#96be94",
           "#c99377",
           "#34a91a",
           "#1c19b3",
           "#bad085",
           "#b0d37f",
           "#111126",
           "#8d200b",
           "#8d200b",
           "#8d200b",
           "#f2435c",
           "#b4f986",
           "#b4f986",
           "#936ec5",
           "#fdc39b",
           "#84848b",
           "#ea1ef5",
           "#407049",
           "#32bf92",
           "#fdc39b",
           "#906970",
           "#8d200b",
           "#1c19b3",
           "#1c19b3",
           "#e4be05",
           "#1c55fd",
           "#407049",
           "#bad085",
           "#96be94",
           "#e6ef98",
           "#407049",
           "#fdc39b",
           "#bad085",
           "#c99377",
           "#67e26b",
           "#c99377",
           "#498077",
           "#407049",
           "#ece61c",
           "#ece61c",
           "#32bf92",
           "#407049",
           "#407049",
           "#694e75",
           "#694e75",
           "#fdc39b",
           "#ebd252",
           "#8d200b",
           "#ebd252",
           "#b28191",
           "#498077",
           "#b4f986",
           "#59b0b6",
           "#32bf92",
           "#96be94",
           "#b4f986",
           "#84848b",
           "#906970",
           "#ebd252",
           "#90b2bb",
           "#bad085",
           "#b4f986",
           "#c99377",
           "#e4be05",
           "#1c55fd",
           "#906970",
           "#8d200b",
           "#8d200b",
           "#8d200b",
           "#96be94",
           "#fdc39b",
           "#ece61c",
           "#936ec5",
           "#ebd252",
           "#936ec5",
           "#34a91a",
           "#ece61c",
           "#906970",
           "#96be94",
           "#fdc39b",
           "#b28191",
           "#515c28",
           "#ea1ef5",
           "#936ec5",
           "#1c19b3",
           "#1c19b3",
           "#1c19b3",
           "#7d962f",
           "#694e75",
           "#111126",
           "#936ec5",
           "#f2435c",
           "#96be94",
           "#1c19b3",
           "#dbbbdb",
           "#fcab44",
           "#1c19b3",
           "#fcab44",
           "#1c19b3",
           "#b28191",
           "#8d200b",
           "#1c19b3",
           "#96be94",
           "#b4f986",
           "#fcab44",
           "#34a91a",
           "#c99377",
           "#b50790",
           "#8d200b",
           "#96be94",
           "#ece61c",
           "#1c55fd",
           "#1c55fd",
           "#b50790",
           "#b28191",
           "#b28191",
           "#90b2bb",
           "#90b2bb",
           "#96be94",
           "#fdc39b",
           "#ece61c",
           "#1c19b3",
           "#b28191",
           "#1c19b3",
           "#96be94",
           "#1c55fd",
           "#111126",
           "#b50790",
           "#ece61c",
           "#8d200b",
           "#8d200b",
           "#1c19b3",
           "#407049",
           "#c99377",
           "#ebd252",
           "#694e75",
           "#32bf92",
           "#e4be05",
           "#111126",
           "#1c19b3",
           "#b0d37f",
           "#863dab",
           "#e4be05",
           "#bad085",
           "#906970",
           "#fcab44",
           "#fcab44",
           "#906970",
           "#67e26b",
           "#906970",
           "#96be94",
           "#96be94",
           "#906970",
           "#b0d37f",
           "#407049",
           "#1c55fd",
           "#ebd252",
           "#1c55fd",
           "#ebd252",
           "#647a4c",
           "#1c55fd",
           "#ece61c",
           "#498077",
           "#ece61c",
           "#ebd252",
           "#694e75",
           "#936ec5",
           "#59b0b6",
           "#111126",
           "#fcab44",
           "#906970",
           "#906970",
           "#1c55fd",
           "#906970",
           "#647a4c",
           "#1c55fd",
           "#407049",
           "#92d457",
           "#32bf92",
           "#694e75",
           "#8d200b",
           "#863dab",
           "#8d200b",
           "#b0d37f",
           "#f2435c",
           "#b28191",
           "#1c55fd",
           "#ece61c",
           "#936ec5",
           "#c99377",
           "#906970",
           "#67e26b",
           "#ece61c",
           "#bad085",
           "#ebd252",
           "#fcab44",
           "#96be94",
           "#67e26b",
           "#1c55fd",
           "#e4be05",
           "#96be94",
           "#906970",
           "#694e75",
           "#f2435c",
           "#67e26b",
           "#ebd252",
           "#498077",
           "#1c55fd",
           "#92d457",
           "#e6ef98",
           "#96be94",
           "#906970",
           "#1c55fd",
           "#34a91a",
           "#b28191",
           "#a93a57",
           "#b28191",
           "#e6ef98",
           "#936ec5",
           "#906970",
           "#32bf92",
           "#498077",
           "#498077",
           "#b28191",
           "#407049",
           "#67e26b",
           "#ebd252",
           "#906970",
           "#906970",
           "#ebd252",
           "#b28191",
           "#a93a57",
           "#498077",
           "#ebd252",
           "#67e26b",
           "#b28191",
           "#ece61c",
           "#ebd252",
           "#b4f986",
           "#84848b",
           "#1c19b3",
           "#fdc39b",
           "#694e75",
           "#694e75",
           "#fcab44",
           "#1c19b3",
           "#647a4c",
           "#ece61c",
           "#32bf92",
           "#498077",
           "#498077",
           "#ece61c",
           "#96be94",
           "#fdc39b",
           "#b4f986",
           "#ebd252",
           "#96be94",
           "#b50790",
           "#e4be05",
           "#92d457",
           "#92d457",
           "#b28191",
           "#a93a57"
          ],
          "opacity": 0.75,
          "size": 8
         },
         "mode": "markers",
         "name": "Events",
         "type": "scattermap"
        }
       ],
       "layout": {
        "height": 800,
        "map": {
         "center": {
          "lat": 33.3749266,
          "lon": -111.9845346
         },
         "style": "streets",
         "zoom": 11
        },
        "template": {
         "data": {
          "bar": [
           {
            "error_x": {
             "color": "#2a3f5f"
            },
            "error_y": {
             "color": "#2a3f5f"
            },
            "marker": {
             "line": {
              "color": "#E5ECF6",
              "width": 0.5
             },
             "pattern": {
              "fillmode": "overlay",
              "size": 10,
              "solidity": 0.2
             }
            },
            "type": "bar"
           }
          ],
          "barpolar": [
           {
            "marker": {
             "line": {
              "color": "#E5ECF6",
              "width": 0.5
             },
             "pattern": {
              "fillmode": "overlay",
              "size": 10,
              "solidity": 0.2
             }
            },
            "type": "barpolar"
           }
          ],
          "carpet": [
           {
            "aaxis": {
             "endlinecolor": "#2a3f5f",
             "gridcolor": "white",
             "linecolor": "white",
             "minorgridcolor": "white",
             "startlinecolor": "#2a3f5f"
            },
            "baxis": {
             "endlinecolor": "#2a3f5f",
             "gridcolor": "white",
             "linecolor": "white",
             "minorgridcolor": "white",
             "startlinecolor": "#2a3f5f"
            },
            "type": "carpet"
           }
          ],
          "choropleth": [
           {
            "colorbar": {
             "outlinewidth": 0,
             "ticks": ""
            },
            "type": "choropleth"
           }
          ],
          "contour": [
           {
            "colorbar": {
             "outlinewidth": 0,
             "ticks": ""
            },
            "colorscale": [
             [
              0,
              "#0d0887"
             ],
             [
              0.1111111111111111,
              "#46039f"
             ],
             [
              0.2222222222222222,
              "#7201a8"
             ],
             [
              0.3333333333333333,
              "#9c179e"
             ],
             [
              0.4444444444444444,
              "#bd3786"
             ],
             [
              0.5555555555555556,
              "#d8576b"
             ],
             [
              0.6666666666666666,
              "#ed7953"
             ],
             [
              0.7777777777777778,
              "#fb9f3a"
             ],
             [
              0.8888888888888888,
              "#fdca26"
             ],
             [
              1,
              "#f0f921"
             ]
            ],
            "type": "contour"
           }
          ],
          "contourcarpet": [
           {
            "colorbar": {
             "outlinewidth": 0,
             "ticks": ""
            },
            "type": "contourcarpet"
           }
          ],
          "heatmap": [
           {
            "colorbar": {
             "outlinewidth": 0,
             "ticks": ""
            },
            "colorscale": [
             [
              0,
              "#0d0887"
             ],
             [
              0.1111111111111111,
              "#46039f"
             ],
             [
              0.2222222222222222,
              "#7201a8"
             ],
             [
              0.3333333333333333,
              "#9c179e"
             ],
             [
              0.4444444444444444,
              "#bd3786"
             ],
             [
              0.5555555555555556,
              "#d8576b"
             ],
             [
              0.6666666666666666,
              "#ed7953"
             ],
             [
              0.7777777777777778,
              "#fb9f3a"
             ],
             [
              0.8888888888888888,
              "#fdca26"
             ],
             [
              1,
              "#f0f921"
             ]
            ],
            "type": "heatmap"
           }
          ],
          "heatmapgl": [
           {
            "colorbar": {
             "outlinewidth": 0,
             "ticks": ""
            },
            "colorscale": [
             [
              0,
              "#0d0887"
             ],
             [
              0.1111111111111111,
              "#46039f"
             ],
             [
              0.2222222222222222,
              "#7201a8"
             ],
             [
              0.3333333333333333,
              "#9c179e"
             ],
             [
              0.4444444444444444,
              "#bd3786"
             ],
             [
              0.5555555555555556,
              "#d8576b"
             ],
             [
              0.6666666666666666,
              "#ed7953"
             ],
             [
              0.7777777777777778,
              "#fb9f3a"
             ],
             [
              0.8888888888888888,
              "#fdca26"
             ],
             [
              1,
              "#f0f921"
             ]
            ],
            "type": "heatmapgl"
           }
          ],
          "histogram": [
           {
            "marker": {
             "pattern": {
              "fillmode": "overlay",
              "size": 10,
              "solidity": 0.2
             }
            },
            "type": "histogram"
           }
          ],
          "histogram2d": [
           {
            "colorbar": {
             "outlinewidth": 0,
             "ticks": ""
            },
            "colorscale": [
             [
              0,
              "#0d0887"
             ],
             [
              0.1111111111111111,
              "#46039f"
             ],
             [
              0.2222222222222222,
              "#7201a8"
             ],
             [
              0.3333333333333333,
              "#9c179e"
             ],
             [
              0.4444444444444444,
              "#bd3786"
             ],
             [
              0.5555555555555556,
              "#d8576b"
             ],
             [
              0.6666666666666666,
              "#ed7953"
             ],
             [
              0.7777777777777778,
              "#fb9f3a"
             ],
             [
              0.8888888888888888,
              "#fdca26"
             ],
             [
              1,
              "#f0f921"
             ]
            ],
            "type": "histogram2d"
           }
          ],
          "histogram2dcontour": [
           {
            "colorbar": {
             "outlinewidth": 0,
             "ticks": ""
            },
            "colorscale": [
             [
              0,
              "#0d0887"
             ],
             [
              0.1111111111111111,
              "#46039f"
             ],
             [
              0.2222222222222222,
              "#7201a8"
             ],
             [
              0.3333333333333333,
              "#9c179e"
             ],
             [
              0.4444444444444444,
              "#bd3786"
             ],
             [
              0.5555555555555556,
              "#d8576b"
             ],
             [
              0.6666666666666666,
              "#ed7953"
             ],
             [
              0.7777777777777778,
              "#fb9f3a"
             ],
             [
              0.8888888888888888,
              "#fdca26"
             ],
             [
              1,
              "#f0f921"
             ]
            ],
            "type": "histogram2dcontour"
           }
          ],
          "mesh3d": [
           {
            "colorbar": {
             "outlinewidth": 0,
             "ticks": ""
            },
            "type": "mesh3d"
           }
          ],
          "parcoords": [
           {
            "line": {
             "colorbar": {
              "outlinewidth": 0,
              "ticks": ""
             }
            },
            "type": "parcoords"
           }
          ],
          "pie": [
           {
            "automargin": true,
            "type": "pie"
           }
          ],
          "scatter": [
           {
            "fillpattern": {
             "fillmode": "overlay",
             "size": 10,
             "solidity": 0.2
            },
            "type": "scatter"
           }
          ],
          "scatter3d": [
           {
            "line": {
             "colorbar": {
              "outlinewidth": 0,
              "ticks": ""
             }
            },
            "marker": {
             "colorbar": {
              "outlinewidth": 0,
              "ticks": ""
             }
            },
            "type": "scatter3d"
           }
          ],
          "scattercarpet": [
           {
            "marker": {
             "colorbar": {
              "outlinewidth": 0,
              "ticks": ""
             }
            },
            "type": "scattercarpet"
           }
          ],
          "scattergeo": [
           {
            "marker": {
             "colorbar": {
              "outlinewidth": 0,
              "ticks": ""
             }
            },
            "type": "scattergeo"
           }
          ],
          "scattergl": [
           {
            "marker": {
             "colorbar": {
              "outlinewidth": 0,
              "ticks": ""
             }
            },
            "type": "scattergl"
           }
          ],
          "scattermapbox": [
           {
            "marker": {
             "colorbar": {
              "outlinewidth": 0,
              "ticks": ""
             }
            },
            "type": "scattermapbox"
           }
          ],
          "scatterpolar": [
           {
            "marker": {
             "colorbar": {
              "outlinewidth": 0,
              "ticks": ""
             }
            },
            "type": "scatterpolar"
           }
          ],
          "scatterpolargl": [
           {
            "marker": {
             "colorbar": {
              "outlinewidth": 0,
              "ticks": ""
             }
            },
            "type": "scatterpolargl"
           }
          ],
          "scatterternary": [
           {
            "marker": {
             "colorbar": {
              "outlinewidth": 0,
              "ticks": ""
             }
            },
            "type": "scatterternary"
           }
          ],
          "surface": [
           {
            "colorbar": {
             "outlinewidth": 0,
             "ticks": ""
            },
            "colorscale": [
             [
              0,
              "#0d0887"
             ],
             [
              0.1111111111111111,
              "#46039f"
             ],
             [
              0.2222222222222222,
              "#7201a8"
             ],
             [
              0.3333333333333333,
              "#9c179e"
             ],
             [
              0.4444444444444444,
              "#bd3786"
             ],
             [
              0.5555555555555556,
              "#d8576b"
             ],
             [
              0.6666666666666666,
              "#ed7953"
             ],
             [
              0.7777777777777778,
              "#fb9f3a"
             ],
             [
              0.8888888888888888,
              "#fdca26"
             ],
             [
              1,
              "#f0f921"
             ]
            ],
            "type": "surface"
           }
          ],
          "table": [
           {
            "cells": {
             "fill": {
              "color": "#EBF0F8"
             },
             "line": {
              "color": "white"
             }
            },
            "header": {
             "fill": {
              "color": "#C8D4E3"
             },
             "line": {
              "color": "white"
             }
            },
            "type": "table"
           }
          ]
         },
         "layout": {
          "annotationdefaults": {
           "arrowcolor": "#2a3f5f",
           "arrowhead": 0,
           "arrowwidth": 1
          },
          "autotypenumbers": "strict",
          "coloraxis": {
           "colorbar": {
            "outlinewidth": 0,
            "ticks": ""
           }
          },
          "colorscale": {
           "diverging": [
            [
             0,
             "#8e0152"
            ],
            [
             0.1,
             "#c51b7d"
            ],
            [
             0.2,
             "#de77ae"
            ],
            [
             0.3,
             "#f1b6da"
            ],
            [
             0.4,
             "#fde0ef"
            ],
            [
             0.5,
             "#f7f7f7"
            ],
            [
             0.6,
             "#e6f5d0"
            ],
            [
             0.7,
             "#b8e186"
            ],
            [
             0.8,
             "#7fbc41"
            ],
            [
             0.9,
             "#4d9221"
            ],
            [
             1,
             "#276419"
            ]
           ],
           "sequential": [
            [
             0,
             "#0d0887"
            ],
            [
             0.1111111111111111,
             "#46039f"
            ],
            [
             0.2222222222222222,
             "#7201a8"
            ],
            [
             0.3333333333333333,
             "#9c179e"
            ],
            [
             0.4444444444444444,
             "#bd3786"
            ],
            [
             0.5555555555555556,
             "#d8576b"
            ],
            [
             0.6666666666666666,
             "#ed7953"
            ],
            [
             0.7777777777777778,
             "#fb9f3a"
            ],
            [
             0.8888888888888888,
             "#fdca26"
            ],
            [
             1,
             "#f0f921"
            ]
           ],
           "sequentialminus": [
            [
             0,
             "#0d0887"
            ],
            [
             0.1111111111111111,
             "#46039f"
            ],
            [
             0.2222222222222222,
             "#7201a8"
            ],
            [
             0.3333333333333333,
             "#9c179e"
            ],
            [
             0.4444444444444444,
             "#bd3786"
            ],
            [
             0.5555555555555556,
             "#d8576b"
            ],
            [
             0.6666666666666666,
             "#ed7953"
            ],
            [
             0.7777777777777778,
             "#fb9f3a"
            ],
            [
             0.8888888888888888,
             "#fdca26"
            ],
            [
             1,
             "#f0f921"
            ]
           ]
          },
          "colorway": [
           "#636efa",
           "#EF553B",
           "#00cc96",
           "#ab63fa",
           "#FFA15A",
           "#19d3f3",
           "#FF6692",
           "#B6E880",
           "#FF97FF",
           "#FECB52"
          ],
          "font": {
           "color": "#2a3f5f"
          },
          "geo": {
           "bgcolor": "white",
           "lakecolor": "white",
           "landcolor": "#E5ECF6",
           "showlakes": true,
           "showland": true,
           "subunitcolor": "white"
          },
          "hoverlabel": {
           "align": "left"
          },
          "hovermode": "closest",
          "mapbox": {
           "style": "light"
          },
          "paper_bgcolor": "white",
          "plot_bgcolor": "#E5ECF6",
          "polar": {
           "angularaxis": {
            "gridcolor": "white",
            "linecolor": "white",
            "ticks": ""
           },
           "bgcolor": "#E5ECF6",
           "radialaxis": {
            "gridcolor": "white",
            "linecolor": "white",
            "ticks": ""
           }
          },
          "scene": {
           "xaxis": {
            "backgroundcolor": "#E5ECF6",
            "gridcolor": "white",
            "gridwidth": 2,
            "linecolor": "white",
            "showbackground": true,
            "ticks": "",
            "zerolinecolor": "white"
           },
           "yaxis": {
            "backgroundcolor": "#E5ECF6",
            "gridcolor": "white",
            "gridwidth": 2,
            "linecolor": "white",
            "showbackground": true,
            "ticks": "",
            "zerolinecolor": "white"
           },
           "zaxis": {
            "backgroundcolor": "#E5ECF6",
            "gridcolor": "white",
            "gridwidth": 2,
            "linecolor": "white",
            "showbackground": true,
            "ticks": "",
            "zerolinecolor": "white"
           }
          },
          "shapedefaults": {
           "line": {
            "color": "#2a3f5f"
           }
          },
          "ternary": {
           "aaxis": {
            "gridcolor": "white",
            "linecolor": "white",
            "ticks": ""
           },
           "baxis": {
            "gridcolor": "white",
            "linecolor": "white",
            "ticks": ""
           },
           "bgcolor": "#E5ECF6",
           "caxis": {
            "gridcolor": "white",
            "linecolor": "white",
            "ticks": ""
           }
          },
          "title": {
           "x": 0.05
          },
          "xaxis": {
           "automargin": true,
           "gridcolor": "white",
           "linecolor": "white",
           "ticks": "",
           "title": {
            "standoff": 15
           },
           "zerolinecolor": "white",
           "zerolinewidth": 2
          },
          "yaxis": {
           "automargin": true,
           "gridcolor": "white",
           "linecolor": "white",
           "ticks": "",
           "title": {
            "standoff": 15
           },
           "zerolinecolor": "white",
           "zerolinewidth": 2
          }
         }
        }
       }
      }
     },
     "metadata": {},
     "output_type": "display_data"
    }
   ],
   "source": [
    "# visualize df_inrix by road segment\n",
    "# overlay with events on map\n",
    "\n",
    "# 1. MANUAL speed snapshot at a chosen timestamp instead of latest per TMC\n",
    "target_time_str = '2025-08-29 00:00:00'\n",
    "target_ts = pd.Timestamp(target_time_str)\n",
    "print(\"Target speed timestamp:\", target_ts)\n",
    "\n",
    "# 1. Try exact matches first\n",
    "exact_speed = df_inrix[df_inrix['measurement_tstamp'] == target_ts]\n",
    "\n",
    "# 2. Attach geometry (start/end coords)\n",
    "seg_df = exact_speed.merge(\n",
    "    # df_tmc.loc[(df_tmc['direction'] == 'EASTBOUND') ,#& (df_tmc['tmc']=='115-04180'),\n",
    "    #                      ['tmc','start_latitude','start_longitude','end_latitude','end_longitude','direction','miles']],\n",
    "    df_tmc,\n",
    "    left_on='tmc_code', right_on='tmc', how='left'\n",
    ")\n",
    "\n",
    "# Drop rows without geometry\n",
    "seg_df = seg_df.dropna(subset=['start_latitude','start_longitude','end_latitude','end_longitude'])\n",
    "\n",
    "def random_color():\n",
    "    return \"#{:06x}\".format(random.randint(0, 0xFFFFFF))\n",
    "\n",
    "fig = go.Figure()\n",
    "color_map = {}\n",
    "\n",
    "# 1. Segment lines (tmc geometry)\n",
    "for r in seg_df.itertuples():\n",
    "    color = color_map.setdefault(r.tmc_code, random_color())\n",
    "    fig.add_trace(go.Scattermap(\n",
    "        mode=\"lines\",\n",
    "        lon=[r.start_longitude, r.end_longitude],\n",
    "        lat=[r.start_latitude, r.end_latitude],\n",
    "        line=dict(color=color, width=4),\n",
    "        name=r.tmc_code,\n",
    "        hovertext=f\"TMC: {r.tmc_code}, Speed: {r.speed}\"\n",
    "    ))\n",
    "\n",
    "# 2. Event points\n",
    "if 'near_tmc' in df_bw.columns:\n",
    "    event_colors = df_bw['near_tmc'].map(color_map).fillna(\"#000000\")\n",
    "else:\n",
    "    event_colors = \"#000000\"\n",
    "\n",
    "fig.add_trace(\n",
    "    go.Scattermap(\n",
    "        mode=\"markers\",\n",
    "        lon=df_bw['Longitude'],\n",
    "        lat=df_bw['Latitude'],\n",
    "        marker=dict(size=8, opacity=0.75, color=event_colors),\n",
    "        name=\"Events\",\n",
    "        hovertext=(\n",
    "            df_bw['near_tmc'].astype(str) + \"<br>\" +\n",
    "            df_bw['DirectionOfTravel'].astype(str) + \"<br>\" +\n",
    "            df_bw['Description'].fillna('').str.slice(0,80)\n",
    "        ),\n",
    "        hovertemplate=\"Event near TMC: %{hovertext}<extra></extra>\",\n",
    "    )\n",
    ")\n",
    "fig.update_layout(\n",
    "    map_style=\"streets\",\n",
    "    map_zoom=11,\n",
    "    map_center={\"lat\": seg_df.start_latitude.mean(),\n",
    "                   \"lon\": seg_df.start_longitude.mean()},\n",
    "    height=800\n",
    ")\n",
    "\n",
    "\n",
    "fig.show()\n"
   ]
  },
  {
   "cell_type": "code",
   "execution_count": 12,
   "id": "f9668e58",
   "metadata": {},
   "outputs": [],
   "source": [
    "# manually add tags on road segments\n",
    "road_tags = {\n",
    "    # Westbound\n",
    "    '115P04188': {'onramp': 1, 'offramp': 0, 'curve': 1},\n",
    "    '115+04188': {'onramp': 0, 'offramp': 1, 'curve': 1},\n",
    "    '115P04187': {'onramp': 0, 'offramp': 1, 'curve': 1},\n",
    "    '115+04187': {'onramp': 0, 'offramp': 1, 'curve': 1},\n",
    "    '115P04186': {'onramp': 1, 'offramp': 0, 'curve': 1},\n",
    "    '115+04186': {'onramp': 0, 'offramp': 1, 'curve': 0},\n",
    "    '115P04185': {'onramp': 1, 'offramp': 0, 'curve': 0},\n",
    "    '115+04185': {'onramp': 0, 'offramp': 1, 'curve': 0},\n",
    "    '115P04184': {'onramp': 2, 'offramp': 0, 'curve': 1},\n",
    "    '115+04184': {'onramp': 0, 'offramp': 1, 'curve': 1},\n",
    "    '115P04183': {'onramp': 0, 'offramp': 0, 'curve': 1},\n",
    "    '115+04183': {'onramp': 0, 'offramp': 1, 'curve': 1},\n",
    "    '115P04182': {'onramp': 2, 'offramp': 0, 'curve': 0},\n",
    "    '115+04182': {'onramp': 0, 'offramp': 1, 'curve': 0},\n",
    "    '115P04181': {'onramp': 0, 'offramp': 1, 'curve': 0},\n",
    "    '115+04181': {'onramp': 0, 'offramp': 1, 'curve': 0},\n",
    "    '115P04180': {'onramp': 1, 'offramp': 0, 'curve': 0},\n",
    "    '115+04180': {'onramp': 0, 'offramp': 1, 'curve': 0},\n",
    "    '115P04179': {'onramp': 1, 'offramp': 0, 'curve': 0},\n",
    "    '115+04179': {'onramp': 0, 'offramp': 1, 'curve': 0},\n",
    "    '115P04178': {'onramp': 1, 'offramp': 0, 'curve': 0},\n",
    "    '115+04178': {'onramp': 0, 'offramp': 1, 'curve': 0},\n",
    "    '115P04177': {'onramp': 2, 'offramp': 0, 'curve': 0},\n",
    "    '115+04177': {'onramp': 0, 'offramp': 0, 'curve': 0},\n",
    "    '115P05165': {'onramp': 0, 'offramp': 0, 'curve': 0},\n",
    "    # Eastbound\n",
    "    '115N04188': {'onramp': 1, 'offramp': 0, 'curve': 1},\n",
    "    '115-04187': {'onramp': 0, 'offramp': 0, 'curve': 0},\n",
    "    '115N04187': {'onramp': 1, 'offramp': 0, 'curve': 1},\n",
    "    '115-04186': {'onramp': 1, 'offramp': 2, 'curve': 1},\n",
    "    '115N04186': {'onramp': 1, 'offramp': 0, 'curve': 1},\n",
    "    '115-04185': {'onramp': 0, 'offramp': 1, 'curve': 0},\n",
    "    '115N04185': {'onramp': 1, 'offramp': 0, 'curve': 0},\n",
    "    '115-04184': {'onramp': 0, 'offramp': 1, 'curve': 0},\n",
    "    '115N04184': {'onramp': 2, 'offramp': 0, 'curve': 1},\n",
    "    '115-04183': {'onramp': 0, 'offramp': 0, 'curve': 1},\n",
    "    '115N04183': {'onramp': 0, 'offramp': 0, 'curve': 1},\n",
    "    '115-04182': {'onramp': 0, 'offramp': 2, 'curve': 0},\n",
    "    '115N04182': {'onramp': 1, 'offramp': 1, 'curve': 0},\n",
    "    '115-04181': {'onramp': 0, 'offramp': 1, 'curve': 0},\n",
    "    '115N04181': {'onramp': 2, 'offramp': 0, 'curve': 0},\n",
    "    '115-04180': {'onramp': 0, 'offramp': 1, 'curve': 0},\n",
    "    '115N04180': {'onramp': 1, 'offramp': 0, 'curve': 0},\n",
    "    '115-04179': {'onramp': 0, 'offramp': 1, 'curve': 0},\n",
    "    '115N04179': {'onramp': 1, 'offramp': 0, 'curve': 0},\n",
    "    '115-04178': {'onramp': 0, 'offramp': 1, 'curve': 0},\n",
    "    '115N04178': {'onramp': 1, 'offramp': 0, 'curve': 0},\n",
    "    '115-04177': {'onramp': 0, 'offramp': 1, 'curve': 0},\n",
    "    '115N04177': {'onramp': 1, 'offramp': 0, 'curve': 0},\n",
    "    '115-05165': {'onramp': 0, 'offramp': 0, 'curve': 0},\n",
    "    '115N05165': {'onramp': 1, 'offramp': 0, 'curve': 0},\n",
    "}\n",
    "df_tmc['tmc_tags'] = df_tmc['tmc'].map(road_tags)"
   ]
  },
  {
   "cell_type": "code",
   "execution_count": 13,
   "id": "1d2b7f64",
   "metadata": {},
   "outputs": [
    {
     "name": "stdout",
     "output_type": "stream",
     "text": [
      "['tmc_code' 'measurement_tstamp' 'speed' 'reference_speed'\n",
      " 'travel_time_seconds' 'confidence_score' 'cvalue' 'Inrix 2013'\n",
      " 'Inrix 2019']\n",
      "['tmc' 'road' 'direction' 'intersection' 'start_latitude'\n",
      " 'start_longitude' 'end_latitude' 'end_longitude' 'miles' 'road_order'\n",
      " 'active_start_date' 'tmc_tags']\n",
      "['ID' 'Organization' 'RoadwayName' 'DirectionOfTravel' 'Description'\n",
      " 'Reported' 'LastUpdated' 'StartDate' 'PlannedEndDate' 'LanesAffected'\n",
      " 'Latitude' 'Longitude' 'LatitudeSecondary' 'LongitudeSecondary'\n",
      " 'EventType' 'EventSubType' 'IsFullClosure' 'Severity' 'EncodedPolyline'\n",
      " 'Width' 'Height' 'Length' 'Weight' 'Speed' 'DetourPolyline'\n",
      " 'DetourInstructions' 'Recurrence' 'RecurrenceSchedules' 'Details'\n",
      " 'LaneCount' 'near_tmc']\n"
     ]
    }
   ],
   "source": [
    "print(df_inrix.columns.values)\n",
    "print(df_tmc.columns.values)\n",
    "print(df_bw.columns.values)"
   ]
  },
  {
   "cell_type": "code",
   "execution_count": 14,
   "id": "ef2a4f35",
   "metadata": {},
   "outputs": [],
   "source": [
    "# drop some columns\n",
    "# df_bw.drop(columns=['near_tmc_dist_m', 'near_tmc_dist_km',\n",
    "#                    'near_tmc_proj_lat', 'near_tmc_proj_lon'], inplace=True)\n",
    "df_bw.drop(columns=['EncodedPolyline', 'Width','Height','Length','Weight','Speed',\n",
    "                   'DetourPolyline', 'DetourInstructions'], inplace=True)"
   ]
  },
  {
   "cell_type": "code",
   "execution_count": 15,
   "id": "38e288e7",
   "metadata": {},
   "outputs": [
    {
     "name": "stdout",
     "output_type": "stream",
     "text": [
      "Saved:\n",
      "  events.csv -> ../database/i10-broadway/events.parquet  rows=472\n",
      "  inrix.csv  -> ../database/i10-broadway/inrix.parquet  rows=7125744\n",
      "  tmc.csv    -> ../database/i10-broadway/tmc.parquet    rows=50\n"
     ]
    }
   ],
   "source": [
    "# save I-10 broadway data\n",
    "out_dir = Path('../database/i10-broadway')\n",
    "out_dir.mkdir(parents=True, exist_ok=True)\n",
    "\n",
    "df_bw.to_parquet(out_dir / 'events.parquet', index=False)\n",
    "df_inrix.to_parquet(out_dir / 'inrix.parquet', index=False)\n",
    "df_tmc.to_parquet(out_dir / 'tmc.parquet', index=False)\n",
    "\n",
    "print(\"Saved:\")\n",
    "print(f\"  events.csv -> {out_dir/'events.parquet'}  rows={len(df_bw)}\")\n",
    "print(f\"  inrix.csv  -> {out_dir/'inrix.parquet'}  rows={len(df_inrix)}\")\n",
    "print(f\"  tmc.csv    -> {out_dir/'tmc.parquet'}    rows={len(df_tmc)}\")\n"
   ]
  },
  {
   "cell_type": "code",
   "execution_count": null,
   "id": "c50893ab",
   "metadata": {},
   "outputs": [],
   "source": []
  }
 ],
 "metadata": {
  "kernelspec": {
   "display_name": "erdos_ds_environment",
   "language": "python",
   "name": "python3"
  },
  "language_info": {
   "codemirror_mode": {
    "name": "ipython",
    "version": 3
   },
   "file_extension": ".py",
   "mimetype": "text/x-python",
   "name": "python",
   "nbconvert_exporter": "python",
   "pygments_lexer": "ipython3",
   "version": "3.12.11"
  }
 },
 "nbformat": 4,
 "nbformat_minor": 5
}
