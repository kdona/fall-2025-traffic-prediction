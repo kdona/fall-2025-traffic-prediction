{
 "cells": [
  {
   "cell_type": "markdown",
   "id": "2e880b33",
   "metadata": {},
   "source": [
    "# I-10 Broadway Curve Incidents - Exploratory Data Analysis\n",
    "\n",
    "Question: “Can work zones (plus other features) help predict accident occurrence or severity?”\n",
    "## Goals\n",
    "- Preprocess data\n",
    "1. Filter events (accidents and roadwork): keep only those on I-10 between Loop 202 and I-17.\n",
    "2. Filter INRIX data based on time range (manually defined), and geolocation I-10 Broadway Curve\n",
    "3. Filter TMC ...\n",
    "4. Visualize road segments and events on map\n",
    "\n",
    "- Prepare for training data\n",
    "\n",
    "\n",
    "---\n",
    "## 1. Imports & Configuration"
   ]
  },
  {
   "cell_type": "code",
   "execution_count": 5,
   "id": "95d63da1",
   "metadata": {},
   "outputs": [
    {
     "data": {
      "text/plain": [
       "PosixPath('../database/az511.db')"
      ]
     },
     "execution_count": 5,
     "metadata": {},
     "output_type": "execute_result"
    }
   ],
   "source": [
    "# Core imports\n",
    "import sqlite3\n",
    "from pathlib import Path\n",
    "from datetime import datetime, timedelta, date\n",
    "import pandas as pd\n",
    "import numpy as np\n",
    "import seaborn as sns\n",
    "import matplotlib.pyplot as plt\n",
    "import plotly.express as px\n",
    "import plotly.graph_objects as go\n",
    "import missingno as msno\n",
    "from zoneinfo import ZoneInfo\n",
    "import random\n",
    "import re\n",
    "\n",
    "# Display all columns\n",
    "pd.set_option('display.max_columns', None)\n",
    "plt.style.use('seaborn-v0_8-whitegrid')\n",
    "plt.rcParams['figure.figsize'] = (12, 6)\n",
    "\n",
    "DB_PATH = Path('../database/az511.db')\n",
    "assert DB_PATH.exists(), f\"Database not found at {DB_PATH}\"\n",
    "DB_PATH"
   ]
  },
  {
   "cell_type": "code",
   "execution_count": 3,
   "id": "1520dcbf",
   "metadata": {},
   "outputs": [
    {
     "name": "stdout",
     "output_type": "stream",
     "text": [
      "Loaded events: (47150, 30)\n"
     ]
    }
   ],
   "source": [
    "# Read all events from az511 database\n",
    "def get_connection():\n",
    "    return sqlite3.connect(DB_PATH)\n",
    "with get_connection() as conn:\n",
    "    events_df = pd.read_sql(\"SELECT * FROM events\", conn)\n",
    "\n",
    "print(f\"Loaded events: {events_df.shape}\")"
   ]
  },
  {
   "cell_type": "code",
   "execution_count": 6,
   "id": "2287cf66",
   "metadata": {},
   "outputs": [
    {
     "name": "stdout",
     "output_type": "stream",
     "text": [
      "Filtered events in I-10 Broadway Curve area: (445, 30)\n",
      "EventType\n",
      "accidentsAndIncidents    369\n",
      "roadwork                  60\n",
      "closures                  16\n",
      "Name: count, dtype: int64\n"
     ]
    }
   ],
   "source": [
    "# Filter events_df on I-10 Broadway Curve\n",
    "# # based on lat/lon bounds\n",
    "lat_min, lat_max = 33.296690, 33.428422\n",
    "lon_min, lon_max = -112.039731, -111.962382\n",
    "df_bw = events_df[\n",
    "    (events_df['Latitude'] >= lat_min) & (events_df['Latitude'] <= lat_max) &\n",
    "    (events_df['Longitude'] >= lon_min) & (events_df['Longitude'] <= lon_max)\n",
    "]\n",
    "\n",
    "# Filter if \"RoadwayName\" contains \"I-10\" or \"I10\" or \"broadway\"\n",
    "# or \"Description\" contains \"I-10\" or \"I10\" or \"broadway\"\n",
    "df_bw = df_bw[\n",
    "    df_bw['RoadwayName'].str.contains(\"I-10|I10\", case=False, na=False) \n",
    "]\n",
    "\n",
    "# Simple fill in of DirectionOfTravel based on \"RoadwayName\" column\n",
    "df_bw.loc[df_bw.DirectionOfTravel.eq('Unknown'),'DirectionOfTravel'] = (df_bw.loc[df_bw.DirectionOfTravel.eq('Unknown'),'RoadwayName'].str.extract(r'(west|east|south|north)', flags=re.I, expand=False).str.lower().fillna('Unknown'))\n",
    "\n",
    "print(f\"Filtered events in I-10 Broadway Curve area: {df_bw.shape}\")\n",
    "print(df_bw.EventType.value_counts())\n"
   ]
  },
  {
   "cell_type": "code",
   "execution_count": 7,
   "id": "d1418e61",
   "metadata": {},
   "outputs": [
    {
     "name": "stdout",
     "output_type": "stream",
     "text": [
      "Top 15 EventSubType values:\n",
      "EventSubType\n",
      "C34Rshoulder               95\n",
      "Crash on right shoulder    52\n",
      "AccidentIncident           39\n",
      "DebrisRshoulder            21\n",
      "debrisLshoulder            20\n",
      "leftlanes                  19\n",
      "CrashLshoulder             16\n",
      "rightlanes                 16\n",
      "C34Lshoulder               13\n",
      "exitclosed                 10\n",
      "exitrestricted              9\n",
      "T1018SR                     9\n",
      "ITS Equipment Damage        6\n",
      "C34exit                     6\n",
      "LeftLane                    6\n",
      "Name: count, dtype: int64\n"
     ]
    }
   ],
   "source": [
    "print(\"Top 15 EventSubType values:\")\n",
    "print(df_bw.EventSubType.value_counts().sort_values(ascending=False).head(15))"
   ]
  },
  {
   "cell_type": "code",
   "execution_count": 8,
   "id": "3bb44fde",
   "metadata": {},
   "outputs": [
    {
     "name": "stdout",
     "output_type": "stream",
     "text": [
      "TMC rows in bounds: 100\n"
     ]
    }
   ],
   "source": [
    "# Read INRIX TMC data and filter only I-10 Broadway Curve\n",
    "# Filter TMC rows on-the-fly while reading (lat/lon box)\n",
    "tmc_path = Path('../database/inrix-traffic-speed/I10-and-I17-1year/TMC_Identification.csv')\n",
    "\n",
    "usecols = [\n",
    "    'tmc','road','direction','intersection',\n",
    "    'start_latitude','start_longitude','end_latitude','end_longitude',\n",
    "    'miles','road_order'\n",
    "]\n",
    "\n",
    "chunks = []\n",
    "for chunk in pd.read_csv(\n",
    "        tmc_path,\n",
    "        usecols=usecols,\n",
    "        chunksize=50_000,\n",
    "        dtype={\n",
    "            'tmc':'string','road':'string','direction':'string','intersection':'string',\n",
    "            'miles':'float32','road_order':'float32'\n",
    "        }):\n",
    "    m = (\n",
    "        (\n",
    "            (chunk.start_latitude.between(lat_min, lat_max) & chunk.start_longitude.between(lon_min, lon_max)) |\n",
    "            (chunk.end_latitude.between(lat_min, lat_max) & chunk.end_longitude.between(lon_min, lon_max))\n",
    "        )\n",
    "        & (chunk['road'] == 'I-10')\n",
    "    )\n",
    "    if m.any():\n",
    "        chunks.append(chunk.loc[m])\n",
    "\n",
    "df_tmc = pd.concat(chunks, ignore_index=True) if chunks else pd.DataFrame(columns=usecols)\n",
    "print(\"TMC rows in bounds:\", len(df_tmc))"
   ]
  },
  {
   "cell_type": "code",
   "execution_count": null,
   "id": "0b6388d8",
   "metadata": {},
   "outputs": [
    {
     "name": "stdout",
     "output_type": "stream",
     "text": [
      "Sample duplicated TMCs (count>1):\n",
      "tmc\n",
      "115P04179    2\n",
      "115P04178    2\n",
      "115P04177    2\n",
      "115P04187    2\n",
      "115P04186    2\n",
      "Name: count, dtype: Int64\n",
      "Original TMC rows: 100 -> After cleaning: 50\n"
     ]
    }
   ],
   "source": [
    "# df_tmc has duplicate TMC codes, remove duplicates by averaging\n",
    "original_length = len(df_tmc)\n",
    "dup_counts = df_tmc['tmc'].value_counts()\n",
    "print(\"Sample duplicated TMCs (count>1):\")\n",
    "print(dup_counts[dup_counts>1].head())\n",
    "\n",
    "# After df_tmc is created (dedupe per TMC by averaging geometry)\n",
    "numeric_avg_cols = ['start_latitude','start_longitude','end_latitude','end_longitude','miles']\n",
    "keep_first_cols  = ['road','timezone_name','type','country','state','county','zip']  # adjust if not loaded\n",
    "\n",
    "# Some columns might not be in current usecols; keep only those present\n",
    "numeric_avg_cols = [c for c in numeric_avg_cols if c in df_tmc.columns]\n",
    "keep_first_cols  = [c for c in keep_first_cols if c in df_tmc.columns]\n",
    "\n",
    "# Aggregate\n",
    "agg_dict = {c:'mean' for c in numeric_avg_cols}\n",
    "for c in keep_first_cols:\n",
    "    agg_dict[c] = 'first'\n",
    "\n",
    "# For direction & intersection we may have two distinct values; collapse unique\n",
    "extra_cols = []\n",
    "for col in ['direction','intersection']:\n",
    "    if col in df_tmc.columns:\n",
    "        agg_dict[col] = lambda x: '|'.join(sorted(set(x.dropna())))\n",
    "        extra_cols.append(col)\n",
    "\n",
    "df_tmc = (\n",
    "    df_tmc\n",
    "      .groupby('tmc', as_index=False)\n",
    "      .agg(agg_dict)\n",
    ")\n",
    "\n",
    "print(f\"Original TMC rows: {original_length} -> After cleaning: {len(df_tmc)}\")\n"
   ]
  },
  {
   "cell_type": "code",
   "execution_count": 11,
   "id": "387ecc63",
   "metadata": {},
   "outputs": [
    {
     "name": "stdout",
     "output_type": "stream",
     "text": [
      "Column count: 10\n",
      "['tmc_code', 'measurement_tstamp', 'speed', 'historical_average_speed', 'reference_speed', 'travel_time_seconds', 'confidence_score', 'cvalue', 'Inrix 2013', 'Inrix 2019']\n"
     ]
    }
   ],
   "source": [
    "# Read only the header row to inspect column names (no full load)\n",
    "inrix_path = Path('../database/inrix-traffic-speed/I10-and-I17-1year/I10-and-I17-1year.csv')\n",
    "cols = pd.read_csv(inrix_path, nrows=0).columns.tolist()\n",
    "print(f\"Column count: {len(cols)}\")\n",
    "print(cols)"
   ]
  },
  {
   "cell_type": "code",
   "execution_count": 12,
   "id": "b6e482df",
   "metadata": {},
   "outputs": [
    {
     "name": "stdout",
     "output_type": "stream",
     "text": [
      "Manual time window: 2025-06-16 00:00:00 -> 2025-10-03 00:00:00\n"
     ]
    },
    {
     "name": "stderr",
     "output_type": "stream",
     "text": [
      "/tmp/ipykernel_2456502/1152584250.py:14: UserWarning: Could not infer format, so each element will be parsed individually, falling back to `dateutil`. To ensure parsing is consistent and as-expected, please specify a format.\n",
      "  for chunk in pd.read_csv(\n"
     ]
    },
    {
     "name": "stdout",
     "output_type": "stream",
     "text": [
      "Filtered INRIX rows (time range only): 7153505\n"
     ]
    }
   ],
   "source": [
    "# read INRIX and filter out broadway curve based on time range manually defined\n",
    "# further filter based on TMC codes from df_tmc (I-10 broadway)\n",
    "\n",
    "# Ensure start/end are pandas Timestamps (your df_bw values look like epoch ints)\n",
    "start_ts = pd.Timestamp('2025-06-16 00:00:00')\n",
    "end_ts = pd.Timestamp.today().normalize()\n",
    "print(\"Manual time window:\", start_ts, \"->\", end_ts)\n",
    "tmc_set = set(df_tmc['tmc']) \n",
    "\n",
    "usecols = ['tmc_code', 'measurement_tstamp', 'speed', 'reference_speed',\n",
    "           'travel_time_seconds', 'confidence_score', 'cvalue', 'Inrix 2013', 'Inrix 2019']\n",
    "\n",
    "filtered_chunks = []\n",
    "for chunk in pd.read_csv(\n",
    "        inrix_path,\n",
    "        usecols=usecols,\n",
    "        parse_dates=['measurement_tstamp'],\n",
    "        chunksize=20_000):\n",
    "    m = (\n",
    "        (chunk['tmc_code'].isin(tmc_set)) &\n",
    "        (chunk['measurement_tstamp'] >= start_ts) &\n",
    "        (chunk['measurement_tstamp'] <= end_ts)\n",
    "    )\n",
    "    if m.any():\n",
    "        filtered_chunks.append(chunk.loc[m])\n",
    "\n",
    "df_inrix = (pd.concat(filtered_chunks, ignore_index=True)\n",
    "            if filtered_chunks else pd.DataFrame(columns=usecols))\n",
    "print(\"Filtered INRIX rows (time range only):\", len(df_inrix))\n"
   ]
  },
  {
   "cell_type": "code",
   "execution_count": 19,
   "id": "48b033b5",
   "metadata": {},
   "outputs": [
    {
     "name": "stdout",
     "output_type": "stream",
     "text": [
      "Updated nearest TMC with direction-aware matching.\n",
      "    DirectionOfTravel   near_tmc\n",
      "123              west  115P04184\n",
      "137              west  115P04184\n",
      "165              west  115P04185\n",
      "166              west  115P04185\n",
      "222              east  115N04185\n"
     ]
    }
   ],
   "source": [
    "# add \"near_tmc\" to df_bw based on the projection distance to TMC line segments\n",
    "\n",
    "def point_segment_distance(px, py, ax, ay, bx, by):\n",
    "    \"\"\"\n",
    "    Compute distance and projection for one point (px,py) to one segment A(ax,ay)->B(bx,by).\n",
    "    Returns (dist, proj_x, proj_y, t) where t in [0,1].\n",
    "    \"\"\"\n",
    "    vx, vy = bx - ax, by - ay\n",
    "    wx, wy = px - ax, py - ay\n",
    "    seg_len2 = vx*vx + vy*vy\n",
    "    if seg_len2 == 0:\n",
    "        # Degenerate segment\n",
    "        return np.hypot(px-ax, py-ay), ax, ay, 0.0\n",
    "    t = (wx*vx + wy*vy) / seg_len2\n",
    "    t_clamped = max(0.0, min(1.0, t))\n",
    "    proj_x = ax + t_clamped * vx\n",
    "    proj_y = ay + t_clamped * vy\n",
    "    dist = np.hypot(px - proj_x, py - proj_y)\n",
    "    return dist, proj_x, proj_y, t_clamped\n",
    "\n",
    "def points_segments_nearest(events_xy, seg_a_xy, seg_b_xy):\n",
    "    \"\"\"\n",
    "    Vectorized nearest segment for many points.\n",
    "    events_xy: (N,2)\n",
    "    seg_a_xy: (M,2)\n",
    "    seg_b_xy: (M,2)\n",
    "    Returns:\n",
    "      nearest_seg_index (N,)\n",
    "      dist (N,)\n",
    "      proj_xy (N,2)\n",
    "    \"\"\"\n",
    "    N = events_xy.shape[0]\n",
    "    M = seg_a_xy.shape[0]\n",
    "    # Segment vectors\n",
    "    v = seg_b_xy - seg_a_xy          # (M,2)\n",
    "    v_len2 = (v**2).sum(axis=1)      # (M,)\n",
    "    v_len2[v_len2 == 0] = 1e-12\n",
    "\n",
    "    # We can process in chunks to limit memory\n",
    "    chunk = 500\n",
    "    best_dist2 = np.full(N, np.inf)\n",
    "    best_idx = np.zeros(N, dtype=int)\n",
    "    best_t = np.zeros(N)\n",
    "\n",
    "    P = events_xy  # (N,2)\n",
    "    for s in range(0, M, chunk):\n",
    "        e = min(s+chunk, M)\n",
    "        A = seg_a_xy[s:e]           # (m,2)\n",
    "        V = v[s:e]                  # (m,2)\n",
    "        L2 = v_len2[s:e]            # (m,)\n",
    "\n",
    "        # P - A (broadcast)\n",
    "        PA = P[:, None, :] - A[None, :, :]        # (N,m,2)\n",
    "        # t raw\n",
    "        t = (PA * V[None, :, :]).sum(axis=2) / L2[None, :]\n",
    "        t_clamped = np.clip(t, 0, 1)\n",
    "\n",
    "        proj = A[None, :, :] + t_clamped[..., None] * V[None, :, :]  # (N,m,2)\n",
    "        diff = P[:, None, :] - proj\n",
    "        dist2 = (diff**2).sum(axis=2)  # (N,m)\n",
    "\n",
    "        local_min_idx = dist2.argmin(axis=1)\n",
    "        local_min_val = dist2[np.arange(N), local_min_idx]\n",
    "        improved = local_min_val < best_dist2\n",
    "        if improved.any():\n",
    "            best_dist2[improved] = local_min_val[improved]\n",
    "            best_idx[improved] = s + local_min_idx[improved]\n",
    "            best_t[improved] = t_clamped[np.arange(N), local_min_idx][improved]\n",
    "\n",
    "    # Build projection points for winners\n",
    "    proj_xy = seg_a_xy[best_idx] + best_t[:, None] * v[best_idx]\n",
    "    return best_idx, np.sqrt(best_dist2), proj_xy, best_t\n",
    "\n",
    "# Direction-aware nearest TMC assignment\n",
    "if not df_bw.empty and not df_tmc.empty:\n",
    "    lat0 = float(df_bw['Latitude'].mean())\n",
    "    m_per_deg_lat = 110540.0\n",
    "    m_per_deg_lon = 111320.0 * np.cos(np.deg2rad(lat0))\n",
    "\n",
    "    # Normalize event direction (already lowercased earlier, but ensure)\n",
    "    df_bw['DirectionOfTravel'] = df_bw['DirectionOfTravel'].str.lower()\n",
    "\n",
    "    # Map event direction tokens to TMC direction field patterns\n",
    "    dir_map = {\n",
    "        'east': 'EASTBOUND',\n",
    "        'west': 'WESTBOUND',\n",
    "        'north': 'NORTHBOUND',\n",
    "        'south': 'SOUTHBOUND'\n",
    "    }\n",
    "\n",
    "    # Prepare result columns (will fill incrementally)\n",
    "\n",
    "    df_bw['near_tmc'] = np.nan\n",
    "    df_bw['near_tmc'] = df_bw['near_tmc'].astype('string')\n",
    "    ev_base_mask = df_bw[['Latitude','Longitude']].notna().all(axis=1)\n",
    "\n",
    "    # Process each direction separately so only same-direction TMCs are considered\n",
    "    for ev_dir, tmc_dir in dir_map.items():\n",
    "        ev_mask_dir = ev_base_mask & df_bw.DirectionOfTravel.eq(ev_dir)\n",
    "        if not ev_mask_dir.any():\n",
    "            continue\n",
    "        seg_mask = df_tmc['direction'].str.contains(tmc_dir, case=False, na=False)\n",
    "        seg_subset = df_tmc.loc[seg_mask]\n",
    "        if seg_subset.empty:\n",
    "            continue\n",
    "\n",
    "        ev_lat = df_bw.loc[ev_mask_dir, 'Latitude'].to_numpy()\n",
    "        ev_lon = df_bw.loc[ev_mask_dir, 'Longitude'].to_numpy()\n",
    "        events_xy = np.column_stack([\n",
    "            ev_lon * m_per_deg_lon,\n",
    "            ev_lat * m_per_deg_lat\n",
    "        ])\n",
    "\n",
    "        seg_a_xy = np.column_stack([\n",
    "            seg_subset['start_longitude'].to_numpy() * m_per_deg_lon,\n",
    "            seg_subset['start_latitude'].to_numpy() * m_per_deg_lat\n",
    "        ])\n",
    "        seg_b_xy = np.column_stack([\n",
    "            seg_subset['end_longitude'].to_numpy() * m_per_deg_lon,\n",
    "            seg_subset['end_latitude'].to_numpy() * m_per_deg_lat\n",
    "        ])\n",
    "\n",
    "        idx_local, dist_m, proj_xy, t_param = points_segments_nearest(events_xy, seg_a_xy, seg_b_xy)\n",
    "\n",
    "        # Write back\n",
    "        df_bw.loc[ev_mask_dir, 'near_tmc'] = seg_subset.iloc[idx_local]['tmc'].astype('string').to_numpy()\n",
    "        # df_bw.loc[ev_mask_dir, 'near_tmc'] = seg_subset.iloc[idx_local]['tmc'].to_numpy()\n",
    "        # df_bw.loc[ev_mask_dir, 'near_tmc_dist_m'] = dist_m\n",
    "        # df_bw.loc[ev_mask_dir, 'near_tmc_dist_km'] = dist_m / 1000\n",
    "        # df_bw.loc[ev_mask_dir, 'near_tmc_proj_lat'] = proj_xy[:,1] / m_per_deg_lat\n",
    "        # df_bw.loc[ev_mask_dir, 'near_tmc_proj_lon'] = proj_xy[:,0] / m_per_deg_lon\n",
    "\n",
    "    # Fallback: events with unknown or unmatched direction -> use all segments (previous logic)\n",
    "    unmatched_mask = ev_base_mask & df_bw['near_tmc'].isna()\n",
    "    if unmatched_mask.any():\n",
    "        seg_a_xy_all = np.column_stack([\n",
    "            df_tmc['start_longitude'].to_numpy() * m_per_deg_lon,\n",
    "            df_tmc['start_latitude'].to_numpy() * m_per_deg_lat\n",
    "        ])\n",
    "        seg_b_xy_all = np.column_stack([\n",
    "            df_tmc['end_longitude'].to_numpy() * m_per_deg_lon,\n",
    "            df_tmc['end_latitude'].to_numpy() * m_per_deg_lat\n",
    "        ])\n",
    "        ev_lat = df_bw.loc[unmatched_mask, 'Latitude'].to_numpy()\n",
    "        ev_lon = df_bw.loc[unmatched_mask, 'Longitude'].to_numpy()\n",
    "        events_xy = np.column_stack([ev_lon * m_per_deg_lon, ev_lat * m_per_deg_lat])\n",
    "        idx_all, dist_m, proj_xy, _ = points_segments_nearest(events_xy, seg_a_xy_all, seg_b_xy_all)\n",
    "        df_bw.loc[unmatched_mask, 'near_tmc'] = df_tmc.iloc[idx_all]['tmc'].astype('string').to_numpy()\n",
    "        # df_bw.loc[unmatched_mask, 'near_tmc'] = df_tmc.iloc[idx_all]['tmc'].to_numpy()\n",
    "        # df_bw.loc[unmatched_mask, 'near_tmc_dist_m'] = dist_m\n",
    "        # df_bw.loc[unmatched_mask, 'near_tmc_dist_km'] = dist_m / 1000\n",
    "        # df_bw.loc[unmatched_mask, 'near_tmc_proj_lat'] = proj_xy[:,1] / m_per_deg_lat\n",
    "        # df_bw.loc[unmatched_mask, 'near_tmc_proj_lon'] = proj_xy[:,0] / m_per_deg_lon\n",
    "\n",
    "    print(\"Updated nearest TMC with direction-aware matching.\")\n",
    "    print(df_bw[['DirectionOfTravel','near_tmc']].head())"
   ]
  },
  {
   "cell_type": "code",
   "execution_count": 14,
   "id": "bbb6ec3f",
   "metadata": {},
   "outputs": [
    {
     "name": "stdout",
     "output_type": "stream",
     "text": [
      "Target speed timestamp: 2025-08-29 00:00:00\n"
     ]
    },
    {
     "data": {
      "application/vnd.plotly.v1+json": {
       "config": {
        "plotlyServerURL": "https://plot.ly"
       },
       "data": [
        {
         "hovertext": "TMC: 115P04179, Speed: 70.0",
         "lat": [
          33.33027,
          33.34022
         ],
         "line": {
          "color": "#f87ce6",
          "width": 4
         },
         "lon": [
          -111.97208,
          -111.97208
         ],
         "mode": "lines",
         "name": "115P04179",
         "type": "scattermap"
        },
        {
         "hovertext": "TMC: 115P04178, Speed: 75.0",
         "lat": [
          33.315245000000004,
          33.3239
         ],
         "line": {
          "color": "#3c3120",
          "width": 4
         },
         "lon": [
          -111.972105,
          -111.97209
         ],
         "mode": "lines",
         "name": "115P04178",
         "type": "scattermap"
        },
        {
         "hovertext": "TMC: 115P04177, Speed: 70.0",
         "lat": [
          33.30203,
          33.31028
         ],
         "line": {
          "color": "#87cd8f",
          "width": 4
         },
         "lon": [
          -111.97195,
          -111.97207
         ],
         "mode": "lines",
         "name": "115P04177",
         "type": "scattermap"
        },
        {
         "hovertext": "TMC: 115P04187, Speed: 71.0",
         "lat": [
          33.42484,
          33.42623
         ],
         "line": {
          "color": "#c1f69e",
          "width": 4
         },
         "lon": [
          -112.02462,
          -112.02778
         ],
         "mode": "lines",
         "name": "115P04187",
         "type": "scattermap"
        },
        {
         "hovertext": "TMC: 115P04186, Speed: 71.0",
         "lat": [
          33.41096,
          33.41478
         ],
         "line": {
          "color": "#8eb2f3",
          "width": 4
         },
         "lon": [
          -112.00505000000001,
          -112.0144
         ],
         "mode": "lines",
         "name": "115P04186",
         "type": "scattermap"
        },
        {
         "hovertext": "TMC: 115P04188, Speed: 71.0",
         "lat": [
          33.42664,
          33.4321
         ],
         "line": {
          "color": "#634b19",
          "width": 4
         },
         "lon": [
          -112.02936,
          -112.03737
         ],
         "mode": "lines",
         "name": "115P04188",
         "type": "scattermap"
        },
        {
         "hovertext": "TMC: 115P04183, Speed: 70.0",
         "lat": [
          33.40358,
          33.40625
         ],
         "line": {
          "color": "#365b2c",
          "width": 4
         },
         "lon": [
          -111.9678,
          -111.96930499999999
         ],
         "mode": "lines",
         "name": "115P04183",
         "type": "scattermap"
        },
        {
         "hovertext": "TMC: 115P04182, Speed: 68.0",
         "lat": [
          33.38471,
          33.397
         ],
         "line": {
          "color": "#e86ca2",
          "width": 4
         },
         "lon": [
          -111.96766,
          -111.96732
         ],
         "mode": "lines",
         "name": "115P04182",
         "type": "scattermap"
        },
        {
         "hovertext": "TMC: 115P04185, Speed: 70.0",
         "lat": [
          33.411045,
          33.41096
         ],
         "line": {
          "color": "#6071dc",
          "width": 4
         },
         "lon": [
          -111.98933500000001,
          -112.00267
         ],
         "mode": "lines",
         "name": "115P04185",
         "type": "scattermap"
        },
        {
         "hovertext": "TMC: 115P04184, Speed: 71.0",
         "lat": [
          33.406435,
          33.411114999999995
         ],
         "line": {
          "color": "#69aed0",
          "width": 4
         },
         "lon": [
          -111.969465,
          -111.984125
         ],
         "mode": "lines",
         "name": "115P04184",
         "type": "scattermap"
        },
        {
         "hovertext": "TMC: 115P04181, Speed: 71.0",
         "lat": [
          33.372654999999995,
          33.38233
         ],
         "line": {
          "color": "#719db9",
          "width": 4
         },
         "lon": [
          -111.967845,
          -111.96772
         ],
         "mode": "lines",
         "name": "115P04181",
         "type": "scattermap"
        },
        {
         "hovertext": "TMC: 115P04180, Speed: 73.0",
         "lat": [
          33.34452,
          33.35384
         ],
         "line": {
          "color": "#52eed8",
          "width": 4
         },
         "lon": [
          -111.97209,
          -111.97098
         ],
         "mode": "lines",
         "name": "115P04180",
         "type": "scattermap"
        },
        {
         "hovertext": "TMC: 115N04187, Speed: 73.0",
         "lat": [
          33.42643,
          33.42491
         ],
         "line": {
          "color": "#deb524",
          "width": 4
         },
         "lon": [
          -112.02957,
          -112.02535
         ],
         "mode": "lines",
         "name": "115N04187",
         "type": "scattermap"
        },
        {
         "hovertext": "TMC: 115N04186, Speed: 73.0",
         "lat": [
          33.414645,
          33.4107
         ],
         "line": {
          "color": "#95e125",
          "width": 4
         },
         "lon": [
          -112.01465999999999,
          -112.00508
         ],
         "mode": "lines",
         "name": "115N04186",
         "type": "scattermap"
        },
        {
         "hovertext": "TMC: 115N04185, Speed: 75.0",
         "lat": [
          33.41073,
          33.41082
         ],
         "line": {
          "color": "#b1f4e4",
          "width": 4
         },
         "lon": [
          -112.001385,
          -111.990825
         ],
         "mode": "lines",
         "name": "115N04185",
         "type": "scattermap"
        },
        {
         "hovertext": "TMC: 115N04184, Speed: 72.0",
         "lat": [
          33.410844999999995,
          33.40747
         ],
         "line": {
          "color": "#4a08e3",
          "width": 4
         },
         "lon": [
          -111.98482000000001,
          -111.97083
         ],
         "mode": "lines",
         "name": "115N04184",
         "type": "scattermap"
        },
        {
         "hovertext": "TMC: 115N04188, Speed: 70.0",
         "lat": [
          33.43103,
          33.42675
         ],
         "line": {
          "color": "#fa3c6e",
          "width": 4
         },
         "lon": [
          -112.03778,
          -112.03181
         ],
         "mode": "lines",
         "name": "115N04188",
         "type": "scattermap"
        },
        {
         "hovertext": "TMC: 115+04183, Speed: 70.0",
         "lat": [
          33.397,
          33.40358
         ],
         "line": {
          "color": "#7a235e",
          "width": 4
         },
         "lon": [
          -111.96732,
          -111.9678
         ],
         "mode": "lines",
         "name": "115+04183",
         "type": "scattermap"
        },
        {
         "hovertext": "TMC: 115+04184, Speed: 71.0",
         "lat": [
          33.40625,
          33.406435
         ],
         "line": {
          "color": "#0a0a80",
          "width": 4
         },
         "lon": [
          -111.96930499999999,
          -111.969465
         ],
         "mode": "lines",
         "name": "115+04184",
         "type": "scattermap"
        },
        {
         "hovertext": "TMC: 115+04181, Speed: 71.0",
         "lat": [
          33.35384,
          33.372654999999995
         ],
         "line": {
          "color": "#f06537",
          "width": 4
         },
         "lon": [
          -111.97098,
          -111.967845
         ],
         "mode": "lines",
         "name": "115+04181",
         "type": "scattermap"
        },
        {
         "hovertext": "TMC: 115+04182, Speed: 71.0",
         "lat": [
          33.38233,
          33.38471
         ],
         "line": {
          "color": "#872444",
          "width": 4
         },
         "lon": [
          -111.96772,
          -111.96766
         ],
         "mode": "lines",
         "name": "115+04182",
         "type": "scattermap"
        },
        {
         "hovertext": "TMC: 115+04187, Speed: 71.0",
         "lat": [
          33.41478,
          33.42484
         ],
         "line": {
          "color": "#5552e0",
          "width": 4
         },
         "lon": [
          -112.0144,
          -112.02462
         ],
         "mode": "lines",
         "name": "115+04187",
         "type": "scattermap"
        },
        {
         "hovertext": "TMC: 115+04188, Speed: 70.0",
         "lat": [
          33.42623,
          33.42664
         ],
         "line": {
          "color": "#38ef99",
          "width": 4
         },
         "lon": [
          -112.02778,
          -112.02936
         ],
         "mode": "lines",
         "name": "115+04188",
         "type": "scattermap"
        },
        {
         "hovertext": "TMC: 115P05165, Speed: 67.0",
         "lat": [
          33.29577,
          33.29989
         ],
         "line": {
          "color": "#ee4cd3",
          "width": 4
         },
         "lon": [
          -111.97189,
          -111.97189
         ],
         "mode": "lines",
         "name": "115P05165",
         "type": "scattermap"
        },
        {
         "hovertext": "TMC: 115+04185, Speed: 71.0",
         "lat": [
          33.411114999999995,
          33.411045
         ],
         "line": {
          "color": "#07ee93",
          "width": 4
         },
         "lon": [
          -111.984125,
          -111.98933500000001
         ],
         "mode": "lines",
         "name": "115+04185",
         "type": "scattermap"
        },
        {
         "hovertext": "TMC: 115+04186, Speed: 70.0",
         "lat": [
          33.41096,
          33.41096
         ],
         "line": {
          "color": "#d7bcdc",
          "width": 4
         },
         "lon": [
          -112.00267,
          -112.00505000000001
         ],
         "mode": "lines",
         "name": "115+04186",
         "type": "scattermap"
        },
        {
         "hovertext": "TMC: 115+04180, Speed: 72.0",
         "lat": [
          33.34022,
          33.34452
         ],
         "line": {
          "color": "#4007aa",
          "width": 4
         },
         "lon": [
          -111.97208,
          -111.97209
         ],
         "mode": "lines",
         "name": "115+04180",
         "type": "scattermap"
        },
        {
         "hovertext": "TMC: 115N04183, Speed: 71.0",
         "lat": [
          33.40682,
          33.40509
         ],
         "line": {
          "color": "#0d001f",
          "width": 4
         },
         "lon": [
          -111.97017,
          -111.96889
         ],
         "mode": "lines",
         "name": "115N04183",
         "type": "scattermap"
        },
        {
         "hovertext": "TMC: 115N04182, Speed: 70.0",
         "lat": [
          33.396225,
          33.38502
         ],
         "line": {
          "color": "#30dd7e",
          "width": 4
         },
         "lon": [
          -111.96769,
          -111.96795
         ],
         "mode": "lines",
         "name": "115N04182",
         "type": "scattermap"
        },
        {
         "hovertext": "TMC: 115N04181, Speed: 70.0",
         "lat": [
          33.38236,
          33.372835
         ],
         "line": {
          "color": "#4513a3",
          "width": 4
         },
         "lon": [
          -111.96802,
          -111.96813
         ],
         "mode": "lines",
         "name": "115N04181",
         "type": "scattermap"
        },
        {
         "hovertext": "TMC: 115N04180, Speed: 75.0",
         "lat": [
          33.35328,
          33.34415
         ],
         "line": {
          "color": "#d28d53",
          "width": 4
         },
         "lon": [
          -111.97135,
          -111.97237
         ],
         "mode": "lines",
         "name": "115N04180",
         "type": "scattermap"
        },
        {
         "hovertext": "TMC: 115+04178, Speed: 72.0",
         "lat": [
          33.31028,
          33.315245000000004
         ],
         "line": {
          "color": "#026a53",
          "width": 4
         },
         "lon": [
          -111.97207,
          -111.972105
         ],
         "mode": "lines",
         "name": "115+04178",
         "type": "scattermap"
        },
        {
         "hovertext": "TMC: 115+04179, Speed: 73.0",
         "lat": [
          33.3239,
          33.33027
         ],
         "line": {
          "color": "#934921",
          "width": 4
         },
         "lon": [
          -111.97209,
          -111.97208
         ],
         "mode": "lines",
         "name": "115+04179",
         "type": "scattermap"
        },
        {
         "hovertext": "TMC: 115N04179, Speed: 75.0",
         "lat": [
          33.33835,
          33.32936
         ],
         "line": {
          "color": "#f6fa1c",
          "width": 4
         },
         "lon": [
          -111.97235,
          -111.97234
         ],
         "mode": "lines",
         "name": "115N04179",
         "type": "scattermap"
        },
        {
         "hovertext": "TMC: 115N04178, Speed: 70.0",
         "lat": [
          33.32559,
          33.31491
         ],
         "line": {
          "color": "#4dd58d",
          "width": 4
         },
         "lon": [
          -111.97237,
          -111.97241
         ],
         "mode": "lines",
         "name": "115N04178",
         "type": "scattermap"
        },
        {
         "hovertext": "TMC: 115N04177, Speed: 71.0",
         "lat": [
          33.31095,
          33.30176
         ],
         "line": {
          "color": "#944548",
          "width": 4
         },
         "lon": [
          -111.97239,
          -111.97246
         ],
         "mode": "lines",
         "name": "115N04177",
         "type": "scattermap"
        },
        {
         "hovertext": "TMC: 115+04177, Speed: 67.0",
         "lat": [
          33.29989,
          33.30203
         ],
         "line": {
          "color": "#984949",
          "width": 4
         },
         "lon": [
          -111.97189,
          -111.97195
         ],
         "mode": "lines",
         "name": "115+04177",
         "type": "scattermap"
        },
        {
         "hovertext": "TMC: 115-05165, Speed: 72.0",
         "lat": [
          33.30176,
          33.29995
         ],
         "line": {
          "color": "#8945fd",
          "width": 4
         },
         "lon": [
          -111.97246,
          -111.97249
         ],
         "mode": "lines",
         "name": "115-05165",
         "type": "scattermap"
        },
        {
         "hovertext": "TMC: 115-04182, Speed: 68.0",
         "lat": [
          33.40509,
          33.396225
         ],
         "line": {
          "color": "#8498f3",
          "width": 4
         },
         "lon": [
          -111.96889,
          -111.96769
         ],
         "mode": "lines",
         "name": "115-04182",
         "type": "scattermap"
        },
        {
         "hovertext": "TMC: 115-04181, Speed: 71.0",
         "lat": [
          33.38502,
          33.38236
         ],
         "line": {
          "color": "#5490d6",
          "width": 4
         },
         "lon": [
          -111.96795,
          -111.96802
         ],
         "mode": "lines",
         "name": "115-04181",
         "type": "scattermap"
        },
        {
         "hovertext": "TMC: 115-04180, Speed: 73.0",
         "lat": [
          33.372835,
          33.35328
         ],
         "line": {
          "color": "#a991c7",
          "width": 4
         },
         "lon": [
          -111.96813,
          -111.97135
         ],
         "mode": "lines",
         "name": "115-04180",
         "type": "scattermap"
        },
        {
         "hovertext": "TMC: 115-04186, Speed: 72.0",
         "lat": [
          33.42491,
          33.414645
         ],
         "line": {
          "color": "#dc9148",
          "width": 4
         },
         "lon": [
          -112.02535,
          -112.01465999999999
         ],
         "mode": "lines",
         "name": "115-04186",
         "type": "scattermap"
        },
        {
         "hovertext": "TMC: 115-04185, Speed: 72.0",
         "lat": [
          33.4107,
          33.41073
         ],
         "line": {
          "color": "#dfcbec",
          "width": 4
         },
         "lon": [
          -112.00508,
          -112.001385
         ],
         "mode": "lines",
         "name": "115-04185",
         "type": "scattermap"
        },
        {
         "hovertext": "TMC: 115-04184, Speed: 72.0",
         "lat": [
          33.41082,
          33.410844999999995
         ],
         "line": {
          "color": "#10f0a1",
          "width": 4
         },
         "lon": [
          -111.990825,
          -111.98482000000001
         ],
         "mode": "lines",
         "name": "115-04184",
         "type": "scattermap"
        },
        {
         "hovertext": "TMC: 115-04183, Speed: 71.0",
         "lat": [
          33.40747,
          33.40682
         ],
         "line": {
          "color": "#58a3ae",
          "width": 4
         },
         "lon": [
          -111.97083,
          -111.97017
         ],
         "mode": "lines",
         "name": "115-04183",
         "type": "scattermap"
        },
        {
         "hovertext": "TMC: 115-04187, Speed: 73.0",
         "lat": [
          33.42675,
          33.42643
         ],
         "line": {
          "color": "#d72f14",
          "width": 4
         },
         "lon": [
          -112.03181,
          -112.02957
         ],
         "mode": "lines",
         "name": "115-04187",
         "type": "scattermap"
        },
        {
         "hovertext": "TMC: 115N05165, Speed: 73.0",
         "lat": [
          33.29995,
          33.29618
         ],
         "line": {
          "color": "#ecfbed",
          "width": 4
         },
         "lon": [
          -111.97249,
          -111.97247
         ],
         "mode": "lines",
         "name": "115N05165",
         "type": "scattermap"
        },
        {
         "hovertext": "TMC: 115-04179, Speed: 72.0",
         "lat": [
          33.34415,
          33.33835
         ],
         "line": {
          "color": "#872428",
          "width": 4
         },
         "lon": [
          -111.97237,
          -111.97235
         ],
         "mode": "lines",
         "name": "115-04179",
         "type": "scattermap"
        },
        {
         "hovertext": "TMC: 115-04178, Speed: 73.0",
         "lat": [
          33.32936,
          33.32559
         ],
         "line": {
          "color": "#084054",
          "width": 4
         },
         "lon": [
          -111.97234,
          -111.97237
         ],
         "mode": "lines",
         "name": "115-04178",
         "type": "scattermap"
        },
        {
         "hovertext": "TMC: 115-04177, Speed: 69.0",
         "lat": [
          33.31491,
          33.31095
         ],
         "line": {
          "color": "#f47020",
          "width": 4
         },
         "lon": [
          -111.97241,
          -111.97239
         ],
         "mode": "lines",
         "name": "115-04177",
         "type": "scattermap"
        },
        {
         "hovertemplate": "Event near TMC: %{hovertext}<extra></extra>",
         "hovertext": [
          "115P04184<br>west<br>Left lanes closed on I-10 Westbound from SR-143 Northbound (MP 154)  to  40th St",
          "115P04184<br>west<br>HOV ramp closed on  ramp  from I-10 Westbound  to  SR-143 Northbound . All HOV L",
          "115P04185<br>west<br>Exit ramp restricted on  ramp  from I-10 Westbound  to  S 40th St . 1 Right Ramp",
          "115P04185<br>west<br>Exit ramp restricted on  ramp  from I-10 Westbound  to  S 40th St . 1 Right Ramp",
          "115N04185<br>east<br>Disabled vehicle on the left shoulder on I-10 Eastbound  near   S 40th St (MP 15",
          "115P04180<br>west<br>Disabled vehicle on the right shoulder on I-10 Westbound  near   Elliot Rd (MP 1",
          "115P04180<br>west<br>Disabled vehicle on the right shoulder on I-10 Westbound  near   Elliot Rd (MP 1",
          "115N04179<br>east<br>Disabled vehicle on the exit ramp on I-10 Eastbound  near   E Warner Rd (MP 159)",
          "115P04187<br>west<br>Crash on the right shoulder on I-10 Westbound  near   24th St (MP 150)   ",
          "115-04180<br>east<br>Disabled vehicle on the right shoulder on I-10 Eastbound  near   Elliot Rd (MP 1",
          "115P04182<br>west<br>Disabled vehicle on the exit ramp on I-10 Westbound  near   W Baseline Rd (MP 15",
          "115P04186<br>west<br>Disabled vehicle on the exit ramp on I-10 Westbound  near   E University Dr (MP ",
          "115N04185<br>east<br>Debris blocking the right lanes on I-10 Eastbound  near   S 40th St (MP 153)   ",
          "115N04179<br>east<br>Debris blocking the on ramp on I-10 Eastbound  near   E Warner Rd (MP 159)   ",
          "115N05165<br>east<br>Debris on the right shoulder on I-10 Eastbound  near   E Chandler Blvd (MP 161) ",
          "115N04187<br>east<br>Disabled vehicle on the right shoulder on I-10 Eastbound  near   S 24th St (MP 1",
          "115P04187<br>west<br>Disabled vehicle on the right shoulder on I-10 Westbound  near   24th St (MP 150",
          "115P04183<br>west<br>Debris on the right shoulder on I-10 Westbound  near   Broadway Rd (MP 154)   ",
          "115+04185<br>west<br>Disabled vehicle on the right shoulder on I-10 Westbound  near   Hohokam Expy (M",
          "115-04182<br>east<br>Disabled vehicle on the right shoulder on I-10 Eastbound  near   S 48th St (MP 1",
          "115N04180<br>east<br>Debris blocking the center lanes on I-10 Eastbound  near   Elliot Rd (MP 158)   ",
          "115N04179<br>east<br>Traffic signal timing issue or timing adjusted  on I-10 Eastbound  near   E Warn",
          "115P04184<br>west<br>Debris blocking the left lanes on I-10 Westbound  near   SR-143 Northbound (MP 1",
          "115-04182<br>east<br>Disabled vehicle on the right shoulder on I-10 Eastbound  near   S 48th St (MP 1",
          "115N04186<br>east<br>Debris on the left shoulder on I-10 Eastbound  near   32nd St (MP 151)   ",
          "115P04185<br>west<br>Debris on the left shoulder on I-10 Westbound  near   40th St (MP 152)   ",
          "115P04185<br>west<br>Crash on the left shoulder on I-10 Westbound  near   40th St (MP 152)   ",
          "115P04185<br>None<br>I10 @ S 40TH ST WB ON ,PHX - AccidentIncident - accident involving a motorcycle",
          "115N04184<br>east<br>Exit ramp closed on  ramp  from I-10 Eastbound  to  SR-143 Southbound . 1 Right ",
          "115P04177<br>west<br>Disabled vehicle on the right shoulder on I-10 Westbound  near   202-LOOP Eastbo",
          "115P04187<br>west<br>Crash on the right shoulder on I-10 Westbound  near   24th St (MP 150)   ",
          "115-04182<br>east<br>Disabled vehicle on the right shoulder on I-10 Eastbound  near   S 48th St (MP 1",
          "115-04182<br>east<br>Debris on the left shoulder on I-10 Eastbound  near   S 48th St (MP 154)   ",
          "115+04185<br>west<br>Abandoned vehicle on the right shoulder on I-10 Westbound  near   Hohokam Expy (",
          "115-04182<br>east<br>Debris blocking the left lane on I-10 Eastbound  near   S 48th St (MP 154)   ",
          "115P04179<br>west<br>Crash on the right shoulder on I-10 Westbound  near   Warner Rd (MP 159)   ",
          "115N04182<br>east<br>Crash on the right shoulder on I-10 Eastbound  near   Baseline Rd (MP 155)   ",
          "115N04182<br>east<br>Disabled vehicle on the left shoulder on I-10 Eastbound  near   Baseline Rd (MP ",
          "115+04187<br>west<br>Crash blocking the on ramp on I-10 Westbound  near   E University Dr (MP 151)   ",
          "115-04185<br>east<br>Sign damage on I-10 Eastbound  near   40th St (MP 152)   ",
          "115N04181<br>east<br>Disabled vehicle on the right shoulder on I-10 Eastbound  near   Superstition Fw",
          "115-04182<br>east<br>Debris on the left shoulder on I-10 Eastbound  near   S 48th St (MP 154)   ",
          "115+04182<br>west<br>Disabled vehicle on the right shoulder on I-10 Westbound  near   W Baseline Rd (",
          "115P04184<br>west<br>Debris on the left shoulder on I-10 Westbound  near   W Broadway Rd (MP 154)   ",
          "115+04181<br>west<br>Crash on the right shoulder on I-10 Westbound  near   E Elliot Rd (MP 157)   ",
          "115+04181<br>west<br>Crash on the right shoulder on I-10 Westbound  near   E Elliot Rd (MP 157)   ",
          "115P04184<br>west<br>Disabled vehicle on the right shoulder on I-10 Westbound  near   SR-143 Northbou",
          "115P04180<br>west<br>Right lanes closed on I-10 Westbound from E Elliot Rd (MP 158)  to  Baseline Rd ",
          "115P04181<br>west<br>Exit ramp closed on  ramp  from I-10 Westbound  to  W Baseline Rd . All Ramps Cl",
          "115-04180<br>east<br>Disabled vehicle on the right shoulder on I-10 Eastbound  near   Superstition Fw",
          "115N04184<br>east<br>Exit ramp closed on  ramp  from I-10 Eastbound  to  SR-143 Southbound . 1 Right ",
          "115P04188<br>west<br>Disabled vehicle on the right shoulder on I-10 Westbound  near   24th St (MP 150",
          "115N04182<br>east<br>HOV ramp closed on  ramp  from I-10 Eastbound  to  US-60 Eastbound . All HOV Lan",
          "115N04180<br>east<br>Vehicle fire on I-10 Eastbound  near   Elliot Rd (MP 158)   ",
          "115N04180<br>east<br>Crash on the left shoulder on I-10 Eastbound  near   Elliot Rd (MP 158)   ",
          "115-04177<br>east<br>Crash blocking the on ramp on I-10 Eastbound  near   E Ray Rd (MP 160)   ",
          "115N04184<br>east<br>Right lane closed on I-10 Eastbound from Hohokam Expy (MP 154)  to  I-10 (MP 172",
          "115N04180<br>east<br>Debris on the right shoulder on I-10 Eastbound  near   Elliot Rd (MP 158)   ",
          "115P04181<br>west<br>Debris on the left shoulder on I-10 Westbound  near   US-60 Eastbound (MP 156)  ",
          "115N04180<br>east<br>Crash on the right shoulder on I-10 Eastbound  near   Elliot Rd (MP 158)   ",
          "115P04185<br>west<br>Disabled vehicle on the right shoulder on I-10 Westbound  near   40th St (MP 152",
          "115-04182<br>east<br>Disabled vehicle on the right shoulder on I-10 Eastbound  near   I-10 (MP 172.0)",
          "115+04185<br>west<br>Debris on the left shoulder on I-10 Westbound  near   Hohokam Expy (MP 153)   ",
          "115N04179<br>east<br>Crash on the right shoulder on I-10 Eastbound  near   E Warner Rd (MP 159)   ",
          "115+04183<br>west<br>Abandoned vehicle on the right shoulder on I-10 Westbound  near   Broadway Rd (M",
          "115+04187<br>west<br>Disabled vehicle on the on ramp on I-10 Westbound  near   E University Dr (MP 15",
          "115P04178<br>west<br>Right lanes closed on I-10 Westbound from Ray Rd (MP 160)  to  Warner Rd (MP 159",
          "115+04179<br>west<br>Exit ramp closed on  ramp  from I-10 Westbound  to  W Warner Rd . All Ramps Clos",
          "115-04186<br>east<br>Debris on the left shoulder on I-10 Eastbound  near   S 24th St (MP 150)   ",
          "115-04186<br>east<br>Crash on the left shoulder on I-10 Eastbound  near   32nd St (MP 151)   ",
          "115N04184<br>east<br>Disabled vehicle on the left shoulder on I-10 Eastbound  near   SR-143 (MP 153) ",
          "115P04178<br>west<br>Right lanes closed on I-10 Westbound from Ray Rd (MP 160)  to  Warner Rd (MP 159",
          "115+04183<br>west<br>Right lane closed on I-10 Westbound from Broadway Rd (MP 154)  to  Broadway Rd (",
          "115+04187<br>west<br>Abandoned vehicle on the right shoulder on I-10 Westbound  near   24th St (MP 15",
          "115-04186<br>east<br>Debris on the left shoulder on I-10 Eastbound  near   S 24th St (MP 151)   ",
          "115P04187<br>west<br>Crash on the right shoulder on I-10 Westbound  near   24th St (MP 150)   ",
          "115-04181<br>east<br>Crash on the right shoulder on I-10 Eastbound  near   Baseline Rd (MP 156)   ",
          "115+04182<br>west<br>Right lane closed on I-10 Westbound from Western Canal (MP 156)  to  Superstitio",
          "115N04185<br>east<br>Right lanes closed on I-10 Eastbound from S 40th St (MP 152)  to  SR-143 Northbo",
          "115N04185<br>east<br>Disabled vehicle on the right shoulder on I-10 Eastbound  near   S 40th St (MP 1",
          "115P04181<br>west<br>Crash on the right shoulder on I-10 Westbound  near   US-60 Eastbound (MP 156)  ",
          "115-04185<br>east<br>Crash blocking the right lane on I-10 Eastbound  near   40th St (MP 152)   ",
          "115N04184<br>None<br>I10 @ W BROADWAY RD EB WO ,TMP - AccidentIncident - injury accident",
          "115N04186<br>east<br>Disabled vehicle on the right shoulder on I-10 Eastbound  near   32nd St (MP 151",
          "115N04188<br>None<br>I10 @ S 24TH ST WB WO ,PHX - AccidentIncident - injury accident",
          "115P04181<br>west<br>Right lane closed on I-10 Westbound from US-60 Eastbound (MP 156)  to  US-60 Eas",
          "115N04178<br>east<br>Crash blocking the intersection on I-10 Eastbound  near   Ray Rd (MP 160)   ",
          "115N04178<br>east<br>Traffic signal timing issue or timing adjusted  on I-10 Eastbound  near   Ray Rd",
          "115+04181<br>west<br>Animal near roadway on I-10 Westbound  near   E Elliot Rd (MP 157)   ",
          "115P04185<br>west<br>Debris on I-10 Westbound  near   40th St (MP 152)   ",
          "115P04186<br>west<br>Disabled vehicle on the right shoulder on I-10 Westbound  near   E University Dr",
          "115N04178<br>east<br>ITS equipment damage on I-10 Eastbound  near   Ray Rd (MP 160)   ",
          "115N04184<br>east<br>Crash on the right shoulder on I-10 Eastbound  near   SR-143 (MP 154)   ",
          "115P04183<br>west<br>Disabled vehicle on the right shoulder on I-10 Westbound  near   Broadway Rd (MP",
          "115-04181<br>east<br>Disabled vehicle on the right shoulder on I-10 Eastbound  near   Baseline Rd (MP",
          "115P04182<br>west<br>Fence damage on I-10 Westbound  near   Superstition Fwy (MP 155)   ",
          "115+04181<br>west<br>Dead animal near roadway on I-10 Westbound  near   E Elliot Rd (MP 157)   ",
          "115+04185<br>west<br>Debris on the right shoulder on I-10 Westbound  near   Hohokam Expy (MP 153)   ",
          "115N04185<br>east<br>Disabled vehicle on the on ramp on I-10 Eastbound  near   S 40th St (MP 153)   ",
          "115-04182<br>east<br>Crash on the right shoulder on I-10 Eastbound  near   I-10 (MP 172.0)   ",
          "115N04178<br>east<br>Crash on the on ramp on I-10 Eastbound  near   Ray Rd (MP 160)   ",
          "115N04184<br>east<br>Right lanes closed on I-10 Eastbound from Hohokam Expy (MP 153)  to  I-10 (MP 17",
          "115N04187<br>east<br>Crash blocking the left lane on I-10 Eastbound  near   S 24th St (MP 150)   ",
          "115N04181<br>east<br>Disabled vehicle on the right shoulder on I-10 Eastbound  near   Superstition Fw",
          "115N04184<br>east<br>Right lanes closed on I-10 Eastbound from Hohokam Expy (MP 153)  to  I-10 (MP 17",
          "115-04186<br>east<br>Debris on the right shoulder on I-10 Eastbound  near   32nd St (MP 151)   ",
          "115+04185<br>west<br>Disabled vehicle on the right shoulder on I-10 Westbound  near   Hohokam Expy (M",
          "115P04188<br>west<br>Crash on the right shoulder on I-10 Westbound  near   24th St (MP 150)   ",
          "115N04185<br>east<br>Left lanes closed on I-10 Eastbound from S 40th St (MP 152)  to  SR-143 Northbou",
          "115-04185<br>east<br>Abandoned vehicle on the right shoulder on I-10 Eastbound  near   40th St (MP 15",
          "115N04184<br>east<br>Debris on the right shoulder on I-10 Eastbound  near   SR-143 (MP 153)   ",
          "115-04184<br>east<br>Crash on the left shoulder on I-10 Eastbound  near   SR-143 (MP 153)   ",
          "115N04185<br>east<br>Disabled vehicle on the right shoulder on I-10 Eastbound  near   S 40th St (MP 1",
          "115-04186<br>east<br>Debris on the left shoulder on I-10 Eastbound  near   S 24th St (MP 151)   ",
          "115+04187<br>west<br>Crash on the right shoulder on I-10 Westbound  near   24th St (MP 150)   ",
          "115+04183<br>west<br>Left lanes closed on I-10 Westbound from Broadway Rd (MP 172.0)  to  SR-143 Nort",
          "115+04187<br>west<br>Disabled vehicle on the right shoulder on I-10 Westbound  near   E University Dr",
          "115+04187<br>west<br>Crash on the left shoulder on I-10 Westbound  near   24th St (MP 150)   ",
          "115+04185<br>west<br>Debris on the right shoulder on I-10 Westbound  near   Hohokam Expy (MP 153)   ",
          "115+04187<br>west<br>Debris on the left shoulder on I-10 Westbound  near   24th St (MP 150)   ",
          "115P04180<br>west<br>Disabled vehicle on the right shoulder on I-10 Westbound  near   E Elliot Rd (MP",
          "115-04180<br>east<br>Disabled vehicle on the right shoulder on I-10 Eastbound  near   Elliot Rd (MP 1",
          "115+04178<br>west<br>Left lanes closed on I-10 Westbound from E Chandler Blvd (MP 160)  to  E Elliot ",
          "115P04180<br>west<br>Left lanes closed on I-10 Westbound from E Elliot Rd (MP 158)  to  Baseline Rd (",
          "115N04184<br>east<br>Right lanes closed on I-10 Eastbound from Hohokam Expy (MP 154)  to  I-10 (MP 17",
          "115+04178<br>west<br>Left lanes closed on I-10 Westbound from E Chandler Blvd (MP 160)  to  E Elliot ",
          "115P04180<br>west<br>Left lanes closed on I-10 Westbound from E Elliot Rd (MP 158)  to  Baseline Rd (",
          "115N04179<br>east<br>Disabled vehicle on the on ramp on I-10 Eastbound  near   E Warner Rd (MP 159)  ",
          "115-04177<br>east<br>Disabled vehicle on the right shoulder on I-10 Eastbound  near   E Ray Rd (MP 16",
          "115+04185<br>west<br>Debris on the right shoulder on I-10 Westbound  near   Hohokam Expy (MP 153)   ",
          "115P04188<br>west<br>Debris on the right shoulder on I-10 Westbound  near   24th St (MP 150)   ",
          "115N04184<br>east<br>Right lanes closed on I-10 Eastbound from Hohokam Expy (MP 154)  to  I-10 (MP 17",
          "115-04180<br>east<br>Left lane closed on I-10 Eastbound from Superstition Fwy (MP 156)  to  Elliot Rd",
          "115N04178<br>east<br>Left lane closed on I-10 Eastbound from Ray Rd (MP 160)  to  Chandler Blvd (MP 1",
          "115+04186<br>west<br>Left lanes closed on I-10 Westbound from S 40th St (MP 152)  to  E University Dr",
          "115P04178<br>west<br>Disabled vehicle on the right shoulder on I-10 Westbound  near   E Ray Rd (MP 16",
          "115N04178<br>east<br>Crash on the right shoulder on I-10 Eastbound  near   Ray Rd (MP 160)   ",
          "115P04180<br>west<br>Crash blocking the HOV lane on I-10 Westbound  near   E Elliot Rd (MP 158)   ",
          "115N05165<br>east<br>Debris blocking the left lane on I-10 Eastbound  near   E Chandler Blvd (MP 161)",
          "115P04178<br>west<br>Disabled vehicle blocking the left lanes on I-10 Westbound  near   E Ray Rd (MP ",
          "115N04180<br>east<br>Crash on the right shoulder on I-10 Eastbound  near   Elliot Rd (MP 158)   ",
          "115P04182<br>west<br>Disabled vehicle on the right shoulder on I-10 Westbound  near   US-60 Westbound",
          "115N04186<br>east<br>Right lanes closed on I-10 Eastbound from 32nd St (MP 151)  to  40th St (MP 152)",
          "115N04180<br>east<br>Disabled vehicle blocking the intersection on I-10 Eastbound  near   Elliot Rd (",
          "115-04180<br>east<br>Disabled vehicle on the right shoulder on I-10 Eastbound  near   Elliot Rd (MP 1",
          "115+04181<br>west<br>Crash on the right shoulder on I-10 Westbound  near   E Elliot Rd (MP 157)   ",
          "115P04181<br>west<br>Disabled vehicle on the on ramp on I-10 Westbound  near   US-60 Eastbound (MP 15",
          "115N04179<br>east<br>Crash blocking the exit ramp on I-10 Eastbound  near   E Warner Rd (MP 159)   ",
          "115P04179<br>west<br>Crash blocking the left lane on I-10 Westbound  near   W Warner Rd (MP 159)   ",
          "115+04181<br>west<br>Crash on the right shoulder on I-10 Westbound  near   E Elliot Rd (MP 157)   ",
          "115P04180<br>None<br>I10 @ E ELLIOT RD NB OF ,TMP - AccidentIncident - injury accident",
          "115P04180<br>west<br>Right lanes closed on I-10 Westbound from E Elliot Rd (MP 158)  to  Baseline Rd ",
          "115-04182<br>east<br>Debris on the right shoulder on I-10 Eastbound  near   I-10 (MP 172.0)   ",
          "115P04178<br>west<br>Disabled vehicle on the right shoulder on I-10 Westbound  near   E Ray Rd (MP 16",
          "115N04185<br>east<br>Disabled vehicle on the right shoulder on I-10 Eastbound  near   S 40th St (MP 1",
          "115P04177<br>west<br>Crash blocking the intersection on I-10 Westbound  near   202-LOOP Eastbound (MP",
          "115P04186<br>west<br>Crash on the right shoulder on I-10 Westbound  near   E University Dr (MP 151)  ",
          "115N04186<br>east<br>Left lanes closed on I-10 Eastbound from E University Dr (MP 151)  to  SR-143 No",
          "115P04183<br>west<br>Disabled vehicle on the left shoulder on I-10 Westbound  near   Broadway Rd (MP ",
          "115P04183<br>None<br>I10 @ W BROADWAY RD WB EO ,TMP - AccidentIncident - vehicle on fire",
          "115P04183<br>west<br>Vehicle fire on I-10 Westbound  near   Broadway Rd (MP 154)   ",
          "115-04177<br>None<br>I10 @ E RAY RD SB SO ,PHX - AccidentIncident - injury accident",
          "115+04183<br>west<br>Disabled vehicle on the right shoulder on I-10 Westbound  near   Broadway Rd (MP",
          "115-04186<br>east<br>Disabled vehicle blocking the on ramp on I-10 Eastbound  near   S 24th St (MP 15",
          "115N04184<br>east<br>Left lane closed on I-10 Eastbound from Hohokam Expy (MP 153)  to  SR-143 Northb",
          "115P04183<br>west<br>Disabled vehicle on the right shoulder on I-10 Westbound  near   Broadway Rd (MP",
          "115P04184<br>west<br>Abandoned vehicle on the right shoulder on I-10 Westbound  near   SR-143 Northbo",
          "115P04187<br>west<br>Debris blocking the left lane on I-10 Westbound  near   24th St (MP 150)   ",
          "115P04178<br>west<br>Crash on the exit ramp on I-10 Westbound  near   E Ray Rd (MP 160)   ",
          "115-04185<br>east<br>Disabled vehicle on the right shoulder on I-10 Eastbound  near   40th St (MP 152",
          "115-04182<br>east<br>Left lanes closed on I-10 Eastbound from I-10 (MP 172.0)  to  I-10 (MP 155) . Al",
          "115N04182<br>east<br>HOV ramp closed on  ramp  from I-10 Eastbound  to  US-60 Eastbound . All HOV Lan",
          "115N04180<br>east<br>ITS equipment damage on I-10 Eastbound  near   E Elliot Rd (MP 158)   ",
          "115+04187<br>west<br>Disabled vehicle on the left shoulder on I-10 Westbound  near   E University Dr ",
          "115P04180<br>west<br>Abandoned vehicle on the right shoulder on I-10 Westbound  near   Elliot Rd (MP ",
          "115P04187<br>west<br>Debris on the left shoulder on I-10 Westbound  near   24th St (MP 150)   ",
          "115N04184<br>east<br>Debris on the left shoulder on I-10 Eastbound  near   SR-143 (MP 153)   ",
          "115P04184<br>west<br>Disabled vehicle on the left shoulder on I-10 Westbound  near   W Broadway Rd (M",
          "115P04187<br>west<br>Disabled vehicle on the left shoulder on I-10 Westbound  near   24th St (MP 150)",
          "115N04179<br>east<br>Disabled vehicle blocking the exit ramp on I-10 Eastbound  near   E Warner Rd (M",
          "115+04185<br>west<br>Debris on I-10 Westbound  near   Hohokam Expy (MP 153)   ",
          "115P04184<br>west<br>Left lanes closed on I-10 Westbound from W Broadway Rd (MP 153)  to  University ",
          "115+04187<br>west<br>Debris on the right shoulder on I-10 Westbound  near   E University Dr (MP 151) ",
          "115N04186<br>east<br>Crash on the right shoulder on I-10 Eastbound  near   32nd St (MP 151)   ",
          "115-04186<br>None<br>I10 @ E UNIVERSITY DR EB WO ,PHX - AccidentIncident - injury accident",
          "115N04186<br>east<br>Right lanes closed on I-10 Eastbound from 32nd St (MP 151)  to  32nd St (MP 152)",
          "115N04186<br>east<br>Exit ramp closed on  ramp  from I-10 Eastbound  to  S 32nd St . All Ramps Closed",
          "115N04181<br>None<br>W BASELINE RD/I10 ,TMP - AccidentIncident - injury accident",
          "115N04186<br>east<br>Debris on the right shoulder on I-10 Eastbound  near   32nd St (MP 151)   ",
          "115-04186<br>east<br>Disabled vehicle on the right shoulder on I-10 Eastbound  near   32nd St (MP 151",
          "115N04182<br>east<br>Disabled vehicle on the right shoulder on I-10 Eastbound  near   Baseline Rd (MP",
          "115P04179<br>west<br>Disabled vehicle on the right shoulder on I-10 Westbound  near   W Warner Rd (MP",
          "115P04181<br>west<br>Disabled vehicle blocking the exit ramp on I-10 Westbound  near   US-60 Eastboun",
          "115P04182<br>west<br>Water or irrigation leak on I-10 Westbound  near   Superstition Fwy (MP 155)   ",
          "115P04187<br>west<br>Exit ramp closed on  ramp  from I-10 Westbound  to  S 24th St . All Ramps Closed",
          "115P04187<br>west<br>Right lanes closed on I-10 Westbound from 24th St (MP 150)  to  24th St (MP 150)",
          "115P04178<br>west<br>Left lane closed on I-10 Westbound from Ray Rd (MP 160)  to  E Ray Rd (MP 160) .",
          "115N04178<br>east<br>Left lanes closed on I-10 Eastbound from Ray Rd (MP 159)  to  Ray Rd (MP 160) . ",
          "115+04183<br>west<br>Disabled vehicle on the right shoulder on I-10 Westbound  near   Broadway Rd (MP",
          "115N04188<br>east<br>Shoulder closed on I-10 Eastbound  near   S 24th St (MP 150) . All Shoulders Clo",
          "115P04187<br>west<br>Exit ramp closed on  ramp  from I-10 Westbound  to  S 24th St . All Ramps Closed",
          "115P04187<br>west<br>Right lanes closed on I-10 Westbound from 24th St (MP 150)  to  24th St (MP 150)",
          "115P04188<br>west<br>Debris on the left shoulder on I-10 Westbound  near   24th St (MP 150)   ",
          "115P04183<br>None<br>I10 CD @ W BROADWAY RD WB EO ,TMP - AccidentIncident - injury accident",
          "115P04184<br>west<br>Crash on I-10 Westbound  near   SR-143 Northbound (MP 154)   ",
          "115P04182<br>west<br>Disabled vehicle on the right shoulder on I-10 Westbound  near   US-60 Westbound",
          "115P04181<br>west<br>Disabled vehicle on the right shoulder on I-10 Westbound  near   US-60 Eastbound",
          "115N04185<br>east<br>Vehicle fire on I-10 Eastbound  near   S 40th St (MP 152)   ",
          "115+04183<br>west<br>Disabled vehicle on the right shoulder on I-10 Westbound  near   Broadway Rd (MP",
          "115-04186<br>east<br>Disabled vehicle on the exit ramp on I-10 Eastbound  near   32nd St (MP 151)   ",
          "115P04181<br>west<br>Disabled vehicle on the right shoulder on I-10 Westbound  near   US-60 Eastbound",
          "115-04181<br>east<br>Disabled vehicle on the right shoulder on I-10 Eastbound  near   Baseline Rd (MP",
          "115N04180<br>None<br>I10 @ E ELLIOT RD SB UP ,PHX - AccidentIncident - medical emergency",
          "115N04185<br>east<br>Exit ramp restricted on  ramp  from I-10 Eastbound  to  S 40th St . 1 Left Ramp ",
          "115P04179<br>west<br>Crash on the right shoulder on I-10 Westbound  near   Warner Rd (MP 159)   ",
          "115+04185<br>west<br>Vehicle fire on I-10 Westbound  near   Hohokam Expy (MP 153)   ",
          "115P04185<br>None<br>I10 @ S 40TH ST WB EO ,PHX - AccidentIncident - vehicle on fire",
          "115P04185<br>west<br>Debris blocking the left lane on I-10 Westbound  near   40th St (MP 152)   ",
          "115P04185<br>west<br>Crash on the right shoulder on I-10 Westbound  near   40th St (MP 152)   ",
          "115N04178<br>east<br>Left lanes closed on I-10 Eastbound from Ray Rd (MP 159)  to  Ray Rd (MP 160) . ",
          "115P04183<br>west<br>Disabled vehicle on the right shoulder on I-10 Westbound  near   Broadway Rd (MP",
          "115P04183<br>west<br>Infrastructure damage on I-10 Westbound  near   Broadway Rd (MP 154)   ",
          "115P04178<br>west<br>Left lane closed on I-10 Westbound from Ray Rd (MP 160)  to  E Ray Rd (MP 160) .",
          "115P04184<br>west<br>Disabled vehicle blocking the HOV lane on I-10 Westbound  near   SR-143 Northbou",
          "115N04186<br>east<br>Disabled vehicle on the right shoulder on I-10 Eastbound  near   32nd St (MP 151",
          "115+04182<br>west<br>Crash on the right shoulder on I-10 Westbound  near   W Baseline Rd (MP 156)   ",
          "115N04184<br>east<br>Left lanes closed on I-10 Eastbound from Hohokam Expy (MP 153)  to  SR-143 North",
          "115P04182<br>west<br>Left lanes closed on I-10 Westbound from Western Canal (MP 155)  to  Broadway Rd",
          "115P04184<br>west<br>HOV ramp closed on  ramp  from I-10 Westbound  to  SR-143 Northbound . All HOV L",
          "115+04187<br>west<br>Debris blocking the right lane on I-10 Westbound  near   E University Dr (MP 151",
          "115P04185<br>west<br>Disabled vehicle blocking the exit ramp on I-10 Westbound  near   40th St (MP 15",
          "115N04180<br>east<br>Crash on the right shoulder on I-10 Eastbound  near   Elliot Rd (MP 158)   ",
          "115N04180<br>None<br>I10 @ E ELLIOT RD SB UP ,PHX - AccidentIncident - injury accident",
          "115P04187<br>west<br>Disabled vehicle on the right shoulder on I-10 Westbound  near   24th St (MP 150",
          "115N04181<br>east<br>Crash on the right shoulder on I-10 Eastbound  near   Superstition Fwy (MP 156) ",
          "115N04184<br>east<br>Disabled vehicle on the left shoulder on I-10 Eastbound  near   SR-143 (MP 153) ",
          "115N04185<br>east<br>Disabled vehicle on the right shoulder on I-10 Eastbound  near   S 40th St (MP 1",
          "115-04186<br>east<br>Disabled vehicle on the right shoulder on I-10 Eastbound  near   S 24th St (MP 1",
          "115P04177<br>west<br>Crash on the right shoulder on I-10 Westbound  near   202-LOOP Eastbound (MP 161",
          "115N04184<br>east<br>Right lanes closed on I-10 Eastbound from Hohokam Expy (MP 153)  to  I-10 (MP 17",
          "115P04184<br>west<br>Infrastructure damage on I-10 Westbound  near   SR-143 Northbound (MP 154)   ",
          "115N04185<br>east<br>Debris on the right shoulder on I-10 Eastbound  near   S 40th St (MP 152)   ",
          "115P04181<br>west<br>Debris on the left shoulder on I-10 Westbound  near   US-60 Eastbound (MP 156)  ",
          "115+04181<br>west<br>Crash blocking the right lane on I-10 Westbound  near   Baseline Rd (MP 157)   ",
          "115P04181<br>None<br>I10 @ W BASELINE RD NB NO ,TMP - AccidentIncident - medical emergency",
          "115-04183<br>east<br>Disabled vehicle on the right shoulder on I-10 Eastbound  near   Hohokam Expy (M",
          "115N04184<br>east<br>Crash on the left shoulder on I-10 Eastbound  near   SR-143 (MP 154)   ",
          "115N04182<br>east<br>Vehicle fire on I-10 Eastbound  near   Baseline Rd (MP 155)   ",
          "115N04182<br>None<br>I10 @ W SOUTHERN AV SB OP ,TMP - AccidentIncident - vehicle on fire",
          "115P04182<br>west<br>Disabled vehicle on the right shoulder on I-10 Westbound  near   W Baseline Rd (",
          "115N04184<br>east<br>Left lanes closed on I-10 Eastbound from Hohokam Expy (MP 153)  to  SR-143 North",
          "115N04184<br>east<br>Right lanes closed on I-10 Eastbound from Hohokam Expy (MP 153)  to  I-10 (MP 17",
          "115N04187<br>east<br>Road closed due to a crash on I-10 Eastbound  near   S 24th St (MP 150)   ",
          "115N04187<br>east<br>Crash blocking the right lane on I-10 Eastbound  near   S 24th St (MP 150)   ",
          "115P04184<br>west<br>Debris on the right shoulder on I-10 Westbound  near   SR-143 Northbound (MP 154",
          "115P04188<br>west<br>Debris blocking the right lane on I-10 Westbound  near   24th St (MP 150)   ",
          "115P04185<br>west<br>Disabled vehicle blocking the right lane on I-10 Westbound  near   40th St (MP 1",
          "115P04188<br>west<br>Debris on I-10 Westbound  near   24th St (MP 150)   ",
          "115-04180<br>east<br>Disabled vehicle on the right shoulder on I-10 Eastbound  near   Elliot Rd (MP 1",
          "115-04183<br>east<br>Disabled vehicle on the right shoulder on I-10 Eastbound  near   Hohokam Expy (M",
          "115P04183<br>west<br>Exit ramp closed on  ramp  from I-10 Westbound  to  W Broadway Rd . All Ramps Cl",
          "115N04188<br>east<br>Left lanes closed on I-10 Eastbound from I-17 Northbound (MP 150)  to  S 24th St",
          "115P04182<br>None<br>I10 CD @ US60 NB TO EB ,TMP - AccidentIncident - medical emergency",
          "115-04186<br>east<br>Crash on the left shoulder on I-10 Eastbound  near   S 24th St (MP 150)   ",
          "115P04183<br>west<br>Exit ramp closed on  ramp  from I-10 Westbound  to  W Broadway Rd . All Ramps Cl",
          "115N04186<br>east<br>Left lanes closed on I-10 Eastbound from 32nd St (MP 151)  to  40th St (MP 153) ",
          "115+04187<br>west<br>Left lane closed on I-10 Westbound from Salt River (MP 151)  to  24th St (MP 150",
          "115P04188<br>west<br>Crash on the right shoulder on I-10 Westbound  near   24th St (MP 150)   ",
          "115P04186<br>west<br>Disabled vehicle on the right shoulder on I-10 Westbound  near   E University Dr",
          "115N04185<br>east<br>Right lanes closed on I-10 Eastbound from 40th St (MP 152)  to  S 40th St (MP 15",
          "115P04183<br>west<br>Crash on the exit ramp on I-10 Westbound  near   Broadway Rd (MP 154)   ",
          "115P04181<br>west<br>Crash blocking the intersection on I-10 Westbound  near   US-60 Eastbound (MP 15",
          "115P04187<br>west<br>Exit ramp closed on  ramp  from I-10 Westbound  to  S 24th St . All Ramps Closed",
          "115N04181<br>None<br>W BASELINE RD/I10 ,TMP - AccidentIncident - injury accident",
          "115+04187<br>west<br>Crash on the right shoulder on I-10 Westbound  near   24th St (MP 150)   ",
          "115P04185<br>None<br>I10 @ S 40TH ST WB UP ,PHX - AccidentIncident - injury accident",
          "115P04185<br>west<br>Crash on the left shoulder on I-10 Westbound  near   40th St (MP 152)   ",
          "115P04185<br>west<br>Left lanes closed on I-10 Westbound from S 40th St (MP 152)  to  Salt River (MP ",
          "115-04186<br>east<br>Crash blocking the on ramp on I-10 Eastbound  near   32nd St (MP 151)   ",
          "115P04184<br>west<br>Crash on the right shoulder on I-10 Westbound  near   SR-143 Northbound (MP 154)",
          "115N04182<br>east<br>Disabled vehicle on the right shoulder on I-10 Eastbound  near   Baseline Rd (MP",
          "115P04178<br>west<br>Disabled vehicle on the right shoulder on I-10 Westbound  near   Ray Rd (MP 160)",
          "115P04188<br>west<br>Debris on the right shoulder on I-10 Westbound  near   Arizona Veterans Memorial",
          "115P04178<br>west<br>Abandoned vehicle on the right shoulder on I-10 Westbound  near   Ray Rd (MP 160",
          "115-04181<br>east<br>Debris on the right shoulder on I-10 Eastbound  near   Baseline Rd (MP 156)   ",
          "115N04182<br>east<br>Crash on the right shoulder on  ramp  from I-10 Westbound  to  I-10 Westbound (M",
          "115+04187<br>west<br>Disabled vehicle on the right shoulder on I-10 Westbound  near   E University Dr",
          "115-04186<br>east<br>Disabled vehicle on the right shoulder on I-10 Eastbound  near   32nd St (MP 151",
          "115P04184<br>west<br>Disabled vehicle on the right shoulder on I-10 Westbound  near   SR-143 Northbou",
          "115-04180<br>east<br>Disabled vehicle on the right shoulder on I-10 Eastbound  near   Elliot Rd (MP 1",
          "115+04178<br>west<br>Crash blocking the exit ramp on I-10 Westbound  near   Ray Rd (MP 160)   ",
          "115+04182<br>west<br>Crash on the right shoulder on I-10 Westbound  near   W Baseline Rd (MP 156)   ",
          "115P04178<br>west<br>Disabled vehicle on the on ramp on I-10 Westbound  near   Ray Rd (MP 160)   ",
          "115N04180<br>east<br>Debris on the left shoulder on I-10 Eastbound  near   Elliot Rd (MP 158)   ",
          "115N04180<br>east<br>Sign damage on I-10 Eastbound  near   Elliot Rd (MP 158)   ",
          "115N04180<br>east<br>Disabled vehicle on the exit ramp on I-10 Eastbound  near   Elliot Rd (MP 158)  ",
          "115-04177<br>east<br>Crash on the left shoulder on I-10 Eastbound  near   E Ray Rd (MP 160)   ",
          "115N04187<br>east<br>Debris on the left shoulder on I-10 Eastbound  near   S 24th St (MP 150)   ",
          "115+04185<br>west<br>Debris on the right shoulder on I-10 Westbound  near   Hohokam Expy (MP 153)   ",
          "115P04178<br>west<br>Wrong-way driver on I-10 Westbound  near   Ray Rd (MP 160)   ",
          "115N04178<br>east<br>Disabled vehicle on the right shoulder on I-10 Eastbound  near   Ray Rd (MP 160)",
          "115-04186<br>east<br>Disabled vehicle on the left shoulder on I-10 Eastbound  near   S 24th St (MP 15",
          "115N04180<br>east<br>Crash on the right shoulder on I-10 Eastbound  near   Elliot Rd (MP 158)   ",
          "115-04179<br>None<br>I10 @ E WARNER RD SB NO ,PHX - AccidentIncident - injury accident",
          "115N04179<br>None<br>I10 / W WARNER RD[JN RD PULLED OFF RIGHT                                    TE -",
          "115N04180<br>east<br>Crash blocking the right lane on I-10 Eastbound  near   Elliot Rd (MP 158)   ",
          "115N04179<br>None<br>W WARNER RD / I10                                                           TE -",
          "115N04180<br>east<br>Traffic signal issue on I-10 Eastbound  near   E Elliot Rd (MP 158)   ",
          "115-04180<br>east<br>Disabled vehicle on the right shoulder on I-10 Eastbound  near   Elliot Rd (MP 1",
          "115P04185<br>west<br>Disabled vehicle on the right shoulder on I-10 Westbound  near   40th St (MP 152",
          "115N04180<br>east<br>Disabled vehicle on the exit ramp on I-10 Eastbound  near   Elliot Rd (MP 158)  ",
          "115-04186<br>east<br>Disabled vehicle on the right shoulder on I-10 Eastbound  near   32nd St (MP 151",
          "115P04183<br>west<br>Crash on the exit ramp on I-10 Westbound  near   Broadway Rd (MP 154)   ",
          "115N04179<br>None<br>W WARNER RD / I10                                                           TE -",
          "115-04181<br>east<br>Crash blocking the on ramp on I-10 Eastbound  near   Baseline Rd (MP 156)   ",
          "115P04181<br>west<br>Graffiti on I-10 Westbound  near   US-60 Eastbound (MP 156)   ",
          "115P04180<br>west<br>Crash on the right shoulder on I-10 Westbound  near   E Elliot Rd (MP 158)   ",
          "115P04185<br>west<br>Disabled vehicle on the right shoulder on I-10 Westbound  near   40th St (MP 152",
          "115-04186<br>east<br>Debris blocking the center lane on I-10 Eastbound  near   S 24th St (MP 151)   ",
          "115N04182<br>east<br>Disabled vehicle on the right shoulder on I-10 Eastbound  near   Baseline Rd (MP",
          "115N04181<br>None<br>W BASELINE RD / I10                                                         TE -",
          "115N04181<br>None<br>W BASELINE RD / I10                                                         TE -",
          "115P04180<br>west<br>Abandoned vehicle on the right shoulder on I-10 Westbound  near   Elliot Rd (MP ",
          "115-04180<br>east<br>Disabled vehicle on the right shoulder on I-10 Eastbound  near   Elliot Rd (MP 1",
          "115-04180<br>east<br>Disabled vehicle on the right shoulder on I-10 Eastbound  near   Superstition Fw",
          "115P04186<br>west<br>Disabled vehicle on the right shoulder on I-10 Westbound  near   E University Dr",
          "115P04186<br>west<br>Crash on the right shoulder on I-10 Westbound  near   E University Dr (MP 151)  ",
          "115-04186<br>east<br>Debris on the right shoulder on I-10 Eastbound  near   S 24th St (MP 151)   ",
          "115P04184<br>west<br>ITS equipment damage on I-10 Westbound  near   SR-143 Northbound (MP 154)   ",
          "115N04182<br>east<br>Disabled vehicle on the right shoulder on I-10 Eastbound  near   Baseline Rd (MP",
          "115N04180<br>east<br>Crash on the left shoulder on I-10 Eastbound  near   Elliot Rd (MP 158)   ",
          "115-04180<br>east<br>Crash on the right shoulder on I-10 Eastbound  near   Elliot Rd (MP 157)   ",
          "115N04180<br>east<br>Pedestrian on roadway on I-10 Eastbound  near   Elliot Rd (MP 158)   ",
          "115-04186<br>east<br>Debris on the right shoulder on I-10 Eastbound  near   S 24th St (MP 151)   ",
          "115N04181<br>None<br>W BASELINE RD / I10                                                         TE -",
          "115+04185<br>west<br>ITS equipment damage on I-10 Westbound  near   Hohokam Expy (MP 153)   ",
          "115P04180<br>west<br>Crash on the right shoulder on I-10 Westbound  near   E Elliot Rd (MP 158)   ",
          "115N04182<br>east<br>Disabled vehicle on the right shoulder on I-10 Eastbound  near   Baseline Rd (MP",
          "115P04185<br>west<br>Disabled vehicle blocking the right lane on I-10 Westbound  near   40th St (MP 1",
          "115P04185<br>west<br>Disabled vehicle on the right shoulder on I-10 Westbound  near   S 40th St (MP 1",
          "115N04180<br>None<br>I10 / W ELLIOT RD                                                           TE -",
          "115N04184<br>None<br>W BROADWAY RD / I10                                                         TE -",
          "115P04181<br>west<br>Debris on the right shoulder on I-10 Westbound  near   US-60 Eastbound (MP 156) ",
          "115P04188<br>west<br>Crash on the right shoulder on I-10 Westbound  near   24th St (MP 150)   ",
          "115N04187<br>east<br>Pedestrian on roadway on I-10 Eastbound  near   S 24th St (MP 150)   ",
          "115P04182<br>west<br>Disabled vehicle on the right shoulder on I-10 Westbound  near   Superstition Fw",
          "115P04187<br>west<br>Crash on the right shoulder on I-10 Westbound  near   24th St (MP 150)   ",
          "115+04185<br>west<br>Fence damage on I-10 Westbound  near   Hohokam Expy (MP 153)   ",
          "115N04180<br>east<br>Debris on the right shoulder on I-10 Eastbound  near   Elliot Rd (MP 158)   ",
          "115P04179<br>west<br>Crash on the right shoulder on I-10 Westbound  near   Warner Rd (MP 159)   ",
          "115+04183<br>west<br>Crash on the right shoulder on I-10 Westbound  near   Broadway Rd (MP 172.0)   ",
          "115P04187<br>west<br>Crash on the right shoulder on I-10 Westbound  near   24th St (MP 150)   ",
          "115N04185<br>east<br>Disabled vehicle on the right shoulder on I-10 Eastbound  near   S 40th St (MP 1",
          "115+04187<br>west<br>Crash on the right shoulder on I-10 Westbound  near   24th St (MP 150)   ",
          "115N04179<br>None<br>I10 / W WARNER RD[JE                                                        TE -",
          "115N04179<br>east<br>Crash blocking the intersection on I-10 Eastbound  near   E Warner Rd (MP 159)  ",
          "115+04187<br>west<br>Crash on the left shoulder on I-10 Westbound  near   E University Dr (MP 151)   ",
          "115+04181<br>west<br>Disabled vehicle on the right shoulder on I-10 Westbound  near   E Elliot Rd (MP",
          "115+04187<br>west<br>Crash on the right shoulder on I-10 Westbound  near   24th St (MP 150)   ",
          "115-04186<br>east<br>Disabled vehicle on the right shoulder on I-10 Eastbound  near   S 24th St (MP 1",
          "115-04186<br>east<br>Disabled vehicle on the right shoulder on I-10 Eastbound  near   S 24th St (MP 1",
          "115+04187<br>west<br>Crash on the left shoulder on I-10 Westbound  near   24th St (MP 150)   ",
          "115P04179<br>west<br>Road closed due to a crash on I-10 Westbound  near   Warner Rd (MP 159)   ",
          "115N04184<br>None<br>W BROADWAY RD / I10                                                         TE -",
          "115N04181<br>None<br>W BASELINE RD / I10                                                         TE -",
          "115P04188<br>west<br>Freeway closed on I-10 Westbound from Arizona Veterans Memorial Hwy (MP 150)  to",
          "115N04181<br>east<br>Dead animal near roadway on I-10 Eastbound  near   Superstition Fwy (MP 156)   ",
          "115P04188<br>west<br>Sign damage on I-10 Westbound  near   24th St (MP 150)   ",
          "115-04182<br>east<br>Disabled vehicle on the right shoulder on I-10 Eastbound  near   I-10 (MP 172.0)",
          "115N04181<br>None<br>W BASELINE RD / I10 [WB                                                     TE -",
          "115N04182<br>east<br>Disabled vehicle on the left shoulder on I-10 Eastbound  near   Baseline Rd (MP ",
          "115-04183<br>east<br>Crash on I-10 Eastbound  near   Hohokam Expy (MP 154)   ",
          "115N04182<br>east<br>Guardrail damage on I-10 Eastbound  near   Baseline Rd (MP 155)   ",
          "115P04188<br>west<br>Crash on the right shoulder on I-10 Westbound  near   24th St (MP 150)   ",
          "115N04187<br>east<br>Disabled vehicle on the right shoulder on I-10 Eastbound  near   S 24th St (MP 1",
          "115P04178<br>west<br>Debris on the left shoulder on I-10 Westbound  near   Ray Rd (MP 160)   ",
          "115N04188<br>east<br>Shoulder closed on I-10 Eastbound  near   I-17 Northbound (MP 150) . All Shoulde",
          "115+04185<br>west<br>Crash on the left shoulder on I-10 Westbound  near   Hohokam Expy (MP 153)   ",
          "115N04179<br>None<br>W WARNER RD / I10                                                           TE -",
          "115+04187<br>west<br>Disabled vehicle on the left shoulder on I-10 Westbound  near   24th St (MP 150)",
          "115+04187<br>west<br>Crash on the right shoulder on I-10 Westbound  near   24th St (MP 150)   ",
          "115N04181<br>None<br>W BASELINE RD / I10                                                         TE -",
          "115+04187<br>west<br>Disabled vehicle on the right shoulder on I-10 Westbound  near   E University Dr",
          "115-04182<br>east<br>Disabled vehicle on the right shoulder on I-10 Eastbound  near   I-10 (MP 172.0)",
          "115N04181<br>None<br>W BASELINE RD / I10                                                         TE -",
          "115N04184<br>None<br>I10 / W BROADWAY RD                                                         TE -",
          "115N04177<br>east<br>Crash blocking the intersection on I-10 Eastbound  near   202-LOOP Eastbound (MP",
          "115P04182<br>west<br>Disabled vehicle on the right shoulder on I-10 Westbound  near   Superstition Fw",
          "115N04187<br>east<br>Crash on the right shoulder on I-10 Eastbound  near   S 24th St (MP 150)   ",
          "115P04185<br>west<br>Disabled vehicle on the right shoulder on I-10 Westbound  near   S 40th St (MP 1",
          "115+04183<br>west<br>Crash on the left shoulder on I-10 Westbound  near   Broadway Rd (MP 154)   ",
          "115P04185<br>west<br>Abandoned vehicle on the right shoulder on I-10 Westbound  near   S 40th St (MP ",
          "115P04179<br>west<br>Traffic signal timing issue or timing adjusted  on I-10 Westbound  near   W Warn",
          "115N04178<br>east<br>Disabled vehicle blocking the exit ramp on I-10 Eastbound  near   Ray Rd (MP 160",
          "115-04180<br>east<br>Debris on the left shoulder on I-10 Eastbound  near   Elliot Rd (MP 157)   ",
          "115N04181<br>None<br>I10 / W BASELINE RD [ES                                                     TE -",
          "115N04182<br>east<br>Disabled vehicle on the right shoulder on I-10 Eastbound  near   Baseline Rd (MP",
          "115P04178<br>west<br>Dead animal near roadway on I-10 Westbound  near   E Ray Rd (MP 160)   ",
          "115P04181<br>west<br>Patching on  ramp  from I-10 Westbound  to  US-60 Eastbound . All lanes closed. ",
          "115+04187<br>west<br>Disabled vehicle on the right shoulder on I-10 Westbound  near   E University Dr",
          "115+04181<br>west<br>Disabled vehicle on the right shoulder on I-10 Westbound  near   E Elliot Rd (MP",
          "115N04182<br>None<br>I10 / W SOUTHERN AVE                                                        TE -",
          "115N04185<br>east<br>Debris blocking the right lanes on I-10 Eastbound  near   S 40th St (MP 152)   ",
          "115P04188<br>west<br>Crash on the left shoulder on I-10 Westbound  near   24th St (MP 150)   ",
          "115N04179<br>east<br>Debris blocking the right lane on I-10 Eastbound  near   E Warner Rd (MP 159)   ",
          "115-04186<br>east<br>Debris blocking the left lane on I-10 Eastbound  near   32nd St (MP 151)   ",
          "115+04181<br>west<br>Dead animal near roadway on I-10 Westbound  near   E Elliot Rd (MP 157)   ",
          "115N04181<br>None<br>W BASELINE RD / I10                                                         TE -",
          "115P04187<br>west<br>Disabled vehicle blocking the center lane on I-10 Westbound  near   24th St (MP ",
          "115-04186<br>east<br>Disabled vehicle on the right shoulder on I-10 Eastbound  near   S 24th St (MP 1",
          "115+04187<br>west<br>Disabled vehicle on the right shoulder on I-10 Westbound  near   24th St (MP 150",
          "115N04187<br>east<br>Disabled vehicle on the right shoulder on I-10 Eastbound  near   S 24th St (MP 1",
          "115N04178<br>east<br>Crash on the right shoulder on I-10 Eastbound  near   Ray Rd (MP 160)   ",
          "115+04181<br>west<br>Disabled vehicle on the right shoulder on I-10 Westbound  near   E Elliot Rd (MP",
          "115P04188<br>west<br>Traffic signal issue on I-10 Westbound  near   Arizona Veterans Memorial Hwy (MP",
          "115-04183<br>east<br>ITS equipment damage on I-10 Eastbound  near   Hohokam Expy (MP 154)   ",
          "115N04181<br>east<br>Infrastructure damage on I-10 Eastbound  near   Superstition Fwy (MP 156)   ",
          "115N04177<br>east<br>Crash in the median on I-10 Eastbound  near   202-LOOP HOV Eastbound (MP 161)   ",
          "115P04177<br>west<br>Crash in the median on I-10 Westbound  near   202-LOOP Westbound (MP 161)   ",
          "115-04186<br>east<br>Crash on the left shoulder on I-10 Eastbound  near   32nd St (MP 151)   ",
          "115+04187<br>west<br>Debris on the left shoulder on I-10 Westbound  near   24th St (MP 150)   ",
          "115N04181<br>None<br>I10 @ W BASELINE RD SB OF ,TMP - AccidentIncident - injury accident",
          "115-04181<br>east<br>Disabled vehicle on the left shoulder on I-10 Eastbound  near   Baseline Rd (MP ",
          "115-04180<br>east<br>Exit ramp restricted on  ramp  from I-10 Eastbound  to  E Elliot Rd    9/27/2025",
          "115+04180<br>west<br>Exit ramp restricted on  ramp  from I-10 Westbound  to  E Elliot Rd    9/27/2025",
          "115-04180<br>east<br>Disabled vehicle blocking the exit ramp on I-10 Eastbound  near   Elliot Rd (MP ",
          "115P04177<br>west<br>Disabled vehicle on the left shoulder on I-10 Westbound  near   202-LOOP Westbou",
          "115P04178<br>west<br>Crash on the right shoulder on I-10 Westbound  near   Ray Rd (MP 160)   ",
          "115+04187<br>west<br>Disabled vehicle on the right shoulder on I-10 Westbound  near   E University Dr",
          "115P04182<br>west<br>ITS equipment damage on I-10 Westbound  near   Superstition Fwy (MP 155)   ",
          "115-04183<br>east<br>Disabled vehicle on the right shoulder on I-10 Eastbound  near   Hohokam Expy (M",
          "115-04183<br>east<br>Rough road due to potholes on I-10 Eastbound  near   Hohokam Expy (MP 154)   ",
          "115-04180<br>east<br>Crash on the right shoulder on I-10 Eastbound  near   Elliot Rd (MP 157)   ",
          "115N04184<br>None<br>W BROADWAY RD / I10                                                         TE -",
          "115+04181<br>west<br>Disabled vehicle on the right shoulder on I-10 Westbound  near   E Elliot Rd (MP",
          "115P04188<br>west<br>Crash on the right shoulder on I-10 Westbound  near   24th St (MP 150)   ",
          "115+04187<br>west<br>Crash on the right shoulder on I-10 Westbound  near   E University Dr (MP 151)  ",
          "115+04187<br>west<br>Red signal bulb out on I-10 Westbound  near   E University Dr (MP 151)   ",
          "115P04188<br>west<br>Guardrail damage on I-10 Westbound  near   24th St (MP 150)   ",
          "115N04177<br>east<br>Interchange ramp to Westbound closed on  ramp  from I-10 Eastbound  to  202-LOOP",
          "115N04177<br>east<br>Interchange ramp to Eastbound closed on  ramp  from I-10 Eastbound  to  202-LOOP",
          "115-04180<br>east<br>Exit ramp restricted on  ramp  from I-10 Eastbound  to  E Elliot Rd    9/30/2025",
          "115-04180<br>east<br>Exit ramp restricted on  ramp  from I-10 Eastbound  to  E Elliot Rd    10/18/202",
          "115+04180<br>west<br>Exit ramp restricted on  ramp  from I-10 Westbound  to  E Elliot Rd    10/18/202",
          "115+04180<br>west<br>Exit ramp restricted on  ramp  from I-10 Westbound  to  E Elliot Rd    9/30/2025"
         ],
         "lat": {
          "bdata": "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",
          "dtype": "f8"
         },
         "lon": {
          "bdata": "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",
          "dtype": "f8"
         },
         "marker": {
          "color": [
           "#69aed0",
           "#69aed0",
           "#6071dc",
           "#6071dc",
           "#b1f4e4",
           "#52eed8",
           "#52eed8",
           "#f6fa1c",
           "#c1f69e",
           "#a991c7",
           "#e86ca2",
           "#8eb2f3",
           "#b1f4e4",
           "#f6fa1c",
           "#ecfbed",
           "#deb524",
           "#c1f69e",
           "#365b2c",
           "#07ee93",
           "#8498f3",
           "#d28d53",
           "#f6fa1c",
           "#69aed0",
           "#8498f3",
           "#95e125",
           "#6071dc",
           "#6071dc",
           "#6071dc",
           "#4a08e3",
           "#87cd8f",
           "#c1f69e",
           "#8498f3",
           "#8498f3",
           "#07ee93",
           "#8498f3",
           "#f87ce6",
           "#30dd7e",
           "#30dd7e",
           "#5552e0",
           "#dfcbec",
           "#4513a3",
           "#8498f3",
           "#872444",
           "#69aed0",
           "#f06537",
           "#f06537",
           "#69aed0",
           "#52eed8",
           "#719db9",
           "#a991c7",
           "#4a08e3",
           "#634b19",
           "#30dd7e",
           "#d28d53",
           "#d28d53",
           "#f47020",
           "#4a08e3",
           "#d28d53",
           "#719db9",
           "#d28d53",
           "#6071dc",
           "#8498f3",
           "#07ee93",
           "#f6fa1c",
           "#7a235e",
           "#5552e0",
           "#3c3120",
           "#934921",
           "#dc9148",
           "#dc9148",
           "#4a08e3",
           "#3c3120",
           "#7a235e",
           "#5552e0",
           "#dc9148",
           "#c1f69e",
           "#5490d6",
           "#872444",
           "#b1f4e4",
           "#b1f4e4",
           "#719db9",
           "#dfcbec",
           "#4a08e3",
           "#95e125",
           "#fa3c6e",
           "#719db9",
           "#4dd58d",
           "#4dd58d",
           "#f06537",
           "#6071dc",
           "#8eb2f3",
           "#4dd58d",
           "#4a08e3",
           "#365b2c",
           "#5490d6",
           "#e86ca2",
           "#f06537",
           "#07ee93",
           "#b1f4e4",
           "#8498f3",
           "#4dd58d",
           "#4a08e3",
           "#deb524",
           "#4513a3",
           "#4a08e3",
           "#dc9148",
           "#07ee93",
           "#634b19",
           "#b1f4e4",
           "#dfcbec",
           "#4a08e3",
           "#10f0a1",
           "#b1f4e4",
           "#dc9148",
           "#5552e0",
           "#7a235e",
           "#5552e0",
           "#5552e0",
           "#07ee93",
           "#5552e0",
           "#52eed8",
           "#a991c7",
           "#026a53",
           "#52eed8",
           "#4a08e3",
           "#026a53",
           "#52eed8",
           "#f6fa1c",
           "#f47020",
           "#07ee93",
           "#634b19",
           "#4a08e3",
           "#a991c7",
           "#4dd58d",
           "#d7bcdc",
           "#3c3120",
           "#4dd58d",
           "#52eed8",
           "#ecfbed",
           "#3c3120",
           "#d28d53",
           "#e86ca2",
           "#95e125",
           "#d28d53",
           "#a991c7",
           "#f06537",
           "#719db9",
           "#f6fa1c",
           "#f87ce6",
           "#f06537",
           "#52eed8",
           "#52eed8",
           "#8498f3",
           "#3c3120",
           "#b1f4e4",
           "#87cd8f",
           "#8eb2f3",
           "#95e125",
           "#365b2c",
           "#365b2c",
           "#365b2c",
           "#f47020",
           "#7a235e",
           "#dc9148",
           "#4a08e3",
           "#365b2c",
           "#69aed0",
           "#c1f69e",
           "#3c3120",
           "#dfcbec",
           "#8498f3",
           "#30dd7e",
           "#d28d53",
           "#5552e0",
           "#52eed8",
           "#c1f69e",
           "#4a08e3",
           "#69aed0",
           "#c1f69e",
           "#f6fa1c",
           "#07ee93",
           "#69aed0",
           "#5552e0",
           "#95e125",
           "#dc9148",
           "#95e125",
           "#95e125",
           "#4513a3",
           "#95e125",
           "#dc9148",
           "#30dd7e",
           "#f87ce6",
           "#719db9",
           "#e86ca2",
           "#c1f69e",
           "#c1f69e",
           "#3c3120",
           "#4dd58d",
           "#7a235e",
           "#fa3c6e",
           "#c1f69e",
           "#c1f69e",
           "#634b19",
           "#365b2c",
           "#69aed0",
           "#e86ca2",
           "#719db9",
           "#b1f4e4",
           "#7a235e",
           "#dc9148",
           "#719db9",
           "#5490d6",
           "#d28d53",
           "#b1f4e4",
           "#f87ce6",
           "#07ee93",
           "#6071dc",
           "#6071dc",
           "#6071dc",
           "#4dd58d",
           "#365b2c",
           "#365b2c",
           "#3c3120",
           "#69aed0",
           "#95e125",
           "#872444",
           "#4a08e3",
           "#e86ca2",
           "#69aed0",
           "#5552e0",
           "#6071dc",
           "#d28d53",
           "#d28d53",
           "#c1f69e",
           "#4513a3",
           "#4a08e3",
           "#b1f4e4",
           "#dc9148",
           "#87cd8f",
           "#4a08e3",
           "#69aed0",
           "#b1f4e4",
           "#719db9",
           "#f06537",
           "#719db9",
           "#58a3ae",
           "#4a08e3",
           "#30dd7e",
           "#30dd7e",
           "#e86ca2",
           "#4a08e3",
           "#4a08e3",
           "#deb524",
           "#deb524",
           "#69aed0",
           "#634b19",
           "#6071dc",
           "#634b19",
           "#a991c7",
           "#58a3ae",
           "#365b2c",
           "#fa3c6e",
           "#e86ca2",
           "#dc9148",
           "#365b2c",
           "#95e125",
           "#5552e0",
           "#634b19",
           "#8eb2f3",
           "#b1f4e4",
           "#365b2c",
           "#719db9",
           "#c1f69e",
           "#4513a3",
           "#5552e0",
           "#6071dc",
           "#6071dc",
           "#6071dc",
           "#dc9148",
           "#69aed0",
           "#30dd7e",
           "#3c3120",
           "#634b19",
           "#3c3120",
           "#5490d6",
           "#30dd7e",
           "#5552e0",
           "#dc9148",
           "#69aed0",
           "#a991c7",
           "#026a53",
           "#872444",
           "#3c3120",
           "#d28d53",
           "#d28d53",
           "#d28d53",
           "#f47020",
           "#deb524",
           "#07ee93",
           "#3c3120",
           "#4dd58d",
           "#dc9148",
           "#d28d53",
           "#872428",
           "#f6fa1c",
           "#d28d53",
           "#f6fa1c",
           "#d28d53",
           "#a991c7",
           "#6071dc",
           "#d28d53",
           "#dc9148",
           "#365b2c",
           "#f6fa1c",
           "#5490d6",
           "#719db9",
           "#52eed8",
           "#6071dc",
           "#dc9148",
           "#30dd7e",
           "#4513a3",
           "#4513a3",
           "#52eed8",
           "#a991c7",
           "#a991c7",
           "#8eb2f3",
           "#8eb2f3",
           "#dc9148",
           "#69aed0",
           "#30dd7e",
           "#d28d53",
           "#a991c7",
           "#d28d53",
           "#dc9148",
           "#4513a3",
           "#07ee93",
           "#52eed8",
           "#30dd7e",
           "#6071dc",
           "#6071dc",
           "#d28d53",
           "#4a08e3",
           "#719db9",
           "#634b19",
           "#deb524",
           "#e86ca2",
           "#c1f69e",
           "#07ee93",
           "#d28d53",
           "#f87ce6",
           "#7a235e",
           "#c1f69e",
           "#b1f4e4",
           "#5552e0",
           "#f6fa1c",
           "#f6fa1c",
           "#5552e0",
           "#f06537",
           "#5552e0",
           "#dc9148",
           "#dc9148",
           "#5552e0",
           "#f87ce6",
           "#4a08e3",
           "#4513a3",
           "#634b19",
           "#4513a3",
           "#634b19",
           "#8498f3",
           "#4513a3",
           "#30dd7e",
           "#58a3ae",
           "#30dd7e",
           "#634b19",
           "#deb524",
           "#3c3120",
           "#fa3c6e",
           "#07ee93",
           "#f6fa1c",
           "#5552e0",
           "#5552e0",
           "#4513a3",
           "#5552e0",
           "#8498f3",
           "#4513a3",
           "#4a08e3",
           "#944548",
           "#e86ca2",
           "#deb524",
           "#6071dc",
           "#7a235e",
           "#6071dc",
           "#f87ce6",
           "#4dd58d",
           "#a991c7",
           "#4513a3",
           "#30dd7e",
           "#3c3120",
           "#719db9",
           "#5552e0",
           "#f06537",
           "#30dd7e",
           "#b1f4e4",
           "#634b19",
           "#f6fa1c",
           "#dc9148",
           "#f06537",
           "#4513a3",
           "#c1f69e",
           "#dc9148",
           "#5552e0",
           "#deb524",
           "#4dd58d",
           "#f06537",
           "#634b19",
           "#58a3ae",
           "#4513a3",
           "#944548",
           "#87cd8f",
           "#dc9148",
           "#5552e0",
           "#4513a3",
           "#5490d6",
           "#a991c7",
           "#4007aa",
           "#a991c7",
           "#87cd8f",
           "#3c3120",
           "#5552e0",
           "#e86ca2",
           "#58a3ae",
           "#58a3ae",
           "#a991c7",
           "#4a08e3",
           "#f06537",
           "#634b19",
           "#5552e0",
           "#5552e0",
           "#634b19",
           "#944548",
           "#944548",
           "#a991c7",
           "#a991c7",
           "#4007aa",
           "#4007aa"
          ],
          "opacity": 0.75,
          "size": 8
         },
         "mode": "markers",
         "name": "Events",
         "type": "scattermap"
        }
       ],
       "layout": {
        "height": 800,
        "map": {
         "center": {
          "lat": 33.3749295,
          "lon": -111.9845434
         },
         "style": "carto-positron",
         "zoom": 11
        },
        "template": {
         "data": {
          "bar": [
           {
            "error_x": {
             "color": "#2a3f5f"
            },
            "error_y": {
             "color": "#2a3f5f"
            },
            "marker": {
             "line": {
              "color": "#E5ECF6",
              "width": 0.5
             },
             "pattern": {
              "fillmode": "overlay",
              "size": 10,
              "solidity": 0.2
             }
            },
            "type": "bar"
           }
          ],
          "barpolar": [
           {
            "marker": {
             "line": {
              "color": "#E5ECF6",
              "width": 0.5
             },
             "pattern": {
              "fillmode": "overlay",
              "size": 10,
              "solidity": 0.2
             }
            },
            "type": "barpolar"
           }
          ],
          "carpet": [
           {
            "aaxis": {
             "endlinecolor": "#2a3f5f",
             "gridcolor": "white",
             "linecolor": "white",
             "minorgridcolor": "white",
             "startlinecolor": "#2a3f5f"
            },
            "baxis": {
             "endlinecolor": "#2a3f5f",
             "gridcolor": "white",
             "linecolor": "white",
             "minorgridcolor": "white",
             "startlinecolor": "#2a3f5f"
            },
            "type": "carpet"
           }
          ],
          "choropleth": [
           {
            "colorbar": {
             "outlinewidth": 0,
             "ticks": ""
            },
            "type": "choropleth"
           }
          ],
          "contour": [
           {
            "colorbar": {
             "outlinewidth": 0,
             "ticks": ""
            },
            "colorscale": [
             [
              0,
              "#0d0887"
             ],
             [
              0.1111111111111111,
              "#46039f"
             ],
             [
              0.2222222222222222,
              "#7201a8"
             ],
             [
              0.3333333333333333,
              "#9c179e"
             ],
             [
              0.4444444444444444,
              "#bd3786"
             ],
             [
              0.5555555555555556,
              "#d8576b"
             ],
             [
              0.6666666666666666,
              "#ed7953"
             ],
             [
              0.7777777777777778,
              "#fb9f3a"
             ],
             [
              0.8888888888888888,
              "#fdca26"
             ],
             [
              1,
              "#f0f921"
             ]
            ],
            "type": "contour"
           }
          ],
          "contourcarpet": [
           {
            "colorbar": {
             "outlinewidth": 0,
             "ticks": ""
            },
            "type": "contourcarpet"
           }
          ],
          "heatmap": [
           {
            "colorbar": {
             "outlinewidth": 0,
             "ticks": ""
            },
            "colorscale": [
             [
              0,
              "#0d0887"
             ],
             [
              0.1111111111111111,
              "#46039f"
             ],
             [
              0.2222222222222222,
              "#7201a8"
             ],
             [
              0.3333333333333333,
              "#9c179e"
             ],
             [
              0.4444444444444444,
              "#bd3786"
             ],
             [
              0.5555555555555556,
              "#d8576b"
             ],
             [
              0.6666666666666666,
              "#ed7953"
             ],
             [
              0.7777777777777778,
              "#fb9f3a"
             ],
             [
              0.8888888888888888,
              "#fdca26"
             ],
             [
              1,
              "#f0f921"
             ]
            ],
            "type": "heatmap"
           }
          ],
          "histogram": [
           {
            "marker": {
             "pattern": {
              "fillmode": "overlay",
              "size": 10,
              "solidity": 0.2
             }
            },
            "type": "histogram"
           }
          ],
          "histogram2d": [
           {
            "colorbar": {
             "outlinewidth": 0,
             "ticks": ""
            },
            "colorscale": [
             [
              0,
              "#0d0887"
             ],
             [
              0.1111111111111111,
              "#46039f"
             ],
             [
              0.2222222222222222,
              "#7201a8"
             ],
             [
              0.3333333333333333,
              "#9c179e"
             ],
             [
              0.4444444444444444,
              "#bd3786"
             ],
             [
              0.5555555555555556,
              "#d8576b"
             ],
             [
              0.6666666666666666,
              "#ed7953"
             ],
             [
              0.7777777777777778,
              "#fb9f3a"
             ],
             [
              0.8888888888888888,
              "#fdca26"
             ],
             [
              1,
              "#f0f921"
             ]
            ],
            "type": "histogram2d"
           }
          ],
          "histogram2dcontour": [
           {
            "colorbar": {
             "outlinewidth": 0,
             "ticks": ""
            },
            "colorscale": [
             [
              0,
              "#0d0887"
             ],
             [
              0.1111111111111111,
              "#46039f"
             ],
             [
              0.2222222222222222,
              "#7201a8"
             ],
             [
              0.3333333333333333,
              "#9c179e"
             ],
             [
              0.4444444444444444,
              "#bd3786"
             ],
             [
              0.5555555555555556,
              "#d8576b"
             ],
             [
              0.6666666666666666,
              "#ed7953"
             ],
             [
              0.7777777777777778,
              "#fb9f3a"
             ],
             [
              0.8888888888888888,
              "#fdca26"
             ],
             [
              1,
              "#f0f921"
             ]
            ],
            "type": "histogram2dcontour"
           }
          ],
          "mesh3d": [
           {
            "colorbar": {
             "outlinewidth": 0,
             "ticks": ""
            },
            "type": "mesh3d"
           }
          ],
          "parcoords": [
           {
            "line": {
             "colorbar": {
              "outlinewidth": 0,
              "ticks": ""
             }
            },
            "type": "parcoords"
           }
          ],
          "pie": [
           {
            "automargin": true,
            "type": "pie"
           }
          ],
          "scatter": [
           {
            "fillpattern": {
             "fillmode": "overlay",
             "size": 10,
             "solidity": 0.2
            },
            "type": "scatter"
           }
          ],
          "scatter3d": [
           {
            "line": {
             "colorbar": {
              "outlinewidth": 0,
              "ticks": ""
             }
            },
            "marker": {
             "colorbar": {
              "outlinewidth": 0,
              "ticks": ""
             }
            },
            "type": "scatter3d"
           }
          ],
          "scattercarpet": [
           {
            "marker": {
             "colorbar": {
              "outlinewidth": 0,
              "ticks": ""
             }
            },
            "type": "scattercarpet"
           }
          ],
          "scattergeo": [
           {
            "marker": {
             "colorbar": {
              "outlinewidth": 0,
              "ticks": ""
             }
            },
            "type": "scattergeo"
           }
          ],
          "scattergl": [
           {
            "marker": {
             "colorbar": {
              "outlinewidth": 0,
              "ticks": ""
             }
            },
            "type": "scattergl"
           }
          ],
          "scattermap": [
           {
            "marker": {
             "colorbar": {
              "outlinewidth": 0,
              "ticks": ""
             }
            },
            "type": "scattermap"
           }
          ],
          "scattermapbox": [
           {
            "marker": {
             "colorbar": {
              "outlinewidth": 0,
              "ticks": ""
             }
            },
            "type": "scattermapbox"
           }
          ],
          "scatterpolar": [
           {
            "marker": {
             "colorbar": {
              "outlinewidth": 0,
              "ticks": ""
             }
            },
            "type": "scatterpolar"
           }
          ],
          "scatterpolargl": [
           {
            "marker": {
             "colorbar": {
              "outlinewidth": 0,
              "ticks": ""
             }
            },
            "type": "scatterpolargl"
           }
          ],
          "scatterternary": [
           {
            "marker": {
             "colorbar": {
              "outlinewidth": 0,
              "ticks": ""
             }
            },
            "type": "scatterternary"
           }
          ],
          "surface": [
           {
            "colorbar": {
             "outlinewidth": 0,
             "ticks": ""
            },
            "colorscale": [
             [
              0,
              "#0d0887"
             ],
             [
              0.1111111111111111,
              "#46039f"
             ],
             [
              0.2222222222222222,
              "#7201a8"
             ],
             [
              0.3333333333333333,
              "#9c179e"
             ],
             [
              0.4444444444444444,
              "#bd3786"
             ],
             [
              0.5555555555555556,
              "#d8576b"
             ],
             [
              0.6666666666666666,
              "#ed7953"
             ],
             [
              0.7777777777777778,
              "#fb9f3a"
             ],
             [
              0.8888888888888888,
              "#fdca26"
             ],
             [
              1,
              "#f0f921"
             ]
            ],
            "type": "surface"
           }
          ],
          "table": [
           {
            "cells": {
             "fill": {
              "color": "#EBF0F8"
             },
             "line": {
              "color": "white"
             }
            },
            "header": {
             "fill": {
              "color": "#C8D4E3"
             },
             "line": {
              "color": "white"
             }
            },
            "type": "table"
           }
          ]
         },
         "layout": {
          "annotationdefaults": {
           "arrowcolor": "#2a3f5f",
           "arrowhead": 0,
           "arrowwidth": 1
          },
          "autotypenumbers": "strict",
          "coloraxis": {
           "colorbar": {
            "outlinewidth": 0,
            "ticks": ""
           }
          },
          "colorscale": {
           "diverging": [
            [
             0,
             "#8e0152"
            ],
            [
             0.1,
             "#c51b7d"
            ],
            [
             0.2,
             "#de77ae"
            ],
            [
             0.3,
             "#f1b6da"
            ],
            [
             0.4,
             "#fde0ef"
            ],
            [
             0.5,
             "#f7f7f7"
            ],
            [
             0.6,
             "#e6f5d0"
            ],
            [
             0.7,
             "#b8e186"
            ],
            [
             0.8,
             "#7fbc41"
            ],
            [
             0.9,
             "#4d9221"
            ],
            [
             1,
             "#276419"
            ]
           ],
           "sequential": [
            [
             0,
             "#0d0887"
            ],
            [
             0.1111111111111111,
             "#46039f"
            ],
            [
             0.2222222222222222,
             "#7201a8"
            ],
            [
             0.3333333333333333,
             "#9c179e"
            ],
            [
             0.4444444444444444,
             "#bd3786"
            ],
            [
             0.5555555555555556,
             "#d8576b"
            ],
            [
             0.6666666666666666,
             "#ed7953"
            ],
            [
             0.7777777777777778,
             "#fb9f3a"
            ],
            [
             0.8888888888888888,
             "#fdca26"
            ],
            [
             1,
             "#f0f921"
            ]
           ],
           "sequentialminus": [
            [
             0,
             "#0d0887"
            ],
            [
             0.1111111111111111,
             "#46039f"
            ],
            [
             0.2222222222222222,
             "#7201a8"
            ],
            [
             0.3333333333333333,
             "#9c179e"
            ],
            [
             0.4444444444444444,
             "#bd3786"
            ],
            [
             0.5555555555555556,
             "#d8576b"
            ],
            [
             0.6666666666666666,
             "#ed7953"
            ],
            [
             0.7777777777777778,
             "#fb9f3a"
            ],
            [
             0.8888888888888888,
             "#fdca26"
            ],
            [
             1,
             "#f0f921"
            ]
           ]
          },
          "colorway": [
           "#636efa",
           "#EF553B",
           "#00cc96",
           "#ab63fa",
           "#FFA15A",
           "#19d3f3",
           "#FF6692",
           "#B6E880",
           "#FF97FF",
           "#FECB52"
          ],
          "font": {
           "color": "#2a3f5f"
          },
          "geo": {
           "bgcolor": "white",
           "lakecolor": "white",
           "landcolor": "#E5ECF6",
           "showlakes": true,
           "showland": true,
           "subunitcolor": "white"
          },
          "hoverlabel": {
           "align": "left"
          },
          "hovermode": "closest",
          "mapbox": {
           "style": "light"
          },
          "paper_bgcolor": "white",
          "plot_bgcolor": "#E5ECF6",
          "polar": {
           "angularaxis": {
            "gridcolor": "white",
            "linecolor": "white",
            "ticks": ""
           },
           "bgcolor": "#E5ECF6",
           "radialaxis": {
            "gridcolor": "white",
            "linecolor": "white",
            "ticks": ""
           }
          },
          "scene": {
           "xaxis": {
            "backgroundcolor": "#E5ECF6",
            "gridcolor": "white",
            "gridwidth": 2,
            "linecolor": "white",
            "showbackground": true,
            "ticks": "",
            "zerolinecolor": "white"
           },
           "yaxis": {
            "backgroundcolor": "#E5ECF6",
            "gridcolor": "white",
            "gridwidth": 2,
            "linecolor": "white",
            "showbackground": true,
            "ticks": "",
            "zerolinecolor": "white"
           },
           "zaxis": {
            "backgroundcolor": "#E5ECF6",
            "gridcolor": "white",
            "gridwidth": 2,
            "linecolor": "white",
            "showbackground": true,
            "ticks": "",
            "zerolinecolor": "white"
           }
          },
          "shapedefaults": {
           "line": {
            "color": "#2a3f5f"
           }
          },
          "ternary": {
           "aaxis": {
            "gridcolor": "white",
            "linecolor": "white",
            "ticks": ""
           },
           "baxis": {
            "gridcolor": "white",
            "linecolor": "white",
            "ticks": ""
           },
           "bgcolor": "#E5ECF6",
           "caxis": {
            "gridcolor": "white",
            "linecolor": "white",
            "ticks": ""
           }
          },
          "title": {
           "x": 0.05
          },
          "xaxis": {
           "automargin": true,
           "gridcolor": "white",
           "linecolor": "white",
           "ticks": "",
           "title": {
            "standoff": 15
           },
           "zerolinecolor": "white",
           "zerolinewidth": 2
          },
          "yaxis": {
           "automargin": true,
           "gridcolor": "white",
           "linecolor": "white",
           "ticks": "",
           "title": {
            "standoff": 15
           },
           "zerolinecolor": "white",
           "zerolinewidth": 2
          }
         }
        }
       }
      }
     },
     "metadata": {},
     "output_type": "display_data"
    }
   ],
   "source": [
    "# visualize df_inrix by road segment\n",
    "# overlay with events on map\n",
    "\n",
    "# 1. MANUAL speed snapshot at a chosen timestamp instead of latest per TMC\n",
    "target_time_str = '2025-08-29 00:00:00'\n",
    "target_ts = pd.Timestamp(target_time_str)\n",
    "print(\"Target speed timestamp:\", target_ts)\n",
    "\n",
    "# 1. Try exact matches first\n",
    "exact_speed = df_inrix[df_inrix['measurement_tstamp'] == target_ts]\n",
    "\n",
    "# 2. Attach geometry (start/end coords)\n",
    "seg_df = exact_speed.merge(\n",
    "    # df_tmc.loc[(df_tmc['direction'] == 'EASTBOUND') ,#& (df_tmc['tmc']=='115-04180'),\n",
    "    #                      ['tmc','start_latitude','start_longitude','end_latitude','end_longitude','direction','miles']],\n",
    "    df_tmc,\n",
    "    left_on='tmc_code', right_on='tmc', how='left'\n",
    ")\n",
    "\n",
    "# Drop rows without geometry\n",
    "seg_df = seg_df.dropna(subset=['start_latitude','start_longitude','end_latitude','end_longitude'])\n",
    "\n",
    "def random_color():\n",
    "    return \"#{:06x}\".format(random.randint(0, 0xFFFFFF))\n",
    "\n",
    "fig = go.Figure()\n",
    "color_map = {}\n",
    "\n",
    "# 1. Segment lines (tmc geometry)\n",
    "for r in seg_df.itertuples():\n",
    "    color = color_map.setdefault(r.tmc_code, random_color())\n",
    "    fig.add_trace(go.Scattermap(\n",
    "        mode=\"lines\",\n",
    "        lon=[r.start_longitude, r.end_longitude],\n",
    "        lat=[r.start_latitude, r.end_latitude],\n",
    "        line=dict(color=color, width=4),\n",
    "        name=r.tmc_code,\n",
    "        hovertext=f\"TMC: {r.tmc_code}, Speed: {r.speed}\"\n",
    "    ))\n",
    "\n",
    "# 2. Event points\n",
    "if 'near_tmc' in df_bw.columns:\n",
    "    event_colors = df_bw['near_tmc'].map(color_map).fillna(\"#000000\")\n",
    "else:\n",
    "    event_colors = \"#000000\"\n",
    "\n",
    "fig.add_trace(\n",
    "    go.Scattermap(\n",
    "        mode=\"markers\",\n",
    "        lon=df_bw['Longitude'],\n",
    "        lat=df_bw['Latitude'],\n",
    "        marker=dict(size=8, opacity=0.75, color=event_colors),\n",
    "        name=\"Events\",\n",
    "        hovertext=(\n",
    "            df_bw['near_tmc'].astype(str) + \"<br>\" +\n",
    "            df_bw['DirectionOfTravel'].astype(str) + \"<br>\" +\n",
    "            df_bw['Description'].fillna('').str.slice(0,80)\n",
    "        ),\n",
    "        hovertemplate=\"Event near TMC: %{hovertext}<extra></extra>\",\n",
    "    )\n",
    ")\n",
    "fig.update_layout(\n",
    "    map_style=\"carto-positron\",\n",
    "    map_zoom=11,\n",
    "    map_center={\"lat\": seg_df.start_latitude.mean(),\n",
    "                   \"lon\": seg_df.start_longitude.mean()},\n",
    "    height=800\n",
    ")\n",
    "\n",
    "\n",
    "fig.show()\n"
   ]
  },
  {
   "cell_type": "code",
   "execution_count": 20,
   "id": "1d2b7f64",
   "metadata": {},
   "outputs": [
    {
     "name": "stdout",
     "output_type": "stream",
     "text": [
      "['tmc_code' 'measurement_tstamp' 'speed' 'reference_speed'\n",
      " 'travel_time_seconds' 'confidence_score' 'cvalue' 'Inrix 2013'\n",
      " 'Inrix 2019']\n",
      "['tmc' 'start_latitude' 'start_longitude' 'end_latitude' 'end_longitude'\n",
      " 'miles' 'road' 'direction' 'intersection']\n",
      "['ID' 'Organization' 'RoadwayName' 'DirectionOfTravel' 'Description'\n",
      " 'Reported' 'LastUpdated' 'StartDate' 'PlannedEndDate' 'LanesAffected'\n",
      " 'Latitude' 'Longitude' 'LatitudeSecondary' 'LongitudeSecondary'\n",
      " 'EventType' 'EventSubType' 'IsFullClosure' 'Severity' 'EncodedPolyline'\n",
      " 'Width' 'Height' 'Length' 'Weight' 'Speed' 'DetourPolyline'\n",
      " 'DetourInstructions' 'Recurrence' 'RecurrenceSchedules' 'Details'\n",
      " 'LaneCount' 'near_tmc' 'near_tmc_dist_m' 'near_tmc_dist_km'\n",
      " 'near_tmc_proj_lat' 'near_tmc_proj_lon']\n"
     ]
    }
   ],
   "source": [
    "print(df_inrix.columns.values)\n",
    "print(df_tmc.columns.values)\n",
    "print(df_bw.columns.values)"
   ]
  },
  {
   "cell_type": "code",
   "execution_count": null,
   "id": "ef2a4f35",
   "metadata": {},
   "outputs": [
    {
     "data": {
      "text/html": [
       "<div>\n",
       "<style scoped>\n",
       "    .dataframe tbody tr th:only-of-type {\n",
       "        vertical-align: middle;\n",
       "    }\n",
       "\n",
       "    .dataframe tbody tr th {\n",
       "        vertical-align: top;\n",
       "    }\n",
       "\n",
       "    .dataframe thead th {\n",
       "        text-align: right;\n",
       "    }\n",
       "</style>\n",
       "<table border=\"1\" class=\"dataframe\">\n",
       "  <thead>\n",
       "    <tr style=\"text-align: right;\">\n",
       "      <th></th>\n",
       "      <th>ID</th>\n",
       "      <th>Organization</th>\n",
       "      <th>RoadwayName</th>\n",
       "      <th>DirectionOfTravel</th>\n",
       "      <th>Description</th>\n",
       "      <th>Reported</th>\n",
       "      <th>LastUpdated</th>\n",
       "      <th>StartDate</th>\n",
       "      <th>PlannedEndDate</th>\n",
       "      <th>LanesAffected</th>\n",
       "      <th>Latitude</th>\n",
       "      <th>Longitude</th>\n",
       "      <th>LatitudeSecondary</th>\n",
       "      <th>LongitudeSecondary</th>\n",
       "      <th>EventType</th>\n",
       "      <th>EventSubType</th>\n",
       "      <th>IsFullClosure</th>\n",
       "      <th>Severity</th>\n",
       "      <th>EncodedPolyline</th>\n",
       "      <th>Width</th>\n",
       "      <th>Height</th>\n",
       "      <th>Length</th>\n",
       "      <th>Weight</th>\n",
       "      <th>Speed</th>\n",
       "      <th>DetourPolyline</th>\n",
       "      <th>DetourInstructions</th>\n",
       "      <th>Recurrence</th>\n",
       "      <th>RecurrenceSchedules</th>\n",
       "      <th>Details</th>\n",
       "      <th>LaneCount</th>\n",
       "      <th>near_tmc</th>\n",
       "    </tr>\n",
       "  </thead>\n",
       "  <tbody>\n",
       "    <tr>\n",
       "      <th>123</th>\n",
       "      <td>407101</td>\n",
       "      <td>ERS</td>\n",
       "      <td>I-10</td>\n",
       "      <td>west</td>\n",
       "      <td>Left lanes closed on I-10 Westbound from SR-14...</td>\n",
       "      <td>1749783600</td>\n",
       "      <td>1749069103</td>\n",
       "      <td>1749783600</td>\n",
       "      <td>1.749812e+09</td>\n",
       "      <td>2 Left Lanes Closed</td>\n",
       "      <td>33.407120</td>\n",
       "      <td>-111.970048</td>\n",
       "      <td>33.411035</td>\n",
       "      <td>-111.997790</td>\n",
       "      <td>roadwork</td>\n",
       "      <td>leftlanes</td>\n",
       "      <td>0</td>\n",
       "      <td>Minor</td>\n",
       "      <td>oy{jExcljTYVoApAg@j@mA|Ae@p@c@p@q@pAQ^iAjBw@dB...</td>\n",
       "      <td>None</td>\n",
       "      <td>None</td>\n",
       "      <td>None</td>\n",
       "      <td>None</td>\n",
       "      <td>None</td>\n",
       "      <td>None</td>\n",
       "      <td>None</td>\n",
       "      <td>\"&lt;b&gt;Thu:&lt;/b&gt;&lt;br/&gt;8:00 PM - 12:00 AM&lt;br/&gt;&lt;br/&gt;&lt;...</td>\n",
       "      <td>[{\"StartDate\": \"6/12/2025 8:00:00 PM-07:00:00\"...</td>\n",
       "      <td>None</td>\n",
       "      <td>8.0</td>\n",
       "      <td>115P04184</td>\n",
       "    </tr>\n",
       "    <tr>\n",
       "      <th>137</th>\n",
       "      <td>407753</td>\n",
       "      <td>ERS</td>\n",
       "      <td>I-10 Westbound</td>\n",
       "      <td>west</td>\n",
       "      <td>HOV ramp closed on  ramp  from I-10 Westbound ...</td>\n",
       "      <td>1749783600</td>\n",
       "      <td>1749160239</td>\n",
       "      <td>1749783600</td>\n",
       "      <td>1.749812e+09</td>\n",
       "      <td>All HOV Lanes Closed</td>\n",
       "      <td>33.406760</td>\n",
       "      <td>-111.969710</td>\n",
       "      <td>33.410640</td>\n",
       "      <td>-111.974525</td>\n",
       "      <td>closures</td>\n",
       "      <td>hovrampclosed</td>\n",
       "      <td>1</td>\n",
       "      <td>Major</td>\n",
       "      <td>gw{jEtaljTcAj@w@f@i@^k@f@_@^QR_AjAk@x@Yb@a@r@G...</td>\n",
       "      <td>None</td>\n",
       "      <td>None</td>\n",
       "      <td>None</td>\n",
       "      <td>None</td>\n",
       "      <td>None</td>\n",
       "      <td>None</td>\n",
       "      <td>None</td>\n",
       "      <td>\"&lt;b&gt;Thu:&lt;/b&gt;&lt;br/&gt;8:00 PM - 12:00 AM&lt;br/&gt;&lt;br/&gt;&lt;...</td>\n",
       "      <td>[{\"StartDate\": \"6/12/2025 8:00:00 PM-07:00:00\"...</td>\n",
       "      <td>None</td>\n",
       "      <td>1.0</td>\n",
       "      <td>115P04184</td>\n",
       "    </tr>\n",
       "    <tr>\n",
       "      <th>165</th>\n",
       "      <td>410039</td>\n",
       "      <td>ERS</td>\n",
       "      <td>I-10 Westbound</td>\n",
       "      <td>west</td>\n",
       "      <td>Exit ramp restricted on  ramp  from I-10 Westb...</td>\n",
       "      <td>1749783600</td>\n",
       "      <td>1749577910</td>\n",
       "      <td>1749783600</td>\n",
       "      <td>1.749812e+09</td>\n",
       "      <td>1 Right Ramp Closed</td>\n",
       "      <td>33.411070</td>\n",
       "      <td>-111.990250</td>\n",
       "      <td>33.411372</td>\n",
       "      <td>-111.992868</td>\n",
       "      <td>roadwork</td>\n",
       "      <td>exitrestricted</td>\n",
       "      <td>0</td>\n",
       "      <td>Minor</td>\n",
       "      <td>er|jE`bpjTQdAIr@GhBGlBCn@S|EGpAOjC?nA?\\AdA?f@</td>\n",
       "      <td>None</td>\n",
       "      <td>None</td>\n",
       "      <td>None</td>\n",
       "      <td>None</td>\n",
       "      <td>None</td>\n",
       "      <td>None</td>\n",
       "      <td>None</td>\n",
       "      <td>\"&lt;b&gt;Thu:&lt;/b&gt;&lt;br/&gt;8:00 PM - 12:00 AM&lt;br/&gt;&lt;br/&gt;&lt;...</td>\n",
       "      <td>[{\"StartDate\": \"6/12/2025 8:00:00 PM-07:00:00\"...</td>\n",
       "      <td>None</td>\n",
       "      <td>2.0</td>\n",
       "      <td>115P04185</td>\n",
       "    </tr>\n",
       "    <tr>\n",
       "      <th>166</th>\n",
       "      <td>410040</td>\n",
       "      <td>ERS</td>\n",
       "      <td>I-10 Westbound</td>\n",
       "      <td>west</td>\n",
       "      <td>Exit ramp restricted on  ramp  from I-10 Westb...</td>\n",
       "      <td>1749870000</td>\n",
       "      <td>1749578009</td>\n",
       "      <td>1749870000</td>\n",
       "      <td>1.749899e+09</td>\n",
       "      <td>1 Right Ramp Closed</td>\n",
       "      <td>33.411070</td>\n",
       "      <td>-111.990250</td>\n",
       "      <td>33.411372</td>\n",
       "      <td>-111.992868</td>\n",
       "      <td>roadwork</td>\n",
       "      <td>exitrestricted</td>\n",
       "      <td>0</td>\n",
       "      <td>Minor</td>\n",
       "      <td>er|jE`bpjTQdAIr@GhBGlBCn@S|EGpAOjC?nA?\\AdA?f@</td>\n",
       "      <td>None</td>\n",
       "      <td>None</td>\n",
       "      <td>None</td>\n",
       "      <td>None</td>\n",
       "      <td>None</td>\n",
       "      <td>None</td>\n",
       "      <td>None</td>\n",
       "      <td>\"&lt;b&gt;Fri:&lt;/b&gt;&lt;br/&gt;8:00 PM - 12:00 AM&lt;br/&gt;&lt;br/&gt;&lt;...</td>\n",
       "      <td>[{\"StartDate\": \"6/13/2025 8:00:00 PM-07:00:00\"...</td>\n",
       "      <td>None</td>\n",
       "      <td>2.0</td>\n",
       "      <td>115P04185</td>\n",
       "    </tr>\n",
       "    <tr>\n",
       "      <th>222</th>\n",
       "      <td>428704</td>\n",
       "      <td>ERS</td>\n",
       "      <td>I-10</td>\n",
       "      <td>east</td>\n",
       "      <td>Disabled vehicle on the left shoulder on I-10 ...</td>\n",
       "      <td>1749824220</td>\n",
       "      <td>1749824298</td>\n",
       "      <td>1749824220</td>\n",
       "      <td>NaN</td>\n",
       "      <td>No Data</td>\n",
       "      <td>33.410791</td>\n",
       "      <td>-111.995027</td>\n",
       "      <td>NaN</td>\n",
       "      <td>NaN</td>\n",
       "      <td>accidentsAndIncidents</td>\n",
       "      <td>C34Lshoulder</td>\n",
       "      <td>0</td>\n",
       "      <td>None</td>\n",
       "      <td>None</td>\n",
       "      <td>None</td>\n",
       "      <td>None</td>\n",
       "      <td>None</td>\n",
       "      <td>None</td>\n",
       "      <td>None</td>\n",
       "      <td>None</td>\n",
       "      <td>None</td>\n",
       "      <td>None</td>\n",
       "      <td>None</td>\n",
       "      <td>None</td>\n",
       "      <td>1.0</td>\n",
       "      <td>115N04185</td>\n",
       "    </tr>\n",
       "  </tbody>\n",
       "</table>\n",
       "</div>"
      ],
      "text/plain": [
       "         ID Organization     RoadwayName DirectionOfTravel  \\\n",
       "123  407101          ERS            I-10              west   \n",
       "137  407753          ERS  I-10 Westbound              west   \n",
       "165  410039          ERS  I-10 Westbound              west   \n",
       "166  410040          ERS  I-10 Westbound              west   \n",
       "222  428704          ERS            I-10              east   \n",
       "\n",
       "                                           Description    Reported  \\\n",
       "123  Left lanes closed on I-10 Westbound from SR-14...  1749783600   \n",
       "137  HOV ramp closed on  ramp  from I-10 Westbound ...  1749783600   \n",
       "165  Exit ramp restricted on  ramp  from I-10 Westb...  1749783600   \n",
       "166  Exit ramp restricted on  ramp  from I-10 Westb...  1749870000   \n",
       "222  Disabled vehicle on the left shoulder on I-10 ...  1749824220   \n",
       "\n",
       "     LastUpdated   StartDate  PlannedEndDate         LanesAffected   Latitude  \\\n",
       "123   1749069103  1749783600    1.749812e+09   2 Left Lanes Closed  33.407120   \n",
       "137   1749160239  1749783600    1.749812e+09  All HOV Lanes Closed  33.406760   \n",
       "165   1749577910  1749783600    1.749812e+09   1 Right Ramp Closed  33.411070   \n",
       "166   1749578009  1749870000    1.749899e+09   1 Right Ramp Closed  33.411070   \n",
       "222   1749824298  1749824220             NaN               No Data  33.410791   \n",
       "\n",
       "      Longitude  LatitudeSecondary  LongitudeSecondary              EventType  \\\n",
       "123 -111.970048          33.411035         -111.997790               roadwork   \n",
       "137 -111.969710          33.410640         -111.974525               closures   \n",
       "165 -111.990250          33.411372         -111.992868               roadwork   \n",
       "166 -111.990250          33.411372         -111.992868               roadwork   \n",
       "222 -111.995027                NaN                 NaN  accidentsAndIncidents   \n",
       "\n",
       "       EventSubType  IsFullClosure Severity  \\\n",
       "123       leftlanes              0    Minor   \n",
       "137   hovrampclosed              1    Major   \n",
       "165  exitrestricted              0    Minor   \n",
       "166  exitrestricted              0    Minor   \n",
       "222    C34Lshoulder              0     None   \n",
       "\n",
       "                                       EncodedPolyline Width Height Length  \\\n",
       "123  oy{jExcljTYVoApAg@j@mA|Ae@p@c@p@q@pAQ^iAjBw@dB...  None   None   None   \n",
       "137  gw{jEtaljTcAj@w@f@i@^k@f@_@^QR_AjAk@x@Yb@a@r@G...  None   None   None   \n",
       "165      er|jE`bpjTQdAIr@GhBGlBCn@S|EGpAOjC?nA?\\AdA?f@  None   None   None   \n",
       "166      er|jE`bpjTQdAIr@GhBGlBCn@S|EGpAOjC?nA?\\AdA?f@  None   None   None   \n",
       "222                                               None  None   None   None   \n",
       "\n",
       "    Weight Speed DetourPolyline DetourInstructions  \\\n",
       "123   None  None           None               None   \n",
       "137   None  None           None               None   \n",
       "165   None  None           None               None   \n",
       "166   None  None           None               None   \n",
       "222   None  None           None               None   \n",
       "\n",
       "                                            Recurrence  \\\n",
       "123  \"<b>Thu:</b><br/>8:00 PM - 12:00 AM<br/><br/><...   \n",
       "137  \"<b>Thu:</b><br/>8:00 PM - 12:00 AM<br/><br/><...   \n",
       "165  \"<b>Thu:</b><br/>8:00 PM - 12:00 AM<br/><br/><...   \n",
       "166  \"<b>Fri:</b><br/>8:00 PM - 12:00 AM<br/><br/><...   \n",
       "222                                               None   \n",
       "\n",
       "                                   RecurrenceSchedules Details  LaneCount  \\\n",
       "123  [{\"StartDate\": \"6/12/2025 8:00:00 PM-07:00:00\"...    None        8.0   \n",
       "137  [{\"StartDate\": \"6/12/2025 8:00:00 PM-07:00:00\"...    None        1.0   \n",
       "165  [{\"StartDate\": \"6/12/2025 8:00:00 PM-07:00:00\"...    None        2.0   \n",
       "166  [{\"StartDate\": \"6/13/2025 8:00:00 PM-07:00:00\"...    None        2.0   \n",
       "222                                               None    None        1.0   \n",
       "\n",
       "      near_tmc  \n",
       "123  115P04184  \n",
       "137  115P04184  \n",
       "165  115P04185  \n",
       "166  115P04185  \n",
       "222  115N04185  "
      ]
     },
     "execution_count": 21,
     "metadata": {},
     "output_type": "execute_result"
    }
   ],
   "source": [
    "# drop some columns\n",
    "df_bw.drop(columns=['near_tmc_dist_m', 'near_tmc_dist_km',\n",
    "                   'near_tmc_proj_lat', 'near_tmc_proj_lon'], inplace=True)\n",
    "df_events.drop(columns=['EncodedPolyline', 'Width','Height','Length','Weight','Speed',\n",
    "                   'DetourPolyline', 'DetourInstructions'], inplace=True)"
   ]
  },
  {
   "cell_type": "code",
   "execution_count": 24,
   "id": "38e288e7",
   "metadata": {},
   "outputs": [
    {
     "name": "stdout",
     "output_type": "stream",
     "text": [
      "Saved:\n",
      "  events.csv -> ../database/i10-broadway/events.parquet  rows=445\n",
      "  inrix.csv  -> ../database/i10-broadway/inrix.parquet  rows=7153505\n",
      "  tmc.csv    -> ../database/i10-broadway/tmc.parquet    rows=50\n"
     ]
    }
   ],
   "source": [
    "# save I-10 broadway data\n",
    "out_dir = Path('../database/i10-broadway')\n",
    "out_dir.mkdir(parents=True, exist_ok=True)\n",
    "\n",
    "df_bw.to_parquet(out_dir / 'events.parquet', index=False)\n",
    "df_inrix.to_parquet(out_dir / 'inrix.parquet', index=False)\n",
    "df_tmc.to_parquet(out_dir / 'tmc.parquet', index=False)\n",
    "\n",
    "print(\"Saved:\")\n",
    "print(f\"  events.csv -> {out_dir/'events.parquet'}  rows={len(df_bw)}\")\n",
    "print(f\"  inrix.csv  -> {out_dir/'inrix.parquet'}  rows={len(df_inrix)}\")\n",
    "print(f\"  tmc.csv    -> {out_dir/'tmc.parquet'}    rows={len(df_tmc)}\")\n"
   ]
  },
  {
   "cell_type": "code",
   "execution_count": null,
   "id": "c50893ab",
   "metadata": {},
   "outputs": [],
   "source": []
  }
 ],
 "metadata": {
  "kernelspec": {
   "display_name": "kafka",
   "language": "python",
   "name": "python3"
  },
  "language_info": {
   "codemirror_mode": {
    "name": "ipython",
    "version": 3
   },
   "file_extension": ".py",
   "mimetype": "text/x-python",
   "name": "python",
   "nbconvert_exporter": "python",
   "pygments_lexer": "ipython3",
   "version": "3.10.18"
  }
 },
 "nbformat": 4,
 "nbformat_minor": 5
}
